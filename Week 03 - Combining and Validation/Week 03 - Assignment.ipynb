{
 "cells": [
  {
   "cell_type": "markdown",
   "id": "aeaad0b1",
   "metadata": {},
   "source": [
    "# INFO 3402 – Week 03: Assignment\n",
    "\n",
    "[Brian C. Keegan, Ph.D.](http://brianckeegan.com/)  \n",
    "[Assistant Professor, Department of Information Science](https://www.colorado.edu/cmci/people/information-science/brian-c-keegan)  \n",
    "University of Colorado Boulder  \n",
    "\n",
    "Copyright and distributed under an [MIT License](https://opensource.org/licenses/MIT)"
   ]
  },
  {
   "cell_type": "markdown",
   "id": "7a8422e8",
   "metadata": {},
   "source": [
    "## Background\n",
    "\n",
    "Cannabis legalization and the COVID-19 pandemic represent two major disruptions that have impacted Colorado in the past decade. Data about both these disruptions is available at the county level and over time. This assignment is going to use your skills with concatenating and merging data to explore the relationships between four county-level datasets in Colorado.\n",
    "\n",
    "1. The [Marijuana Enforcement Division](https://www.colorado.gov/pacific/enforcement/marijuanaenforcement) regulates Colorado's cannabis industry and publishes monthly county-level [sales reports](https://cdor.colorado.gov/data-and-reports/marijuana-data/marijuana-sales-reports).\n",
    "2. The State Demography Office publishes [county-level estimates](https://demography.dola.colorado.gov/population/data/county-data-lookup/) of population, births, deaths, and housing at an annual frequency. \n",
    "3. The Colorado Bureau of Investigation maintains a [reporting database](https://coloradocrimestats.state.co.us/public/View/) of crimes that aggregates data to monthly county-level statistics. \n",
    "4. The *New York Times* [publishes daily county-level estimates](https://github.com/nytimes/covid-19-data) of COVID-19 cases and deaths."
   ]
  },
  {
   "cell_type": "markdown",
   "id": "84163819",
   "metadata": {},
   "source": [
    "## Question 1: Load libraries and inspect datasets (5 pts)\n",
    "\n",
    "Import the `numpy`, `pandas`, and `os` libraries. (1 pt)"
   ]
  },
  {
   "cell_type": "code",
   "execution_count": null,
   "id": "4bd2c680",
   "metadata": {},
   "outputs": [],
   "source": []
  },
  {
   "cell_type": "markdown",
   "id": "6adcaa96",
   "metadata": {},
   "source": [
    "Load the \"co_county_demographics.csv\" file as `demographics_df` and display the **first** five rows. Make sure there are no \"Unnamed\" columns and the values for columns like \"Total Population\" are numeric (int, float, *etc*.) and not strings ([hint](https://stackoverflow.com/a/63349939/1574687)). (1 pts)"
   ]
  },
  {
   "cell_type": "code",
   "execution_count": null,
   "id": "4bedf308",
   "metadata": {},
   "outputs": [],
   "source": []
  },
  {
   "cell_type": "markdown",
   "id": "3ad00b72",
   "metadata": {},
   "source": [
    "Load the \"co_county_crimes.csv\" file as `crimes_df` and display the **first** five rows. Make sure there are no \"Unnamed\" columns and the values for columns like \"Total Population\" are numeric (int, float, *etc*.) and not strings . (1 pt)"
   ]
  },
  {
   "cell_type": "code",
   "execution_count": null,
   "id": "24c107bd",
   "metadata": {},
   "outputs": [],
   "source": []
  },
  {
   "cell_type": "markdown",
   "id": "6ea73869",
   "metadata": {},
   "source": [
    "Load the \"co_county_covid.csv\" file as `covid_df` and display the **last** five rows. (1 pt)"
   ]
  },
  {
   "cell_type": "code",
   "execution_count": null,
   "id": "ec1effef",
   "metadata": {},
   "outputs": [],
   "source": []
  },
  {
   "cell_type": "markdown",
   "id": "ff775a73",
   "metadata": {},
   "source": [
    "Create a \"Raw NBCovert\" cell and for each dataset write down the column names they appear to have in common with at least one other dataset. (1 pt)"
   ]
  },
  {
   "cell_type": "code",
   "execution_count": null,
   "id": "26359701",
   "metadata": {},
   "outputs": [],
   "source": []
  },
  {
   "cell_type": "markdown",
   "id": "5fd48c4e",
   "metadata": {},
   "source": [
    "## Question 2: Load and concatenate the sales data (10 pts + EC)\n",
    "\n",
    "From your Finder (macOS) or File Explorer (Windows), unzip the \"co_cannabis_sales_recreational.zip\" file into a directory called \"co_cannabis_sales\". (1 pt)\n",
    "\n",
    "Use the `os` library to make a list of the files called `sales_files` in the \"co_cannabis_sales\" directory and display the contents of `sales_files`. (2 pts)"
   ]
  },
  {
   "cell_type": "code",
   "execution_count": null,
   "id": "086d130e",
   "metadata": {},
   "outputs": [],
   "source": []
  },
  {
   "cell_type": "markdown",
   "id": "d0796feb",
   "metadata": {},
   "source": [
    "Write a loop to load each of the CSV files and store their DataFrames in a list or dict called `sales_dfs`. Print the length of `sales_dfs`. (3 pts)"
   ]
  },
  {
   "cell_type": "code",
   "execution_count": null,
   "id": "4691d5d4",
   "metadata": {},
   "outputs": [],
   "source": []
  },
  {
   "cell_type": "markdown",
   "id": "43854872",
   "metadata": {},
   "source": [
    "Use the `concat` function in pandas to combine the `sales_dfs` object into a single DataFrame called `cannabis_df`. Print the `.shape` of `cannabis_df`. (2 pts)"
   ]
  },
  {
   "cell_type": "code",
   "execution_count": null,
   "id": "01755df2",
   "metadata": {},
   "outputs": [],
   "source": []
  },
  {
   "cell_type": "markdown",
   "id": "3aa473e5",
   "metadata": {},
   "source": [
    "Clean up the columns if necessary so that the only columns are \"Year\", \"Month\", \"County\", \"Type\", and \"Sales\" and show the **last** 10 rows. (2 pts)"
   ]
  },
  {
   "cell_type": "code",
   "execution_count": null,
   "id": "b31b82a5",
   "metadata": {},
   "outputs": [],
   "source": []
  },
  {
   "cell_type": "markdown",
   "id": "dfa3513e",
   "metadata": {},
   "source": [
    "\n",
    "**Extra Credit**: Use the `zipfile` ([docs](https://docs.python.org/3/library/zipfile.html) and [tutorial](https://www.datacamp.com/community/tutorials/zip-file)) and `io` ([docs](https://docs.python.org/3/library/io.html) and [huge debugging hint](https://pandas.pydata.org/pandas-docs/stable/user_guide/io.html#dealing-with-unicode-data)) libraries to load the zip file contents directly into a `sales_dfs` object. (3 pts EC)"
   ]
  },
  {
   "cell_type": "code",
   "execution_count": null,
   "id": "6ee06ed5",
   "metadata": {},
   "outputs": [],
   "source": []
  },
  {
   "cell_type": "markdown",
   "id": "227d7059",
   "metadata": {},
   "source": [
    "## Question 3: Calculate annual per capita sales by county (10 pts)\n",
    "\n",
    "Calculate the total sales per year and county, reset the index so you have columns for \"Year\", \"County\", and \"Sales, and store as `annual_county_sales_df`. (2 pts)\n"
   ]
  },
  {
   "cell_type": "code",
   "execution_count": null,
   "id": "2db58ccf",
   "metadata": {},
   "outputs": [],
   "source": []
  },
  {
   "cell_type": "markdown",
   "id": "fb7bd0ec",
   "metadata": {},
   "source": [
    "Join the `annual_county_sales_df` and `demographics_df` DataFrames together into `sales_demographics_df` using an appropriate combination of keys. (HINT: You will need to modify a column in `annual_county_sales_df` first.) (3 pts)"
   ]
  },
  {
   "cell_type": "code",
   "execution_count": null,
   "id": "985aa3f2",
   "metadata": {},
   "outputs": [],
   "source": []
  },
  {
   "cell_type": "markdown",
   "id": "638c77d6",
   "metadata": {},
   "source": [
    "Calculate the annual county-level sales per person and store it as a column \"Per Capita\" in `sales_demographics_df`. Print the average value of the \"Per Capita\" column. (2 pts)"
   ]
  },
  {
   "cell_type": "code",
   "execution_count": null,
   "id": "da98e58b",
   "metadata": {},
   "outputs": [],
   "source": []
  },
  {
   "cell_type": "markdown",
   "id": "2afc6a14",
   "metadata": {},
   "source": [
    "Display the 10 county-years with the **most** sales per capita as a DataFrame with only \"Year\", \"County\", and \"Per Capita\" columns. (2 pts)"
   ]
  },
  {
   "cell_type": "code",
   "execution_count": null,
   "id": "037c4441",
   "metadata": {},
   "outputs": [],
   "source": []
  },
  {
   "cell_type": "markdown",
   "id": "d09ecf7b",
   "metadata": {},
   "source": [
    "Create a \"Raw NBConvert\" cell and write at least two sentences describing, interpreting, comparing, *etc*. some interesting, surprising, *etc*. implications about these findings. (1 pt)"
   ]
  },
  {
   "cell_type": "code",
   "execution_count": null,
   "id": "f8bd4fb7",
   "metadata": {},
   "outputs": [],
   "source": []
  },
  {
   "cell_type": "markdown",
   "id": "853f11df",
   "metadata": {},
   "source": [
    "## Question 4: Calculate monthly per capita crime rates by county (10 pts)\n",
    "\n",
    "Calculate the total crimes per year for every county, reset the index so you have columns for \"Year\", \"County\", \"Crimes Against Person\", \"Crimes Against Property\", \"Drug Equipment Violations\", and \"Drug/Narcotic Violations\", and save the aggregated data as `annual_county_crimes_df`. (2 pts)"
   ]
  },
  {
   "cell_type": "code",
   "execution_count": null,
   "id": "8ff3cd59",
   "metadata": {},
   "outputs": [],
   "source": []
  },
  {
   "cell_type": "markdown",
   "id": "0ed6246d",
   "metadata": {},
   "source": [
    "Do set difference tests on the counties in `demographics_df` and `annual_county_crimes_df`. What counties are present in one DataFrame that are not present in the other? Create a \"Raw NBConvert\" cell and write a sentence or two about how the presence of difference sets of counties will influence your data cleaning and/or merging strategy. (2 pts)"
   ]
  },
  {
   "cell_type": "code",
   "execution_count": null,
   "id": "3ea33aa9",
   "metadata": {},
   "outputs": [],
   "source": []
  },
  {
   "cell_type": "markdown",
   "id": "b8da8818",
   "metadata": {},
   "source": [
    "Join/merge the `annual_county_crimes_df` and `demographics_df` DataFrames together into `crimes_demographics_df` using an appropriate combination of keys. Print the number of rows in the parent DataFrames and the joined DataFrame. Create a \"Raw NBConvert\" cell and write a sentence or two about why the join was successful based on the number of rows. (3 pts)"
   ]
  },
  {
   "cell_type": "code",
   "execution_count": null,
   "id": "c71ea8ba",
   "metadata": {},
   "outputs": [],
   "source": []
  },
  {
   "cell_type": "markdown",
   "id": "1cf16666",
   "metadata": {},
   "source": [
    "Use the `crimes_demographics_df` DataFrame to calculate the \"Drug/Narcotic Violations\" per capita and save as a new column \"Narcotic Violations PC\". Display the 10 county-years with the **most** per-capita narcotics violations as a DataFrame with only the \"County\", \"Year\", and \"Narcotic Violations PC\" columns. (2 pts)"
   ]
  },
  {
   "cell_type": "code",
   "execution_count": null,
   "id": "3630b44b",
   "metadata": {},
   "outputs": [],
   "source": []
  },
  {
   "cell_type": "markdown",
   "id": "21ddec7a",
   "metadata": {},
   "source": [
    "Create a \"Raw NBConvert\" cell and write at least two sentences describing, interpreting, comparing, *etc*. some interesting, surprising, *etc*. implications about these findings. (1 pt)"
   ]
  },
  {
   "cell_type": "code",
   "execution_count": null,
   "id": "a0534d4e",
   "metadata": {},
   "outputs": [],
   "source": []
  },
  {
   "cell_type": "markdown",
   "id": "0e72549c",
   "metadata": {},
   "source": [
    "## Question 5: Caluclate monthly per capita COVID rates by county (10 pts)\n",
    "\n",
    "Calculate the total COVID-19 deaths and cases per year for every county, reset the index so you have columns for \"Year\", \"County\", \"Cases\", and \"Deaths\", and save the aggregated data as `annual_county_covid_df`. (2 pts)"
   ]
  },
  {
   "cell_type": "code",
   "execution_count": null,
   "id": "6d1618f0",
   "metadata": {},
   "outputs": [],
   "source": []
  },
  {
   "cell_type": "markdown",
   "id": "abb4c012",
   "metadata": {},
   "source": [
    "Do set difference tests on the counties in `demographics_df` and `annual_county_covid_df`. What counties are present in one DataFrame that are not present in the other? (2 pts)"
   ]
  },
  {
   "cell_type": "code",
   "execution_count": null,
   "id": "404377f7",
   "metadata": {},
   "outputs": [],
   "source": []
  },
  {
   "cell_type": "markdown",
   "id": "b99cedf3",
   "metadata": {},
   "source": [
    "Join/merge the `annual_county_covid_df` and `demographics_df` DataFrames together into `covid_demographics_df` using an appropriate combination of keys. Print the number of rows in the parent DataFrames and the joined DataFrame. Create a \"Raw NBConvert\" cell and write a sentence or two about why the join was successful based on the number of rows. (3 pts)"
   ]
  },
  {
   "cell_type": "code",
   "execution_count": null,
   "id": "0050dee0",
   "metadata": {},
   "outputs": [],
   "source": []
  },
  {
   "cell_type": "markdown",
   "id": "4e598bce",
   "metadata": {},
   "source": [
    "Use the `covid_demographics_df` DataFrame to calculate the \"Cases\" per capita and save as a new column \"Cases PC\". Display the 10 county-years with the **most** per-capita cases as a DataFrame with only the \"County\", \"Year\", and \"Cases PC\" columns. (2 pts)"
   ]
  },
  {
   "cell_type": "code",
   "execution_count": null,
   "id": "8e3645c6",
   "metadata": {},
   "outputs": [],
   "source": []
  },
  {
   "cell_type": "markdown",
   "id": "8063e98e",
   "metadata": {},
   "source": [
    "Create a \"Raw NBConvert\" cell and write at least two sentences describing, interpreting, comparing, *etc*. some interesting, surprising, *etc*. implications about these findings. (1 pt)"
   ]
  },
  {
   "cell_type": "code",
   "execution_count": null,
   "id": "cbcfeac5",
   "metadata": {},
   "outputs": [],
   "source": []
  },
  {
   "cell_type": "markdown",
   "id": "21572f8a",
   "metadata": {},
   "source": [
    "## Appendix\n",
    "\n",
    "This is documentation of how I cleaned up the data for use in the assignment. There's nothing you need to do here for the assignment, but I think there is some valuable patterns and examples to use. There's definitely some hints how to do things for the assignment here as well.\n",
    "\n",
    "### MED monthly sales reports\n",
    "Scraping the Color Marijuana Enforcement Division's [Marijuana Sales Reports](https://cdor.colorado.gov/data-and-reports/marijuana-data/marijuana-sales-reports). The monthly reports with county-level data are stored as Excel files or Google Sheets. I've downloaded them all (automatically of course!) and they're in this zip file."
   ]
  },
  {
   "cell_type": "code",
   "execution_count": null,
   "id": "307e98e3",
   "metadata": {},
   "outputs": [],
   "source": [
    "# https://stackoverflow.com/a/10909016/1574687\n",
    "import pandas as pd\n",
    "from zipfile import ZipFile\n",
    "\n",
    "input_zip = ZipFile('ColoradoCannabisSalesReport.zip')\n",
    "file_dict = {'20{1}-{0}'.format(name[0:2],name[2:4]): input_zip.read(name) for name in input_zip.namelist()}"
   ]
  },
  {
   "cell_type": "markdown",
   "id": "e1846bf0",
   "metadata": {},
   "source": [
    "I wrote this function to clean the files up into an easier-to-read format. Yes, it was a big pain-in-the-ass. It's also something you may find yourself having to do to convert ideosyncratic spreadsheet designs into usable data at some point."
   ]
  },
  {
   "cell_type": "code",
   "execution_count": null,
   "id": "0efe9b30",
   "metadata": {},
   "outputs": [],
   "source": [
    "def clean_excel(_df):\n",
    "    \n",
    "    # Drop first 5 rows\n",
    "    _df = _df.drop(index=range(5)).reset_index(drop=True)\n",
    "    \n",
    "    # Drop empty column\n",
    "    _df = _df.dropna(how='all',axis=1)\n",
    "    \n",
    "    # Rename columns\n",
    "    _df.columns = ['Med County','Med Sales','Rec County','Rec Sales']\n",
    "    \n",
    "    # Find row for last medical and recreational sales\n",
    "    try:\n",
    "        last_med = _df[_df['Med County'].str.contains('Sum of NR Counties').fillna(False)].first_valid_index() - 1\n",
    "        last_rec = _df[_df['Rec County'].str.contains('Sum of NR Counties').fillna(False)].first_valid_index() - 1\n",
    "    except TypeError:\n",
    "        last_med = _df[_df['Med County'].str.contains('Total ³').fillna(False)].first_valid_index() - 1\n",
    "        last_rec = _df[_df['Rec County'].str.contains('Total ³').fillna(False)].first_valid_index() - 1\n",
    "\n",
    "    # Slice to only those values\n",
    "    med_sales = _df.loc[:last_med,['Med County','Med Sales']]\n",
    "    rec_sales = _df.loc[:last_rec,['Rec County','Rec Sales']]\n",
    "    \n",
    "    # Rename columns\n",
    "    med_sales.columns = ['County','Sales']\n",
    "    rec_sales.columns = ['County','Sales']\n",
    "\n",
    "    # Add type\n",
    "    med_sales['Type'] = 'Medical'\n",
    "    rec_sales['Type'] = 'Recreational'\n",
    "    \n",
    "    # Concatenate\n",
    "    combined_df = pd.concat([med_sales,rec_sales],ignore_index=True)\n",
    "    combined_df = combined_df.replace({'Sales':{'NR':np.nan}})\n",
    "\n",
    "    return combined_df"
   ]
  },
  {
   "cell_type": "markdown",
   "id": "73960a8d",
   "metadata": {},
   "source": [
    "Loop through the files, read into a DataFrame, run the clean up function, save to `cleaned_files`."
   ]
  },
  {
   "cell_type": "code",
   "execution_count": null,
   "id": "be09df7a",
   "metadata": {},
   "outputs": [],
   "source": [
    "# Empty container to store results\n",
    "cleaned_files = {}\n",
    "\n",
    "# Iterate through the dates and files\n",
    "for date,file in file_dict.items():\n",
    "    \n",
    "    # Try to clean the file and store in the cleaned_files dict\n",
    "    try:\n",
    "        cleaned_files[date] = clean_excel(pd.read_excel(file))\n",
    "        \n",
    "    # On an error, print the date to check\n",
    "    except:\n",
    "        print(date)\n",
    "        pass\n",
    "\n",
    "# Inspect\n",
    "cleaned_files['2021-05'].head()"
   ]
  },
  {
   "cell_type": "markdown",
   "id": "091ca4b9",
   "metadata": {},
   "source": [
    "Concatenate results together."
   ]
  },
  {
   "cell_type": "code",
   "execution_count": null,
   "id": "9537f10f",
   "metadata": {},
   "outputs": [],
   "source": [
    "co_cannabis_sales_df = pd.concat(\n",
    "    objs = cleaned_files.values(), \n",
    "    keys = pd.PeriodIndex(cleaned_files.keys(),freq='1M')\n",
    ")\n",
    "\n",
    "# Clean up index\n",
    "co_cannabis_sales_df = co_cannabis_sales_df.reset_index(level=0).reset_index(drop=True)\n",
    "\n",
    "co_cannabis_sales_df['Year'] = co_cannabis_sales_df['level_0'].dt.year\n",
    "co_cannabis_sales_df['Month'] = co_cannabis_sales_df['level_0'].dt.month\n",
    "\n",
    "# Drop former index column, reorder columns\n",
    "co_cannabis_sales_df = co_cannabis_sales_df.drop('level_0',axis=1)[['Year','Month','County','Type','Sales']]\n",
    "\n",
    "# Write to disk\n",
    "co_cannabis_sales_df.to_csv('colorado_cannabis_sales.csv',index=False)"
   ]
  },
  {
   "cell_type": "markdown",
   "id": "2c110885",
   "metadata": {},
   "source": [
    "Groupby Year and Type and write each baby DataFrame out to CSV."
   ]
  },
  {
   "cell_type": "code",
   "execution_count": null,
   "id": "d649859c",
   "metadata": {},
   "outputs": [],
   "source": [
    "gb_year_type = co_cannabis_sales_df.groupby(['Year','Type'])\n",
    "\n",
    "for group in gb_year_type.groups.keys():\n",
    "    _df = gb_year_type.get_group(group)\n",
    "    _df.to_csv(\"{0}_{1}_sales.csv\".format(*group),index=False)"
   ]
  },
  {
   "cell_type": "markdown",
   "id": "dc1af992",
   "metadata": {},
   "source": [
    "### COVID-19 county case data\n",
    "\n",
    "Using the NYTimes's [covid-19-data](https://github.com/nytimes/covid-19-data) repository. "
   ]
  },
  {
   "cell_type": "code",
   "execution_count": null,
   "id": "bf331044",
   "metadata": {},
   "outputs": [],
   "source": [
    "# Load data\n",
    "allcovid_df = pd.read_csv('covid19_counties.csv',parse_dates=['date'])\n",
    "\n",
    "# Rename columns\n",
    "allcovid_df.rename(columns={\n",
    "    'county':'County',\n",
    "    'deaths':'Deaths',\n",
    "    'cases':'Cases',\n",
    "    'state':'State',\n",
    "    'date':'Date'\n",
    "},inplace=True)\n",
    "\n",
    "# Filter to Colorado\n",
    "colorado_covid = allcovid_df.copy().loc[allcovid_df['State'] == 'Colorado',:]"
   ]
  },
  {
   "cell_type": "markdown",
   "id": "ae2cbfb5",
   "metadata": {},
   "source": [
    "The data is reported in cumulative numbers. We want daily numbers. Pivot, reindex, compute diffs on county groups, and clean-up."
   ]
  },
  {
   "cell_type": "code",
   "execution_count": null,
   "id": "0e0c0be5",
   "metadata": {},
   "outputs": [],
   "source": [
    "# Make a pivot table of results\n",
    "co_covid_pivot = pd.pivot_table(\n",
    "    data = colorado_covid,\n",
    "    index = ['Date','County'],\n",
    "    values = ['Cases','Deaths']\n",
    ")\n",
    "\n",
    "# Create a new MultiIndex for March 1 through today at a daily frequency for each county\n",
    "dates = pd.date_range('2020-03-01','2022-01-17',freq='D')\n",
    "counties = colorado_covid['County'].unique()\n",
    "new_ix = pd.MultiIndex.from_product([dates,counties],names=['Date','County'])\n",
    "\n",
    "# Reindex the data\n",
    "co_covid_pivot = co_covid_pivot.reindex(new_ix)\n",
    "\n",
    "# Propagate previous values forward and then fill remaining missing data with 0s\n",
    "co_covid_pivot = co_covid_pivot.fillna(method='ffill').fillna(0).reset_index()\n",
    "\n",
    "# Groupby county and compute daily diffs in cumulative numbers: these are the new daily cases and deaths\n",
    "co_covid_pivot[['New cases','New deaths']] = co_covid_pivot.groupby('County')[['Cases','Deaths']].diff().fillna(0)\n",
    "\n",
    "# Sort and cleanup\n",
    "co_covid_pivot = co_covid_pivot.sort_values(['County','Date']).reset_index(drop=True)"
   ]
  },
  {
   "cell_type": "markdown",
   "id": "940d4e41",
   "metadata": {},
   "source": [
    "Extract year and month information, drop old cumulative numbers, rename new daily numbers to old column names, write to disk."
   ]
  },
  {
   "cell_type": "code",
   "execution_count": null,
   "id": "016255dc",
   "metadata": {},
   "outputs": [],
   "source": [
    "# Extract month and date\n",
    "co_covid_pivot.loc[:,'Month'] = co_covid_pivot.loc[:,'Date'].dt.month\n",
    "co_covid_pivot.loc[:,'Year'] = co_covid_pivot.loc[:,'Date'].dt.year\n",
    "\n",
    "# Clean up\n",
    "co_covid_pivot.drop(columns=['Cases','Deaths'],inplace=True)\n",
    "co_covid_pivot.rename(columns={'New cases':'Cases','New deaths':'Deaths'},inplace=True)\n",
    "\n",
    "# Write to disk\n",
    "co_covid_pivot[['Year','Month','County','Cases','Deaths']].to_csv('co_county_covid.csv',index=False)"
   ]
  },
  {
   "cell_type": "markdown",
   "id": "a4630d34",
   "metadata": {},
   "source": [
    "### Reshape county crimes data"
   ]
  },
  {
   "cell_type": "code",
   "execution_count": null,
   "id": "c1169ff4",
   "metadata": {},
   "outputs": [],
   "source": [
    "# Read data in, skip bad headers, use only the first 5 columns\n",
    "crimes_df = pd.read_csv('cbi_crime_month_county.csv',header=3,usecols=range(5))\n",
    "\n",
    "# Reshape the data\n",
    "crimes_df = crimes_df.set_index(['Jurisdiction by Geography','Incident Date','Incident Month','Offense Type'])['Number of Crimes'].unstack(3).reset_index()\n",
    "\n",
    "# Rename columns\n",
    "crimes_df.rename(columns={\n",
    "    'Jurisdiction by Geography':'County',\n",
    "    'Incident Date':'Year',\n",
    "    'Incident Month':'Month'\n",
    "},inplace=True)\n",
    "\n",
    "# Clean up column names\n",
    "crimes_df.columns.name = None\n",
    "\n",
    "# Write to disk\n",
    "crimes_df.to_csv('co_county_crimes.csv',index=False)"
   ]
  },
  {
   "cell_type": "code",
   "execution_count": null,
   "id": "9a07c422",
   "metadata": {},
   "outputs": [],
   "source": []
  }
 ],
 "metadata": {
  "kernelspec": {
   "display_name": "Python 3 (ipykernel)",
   "language": "python",
   "name": "python3"
  },
  "language_info": {
   "codemirror_mode": {
    "name": "ipython",
    "version": 3
   },
   "file_extension": ".py",
   "mimetype": "text/x-python",
   "name": "python",
   "nbconvert_exporter": "python",
   "pygments_lexer": "ipython3",
   "version": "3.9.9"
  }
 },
 "nbformat": 4,
 "nbformat_minor": 5
}
