{
 "cells": [
  {
   "cell_type": "markdown",
   "id": "aeaad0b1",
   "metadata": {},
   "source": [
    "# INFO 3402 – Week 13: Assignment\n",
    "\n",
    "[Brian C. Keegan, Ph.D.](http://brianckeegan.com/)  \n",
    "[Assistant Professor, Department of Information Science](https://www.colorado.edu/cmci/people/information-science/brian-c-keegan)  \n",
    "University of Colorado Boulder  \n",
    "\n",
    "Copyright and distributed under an [MIT License](https://opensource.org/licenses/MIT)"
   ]
  },
  {
   "cell_type": "code",
   "execution_count": 1,
   "id": "4b7f416b",
   "metadata": {},
   "outputs": [],
   "source": [
    "import pandas as pd\n",
    "import numpy as np\n",
    "\n",
    "pd.options.display.max_columns = 100\n",
    "\n",
    "%matplotlib inline\n",
    "import matplotlib.pyplot as plt\n",
    "import seaborn as sb\n",
    "\n",
    "from scipy.stats import linregress"
   ]
  },
  {
   "cell_type": "code",
   "execution_count": 2,
   "id": "275360bc",
   "metadata": {},
   "outputs": [
    {
     "data": {
      "text/html": [
       "<div>\n",
       "<style scoped>\n",
       "    .dataframe tbody tr th:only-of-type {\n",
       "        vertical-align: middle;\n",
       "    }\n",
       "\n",
       "    .dataframe tbody tr th {\n",
       "        vertical-align: top;\n",
       "    }\n",
       "\n",
       "    .dataframe thead th {\n",
       "        text-align: right;\n",
       "    }\n",
       "</style>\n",
       "<table border=\"1\" class=\"dataframe\">\n",
       "  <thead>\n",
       "    <tr style=\"text-align: right;\">\n",
       "      <th></th>\n",
       "      <th>trump_2016</th>\n",
       "      <th>trump_2020</th>\n",
       "      <th>16_20_shift</th>\n",
       "      <th>state</th>\n",
       "      <th>county</th>\n",
       "      <th>covid_cases</th>\n",
       "      <th>covid_deaths</th>\n",
       "      <th>Pct_Single_Female</th>\n",
       "      <th>Pct_HS_Grad</th>\n",
       "      <th>Pct_College_Grad</th>\n",
       "      <th>Pct_Veteran</th>\n",
       "      <th>Pct_Disability</th>\n",
       "      <th>Pct_Live_Same_House_1YA</th>\n",
       "      <th>Pct_Born_Same_State</th>\n",
       "      <th>Pct_Foreign_After_2010</th>\n",
       "      <th>Pct_Foreign_Born_LatAm</th>\n",
       "      <th>Pct_English_Only</th>\n",
       "      <th>Pct_Broadband</th>\n",
       "      <th>Pct_Armed_Forces</th>\n",
       "      <th>Pct_Unemployed</th>\n",
       "      <th>Median_Income</th>\n",
       "      <th>Pct_Assistance</th>\n",
       "      <th>Pct_Health_Insurance</th>\n",
       "      <th>Pct_Family_Poverty</th>\n",
       "      <th>Population</th>\n",
       "      <th>Pct_Under_18</th>\n",
       "      <th>Pct_Over_65</th>\n",
       "      <th>Pct_Female</th>\n",
       "      <th>Pct_White</th>\n",
       "      <th>Pct_Hispanic</th>\n",
       "      <th>Pct_Over_18_Citizen</th>\n",
       "      <th>covid_cases_percapita</th>\n",
       "      <th>covid_deaths_percapita</th>\n",
       "    </tr>\n",
       "    <tr>\n",
       "      <th>fips</th>\n",
       "      <th></th>\n",
       "      <th></th>\n",
       "      <th></th>\n",
       "      <th></th>\n",
       "      <th></th>\n",
       "      <th></th>\n",
       "      <th></th>\n",
       "      <th></th>\n",
       "      <th></th>\n",
       "      <th></th>\n",
       "      <th></th>\n",
       "      <th></th>\n",
       "      <th></th>\n",
       "      <th></th>\n",
       "      <th></th>\n",
       "      <th></th>\n",
       "      <th></th>\n",
       "      <th></th>\n",
       "      <th></th>\n",
       "      <th></th>\n",
       "      <th></th>\n",
       "      <th></th>\n",
       "      <th></th>\n",
       "      <th></th>\n",
       "      <th></th>\n",
       "      <th></th>\n",
       "      <th></th>\n",
       "      <th></th>\n",
       "      <th></th>\n",
       "      <th></th>\n",
       "      <th></th>\n",
       "      <th></th>\n",
       "      <th></th>\n",
       "    </tr>\n",
       "  </thead>\n",
       "  <tbody>\n",
       "    <tr>\n",
       "      <th>01001</th>\n",
       "      <td>72.8</td>\n",
       "      <td>71.4</td>\n",
       "      <td>-1.4</td>\n",
       "      <td>Alabama</td>\n",
       "      <td>Autauga</td>\n",
       "      <td>15582.0</td>\n",
       "      <td>210.0</td>\n",
       "      <td>28.7</td>\n",
       "      <td>31.4</td>\n",
       "      <td>28.3</td>\n",
       "      <td>10.9</td>\n",
       "      <td>17.7</td>\n",
       "      <td>87.5</td>\n",
       "      <td>67.1</td>\n",
       "      <td>29.9</td>\n",
       "      <td>32.7</td>\n",
       "      <td>96.2</td>\n",
       "      <td>82.7</td>\n",
       "      <td>1.6</td>\n",
       "      <td>2.9</td>\n",
       "      <td>57982</td>\n",
       "      <td>10.6</td>\n",
       "      <td>92.0</td>\n",
       "      <td>12.7</td>\n",
       "      <td>55639.0</td>\n",
       "      <td>23.6</td>\n",
       "      <td>15.3</td>\n",
       "      <td>51.4</td>\n",
       "      <td>78.0</td>\n",
       "      <td>2.9</td>\n",
       "      <td>98.7</td>\n",
       "      <td>0.280055</td>\n",
       "      <td>0.003774</td>\n",
       "    </tr>\n",
       "    <tr>\n",
       "      <th>01003</th>\n",
       "      <td>76.5</td>\n",
       "      <td>76.2</td>\n",
       "      <td>-0.3</td>\n",
       "      <td>Alabama</td>\n",
       "      <td>Baldwin</td>\n",
       "      <td>55327.0</td>\n",
       "      <td>669.0</td>\n",
       "      <td>25.5</td>\n",
       "      <td>27.2</td>\n",
       "      <td>31.9</td>\n",
       "      <td>11.2</td>\n",
       "      <td>14.2</td>\n",
       "      <td>88.4</td>\n",
       "      <td>52.2</td>\n",
       "      <td>25.4</td>\n",
       "      <td>50.3</td>\n",
       "      <td>95.0</td>\n",
       "      <td>85.1</td>\n",
       "      <td>0.2</td>\n",
       "      <td>3.9</td>\n",
       "      <td>61756</td>\n",
       "      <td>6.9</td>\n",
       "      <td>90.5</td>\n",
       "      <td>6.3</td>\n",
       "      <td>218289.0</td>\n",
       "      <td>21.5</td>\n",
       "      <td>20.5</td>\n",
       "      <td>51.5</td>\n",
       "      <td>87.9</td>\n",
       "      <td>4.6</td>\n",
       "      <td>98.1</td>\n",
       "      <td>0.253458</td>\n",
       "      <td>0.003065</td>\n",
       "    </tr>\n",
       "    <tr>\n",
       "      <th>01005</th>\n",
       "      <td>52.1</td>\n",
       "      <td>53.5</td>\n",
       "      <td>1.4</td>\n",
       "      <td>Alabama</td>\n",
       "      <td>Barbour</td>\n",
       "      <td>5467.0</td>\n",
       "      <td>94.0</td>\n",
       "      <td>39.4</td>\n",
       "      <td>35.7</td>\n",
       "      <td>11.6</td>\n",
       "      <td>6.8</td>\n",
       "      <td>18.8</td>\n",
       "      <td>84.7</td>\n",
       "      <td>68.9</td>\n",
       "      <td>30.7</td>\n",
       "      <td>72.8</td>\n",
       "      <td>92.8</td>\n",
       "      <td>64.6</td>\n",
       "      <td>0.0</td>\n",
       "      <td>6.9</td>\n",
       "      <td>34990</td>\n",
       "      <td>24.3</td>\n",
       "      <td>89.3</td>\n",
       "      <td>23.8</td>\n",
       "      <td>25026.0</td>\n",
       "      <td>20.9</td>\n",
       "      <td>19.1</td>\n",
       "      <td>47.4</td>\n",
       "      <td>47.9</td>\n",
       "      <td>4.4</td>\n",
       "      <td>98.3</td>\n",
       "      <td>0.218453</td>\n",
       "      <td>0.003756</td>\n",
       "    </tr>\n",
       "    <tr>\n",
       "      <th>01007</th>\n",
       "      <td>76.4</td>\n",
       "      <td>78.4</td>\n",
       "      <td>2.0</td>\n",
       "      <td>Alabama</td>\n",
       "      <td>Bibb</td>\n",
       "      <td>6411.0</td>\n",
       "      <td>100.0</td>\n",
       "      <td>28.2</td>\n",
       "      <td>45.1</td>\n",
       "      <td>11.3</td>\n",
       "      <td>6.8</td>\n",
       "      <td>18.1</td>\n",
       "      <td>87.7</td>\n",
       "      <td>84.2</td>\n",
       "      <td>17.2</td>\n",
       "      <td>76.6</td>\n",
       "      <td>97.6</td>\n",
       "      <td>76.1</td>\n",
       "      <td>0.0</td>\n",
       "      <td>7.4</td>\n",
       "      <td>51721</td>\n",
       "      <td>18.5</td>\n",
       "      <td>90.9</td>\n",
       "      <td>17.0</td>\n",
       "      <td>22374.0</td>\n",
       "      <td>20.5</td>\n",
       "      <td>16.4</td>\n",
       "      <td>46.3</td>\n",
       "      <td>77.1</td>\n",
       "      <td>2.7</td>\n",
       "      <td>98.8</td>\n",
       "      <td>0.286538</td>\n",
       "      <td>0.004469</td>\n",
       "    </tr>\n",
       "    <tr>\n",
       "      <th>01009</th>\n",
       "      <td>89.3</td>\n",
       "      <td>89.6</td>\n",
       "      <td>0.3</td>\n",
       "      <td>Alabama</td>\n",
       "      <td>Blount</td>\n",
       "      <td>14889.0</td>\n",
       "      <td>230.0</td>\n",
       "      <td>23.1</td>\n",
       "      <td>35.1</td>\n",
       "      <td>13.3</td>\n",
       "      <td>7.7</td>\n",
       "      <td>15.0</td>\n",
       "      <td>91.7</td>\n",
       "      <td>79.5</td>\n",
       "      <td>9.0</td>\n",
       "      <td>85.2</td>\n",
       "      <td>92.2</td>\n",
       "      <td>79.6</td>\n",
       "      <td>0.1</td>\n",
       "      <td>5.2</td>\n",
       "      <td>48922</td>\n",
       "      <td>10.5</td>\n",
       "      <td>90.0</td>\n",
       "      <td>10.1</td>\n",
       "      <td>57755.0</td>\n",
       "      <td>23.2</td>\n",
       "      <td>18.0</td>\n",
       "      <td>50.3</td>\n",
       "      <td>96.2</td>\n",
       "      <td>9.3</td>\n",
       "      <td>96.8</td>\n",
       "      <td>0.257796</td>\n",
       "      <td>0.003982</td>\n",
       "    </tr>\n",
       "  </tbody>\n",
       "</table>\n",
       "</div>"
      ],
      "text/plain": [
       "       trump_2016  trump_2020  16_20_shift    state   county  covid_cases  \\\n",
       "fips                                                                        \n",
       "01001        72.8        71.4         -1.4  Alabama  Autauga      15582.0   \n",
       "01003        76.5        76.2         -0.3  Alabama  Baldwin      55327.0   \n",
       "01005        52.1        53.5          1.4  Alabama  Barbour       5467.0   \n",
       "01007        76.4        78.4          2.0  Alabama     Bibb       6411.0   \n",
       "01009        89.3        89.6          0.3  Alabama   Blount      14889.0   \n",
       "\n",
       "       covid_deaths  Pct_Single_Female  Pct_HS_Grad  Pct_College_Grad  \\\n",
       "fips                                                                    \n",
       "01001         210.0               28.7         31.4              28.3   \n",
       "01003         669.0               25.5         27.2              31.9   \n",
       "01005          94.0               39.4         35.7              11.6   \n",
       "01007         100.0               28.2         45.1              11.3   \n",
       "01009         230.0               23.1         35.1              13.3   \n",
       "\n",
       "       Pct_Veteran  Pct_Disability  Pct_Live_Same_House_1YA  \\\n",
       "fips                                                          \n",
       "01001         10.9            17.7                     87.5   \n",
       "01003         11.2            14.2                     88.4   \n",
       "01005          6.8            18.8                     84.7   \n",
       "01007          6.8            18.1                     87.7   \n",
       "01009          7.7            15.0                     91.7   \n",
       "\n",
       "       Pct_Born_Same_State Pct_Foreign_After_2010 Pct_Foreign_Born_LatAm  \\\n",
       "fips                                                                       \n",
       "01001                 67.1                   29.9                   32.7   \n",
       "01003                 52.2                   25.4                   50.3   \n",
       "01005                 68.9                   30.7                   72.8   \n",
       "01007                 84.2                   17.2                   76.6   \n",
       "01009                 79.5                    9.0                   85.2   \n",
       "\n",
       "       Pct_English_Only  Pct_Broadband  Pct_Armed_Forces  Pct_Unemployed  \\\n",
       "fips                                                                       \n",
       "01001              96.2           82.7               1.6             2.9   \n",
       "01003              95.0           85.1               0.2             3.9   \n",
       "01005              92.8           64.6               0.0             6.9   \n",
       "01007              97.6           76.1               0.0             7.4   \n",
       "01009              92.2           79.6               0.1             5.2   \n",
       "\n",
       "      Median_Income  Pct_Assistance  Pct_Health_Insurance  Pct_Family_Poverty  \\\n",
       "fips                                                                            \n",
       "01001         57982            10.6                  92.0                12.7   \n",
       "01003         61756             6.9                  90.5                 6.3   \n",
       "01005         34990            24.3                  89.3                23.8   \n",
       "01007         51721            18.5                  90.9                17.0   \n",
       "01009         48922            10.5                  90.0                10.1   \n",
       "\n",
       "       Population  Pct_Under_18  Pct_Over_65  Pct_Female  Pct_White  \\\n",
       "fips                                                                  \n",
       "01001     55639.0          23.6         15.3        51.4       78.0   \n",
       "01003    218289.0          21.5         20.5        51.5       87.9   \n",
       "01005     25026.0          20.9         19.1        47.4       47.9   \n",
       "01007     22374.0          20.5         16.4        46.3       77.1   \n",
       "01009     57755.0          23.2         18.0        50.3       96.2   \n",
       "\n",
       "       Pct_Hispanic  Pct_Over_18_Citizen  covid_cases_percapita  \\\n",
       "fips                                                              \n",
       "01001           2.9                 98.7               0.280055   \n",
       "01003           4.6                 98.1               0.253458   \n",
       "01005           4.4                 98.3               0.218453   \n",
       "01007           2.7                 98.8               0.286538   \n",
       "01009           9.3                 96.8               0.257796   \n",
       "\n",
       "       covid_deaths_percapita  \n",
       "fips                           \n",
       "01001                0.003774  \n",
       "01003                0.003065  \n",
       "01005                0.003756  \n",
       "01007                0.004469  \n",
       "01009                0.003982  "
      ]
     },
     "execution_count": 2,
     "metadata": {},
     "output_type": "execute_result"
    }
   ],
   "source": [
    "counties_df = pd.read_csv('us_counties.csv',dtype={'fips':str}).set_index('fips')\n",
    "counties_df.head()"
   ]
  },
  {
   "cell_type": "markdown",
   "id": "732d24c0",
   "metadata": {},
   "source": [
    "## Question 1: Guess the Correlation (10 pts)"
   ]
  },
  {
   "cell_type": "markdown",
   "id": "c99f1752",
   "metadata": {},
   "source": [
    "Play a few rounds of [GuessTheCorrelation.com](http://guessthecorrelation.com/). What was your high score? (1 pt)"
   ]
  },
  {
   "cell_type": "raw",
   "id": "1f563c9a",
   "metadata": {},
   "source": []
  },
  {
   "cell_type": "markdown",
   "id": "d438f20e",
   "metadata": {},
   "source": [
    "What kinds of relationships were harder to accurately guess? Why? What did you learn that helped improve your performance over a few rounds? (2 pts)"
   ]
  },
  {
   "cell_type": "raw",
   "id": "d9a5e257",
   "metadata": {},
   "source": []
  },
  {
   "cell_type": "markdown",
   "id": "3d826034",
   "metadata": {},
   "source": [
    "Guess the correlations for Relationship A and B in the figure below. Any guess with a correct direction will get full credit. (1 pt)"
   ]
  },
  {
   "cell_type": "code",
   "execution_count": 3,
   "id": "a65d8a49",
   "metadata": {},
   "outputs": [
    {
     "data": {
      "image/png": "[encoded data removed]",
      "text/plain": [
       "<Figure size 864x432 with 2 Axes>"
      ]
     },
     "metadata": {
      "needs_background": "light"
     },
     "output_type": "display_data"
    }
   ],
   "source": [
    "f,(ax0,ax1) = plt.subplots(1,2,figsize=(12,6))\n",
    "\n",
    "counties_df.plot.scatter(x='Pct_English_Only',y='Pct_Over_18_Citizen',ax=ax0,alpha=.25)\n",
    "counties_df.plot.scatter(x='Pct_College_Grad',y='Pct_Disability',ax=ax1,alpha=.25)\n",
    "\n",
    "ax0.set_title('Relationship A')\n",
    "ax1.set_title('Relationship B')\n",
    "\n",
    "f.tight_layout()"
   ]
  },
  {
   "cell_type": "raw",
   "id": "efc72922",
   "metadata": {},
   "source": [
    "Relationship A: \n",
    "\n",
    "Relationship B: "
   ]
  },
  {
   "cell_type": "markdown",
   "id": "e1141516",
   "metadata": {},
   "source": [
    "Report the true correlations for both relationships. (2 pts)"
   ]
  },
  {
   "cell_type": "code",
   "execution_count": null,
   "id": "a8ebaa0d",
   "metadata": {},
   "outputs": [],
   "source": []
  },
  {
   "cell_type": "code",
   "execution_count": null,
   "id": "acb64a13",
   "metadata": {},
   "outputs": [],
   "source": []
  },
  {
   "cell_type": "markdown",
   "id": "39f4a81b",
   "metadata": {},
   "source": [
    "Interpret the slope for each of these linear regressions for these relationships. (4 pts)"
   ]
  },
  {
   "cell_type": "code",
   "execution_count": 4,
   "id": "270a4d94",
   "metadata": {},
   "outputs": [
    {
     "data": {
      "text/plain": [
       "LinregressResult(slope=0.29687565292347334, intercept=69.98774740565949, rvalue=0.8239055756500892, pvalue=0.0, stderr=0.0035574877135954495, intercept_stderr=0.3243690075592116)"
      ]
     },
     "execution_count": 4,
     "metadata": {},
     "output_type": "execute_result"
    }
   ],
   "source": [
    "linregress(\n",
    "    x = counties_df['Pct_English_Only'].fillna(counties_df['Pct_English_Only'].mean()),\n",
    "    y = counties_df['Pct_Over_18_Citizen'].fillna(counties_df['Pct_Over_18_Citizen'].mean())\n",
    ")"
   ]
  },
  {
   "cell_type": "code",
   "execution_count": 5,
   "id": "89ac647c",
   "metadata": {},
   "outputs": [
    {
     "data": {
      "text/plain": [
       "LinregressResult(slope=-0.2622418132676733, intercept=21.92572665856482, rvalue=-0.5675090789810732, pvalue=1.8595638218071432e-280, stderr=0.006628189950847082, intercept_stderr=0.16252359571859123)"
      ]
     },
     "execution_count": 5,
     "metadata": {},
     "output_type": "execute_result"
    }
   ],
   "source": [
    "linregress(\n",
    "    x = counties_df['Pct_College_Grad'].fillna(counties_df['Pct_College_Grad'].mean()),\n",
    "    y = counties_df['Pct_Disability'].fillna(counties_df['Pct_Disability'].mean())\n",
    ")"
   ]
  },
  {
   "cell_type": "raw",
   "id": "b231c3cc",
   "metadata": {},
   "source": [
    "Relationship A: \n",
    "\n",
    "Relationship B: "
   ]
  },
  {
   "cell_type": "markdown",
   "id": "fee5a1d6",
   "metadata": {},
   "source": [
    "## Question 2: Counterfactual thinking (10 pts)"
   ]
  },
  {
   "cell_type": "markdown",
   "id": "006d5bdd",
   "metadata": {},
   "source": [
    "For Relationship A, what is the more likely causal direction and why? (2 pts)"
   ]
  },
  {
   "cell_type": "raw",
   "id": "6d1ea8ea",
   "metadata": {},
   "source": []
  },
  {
   "cell_type": "markdown",
   "id": "2246b16f",
   "metadata": {},
   "source": [
    "Identify and describe some threats to the internal validity of Relationship A. (3 pts)"
   ]
  },
  {
   "cell_type": "raw",
   "id": "64f2efaf",
   "metadata": {},
   "source": []
  },
  {
   "cell_type": "markdown",
   "id": "257a5d99",
   "metadata": {},
   "source": [
    "For Relationship B, what is the more likely causal direction and why? (2 pts)"
   ]
  },
  {
   "cell_type": "code",
   "execution_count": null,
   "id": "6aef5c2a",
   "metadata": {},
   "outputs": [],
   "source": []
  },
  {
   "cell_type": "markdown",
   "id": "505328c7",
   "metadata": {},
   "source": [
    "Identify and describe some threats to the internal validity of Relationship B. (3 pts)"
   ]
  },
  {
   "cell_type": "code",
   "execution_count": null,
   "id": "4051dc8f",
   "metadata": {},
   "outputs": [],
   "source": []
  },
  {
   "cell_type": "markdown",
   "id": "0917a00b",
   "metadata": {},
   "source": [
    "## Question 3: Causal relations in MA05 (10 pts)"
   ]
  },
  {
   "cell_type": "markdown",
   "id": "ebc67843",
   "metadata": {},
   "source": [
    "Describe the variables and the relationship you are planning to use for Module Assignment 05. (3 pts)"
   ]
  },
  {
   "cell_type": "code",
   "execution_count": null,
   "id": "2cef554f",
   "metadata": {},
   "outputs": [],
   "source": []
  },
  {
   "cell_type": "markdown",
   "id": "69a0e0fa",
   "metadata": {},
   "source": [
    "Use `linregress` to fit a regression model for your variables and interpret the slope parameter. (3 pts)"
   ]
  },
  {
   "cell_type": "code",
   "execution_count": null,
   "id": "fc3b97a0",
   "metadata": {},
   "outputs": [],
   "source": []
  },
  {
   "cell_type": "markdown",
   "id": "55446078",
   "metadata": {},
   "source": [
    "Describe the more likely causal direction between these variables. (1 pts)"
   ]
  },
  {
   "cell_type": "code",
   "execution_count": null,
   "id": "0d5b61f6",
   "metadata": {},
   "outputs": [],
   "source": []
  },
  {
   "cell_type": "markdown",
   "id": "d022f180",
   "metadata": {},
   "source": [
    "Identify and describe some threats to the internal validity of this relationship. (3 pts)"
   ]
  },
  {
   "cell_type": "code",
   "execution_count": null,
   "id": "802d14a0",
   "metadata": {},
   "outputs": [],
   "source": []
  }
 ],
 "metadata": {
  "kernelspec": {
   "display_name": "Python 3 (ipykernel)",
   "language": "python",
   "name": "python3"
  },
  "language_info": {
   "codemirror_mode": {
    "name": "ipython",
    "version": 3
   },
   "file_extension": ".py",
   "mimetype": "text/x-python",
   "name": "python",
   "nbconvert_exporter": "python",
   "pygments_lexer": "ipython3",
   "version": "3.9.12"
  }
 },
 "nbformat": 4,
 "nbformat_minor": 5
}
