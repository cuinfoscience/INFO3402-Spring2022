{
 "cells": [
  {
   "cell_type": "markdown",
   "id": "fa8196d1",
   "metadata": {},
   "source": [
    "# INFO 3402 – Week 02: Weekly Assignment\n",
    "\n",
    "[Brian C. Keegan, Ph.D.](http://brianckeegan.com/)  \n",
    "[Assistant Professor, Department of Information Science](https://www.colorado.edu/cmci/people/information-science/brian-c-keegan)  \n",
    "University of Colorado Boulder  \n",
    "\n",
    "Copyright and distributed under an [MIT License](https://opensource.org/licenses/MIT)"
   ]
  },
  {
   "cell_type": "markdown",
   "id": "229e2f11",
   "metadata": {},
   "source": [
    "## Question 1: Load libraries and data (3 points + EC)\n",
    "\n",
    "Load the numpy and pandas libraries, load the \"CDC_nis_acm.csv\" file, and inspect the first five rows. Extra credit if you change the default display option in pandas for the number of rows."
   ]
  },
  {
   "cell_type": "code",
   "execution_count": 17,
   "id": "4c520851",
   "metadata": {},
   "outputs": [
    {
     "data": {
      "text/html": [
       "<div>\n",
       "<style scoped>\n",
       "    .dataframe tbody tr th:only-of-type {\n",
       "        vertical-align: middle;\n",
       "    }\n",
       "\n",
       "    .dataframe tbody tr th {\n",
       "        vertical-align: top;\n",
       "    }\n",
       "\n",
       "    .dataframe thead th {\n",
       "        text-align: right;\n",
       "    }\n",
       "</style>\n",
       "<table border=\"1\" class=\"dataframe\">\n",
       "  <thead>\n",
       "    <tr style=\"text-align: right;\">\n",
       "      <th></th>\n",
       "      <th>Geography Type</th>\n",
       "      <th>Geography</th>\n",
       "      <th>Group Name</th>\n",
       "      <th>Group Category</th>\n",
       "      <th>Indicator Name</th>\n",
       "      <th>Indicator Category</th>\n",
       "      <th>Time Period</th>\n",
       "      <th>Time Type</th>\n",
       "      <th>Estimate (%)</th>\n",
       "      <th>95% CI (%)</th>\n",
       "      <th>Sample Size</th>\n",
       "      <th>Suppression Flag</th>\n",
       "    </tr>\n",
       "  </thead>\n",
       "  <tbody>\n",
       "    <tr>\n",
       "      <th>0</th>\n",
       "      <td>Jurisdictional Estimates</td>\n",
       "      <td>West Virginia</td>\n",
       "      <td>Age</td>\n",
       "      <td>18 – 49 years</td>\n",
       "      <td>Vaccination uptake and intention</td>\n",
       "      <td>Vaccinated (≥1 dose)</td>\n",
       "      <td>Apr 22 - May 29</td>\n",
       "      <td>Monthly</td>\n",
       "      <td>35.4</td>\n",
       "      <td>31.1-39.9</td>\n",
       "      <td>555.0</td>\n",
       "      <td>0</td>\n",
       "    </tr>\n",
       "    <tr>\n",
       "      <th>1</th>\n",
       "      <td>Jurisdictional Estimates</td>\n",
       "      <td>Rhode Island</td>\n",
       "      <td>Age</td>\n",
       "      <td>18 – 49 years</td>\n",
       "      <td>Full Vaccination Status</td>\n",
       "      <td>Fully vaccinated with 1 or 2 doses</td>\n",
       "      <td>Apr 22 - May 29</td>\n",
       "      <td>Monthly</td>\n",
       "      <td>42.2</td>\n",
       "      <td>35.1-49.7</td>\n",
       "      <td>373.0</td>\n",
       "      <td>0</td>\n",
       "    </tr>\n",
       "    <tr>\n",
       "      <th>2</th>\n",
       "      <td>Jurisdictional Estimates</td>\n",
       "      <td>District of Columbia</td>\n",
       "      <td>Age</td>\n",
       "      <td>18 – 49 years</td>\n",
       "      <td>Vaccination uptake and intention</td>\n",
       "      <td>Probably or definitely will not get vaccinated</td>\n",
       "      <td>Apr 22 - May 29</td>\n",
       "      <td>Monthly</td>\n",
       "      <td>12.0</td>\n",
       "      <td>9.1-15.5</td>\n",
       "      <td>989.0</td>\n",
       "      <td>0</td>\n",
       "    </tr>\n",
       "    <tr>\n",
       "      <th>3</th>\n",
       "      <td>Jurisdictional Estimates</td>\n",
       "      <td>Ohio</td>\n",
       "      <td>Age</td>\n",
       "      <td>18 – 49 years</td>\n",
       "      <td>Unvaccinated</td>\n",
       "      <td>Unvaccinated</td>\n",
       "      <td>Apr 22 - May 29</td>\n",
       "      <td>Monthly</td>\n",
       "      <td>60.2</td>\n",
       "      <td>53.9-66.1</td>\n",
       "      <td>478.0</td>\n",
       "      <td>0</td>\n",
       "    </tr>\n",
       "    <tr>\n",
       "      <th>4</th>\n",
       "      <td>Jurisdictional Estimates</td>\n",
       "      <td>Massachusetts</td>\n",
       "      <td>Age</td>\n",
       "      <td>18 – 49 years</td>\n",
       "      <td>Full Vaccination Status</td>\n",
       "      <td>Fully vaccinated with 1 or 2 doses</td>\n",
       "      <td>Apr 22 - May 29</td>\n",
       "      <td>Monthly</td>\n",
       "      <td>49.6</td>\n",
       "      <td>44.9-54.3</td>\n",
       "      <td>859.0</td>\n",
       "      <td>0</td>\n",
       "    </tr>\n",
       "  </tbody>\n",
       "</table>\n",
       "</div>"
      ],
      "text/plain": [
       "             Geography Type             Geography Group Name Group Category  \\\n",
       "0  Jurisdictional Estimates         West Virginia        Age  18 – 49 years   \n",
       "1  Jurisdictional Estimates          Rhode Island        Age  18 – 49 years   \n",
       "2  Jurisdictional Estimates  District of Columbia        Age  18 – 49 years   \n",
       "3  Jurisdictional Estimates                  Ohio        Age  18 – 49 years   \n",
       "4  Jurisdictional Estimates         Massachusetts        Age  18 – 49 years   \n",
       "\n",
       "                     Indicator Name  \\\n",
       "0  Vaccination uptake and intention   \n",
       "1           Full Vaccination Status   \n",
       "2  Vaccination uptake and intention   \n",
       "3                      Unvaccinated   \n",
       "4           Full Vaccination Status   \n",
       "\n",
       "                               Indicator Category      Time Period Time Type  \\\n",
       "0                            Vaccinated (≥1 dose)  Apr 22 - May 29   Monthly   \n",
       "1              Fully vaccinated with 1 or 2 doses  Apr 22 - May 29   Monthly   \n",
       "2  Probably or definitely will not get vaccinated  Apr 22 - May 29   Monthly   \n",
       "3                                    Unvaccinated  Apr 22 - May 29   Monthly   \n",
       "4              Fully vaccinated with 1 or 2 doses  Apr 22 - May 29   Monthly   \n",
       "\n",
       "   Estimate (%) 95% CI (%)  Sample Size  Suppression Flag   \n",
       "0          35.4  31.1-39.9        555.0                  0  \n",
       "1          42.2  35.1-49.7        373.0                  0  \n",
       "2          12.0   9.1-15.5        989.0                  0  \n",
       "3          60.2  53.9-66.1        478.0                  0  \n",
       "4          49.6  44.9-54.3        859.0                  0  "
      ]
     },
     "execution_count": 17,
     "metadata": {},
     "output_type": "execute_result"
    }
   ],
   "source": [
    "import pandas as pd\n",
    "\n",
    "pd.options.display.max_rows = 75\n",
    "\n",
    "df = pd.read_csv('CDC_nis_acm.csv')\n",
    "\n",
    "df.head()"
   ]
  },
  {
   "cell_type": "markdown",
   "id": "be1f6a7a",
   "metadata": {},
   "source": [
    "## Question 2: Describe values by column (5 points)\n",
    "\n",
    "Describe the values in the \"Group Name\", \"Group Category\", \"Indicator Name\", \"Indicator Category\", and \"Time Period\"."
   ]
  },
  {
   "cell_type": "code",
   "execution_count": 10,
   "id": "0c6e03af",
   "metadata": {},
   "outputs": [
    {
     "data": {
      "text/plain": [
       "Age by race/ethnicity                                                                           34219\n",
       "Vaccination uptake and intention                                                                21103\n",
       "Essential worker group                                                                          14257\n",
       "Social Vulnerability Index (SVI) of county of residence                                         11448\n",
       "Pregnancy status (females age 18 – 49 years)                                                    11448\n",
       "Self-perceived equity in seeking healthcare compared to other races/ethnicities                 11445\n",
       "Poverty status                                                                                  11445\n",
       "Race/Ethnicity (4 level)                                                                        11442\n",
       "Political leaning of county of residence                                                         9591\n",
       "Language of interview                                                                            8586\n",
       "Metropolitan Statistical Area                                                                    8585\n",
       "Gender identity                                                                                  8580\n",
       "Sexual orientation                                                                               8579\n",
       "Age                                                                                              8561\n",
       "Work or school requires COVID-19 vaccination                                                     8425\n",
       "All Adults 18+                                                                                   8109\n",
       "Race/Ethnicity (7 level)                                                                         7009\n",
       "Mask-wearing frequency                                                                           5724\n",
       "Received non-COVID-19 vaccine(s) in past two years                                               5724\n",
       "Born in the U.S.                                                                                 5724\n",
       "Concern about getting COVID-19 disease                                                           5724\n",
       "Confidence in COVID-19 vaccine safety                                                            5724\n",
       "COVID-19 vaccination status of friends and family                                                5724\n",
       "Sex                                                                                              5724\n",
       "COVID-19 vaccine information seeking frequency in past month                                     5724\n",
       "Disability status (any)                                                                          5724\n",
       "Health condition associated with higher risk for COVID-19 (any)                                  5724\n",
       "Healthcare provider recommended I get a COVID-19 vaccine                                         5724\n",
       "Ever had COVID-19 disease (self-report)                                                          5723\n",
       "Mental health status                                                                             5723\n",
       "Insurance status                                                                                 5712\n",
       "Confidence that COVID-19 vaccine is important                                                    5710\n",
       "Sites not open at convenient times makes/made it difficult for me to get a COVID-19 vaccine      2754\n",
       "Gettting to vaccination sites makes/made it difficult for me to get a COVID-19 vaccine           2752\n",
       "Not knowing where to get vaccinated makes/made it difficult for me to get a COVID-19 vaccine     2749\n",
       "Getting an appointment online makes/made it difficult for me to get a COVID-19 vaccine           2744\n",
       "Name: Group Name, dtype: int64"
      ]
     },
     "execution_count": 10,
     "metadata": {},
     "output_type": "execute_result"
    }
   ],
   "source": [
    "df['Group Name'].value_counts()"
   ]
  },
  {
   "cell_type": "code",
   "execution_count": 15,
   "id": "33b468ce",
   "metadata": {},
   "outputs": [
    {
     "data": {
      "text/plain": [
       "No                                                22631\n",
       "Yes                                               22603\n",
       "Don't know/refused                                 8581\n",
       "All adults age 18+ years                           8109\n",
       "Vaccinated (=1 dose)                               5300\n",
       "                                                  ...  \n",
       "Not applicable/unemployed                          2809\n",
       "Political leaning unknown                          1007\n",
       "American Indian/Alaska Native, non-Hispanic        1007\n",
       "Native Hawaiian/Pacific Islander, non-Hispanic     1007\n",
       "Asian, non-Hispanic                                 971\n",
       "Name: Group Category, Length: 85, dtype: int64"
      ]
     },
     "execution_count": 15,
     "metadata": {},
     "output_type": "execute_result"
    }
   ],
   "source": [
    "df['Group Category'].value_counts()"
   ]
  },
  {
   "cell_type": "code",
   "execution_count": 11,
   "id": "652baf7d",
   "metadata": {},
   "outputs": [
    {
     "data": {
      "text/plain": [
       "Vaccination uptake and intention                                                                140450\n",
       "Unvaccinated                                                                                     35139\n",
       "Full Vaccination Status                                                                          35094\n",
       "Received COVID-19 Vaccine (>1 dose)                                                              35033\n",
       "Received booster dose                                                                            22191\n",
       "Work or school requires COVID-19 vaccination                                                      9063\n",
       "Healthcare provider recommended I get a COVID-19 vaccine                                          3710\n",
       "Difficulty Receiving COVID-19 Vaccine                                                             3709\n",
       "Sites not open at convenient times makes/made it difficult for me to get a COVID-19 vaccine       2625\n",
       "Gettting to vaccination sites makes/made it difficult for me to get a COVID-19 vaccine            2621\n",
       "Not knowing where to get vaccinated makes/made it difficult for me to get a COVID-19 vaccine      2609\n",
       "Confidence in COVID-19 vaccine safety                                                             1855\n",
       "Many or almost all friends and family vaccinated                                                  1855\n",
       "Concerned About COVID-19 Disease                                                                  1855\n",
       "Confidence that COVID-19 vaccine is important                                                     1854\n",
       "Name: Indicator Name, dtype: int64"
      ]
     },
     "execution_count": 11,
     "metadata": {},
     "output_type": "execute_result"
    }
   ],
   "source": [
    "df['Indicator Name'].value_counts()"
   ]
  },
  {
   "cell_type": "code",
   "execution_count": 16,
   "id": "ae0b2fcd",
   "metadata": {},
   "outputs": [
    {
     "data": {
      "text/plain": [
       "Vaccinated (≥1 dose)                                                                        70066\n",
       "Probably or definitely will not get vaccinated                                              35139\n",
       "Unvaccinated                                                                                35139\n",
       "Definitely will get vaccinated                                                              35139\n",
       "Probably will get vaccinated or are unsure                                                  35139\n",
       "Fully vaccinated with 1 or 2 doses                                                          35094\n",
       "No                                                                                          17061\n",
       "Received booster dose (among fully vaccinated)                                              11130\n",
       "Work or school requires COVID-19 vaccination                                                 7208\n",
       "Confidence in COVID-19 vaccine safety                                                        1855\n",
       "Had difficulty getting vaccinated (somewhat or very difficult)                               1855\n",
       "Vaccination sites not open at convenient times (somewhat or very difficult)                  1855\n",
       "Healthcare provider recommended I get a COVID-19 vaccine                                     1855\n",
       "Had difficulty with not knowing where to get vaccinated (somewhat or very difficult)         1855\n",
       "Hard to get to vaccination site (somewhat or very difficult)                                 1855\n",
       "Many or almost all friends and family vaccinated                                             1855\n",
       "Concerned about COVID-19 disease                                                             1855\n",
       "Confidence that COVID-19 vaccine is important to protect me (somewhat or very important)     1854\n",
       "Not at all or a little difficult to get vaccinated                                           1854\n",
       "Name: Indicator Category, dtype: int64"
      ]
     },
     "execution_count": 16,
     "metadata": {},
     "output_type": "execute_result"
    }
   ],
   "source": [
    "df['Indicator Category'].value_counts()"
   ]
  },
  {
   "cell_type": "code",
   "execution_count": 12,
   "id": "53c05350",
   "metadata": {},
   "outputs": [
    {
     "data": {
      "text/plain": [
       "October 31 - November 27     59547\n",
       "September 26 - October 30    54143\n",
       "August 1 - August 28         40172\n",
       "Apr 22 - May 29              36459\n",
       "May 30 - June 26             36457\n",
       "June 27 - July 31            36449\n",
       "August 29 - September 25     36436\n",
       "Name: Time Period, dtype: int64"
      ]
     },
     "execution_count": 12,
     "metadata": {},
     "output_type": "execute_result"
    }
   ],
   "source": [
    "df['Time Period'].value_counts()"
   ]
  },
  {
   "cell_type": "markdown",
   "id": "b8eb6e6d",
   "metadata": {},
   "source": [
    "## Question 3: "
   ]
  },
  {
   "cell_type": "code",
   "execution_count": null,
   "id": "38162f18",
   "metadata": {},
   "outputs": [],
   "source": []
  },
  {
   "cell_type": "code",
   "execution_count": null,
   "id": "1a2e8338",
   "metadata": {},
   "outputs": [],
   "source": []
  },
  {
   "cell_type": "code",
   "execution_count": null,
   "id": "1f3321e7",
   "metadata": {},
   "outputs": [],
   "source": []
  },
  {
   "cell_type": "code",
   "execution_count": null,
   "id": "f4b62a79",
   "metadata": {},
   "outputs": [],
   "source": []
  },
  {
   "cell_type": "markdown",
   "id": "d40c801c",
   "metadata": {},
   "source": [
    "## Appendix\n",
    "\n",
    "You don't need to run any of the code here to complete the assignment. I'm sharing how I retrieved the data if you're curious.\n",
    "\n",
    "The data is the [National Immunization Survey Adult COVID Module (NIS-ACM)](https://data.cdc.gov/Vaccinations/National-Immunization-Survey-Adult-COVID-Module-NI/udsf-9v7b) ([docs](https://www.cdc.gov/vaccines/imz-managers/nis/downloads/NIS-ACM-Questionnaire-Q4-2021.pdf))."
   ]
  },
  {
   "cell_type": "code",
   "execution_count": 3,
   "id": "76935cbe",
   "metadata": {},
   "outputs": [
    {
     "data": {
      "text/html": [
       "<div>\n",
       "<style scoped>\n",
       "    .dataframe tbody tr th:only-of-type {\n",
       "        vertical-align: middle;\n",
       "    }\n",
       "\n",
       "    .dataframe tbody tr th {\n",
       "        vertical-align: top;\n",
       "    }\n",
       "\n",
       "    .dataframe thead th {\n",
       "        text-align: right;\n",
       "    }\n",
       "</style>\n",
       "<table border=\"1\" class=\"dataframe\">\n",
       "  <thead>\n",
       "    <tr style=\"text-align: right;\">\n",
       "      <th></th>\n",
       "      <th>Geography Type</th>\n",
       "      <th>Geography</th>\n",
       "      <th>Group Name</th>\n",
       "      <th>Group Category</th>\n",
       "      <th>Indicator Name</th>\n",
       "      <th>Indicator Category</th>\n",
       "      <th>Time Period</th>\n",
       "      <th>Time Type</th>\n",
       "      <th>Estimate (%)</th>\n",
       "      <th>95% CI (%)</th>\n",
       "      <th>Sample Size</th>\n",
       "      <th>Suppression Flag</th>\n",
       "    </tr>\n",
       "  </thead>\n",
       "  <tbody>\n",
       "    <tr>\n",
       "      <th>0</th>\n",
       "      <td>Jurisdictional Estimates</td>\n",
       "      <td>West Virginia</td>\n",
       "      <td>Age</td>\n",
       "      <td>18 – 49 years</td>\n",
       "      <td>Vaccination uptake and intention</td>\n",
       "      <td>Vaccinated (≥1 dose)</td>\n",
       "      <td>Apr 22 - May 29</td>\n",
       "      <td>Monthly</td>\n",
       "      <td>35.4</td>\n",
       "      <td>31.1-39.9</td>\n",
       "      <td>555.0</td>\n",
       "      <td>0</td>\n",
       "    </tr>\n",
       "    <tr>\n",
       "      <th>1</th>\n",
       "      <td>Jurisdictional Estimates</td>\n",
       "      <td>Rhode Island</td>\n",
       "      <td>Age</td>\n",
       "      <td>18 – 49 years</td>\n",
       "      <td>Full Vaccination Status</td>\n",
       "      <td>Fully vaccinated with 1 or 2 doses</td>\n",
       "      <td>Apr 22 - May 29</td>\n",
       "      <td>Monthly</td>\n",
       "      <td>42.2</td>\n",
       "      <td>35.1-49.7</td>\n",
       "      <td>373.0</td>\n",
       "      <td>0</td>\n",
       "    </tr>\n",
       "    <tr>\n",
       "      <th>2</th>\n",
       "      <td>Jurisdictional Estimates</td>\n",
       "      <td>District of Columbia</td>\n",
       "      <td>Age</td>\n",
       "      <td>18 – 49 years</td>\n",
       "      <td>Vaccination uptake and intention</td>\n",
       "      <td>Probably or definitely will not get vaccinated</td>\n",
       "      <td>Apr 22 - May 29</td>\n",
       "      <td>Monthly</td>\n",
       "      <td>12.0</td>\n",
       "      <td>9.1-15.5</td>\n",
       "      <td>989.0</td>\n",
       "      <td>0</td>\n",
       "    </tr>\n",
       "    <tr>\n",
       "      <th>3</th>\n",
       "      <td>Jurisdictional Estimates</td>\n",
       "      <td>Ohio</td>\n",
       "      <td>Age</td>\n",
       "      <td>18 – 49 years</td>\n",
       "      <td>Unvaccinated</td>\n",
       "      <td>Unvaccinated</td>\n",
       "      <td>Apr 22 - May 29</td>\n",
       "      <td>Monthly</td>\n",
       "      <td>60.2</td>\n",
       "      <td>53.9-66.1</td>\n",
       "      <td>478.0</td>\n",
       "      <td>0</td>\n",
       "    </tr>\n",
       "    <tr>\n",
       "      <th>4</th>\n",
       "      <td>Jurisdictional Estimates</td>\n",
       "      <td>Massachusetts</td>\n",
       "      <td>Age</td>\n",
       "      <td>18 – 49 years</td>\n",
       "      <td>Full Vaccination Status</td>\n",
       "      <td>Fully vaccinated with 1 or 2 doses</td>\n",
       "      <td>Apr 22 - May 29</td>\n",
       "      <td>Monthly</td>\n",
       "      <td>49.6</td>\n",
       "      <td>44.9-54.3</td>\n",
       "      <td>859.0</td>\n",
       "      <td>0</td>\n",
       "    </tr>\n",
       "  </tbody>\n",
       "</table>\n",
       "</div>"
      ],
      "text/plain": [
       "             Geography Type             Geography Group Name Group Category  \\\n",
       "0  Jurisdictional Estimates         West Virginia        Age  18 – 49 years   \n",
       "1  Jurisdictional Estimates          Rhode Island        Age  18 – 49 years   \n",
       "2  Jurisdictional Estimates  District of Columbia        Age  18 – 49 years   \n",
       "3  Jurisdictional Estimates                  Ohio        Age  18 – 49 years   \n",
       "4  Jurisdictional Estimates         Massachusetts        Age  18 – 49 years   \n",
       "\n",
       "                     Indicator Name  \\\n",
       "0  Vaccination uptake and intention   \n",
       "1           Full Vaccination Status   \n",
       "2  Vaccination uptake and intention   \n",
       "3                      Unvaccinated   \n",
       "4           Full Vaccination Status   \n",
       "\n",
       "                               Indicator Category      Time Period Time Type  \\\n",
       "0                            Vaccinated (≥1 dose)  Apr 22 - May 29   Monthly   \n",
       "1              Fully vaccinated with 1 or 2 doses  Apr 22 - May 29   Monthly   \n",
       "2  Probably or definitely will not get vaccinated  Apr 22 - May 29   Monthly   \n",
       "3                                    Unvaccinated  Apr 22 - May 29   Monthly   \n",
       "4              Fully vaccinated with 1 or 2 doses  Apr 22 - May 29   Monthly   \n",
       "\n",
       "   Estimate (%) 95% CI (%)  Sample Size  Suppression Flag   \n",
       "0          35.4  31.1-39.9        555.0                  0  \n",
       "1          42.2  35.1-49.7        373.0                  0  \n",
       "2          12.0   9.1-15.5        989.0                  0  \n",
       "3          60.2  53.9-66.1        478.0                  0  \n",
       "4          49.6  44.9-54.3        859.0                  0  "
      ]
     },
     "execution_count": 3,
     "metadata": {},
     "output_type": "execute_result"
    }
   ],
   "source": [
    "df = pd.read_csv('https://data.cdc.gov/api/views/udsf-9v7b/rows.csv?accessType=DOWNLOAD')\n",
    "df.head()"
   ]
  },
  {
   "cell_type": "code",
   "execution_count": 14,
   "id": "d90d642b",
   "metadata": {},
   "outputs": [],
   "source": [
    "# Remove non-state entities\n",
    "df = df[~df['Geography'].isin([\n",
    "    'National',\n",
    "    'PA-Philadelphia County',\n",
    "    'TX-Bexar County',\n",
    "    'NY-Rest of State',\n",
    "    'NY-City of New York',\n",
    "    'TX-Rest of State',\n",
    "    'TX-City of Houston',\n",
    "    'IL-Rest of State',\n",
    "    'PA-Rest of State',\n",
    "    'IL-City of Chicago'\n",
    "])]\n",
    "\n",
    "df.to_csv('CDC_nis_acm.csv',index=False)"
   ]
  },
  {
   "cell_type": "code",
   "execution_count": null,
   "id": "a10f849c",
   "metadata": {},
   "outputs": [],
   "source": []
  }
 ],
 "metadata": {
  "kernelspec": {
   "display_name": "Python 3 (ipykernel)",
   "language": "python",
   "name": "python3"
  },
  "language_info": {
   "codemirror_mode": {
    "name": "ipython",
    "version": 3
   },
   "file_extension": ".py",
   "mimetype": "text/x-python",
   "name": "python",
   "nbconvert_exporter": "python",
   "pygments_lexer": "ipython3",
   "version": "3.9.9"
  }
 },
 "nbformat": 4,
 "nbformat_minor": 5
}
