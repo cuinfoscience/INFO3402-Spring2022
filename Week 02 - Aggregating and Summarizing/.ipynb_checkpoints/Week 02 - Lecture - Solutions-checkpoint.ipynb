{
 "cells": [
  {
   "cell_type": "markdown",
   "metadata": {},
   "source": [
    "# INFO 3402 – Week 02: Aggregating and Summarizing\n",
    "\n",
    "[Brian C. Keegan, Ph.D.](http://brianckeegan.com/)  \n",
    "[Assistant Professor, Department of Information Science](https://www.colorado.edu/cmci/people/information-science/brian-c-keegan)  \n",
    "University of Colorado Boulder  \n",
    "\n",
    "Copyright and distributed under an [MIT License](https://opensource.org/licenses/MIT)  "
   ]
  },
  {
   "cell_type": "code",
   "execution_count": 2,
   "metadata": {},
   "outputs": [],
   "source": [
    "import numpy as np\n",
    "import pandas as pd\n",
    "\n",
    "pd.options.display.max_columns = 200"
   ]
  },
  {
   "cell_type": "code",
   "execution_count": 3,
   "metadata": {},
   "outputs": [],
   "source": [
    "deaths_df = pd.read_csv('CDC_deaths_2014_2022.csv',parse_dates=['Week date'])"
   ]
  },
  {
   "cell_type": "markdown",
   "metadata": {},
   "source": [
    "## Exercises"
   ]
  },
  {
   "cell_type": "markdown",
   "metadata": {},
   "source": [
    "### Exercise 1: Annual \"All Cause\" deaths\n",
    "\n",
    "Perform a groupby-aggregation to compute the total \"All Cause\" of death by year. How much higher were deaths in 2020 than 2019?"
   ]
  },
  {
   "cell_type": "code",
   "execution_count": 4,
   "metadata": {},
   "outputs": [
    {
     "data": {
      "text/plain": [
       "568256.0"
      ]
     },
     "execution_count": 4,
     "metadata": {},
     "output_type": "execute_result"
    }
   ],
   "source": [
    "annual = deaths_df.groupby(['Year']).agg({'All Cause':'sum'})\n",
    "\n",
    "annual.loc[2020,'All Cause'] - annual.loc[2019,'All Cause']"
   ]
  },
  {
   "cell_type": "markdown",
   "metadata": {},
   "source": [
    "### Exercise 2: Weekly flu and pneumonia patterns\n",
    "\n",
    "Make a pivot table with the Week as an index, Year as columns, and the total flu and pneumonia death. Examining the maximum counts per week, what time time of year is the deadliest for the flu?"
   ]
  },
  {
   "cell_type": "code",
   "execution_count": 5,
   "metadata": {},
   "outputs": [
    {
     "data": {
      "text/plain": [
       "Year\n",
       "2014    53\n",
       "2015     1\n",
       "2016    10\n",
       "2017    52\n",
       "2018     3\n",
       "2019    11\n",
       "2020    12\n",
       "2021     2\n",
       "dtype: int64"
      ]
     },
     "execution_count": 5,
     "metadata": {},
     "output_type": "execute_result"
    }
   ],
   "source": [
    "weekly_flu = pd.pivot_table(\n",
    "    data = deaths_df,\n",
    "    index = 'Week',\n",
    "    columns = 'Year',\n",
    "    values = 'Influenza and pneumonia',\n",
    "    aggfunc = 'sum'\n",
    ")\n",
    "\n",
    "weekly_flu.idxmax()"
   ]
  },
  {
   "cell_type": "markdown",
   "metadata": {},
   "source": [
    "### Exercise 3: Top heart disease state\n",
    "\n",
    "Perform a groupby-aggregation to compute the total number of \"Disease of heart\" by state. What state had the most heart disease deaths from 2014 through 2021?"
   ]
  },
  {
   "cell_type": "code",
   "execution_count": 11,
   "metadata": {},
   "outputs": [
    {
     "data": {
      "text/plain": [
       "Diseases of heart    California\n",
       "dtype: object"
      ]
     },
     "execution_count": 11,
     "metadata": {},
     "output_type": "execute_result"
    }
   ],
   "source": [
    "heart = deaths_df.groupby(['State']).agg({'Diseases of heart':'sum'})\n",
    "\n",
    "heart.idxmax()"
   ]
  },
  {
   "cell_type": "markdown",
   "metadata": {},
   "source": [
    "### Exercise 4: Annual mid-year \"All Cause\" deaths\n",
    "\n",
    "Perform a groupby-aggregation on Year and Week to compute the total \"All Cause\" deaths. Use slicing to identify the number of \"All Cause\" deaths in the 26th week of each year."
   ]
  },
  {
   "cell_type": "code",
   "execution_count": 15,
   "metadata": {},
   "outputs": [
    {
     "data": {
      "text/html": [
       "<div>\n",
       "<style scoped>\n",
       "    .dataframe tbody tr th:only-of-type {\n",
       "        vertical-align: middle;\n",
       "    }\n",
       "\n",
       "    .dataframe tbody tr th {\n",
       "        vertical-align: top;\n",
       "    }\n",
       "\n",
       "    .dataframe thead th {\n",
       "        text-align: right;\n",
       "    }\n",
       "</style>\n",
       "<table border=\"1\" class=\"dataframe\">\n",
       "  <thead>\n",
       "    <tr style=\"text-align: right;\">\n",
       "      <th></th>\n",
       "      <th></th>\n",
       "      <th>All Cause</th>\n",
       "    </tr>\n",
       "    <tr>\n",
       "      <th>Year</th>\n",
       "      <th>Week</th>\n",
       "      <th></th>\n",
       "    </tr>\n",
       "  </thead>\n",
       "  <tbody>\n",
       "    <tr>\n",
       "      <th>2014</th>\n",
       "      <th>26</th>\n",
       "      <td>47131.0</td>\n",
       "    </tr>\n",
       "    <tr>\n",
       "      <th>2015</th>\n",
       "      <th>26</th>\n",
       "      <td>48798.0</td>\n",
       "    </tr>\n",
       "    <tr>\n",
       "      <th>2016</th>\n",
       "      <th>26</th>\n",
       "      <td>49348.0</td>\n",
       "    </tr>\n",
       "    <tr>\n",
       "      <th>2017</th>\n",
       "      <th>26</th>\n",
       "      <td>50229.0</td>\n",
       "    </tr>\n",
       "    <tr>\n",
       "      <th>2018</th>\n",
       "      <th>26</th>\n",
       "      <td>50403.0</td>\n",
       "    </tr>\n",
       "    <tr>\n",
       "      <th>2019</th>\n",
       "      <th>26</th>\n",
       "      <td>51826.0</td>\n",
       "    </tr>\n",
       "    <tr>\n",
       "      <th>2020</th>\n",
       "      <th>26</th>\n",
       "      <td>57986.0</td>\n",
       "    </tr>\n",
       "    <tr>\n",
       "      <th>2021</th>\n",
       "      <th>26</th>\n",
       "      <td>56896.0</td>\n",
       "    </tr>\n",
       "  </tbody>\n",
       "</table>\n",
       "</div>"
      ],
      "text/plain": [
       "           All Cause\n",
       "Year Week           \n",
       "2014 26      47131.0\n",
       "2015 26      48798.0\n",
       "2016 26      49348.0\n",
       "2017 26      50229.0\n",
       "2018 26      50403.0\n",
       "2019 26      51826.0\n",
       "2020 26      57986.0\n",
       "2021 26      56896.0"
      ]
     },
     "execution_count": 15,
     "metadata": {},
     "output_type": "execute_result"
    }
   ],
   "source": [
    "idx = pd.IndexSlice\n",
    "\n",
    "all_cause = deaths_df.groupby(['Year','Week']).agg({'All Cause':'sum'})\n",
    "\n",
    "all_cause.loc[idx[:,26],:]"
   ]
  },
  {
   "cell_type": "markdown",
   "metadata": {},
   "source": [
    "### Exercise 5: Comparing Diabetes deaths in 2019 and 2020 between Utah and Colorado\n",
    "\n",
    "Perform a groupby-aggregation on Year and State and compute the total \"Diabetes mellitus\" deaths. Use slicing to identify the number of diabetes deaths in 2019 and 2020 for Utah and Colorado."
   ]
  },
  {
   "cell_type": "code",
   "execution_count": 17,
   "metadata": {},
   "outputs": [
    {
     "data": {
      "text/html": [
       "<div>\n",
       "<style scoped>\n",
       "    .dataframe tbody tr th:only-of-type {\n",
       "        vertical-align: middle;\n",
       "    }\n",
       "\n",
       "    .dataframe tbody tr th {\n",
       "        vertical-align: top;\n",
       "    }\n",
       "\n",
       "    .dataframe thead th {\n",
       "        text-align: right;\n",
       "    }\n",
       "</style>\n",
       "<table border=\"1\" class=\"dataframe\">\n",
       "  <thead>\n",
       "    <tr style=\"text-align: right;\">\n",
       "      <th></th>\n",
       "      <th></th>\n",
       "      <th>Diabetes mellitus</th>\n",
       "    </tr>\n",
       "    <tr>\n",
       "      <th>Year</th>\n",
       "      <th>State</th>\n",
       "      <th></th>\n",
       "    </tr>\n",
       "  </thead>\n",
       "  <tbody>\n",
       "    <tr>\n",
       "      <th rowspan=\"2\" valign=\"top\">2019</th>\n",
       "      <th>Colorado</th>\n",
       "      <td>1051.0</td>\n",
       "    </tr>\n",
       "    <tr>\n",
       "      <th>Utah</th>\n",
       "      <td>631.0</td>\n",
       "    </tr>\n",
       "    <tr>\n",
       "      <th rowspan=\"2\" valign=\"top\">2020</th>\n",
       "      <th>Colorado</th>\n",
       "      <td>1183.0</td>\n",
       "    </tr>\n",
       "    <tr>\n",
       "      <th>Utah</th>\n",
       "      <td>753.0</td>\n",
       "    </tr>\n",
       "  </tbody>\n",
       "</table>\n",
       "</div>"
      ],
      "text/plain": [
       "               Diabetes mellitus\n",
       "Year State                      \n",
       "2019 Colorado             1051.0\n",
       "     Utah                  631.0\n",
       "2020 Colorado             1183.0\n",
       "     Utah                  753.0"
      ]
     },
     "execution_count": 17,
     "metadata": {},
     "output_type": "execute_result"
    }
   ],
   "source": [
    "diabetes = deaths_df.groupby(['Year','State']).agg({'Diabetes mellitus':'sum'})\n",
    "\n",
    "diabetes.loc[idx[[2019,2020],['Colorado','Utah']],:]"
   ]
  }
 ],
 "metadata": {
  "kernelspec": {
   "display_name": "Python 3 (ipykernel)",
   "language": "python",
   "name": "python3"
  },
  "language_info": {
   "codemirror_mode": {
    "name": "ipython",
    "version": 3
   },
   "file_extension": ".py",
   "mimetype": "text/x-python",
   "name": "python",
   "nbconvert_exporter": "python",
   "pygments_lexer": "ipython3",
   "version": "3.9.9"
  }
 },
 "nbformat": 4,
 "nbformat_minor": 2
}
