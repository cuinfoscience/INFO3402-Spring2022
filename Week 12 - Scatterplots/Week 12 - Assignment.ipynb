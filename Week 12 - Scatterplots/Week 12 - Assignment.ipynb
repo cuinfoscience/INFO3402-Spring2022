{
 "cells": [
  {
   "cell_type": "markdown",
   "id": "aeaad0b1",
   "metadata": {},
   "source": [
    "# INFO 3402 – Week 12: Assignment\n",
    "\n",
    "[Brian C. Keegan, Ph.D.](http://brianckeegan.com/)  \n",
    "[Assistant Professor, Department of Information Science](https://www.colorado.edu/cmci/people/information-science/brian-c-keegan)  \n",
    "University of Colorado Boulder  \n",
    "\n",
    "Copyright and distributed under an [MIT License](https://opensource.org/licenses/MIT)"
   ]
  },
  {
   "cell_type": "markdown",
   "id": "6cd3cd27",
   "metadata": {},
   "source": [
    "## Question 1: Read and join in new data (10 pts)\n",
    "\n",
    "We are going to combine two different datasets:\n",
    "\n",
    "1. The University of Wisconsin's [County Health Rankings](https://www.countyhealthrankings.org/explore-health-rankings/rankings-data-documentation)\n",
    "2. The USDA Economic Research Service's [Unemployment and income 2000-20](https://www.ers.usda.gov/data-products/county-level-data-sets/download-data/)\n",
    "\n",
    "Import numpy, pandas, matplotlib's pyplot, and seaborn. (1 pt)"
   ]
  },
  {
   "cell_type": "code",
   "execution_count": null,
   "id": "dd7acddd",
   "metadata": {},
   "outputs": [],
   "source": []
  },
  {
   "cell_type": "markdown",
   "id": "a56e4fe1",
   "metadata": {},
   "source": [
    "Read in the \"analytic_data2021.csv\" file as `health_df`, skip rows 1 and 2, and cast the \"5-digit FIPS Code\" to a string. (2 pts)"
   ]
  },
  {
   "cell_type": "code",
   "execution_count": null,
   "id": "503cefc9",
   "metadata": {},
   "outputs": [],
   "source": []
  },
  {
   "cell_type": "markdown",
   "id": "b347b401",
   "metadata": {},
   "source": [
    "Read in the \"Unemployment.xlsx\" file and the first sheet as `employment_df`, the header starts on row 4, and cast the \"FIPS_Code\" column to a string. (2 pts)"
   ]
  },
  {
   "cell_type": "code",
   "execution_count": null,
   "id": "215b1627",
   "metadata": {},
   "outputs": [],
   "source": []
  },
  {
   "cell_type": "markdown",
   "id": "700f08b2",
   "metadata": {},
   "source": [
    "Compute the change in \"Unemployment_rate\" by subtracting the 2019 values from the 2020 values and store as a new column \"2019_20_unemployment_change\". (1 pt)"
   ]
  },
  {
   "cell_type": "code",
   "execution_count": null,
   "id": "db824e05",
   "metadata": {},
   "outputs": [],
   "source": []
  },
  {
   "cell_type": "markdown",
   "id": "89ebc90e",
   "metadata": {},
   "source": [
    "Outer join `health_df` and `Unemployment_df` together on their respective FIPS codes columns as `merged_df`. Print out the shape of the original DataFrames and the joined DataFrame. (2 pts)"
   ]
  },
  {
   "cell_type": "code",
   "execution_count": null,
   "id": "6bc79166",
   "metadata": {},
   "outputs": [],
   "source": []
  },
  {
   "cell_type": "markdown",
   "id": "b577f36e",
   "metadata": {},
   "source": [
    "Write a few sentences with a hypothesis and justification about the expected direction and strength of the relationship between \"2019_20_unemployment_change\" and \"Insufficient sleep raw value\". (2 pts)"
   ]
  },
  {
   "cell_type": "code",
   "execution_count": null,
   "id": "7bdd953e",
   "metadata": {},
   "outputs": [],
   "source": []
  },
  {
   "cell_type": "markdown",
   "id": "6a0c7539",
   "metadata": {},
   "source": [
    "## Question 2: Make scatter plots (15 pts)"
   ]
  },
  {
   "cell_type": "markdown",
   "id": "a58114ee",
   "metadata": {},
   "source": [
    "\"2019_20_unemployment_change\" is the shift in unemployment rate in the county from 2019 to 2020. Make a histogram of \"2019_20_unemployment_change\". (1 pt)"
   ]
  },
  {
   "cell_type": "code",
   "execution_count": null,
   "id": "73506016",
   "metadata": {},
   "outputs": [],
   "source": []
  },
  {
   "cell_type": "markdown",
   "id": "02b0c778",
   "metadata": {},
   "source": [
    "\"Insufficient sleep raw value\" is the percentage of adults in the county who report fewer than 7 hours of sleep on average. Make a histogram of \"Insufficient sleep raw value\". (1 pt)"
   ]
  },
  {
   "cell_type": "code",
   "execution_count": null,
   "id": "b701b24e",
   "metadata": {},
   "outputs": [],
   "source": []
  },
  {
   "cell_type": "markdown",
   "id": "413df40f",
   "metadata": {},
   "source": [
    "\"Median_Household_Income_2019\" is the median income in dollars of households in the county. Make a histogram of the \"Median_Household_Income_2019\". (1 pt)"
   ]
  },
  {
   "cell_type": "code",
   "execution_count": null,
   "id": "9e2b8ad6",
   "metadata": {},
   "outputs": [],
   "source": []
  },
  {
   "cell_type": "markdown",
   "id": "baa4ccad",
   "metadata": {},
   "source": [
    "Make a simple scatter plot of the unemployment change versus insufficient sleep. (2 pts)"
   ]
  },
  {
   "cell_type": "code",
   "execution_count": null,
   "id": "ce88757d",
   "metadata": {},
   "outputs": [],
   "source": []
  },
  {
   "cell_type": "markdown",
   "id": "597a35c1",
   "metadata": {},
   "source": [
    "Report the correlation coefficient for these two columns. (1 pt)"
   ]
  },
  {
   "cell_type": "code",
   "execution_count": null,
   "id": "ef8f2167",
   "metadata": {},
   "outputs": [],
   "source": []
  },
  {
   "cell_type": "markdown",
   "id": "2f06ee2a",
   "metadata": {},
   "source": [
    "Make a simple scatter plot of the unemployment change versus median household income. (2 pts)"
   ]
  },
  {
   "cell_type": "code",
   "execution_count": null,
   "id": "eee4248d",
   "metadata": {},
   "outputs": [],
   "source": []
  },
  {
   "cell_type": "markdown",
   "id": "d0e91688",
   "metadata": {},
   "source": [
    "Report the correlation coefficient for these two columns. (1 pt)"
   ]
  },
  {
   "cell_type": "code",
   "execution_count": null,
   "id": "1ffa8034",
   "metadata": {},
   "outputs": [],
   "source": []
  },
  {
   "cell_type": "markdown",
   "id": "71b7a17d",
   "metadata": {},
   "source": [
    "Make a simple scatter plot of insufficient sleep versus median household income. (2 pts)"
   ]
  },
  {
   "cell_type": "code",
   "execution_count": null,
   "id": "85d3a260",
   "metadata": {},
   "outputs": [],
   "source": []
  },
  {
   "cell_type": "markdown",
   "id": "4772fefb",
   "metadata": {},
   "source": [
    "Report the correlation coefficient for these two columns. (1 pt)"
   ]
  },
  {
   "cell_type": "code",
   "execution_count": null,
   "id": "0d88e9c8",
   "metadata": {},
   "outputs": [],
   "source": []
  },
  {
   "cell_type": "markdown",
   "id": "d5d44f5d",
   "metadata": {},
   "source": [
    "Based on the correlation coefficients, which relationship is the strongest? Is this surprising? (1 pt) "
   ]
  },
  {
   "cell_type": "raw",
   "id": "a3d823bd",
   "metadata": {},
   "source": []
  },
  {
   "cell_type": "markdown",
   "id": "bc420a23",
   "metadata": {},
   "source": [
    "Which of the two causal directions is the most more likely in that relationship and why? (1 pt)"
   ]
  },
  {
   "cell_type": "raw",
   "id": "d79dd0fd",
   "metadata": {},
   "source": []
  },
  {
   "cell_type": "markdown",
   "id": "8f746262",
   "metadata": {},
   "source": [
    "Income likely has a stronger influence on sleep than the reverse. Wealthier people have less physically demanding jobs, can work fewer hours, etc."
   ]
  },
  {
   "cell_type": "raw",
   "id": "3efebbe5",
   "metadata": {},
   "source": []
  },
  {
   "cell_type": "markdown",
   "id": "ff3eb847",
   "metadata": {},
   "source": [
    "Based on prevailing visualization conventions and your arugments about the causal direction, what variable should go on the x-axis and what variable should go on the y-axis in subsequent visualizations? (1 pt)"
   ]
  },
  {
   "cell_type": "raw",
   "id": "a1895305",
   "metadata": {},
   "source": []
  },
  {
   "cell_type": "markdown",
   "id": "9d7cf281",
   "metadata": {},
   "source": [
    "## Question 3: Analyze a relationship (10 pts)\n",
    "\n",
    "Use the `linregress` function in `scipy.stats` ([docs](https://docs.scipy.org/doc/scipy/reference/generated/scipy.stats.linregress.html)) to estimate a linear model for the strongest relationship from Question 2. (2 pts)\n",
    "\n",
    "(If the `LinregressResult` has NaN values, perform a `.fillna(0)` ([docs](https://pandas.pydata.org/docs/reference/api/pandas.Series.fillna.html)) on each input Series.)"
   ]
  },
  {
   "cell_type": "code",
   "execution_count": null,
   "id": "5787cfe4",
   "metadata": {},
   "outputs": [],
   "source": []
  },
  {
   "cell_type": "markdown",
   "id": "e825c78b",
   "metadata": {},
   "source": [
    "Interpret the \"slope\" parameter. If this is a small value, consider scaling it to units of $10,000 dollars. (2 pts)"
   ]
  },
  {
   "cell_type": "raw",
   "id": "ed05e27e",
   "metadata": {},
   "source": []
  },
  {
   "cell_type": "markdown",
   "id": "9e503b44",
   "metadata": {},
   "source": [
    "Use seaborn's `lmplot` ([docs](https://seaborn.pydata.org/generated/seaborn.lmplot.html)) to visualize the fitted model. (2 pts)\n",
    "\n",
    "**Extra credit**: Change the transparency of the scatter points and the color of the regression line. (2 pts)"
   ]
  },
  {
   "cell_type": "code",
   "execution_count": null,
   "id": "72020729",
   "metadata": {},
   "outputs": [],
   "source": []
  },
  {
   "cell_type": "markdown",
   "id": "b86fcae7",
   "metadata": {},
   "source": [
    "Is this linear model a good fit to the data? (2 pts)"
   ]
  },
  {
   "cell_type": "raw",
   "id": "21c32067",
   "metadata": {},
   "source": []
  },
  {
   "cell_type": "markdown",
   "id": "2cecec5f",
   "metadata": {},
   "source": [
    "The strongest relationship you identified in Question 2 and explored in Question 3 left out one variable. Speculate about some variables in this or other data that could have a strong relationship with the variable that was left out. (2 pts)"
   ]
  },
  {
   "cell_type": "raw",
   "id": "27f42ded",
   "metadata": {},
   "source": []
  }
 ],
 "metadata": {
  "kernelspec": {
   "display_name": "Python 3 (ipykernel)",
   "language": "python",
   "name": "python3"
  },
  "language_info": {
   "codemirror_mode": {
    "name": "ipython",
    "version": 3
   },
   "file_extension": ".py",
   "mimetype": "text/x-python",
   "name": "python",
   "nbconvert_exporter": "python",
   "pygments_lexer": "ipython3",
   "version": "3.9.10"
  }
 },
 "nbformat": 4,
 "nbformat_minor": 5
}
