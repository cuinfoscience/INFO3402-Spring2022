{
 "cells": [
  {
   "cell_type": "markdown",
   "id": "5907ff57",
   "metadata": {},
   "source": [
    "# INFO 3402 – Week 05: Histograms and Perception\n",
    "\n",
    "[Brian C. Keegan, Ph.D.](http://brianckeegan.com/)  \n",
    "[Assistant Professor, Department of Information Science](https://www.colorado.edu/cmci/people/information-science/brian-c-keegan)  \n",
    "University of Colorado Boulder  \n",
    "\n",
    "Copyright and distributed under an [MIT License](https://opensource.org/licenses/MIT)  "
   ]
  },
  {
   "cell_type": "markdown",
   "id": "dd15daba",
   "metadata": {},
   "source": [
    "## Setup"
   ]
  },
  {
   "cell_type": "code",
   "execution_count": 1,
   "id": "a7ab87e0",
   "metadata": {},
   "outputs": [],
   "source": [
    "import numpy as np\n",
    "np.set_printoptions(suppress=True)\n",
    "\n",
    "import pandas as pd\n",
    "idx = pd.IndexSlice\n",
    "pd.options.display.max_columns = 100\n",
    "\n",
    "%matplotlib inline\n",
    "import matplotlib.pyplot as plt"
   ]
  },
  {
   "cell_type": "markdown",
   "id": "81a9a490",
   "metadata": {},
   "source": [
    "## Background\n",
    "\n",
    "Like histograms, box plots are a standard way to visualize distributions of data. However, rather than dividing the data up into (linearly- or geometrically-spaced) bins and changing the size of the rectangle based on the amount of data in the bin, a box plot lets us visualize the data using a standard format.\n",
    "\n",
    "![Understanding Boxplots](https://miro.medium.com/max/1400/1*2c21SkzJMf3frPXPAR_gZA.png)\n",
    "<center>Galarnyk, M. (2018). <a href:https://towardsdatascience.com/understanding-boxplots-5e2df7bcbd51>Understanding Boxplots</a>. <i>Towards Data Science</i>.</center>\n",
    "\n",
    "Let's review the concepts of median, quartiles, interquartile range using the Boulder weather data."
   ]
  },
  {
   "cell_type": "code",
   "execution_count": 2,
   "id": "b4a08f8e",
   "metadata": {},
   "outputs": [
    {
     "data": {
      "text/html": [
       "<div>\n",
       "<style scoped>\n",
       "    .dataframe tbody tr th:only-of-type {\n",
       "        vertical-align: middle;\n",
       "    }\n",
       "\n",
       "    .dataframe tbody tr th {\n",
       "        vertical-align: top;\n",
       "    }\n",
       "\n",
       "    .dataframe thead th {\n",
       "        text-align: right;\n",
       "    }\n",
       "</style>\n",
       "<table border=\"1\" class=\"dataframe\">\n",
       "  <thead>\n",
       "    <tr style=\"text-align: right;\">\n",
       "      <th></th>\n",
       "      <th>DATE</th>\n",
       "      <th>TEMP</th>\n",
       "      <th>MIN</th>\n",
       "      <th>MAX</th>\n",
       "      <th>DEWP</th>\n",
       "      <th>STP</th>\n",
       "      <th>VISIB</th>\n",
       "      <th>WDSP</th>\n",
       "      <th>MXSPD</th>\n",
       "      <th>GUST</th>\n",
       "      <th>PRCP</th>\n",
       "    </tr>\n",
       "  </thead>\n",
       "  <tbody>\n",
       "    <tr>\n",
       "      <th>0</th>\n",
       "      <td>2010-01-01</td>\n",
       "      <td>30.4</td>\n",
       "      <td>24.8</td>\n",
       "      <td>39.2</td>\n",
       "      <td>9.9</td>\n",
       "      <td>828.5</td>\n",
       "      <td>46.9</td>\n",
       "      <td>6.1</td>\n",
       "      <td>11.1</td>\n",
       "      <td>NaN</td>\n",
       "      <td>0.0</td>\n",
       "    </tr>\n",
       "    <tr>\n",
       "      <th>1</th>\n",
       "      <td>2010-01-02</td>\n",
       "      <td>32.3</td>\n",
       "      <td>21.2</td>\n",
       "      <td>44.6</td>\n",
       "      <td>19.6</td>\n",
       "      <td>825.1</td>\n",
       "      <td>29.4</td>\n",
       "      <td>5.5</td>\n",
       "      <td>12.0</td>\n",
       "      <td>NaN</td>\n",
       "      <td>0.0</td>\n",
       "    </tr>\n",
       "  </tbody>\n",
       "</table>\n",
       "</div>"
      ],
      "text/plain": [
       "         DATE  TEMP   MIN   MAX  DEWP    STP  VISIB  WDSP  MXSPD  GUST  PRCP\n",
       "0  2010-01-01  30.4  24.8  39.2   9.9  828.5   46.9   6.1   11.1   NaN   0.0\n",
       "1  2010-01-02  32.3  21.2  44.6  19.6  825.1   29.4   5.5   12.0   NaN   0.0"
      ]
     },
     "execution_count": 2,
     "metadata": {},
     "output_type": "execute_result"
    }
   ],
   "source": [
    "# Your file path is likely not the same as mine\n",
    "boulder_df = pd.read_csv('../Week 01 - Loading and Documentation/boulder_weather.csv',header=1,sep='|')\n",
    "boulder_df.head(2)"
   ]
  },
  {
   "cell_type": "code",
   "execution_count": 3,
   "id": "960cd681",
   "metadata": {},
   "outputs": [
    {
     "data": {
      "text/html": [
       "<div>\n",
       "<style scoped>\n",
       "    .dataframe tbody tr th:only-of-type {\n",
       "        vertical-align: middle;\n",
       "    }\n",
       "\n",
       "    .dataframe tbody tr th {\n",
       "        vertical-align: top;\n",
       "    }\n",
       "\n",
       "    .dataframe thead th {\n",
       "        text-align: right;\n",
       "    }\n",
       "</style>\n",
       "<table border=\"1\" class=\"dataframe\">\n",
       "  <thead>\n",
       "    <tr style=\"text-align: right;\">\n",
       "      <th></th>\n",
       "      <th>DATE</th>\n",
       "      <th>TEMP</th>\n",
       "      <th>MIN</th>\n",
       "      <th>MAX</th>\n",
       "      <th>DEWP</th>\n",
       "      <th>STP</th>\n",
       "      <th>VISIB</th>\n",
       "      <th>WDSP</th>\n",
       "      <th>MXSPD</th>\n",
       "      <th>GUST</th>\n",
       "      <th>PRCP</th>\n",
       "    </tr>\n",
       "  </thead>\n",
       "  <tbody>\n",
       "    <tr>\n",
       "      <th>0</th>\n",
       "      <td>2010-02-01</td>\n",
       "      <td>46.8</td>\n",
       "      <td>44.6</td>\n",
       "      <td>50.0</td>\n",
       "      <td>11.3</td>\n",
       "      <td>NaN</td>\n",
       "      <td>10.0</td>\n",
       "      <td>11.9</td>\n",
       "      <td>15.9</td>\n",
       "      <td>25.1</td>\n",
       "      <td>0.0</td>\n",
       "    </tr>\n",
       "    <tr>\n",
       "      <th>1</th>\n",
       "      <td>2010-02-02</td>\n",
       "      <td>36.9</td>\n",
       "      <td>26.6</td>\n",
       "      <td>46.4</td>\n",
       "      <td>14.6</td>\n",
       "      <td>NaN</td>\n",
       "      <td>10.0</td>\n",
       "      <td>2.5</td>\n",
       "      <td>9.9</td>\n",
       "      <td>20.0</td>\n",
       "      <td>0.0</td>\n",
       "    </tr>\n",
       "  </tbody>\n",
       "</table>\n",
       "</div>"
      ],
      "text/plain": [
       "         DATE  TEMP   MIN   MAX  DEWP  STP  VISIB  WDSP  MXSPD  GUST  PRCP\n",
       "0  2010-02-01  46.8  44.6  50.0  11.3  NaN   10.0  11.9   15.9  25.1   0.0\n",
       "1  2010-02-02  36.9  26.6  46.4  14.6  NaN   10.0   2.5    9.9  20.0   0.0"
      ]
     },
     "execution_count": 3,
     "metadata": {},
     "output_type": "execute_result"
    }
   ],
   "source": [
    "# Your file path is likely not the same as mine\n",
    "broomfield_df = pd.read_csv('../Week 01 - Loading and Documentation/broomfield_weather.csv',header=1,sep='|')\n",
    "broomfield_df.head(2)"
   ]
  },
  {
   "cell_type": "markdown",
   "id": "da7fd112",
   "metadata": {},
   "source": [
    "## Histograms vs. box plots\n",
    "\n",
    "Let's start with the histogram for the \"TEMP\" data.\n",
    "\n",
    "Make a histogram as a point of comparison and to review. I'm using the `.plot.hist()` method on the pandas Series and assigning it to the `ax` subplot I made with the `plt.subplots()` function."
   ]
  },
  {
   "cell_type": "code",
   "execution_count": 4,
   "id": "a1276594",
   "metadata": {},
   "outputs": [
    {
     "data": {
      "text/plain": [
       "Text(0.5, 1.0, 'Boulder temperatures (2010-2021)')"
      ]
     },
     "execution_count": 4,
     "metadata": {},
     "output_type": "execute_result"
    },
    {
     "data": {
      "image/png": "[encoded data removed]",
      "text/plain": [
       "<Figure size 432x288 with 1 Axes>"
      ]
     },
     "metadata": {
      "needs_background": "light"
     },
     "output_type": "display_data"
    }
   ],
   "source": [
    "f,ax = plt.subplots()\n",
    "\n",
    "boulder_df['TEMP'].plot.hist(ax=ax,bins=25)\n",
    "\n",
    "# Always label data!\n",
    "ax.set_xlabel('Temperatures (F)')\n",
    "ax.set_ylabel('Counts')\n",
    "ax.set_title('Boulder temperatures (2010-2021)')"
   ]
  },
  {
   "cell_type": "markdown",
   "id": "68b8dae1",
   "metadata": {},
   "source": [
    "The *[median](https://en.wikipedia.org/wiki/Median)* is a measure of a distribution's central tendancy. More simply, it's the value separating the bottom 50% of data from the top 50% of data."
   ]
  },
  {
   "cell_type": "code",
   "execution_count": 5,
   "id": "9f3786e5",
   "metadata": {},
   "outputs": [
    {
     "data": {
      "text/plain": [
       "53.0"
      ]
     },
     "execution_count": 5,
     "metadata": {},
     "output_type": "execute_result"
    }
   ],
   "source": [
    "np.median(boulder_df['TEMP'])"
   ]
  },
  {
   "cell_type": "markdown",
   "id": "8913c8d5",
   "metadata": {},
   "source": [
    "This is different than the *mean* which can be skewed by large values. What's the mean temperature in Boulder?"
   ]
  },
  {
   "cell_type": "code",
   "execution_count": 6,
   "id": "0807ebfd",
   "metadata": {},
   "outputs": [
    {
     "data": {
      "text/plain": [
       "52.781439307674795"
      ]
     },
     "execution_count": 6,
     "metadata": {},
     "output_type": "execute_result"
    }
   ],
   "source": [
    "np.mean(boulder_df['TEMP'])"
   ]
  },
  {
   "cell_type": "markdown",
   "id": "a7f306a2",
   "metadata": {},
   "source": [
    "Now make a boxplot of the same data. Like a histogram, it produces a `dict` of the components that you can customize as well as a default figure."
   ]
  },
  {
   "cell_type": "code",
   "execution_count": 7,
   "id": "6ae92324",
   "metadata": {},
   "outputs": [
    {
     "data": {
      "text/plain": [
       "{'whiskers': [<matplotlib.lines.Line2D at 0x1673b8370>,\n",
       "  <matplotlib.lines.Line2D at 0x1673b8640>],\n",
       " 'caps': [<matplotlib.lines.Line2D at 0x1673b89d0>,\n",
       "  <matplotlib.lines.Line2D at 0x1673b8be0>],\n",
       " 'boxes': [<matplotlib.lines.Line2D at 0x1673b80a0>],\n",
       " 'medians': [<matplotlib.lines.Line2D at 0x1673b8eb0>],\n",
       " 'fliers': [<matplotlib.lines.Line2D at 0x1673ca1c0>],\n",
       " 'means': []}"
      ]
     },
     "execution_count": 7,
     "metadata": {},
     "output_type": "execute_result"
    },
    {
     "data": {
      "image/png": "[encoded data removed]",
      "text/plain": [
       "<Figure size 432x288 with 1 Axes>"
      ]
     },
     "metadata": {
      "needs_background": "light"
     },
     "output_type": "display_data"
    }
   ],
   "source": [
    "f,ax = plt.subplots()\n",
    "\n",
    "ax.boxplot(\n",
    "    boulder_df['TEMP']\n",
    ")"
   ]
  },
  {
   "cell_type": "markdown",
   "id": "199a38bb",
   "metadata": {},
   "source": [
    "Again we can customize any element in the boxplot. Let's make it oriented horizontally, the lines thicker, and change the median color to red."
   ]
  },
  {
   "cell_type": "code",
   "execution_count": 8,
   "id": "0e9cd8ac",
   "metadata": {},
   "outputs": [
    {
     "data": {
      "image/png": "[encoded data removed]",
      "text/plain": [
       "<Figure size 432x288 with 1 Axes>"
      ]
     },
     "metadata": {
      "needs_background": "light"
     },
     "output_type": "display_data"
    }
   ],
   "source": [
    "f,ax = plt.subplots()\n",
    "\n",
    "ax.boxplot(\n",
    "    boulder_df['TEMP'],\n",
    "    vert = False, # Make it horizontal\n",
    "    boxprops = {'lw':5},\n",
    "    whiskerprops = {'lw':5},\n",
    "    capprops = {'lw':5},\n",
    "    medianprops = {'lw':5,\n",
    "                   'zorder':-1,\n",
    "                   'c':'r'\n",
    "                  }\n",
    ")\n",
    "\n",
    "# Hide the y-axis single tick\n",
    "ax.yaxis.set_visible(False)"
   ]
  },
  {
   "cell_type": "markdown",
   "id": "6753e6b0",
   "metadata": {},
   "source": [
    "Now overlay the original data as a comparison. Again, this is two different ways of visualizing the same data. (There are some intermediate difficulty components that won't be quizzed involving the GridSpec.)"
   ]
  },
  {
   "cell_type": "code",
   "execution_count": 9,
   "id": "02d9fd71",
   "metadata": {},
   "outputs": [
    {
     "data": {
      "image/png": "[encoded data removed]",
      "text/plain": [
       "<Figure size 432x432 with 2 Axes>"
      ]
     },
     "metadata": {
      "needs_background": "light"
     },
     "output_type": "display_data"
    }
   ],
   "source": [
    "# Adapted from: https://matplotlib.org/stable/gallery/userdemo/demo_gridspec03.html\n",
    "\n",
    "# Import the GridSpec class\n",
    "from matplotlib.gridspec import GridSpec\n",
    "\n",
    "# Create the figure environment\n",
    "box_hist_f = plt.figure(figsize=(6,6))\n",
    "\n",
    "# Configure the gridspec\n",
    "gs = GridSpec(2,1,height_ratios=[1,4])\n",
    "\n",
    "# Add the axes to the gridspec\n",
    "ax_box = box_hist_f.add_subplot(gs[0])\n",
    "ax_hist = box_hist_f.add_subplot(gs[1])\n",
    "\n",
    "# Add the boxplot to the top gridspec\n",
    "ax_box.boxplot(\n",
    "    boulder_df['TEMP'],\n",
    "    widths = .67,\n",
    "    vert = False,\n",
    "    boxprops = {'lw':2},\n",
    "    whiskerprops = {'lw':2},\n",
    "    capprops = {'lw':2},\n",
    "    medianprops = {'lw':2,\n",
    "                   'zorder':-1,\n",
    "                   'c':'r'\n",
    "                  }\n",
    ")\n",
    "\n",
    "# Hide the y-axis single tick\n",
    "ax_box.yaxis.set_visible(False)\n",
    "\n",
    "# Add the histogram to the bottom gridspec\n",
    "boulder_df['TEMP'].plot.hist(ax=ax_hist,bins=25)\n",
    "\n",
    "# Always label data!\n",
    "ax_hist.set_xlabel('Temperatures (F)')\n",
    "ax_hist.set_ylabel('Counts')\n",
    "box_hist_f.suptitle('Boulder temperatures (2010-2021)',fontsize=15)\n",
    "\n",
    "# Tighten things up\n",
    "box_hist_f.tight_layout()"
   ]
  },
  {
   "cell_type": "markdown",
   "id": "0d876fc2",
   "metadata": {},
   "source": [
    "### Visualizing multiple distributions of data\n",
    "\n",
    "One reason we may want to use a boxplot instead of a histogram is to visualize and compare multiple distributions.\n",
    "\n",
    "First let's see what it looks like to have overlapping histograms. Simply plot two histograms into the same subplot, give them different colors, and add some transparency (alpha) to make it easier to compare."
   ]
  },
  {
   "cell_type": "code",
   "execution_count": 10,
   "id": "4d92b67c",
   "metadata": {},
   "outputs": [
    {
     "data": {
      "text/plain": [
       "Text(0.5, 1.0, 'Boulder & Broomfield temperatures (2010-2021)')"
      ]
     },
     "execution_count": 10,
     "metadata": {},
     "output_type": "execute_result"
    },
    {
     "data": {
      "image/png": "[encoded data removed]",
      "text/plain": [
       "<Figure size 432x288 with 1 Axes>"
      ]
     },
     "metadata": {
      "needs_background": "light"
     },
     "output_type": "display_data"
    }
   ],
   "source": [
    "f,ax = plt.subplots(figsize=(6,4))\n",
    "\n",
    "# Use identical bins for both distributions\n",
    "_bins = np.linspace(0,100,25) \n",
    "\n",
    "# Plot Boulder data\n",
    "ax.hist(\n",
    "    boulder_df['TEMP'],\n",
    "    color = 'tab:blue',\n",
    "    alpha = .5,\n",
    "    bins = _bins,\n",
    "    label = 'Boulder'\n",
    ")\n",
    "\n",
    "# Plot Broomfield data\n",
    "ax.hist(\n",
    "    broomfield_df['TEMP'],\n",
    "    color = 'tab:red',\n",
    "    alpha = .5,\n",
    "    bins = _bins,\n",
    "    label = 'Broomfield'\n",
    ")\n",
    "\n",
    "# Add a legend\n",
    "ax.legend(loc='upper left')\n",
    "\n",
    "# Label your axes!\n",
    "ax.set_xlabel('Temperatures (F)')\n",
    "ax.set_ylabel('Counts')\n",
    "ax.set_title('Boulder & Broomfield temperatures (2010-2021)')"
   ]
  },
  {
   "cell_type": "markdown",
   "id": "3520f59f",
   "metadata": {},
   "source": [
    "Now try it with boxplots. You can make multiple boxplots by storing them as key-value pairs and passing the values to `boxplot` and labeling them with the keys."
   ]
  },
  {
   "cell_type": "code",
   "execution_count": 11,
   "id": "a79cc1cd",
   "metadata": {
    "scrolled": true
   },
   "outputs": [
    {
     "data": {
      "text/plain": [
       "[Text(0, 1, 'Boulder'), Text(0, 2, 'Broomfield')]"
      ]
     },
     "execution_count": 11,
     "metadata": {},
     "output_type": "execute_result"
    },
    {
     "data": {
      "image/png": "[encoded data removed]",
      "text/plain": [
       "<Figure size 432x288 with 1 Axes>"
      ]
     },
     "metadata": {
      "needs_background": "light"
     },
     "output_type": "display_data"
    }
   ],
   "source": [
    "f,ax = plt.subplots(figsize=(6,4))\n",
    "\n",
    "# From: https://stackoverflow.com/a/52274064/1574687\n",
    "temps = {'Boulder':boulder_df['TEMP'],'Broomfield':broomfield_df['TEMP']}\n",
    "ax.boxplot(temps.values(),vert=False,widths=.75)\n",
    "ax.set_yticklabels(temps.keys())"
   ]
  },
  {
   "cell_type": "markdown",
   "id": "6bf27604",
   "metadata": {},
   "source": [
    "### Via pandas\n",
    "\n",
    "Use the `.plot.box()` method on a Series."
   ]
  },
  {
   "cell_type": "code",
   "execution_count": 12,
   "id": "8a13871c",
   "metadata": {},
   "outputs": [
    {
     "data": {
      "text/plain": [
       "<AxesSubplot:>"
      ]
     },
     "execution_count": 12,
     "metadata": {},
     "output_type": "execute_result"
    },
    {
     "data": {
      "image/png": "[encoded data removed]",
      "text/plain": [
       "<Figure size 432x288 with 1 Axes>"
      ]
     },
     "metadata": {
      "needs_background": "light"
     },
     "output_type": "display_data"
    }
   ],
   "source": [
    "boulder_df['TEMP'].plot.box()"
   ]
  },
  {
   "cell_type": "markdown",
   "id": "8911ccdf",
   "metadata": {},
   "source": [
    "You can also call `.plot.box()` on multiple columns (wide data) to boxplots for each column."
   ]
  },
  {
   "cell_type": "code",
   "execution_count": 13,
   "id": "fbbdeccc",
   "metadata": {},
   "outputs": [
    {
     "data": {
      "text/plain": [
       "<AxesSubplot:>"
      ]
     },
     "execution_count": 13,
     "metadata": {},
     "output_type": "execute_result"
    },
    {
     "data": {
      "image/png": "[encoded data removed]",
      "text/plain": [
       "<Figure size 432x288 with 1 Axes>"
      ]
     },
     "metadata": {
      "needs_background": "light"
     },
     "output_type": "display_data"
    }
   ],
   "source": [
    "boulder_df[['MIN','TEMP','MAX']].plot.box()"
   ]
  },
  {
   "cell_type": "markdown",
   "id": "58883af1",
   "metadata": {},
   "source": [
    "You should be able to pass most (all?) arguments you can use with matplotlib's `.hist()` to pandas's `.plot.hist()`."
   ]
  },
  {
   "cell_type": "code",
   "execution_count": 15,
   "id": "4f2f0cf1",
   "metadata": {},
   "outputs": [
    {
     "data": {
      "image/png": "[encoded data removed]",
      "text/plain": [
       "<Figure size 432x288 with 1 Axes>"
      ]
     },
     "metadata": {
      "needs_background": "light"
     },
     "output_type": "display_data"
    }
   ],
   "source": [
    "boulder_df[['MIN','TEMP','MAX']].plot.box(vert=False,widths=.67)\n",
    "plt.savefig('boulder_temps.png')"
   ]
  },
  {
   "cell_type": "markdown",
   "id": "2b5696d5",
   "metadata": {},
   "source": [
    "### Statistical tests of differences\n",
    "Is Boulder's average minimum temperature the same as its average maximum temperature? We can used a [paired difference test](https://en.wikipedia.org/wiki/Paired_difference_test). It's extremely unlikely to see a difference this extreme randomly."
   ]
  },
  {
   "cell_type": "code",
   "execution_count": 16,
   "id": "ba8fc318",
   "metadata": {},
   "outputs": [
    {
     "data": {
      "text/plain": [
       "Ttest_relResult(statistic=-217.34293970796995, pvalue=0.0)"
      ]
     },
     "execution_count": 16,
     "metadata": {},
     "output_type": "execute_result"
    }
   ],
   "source": [
    "from scipy.stats import ttest_rel\n",
    "\n",
    "boulder_no_nan_df = boulder_df[['MIN','MAX']].dropna(how='any')\n",
    "ttest_rel(boulder_no_nan_df['MIN'],boulder_no_nan_df['MAX'])"
   ]
  },
  {
   "cell_type": "markdown",
   "id": "e1c98790",
   "metadata": {},
   "source": [
    "Is Boulder's median minimum temperature the same as its median maximum temperature? We can use a [Wilcoxon signed-rank test](https://en.wikipedia.org/wiki/Wilcoxon_signed-rank_test). It's extremely unlikely to see a differece this extreme randomly."
   ]
  },
  {
   "cell_type": "code",
   "execution_count": 17,
   "id": "9f3eef79",
   "metadata": {},
   "outputs": [
    {
     "data": {
      "text/plain": [
       "WilcoxonResult(statistic=0.0, pvalue=0.0)"
      ]
     },
     "execution_count": 17,
     "metadata": {},
     "output_type": "execute_result"
    }
   ],
   "source": [
    "from scipy.stats import wilcoxon\n",
    "wilcoxon(boulder_no_nan_df['MIN'],boulder_no_nan_df['MAX'])"
   ]
  },
  {
   "cell_type": "markdown",
   "id": "1d9ddb22",
   "metadata": {},
   "source": [
    "## Annotation\n",
    "We can add additional information to our charts using different annotation methods.\n",
    "\n",
    "### Add lines\n",
    "Visualize the mean and median values on our histogram with `.axvline` ([docs](https://matplotlib.org/stable/api/_as_gen/matplotlib.pyplot.axvline.html)). Compare it against the boxplot."
   ]
  },
  {
   "cell_type": "code",
   "execution_count": 18,
   "id": "7a0a874a",
   "metadata": {},
   "outputs": [
    {
     "data": {
      "image/png": "[encoded data removed]",
      "text/plain": [
       "<Figure size 432x432 with 2 Axes>"
      ]
     },
     "execution_count": 18,
     "metadata": {},
     "output_type": "execute_result"
    }
   ],
   "source": [
    "med = np.median(boulder_df['TEMP'])\n",
    "\n",
    "# Add a red vertical line at the median value on the x-axis\n",
    "ax_hist.axvline(med,c='r')\n",
    "\n",
    "# Display the result\n",
    "box_hist_f"
   ]
  },
  {
   "cell_type": "markdown",
   "id": "a5001bb9",
   "metadata": {},
   "source": [
    "### An interlude on `cut` and `Interval`s\n",
    "\n",
    "We haven't discussed a powerful function in pandas: [`cut`](https://pandas.pydata.org/docs/reference/api/pandas.cut.html) bins values into discrete \"[Interval](https://pandas.pydata.org/docs/reference/api/pandas.Interval.html)\" objects. This is very similar to what goes into the `.hist()` plotting methods turning continutous data into bins and counts.\n",
    "\n",
    "Cut the temperature data into identically sized bins as we used above. The values of this Series are the Interval objects that tell us the value at index 0 falls in the range (29.167  to 33.333]."
   ]
  },
  {
   "cell_type": "code",
   "execution_count": 19,
   "id": "880e9edf",
   "metadata": {},
   "outputs": [
    {
     "data": {
      "text/plain": [
       "0       (29.167, 33.333]\n",
       "1       (29.167, 33.333]\n",
       "2         (33.333, 37.5]\n",
       "3       (29.167, 33.333]\n",
       "4         (37.5, 41.667]\n",
       "              ...       \n",
       "4386      (37.5, 41.667]\n",
       "4387      (20.833, 25.0]\n",
       "4388      (4.167, 8.333]\n",
       "4389      (33.333, 37.5]\n",
       "4390    (41.667, 45.833]\n",
       "Name: TEMP, Length: 4391, dtype: category\n",
       "Categories (24, interval[float64, right]): [(0.0, 4.167] < (4.167, 8.333] < (8.333, 12.5] < (12.5, 16.667] ... (83.333, 87.5] < (87.5, 91.667] < (91.667, 95.833] < (95.833, 100.0]]"
      ]
     },
     "execution_count": 19,
     "metadata": {},
     "output_type": "execute_result"
    }
   ],
   "source": [
    "pd.cut(boulder_df['TEMP'],_bins)"
   ]
  },
  {
   "cell_type": "markdown",
   "id": "03b36c73",
   "metadata": {},
   "source": [
    "Check that the TEMP value at index 0 in between 29.167 and 33.333."
   ]
  },
  {
   "cell_type": "code",
   "execution_count": 21,
   "id": "4923d615",
   "metadata": {},
   "outputs": [
    {
     "data": {
      "text/plain": [
       "33.9"
      ]
     },
     "execution_count": 21,
     "metadata": {},
     "output_type": "execute_result"
    }
   ],
   "source": [
    "boulder_df.loc[2,'TEMP']"
   ]
  },
  {
   "cell_type": "markdown",
   "id": "16667862",
   "metadata": {},
   "source": [
    "Now do a `.value_counts()` on these Intervals to get effectively the same information as is returned by matplotlib's `.hist()` function. But in more exciting to use pandas packaging!"
   ]
  },
  {
   "cell_type": "code",
   "execution_count": 22,
   "id": "f057ee96",
   "metadata": {},
   "outputs": [
    {
     "data": {
      "text/plain": [
       "(70.833, 75.0]      393\n",
       "(41.667, 45.833]    384\n",
       "(66.667, 70.833]    350\n",
       "(50.0, 54.167]      338\n",
       "(33.333, 37.5]      327\n",
       "(54.167, 58.333]    326\n",
       "(75.0, 79.167]      321\n",
       "(37.5, 41.667]      316\n",
       "(45.833, 50.0]      305\n",
       "(62.5, 66.667]      289\n",
       "(58.333, 62.5]      286\n",
       "(29.167, 33.333]    235\n",
       "(25.0, 29.167]      130\n",
       "(79.167, 83.333]    117\n",
       "(20.833, 25.0]      109\n",
       "(16.667, 20.833]     54\n",
       "(12.5, 16.667]       32\n",
       "(8.333, 12.5]        26\n",
       "(83.333, 87.5]       22\n",
       "(4.167, 8.333]       15\n",
       "(0.0, 4.167]          8\n",
       "(87.5, 91.667]        3\n",
       "(91.667, 95.833]      0\n",
       "(95.833, 100.0]       0\n",
       "Name: TEMP, dtype: int64"
      ]
     },
     "execution_count": 22,
     "metadata": {},
     "output_type": "execute_result"
    }
   ],
   "source": [
    "temp_value_counts = pd.cut(boulder_df['TEMP'],_bins).value_counts()\n",
    "temp_value_counts"
   ]
  },
  {
   "cell_type": "markdown",
   "id": "feff9dee",
   "metadata": {},
   "source": [
    "What `Interval` was the most common?"
   ]
  },
  {
   "cell_type": "code",
   "execution_count": 23,
   "id": "ef260507",
   "metadata": {},
   "outputs": [
    {
     "data": {
      "text/plain": [
       "Interval(70.833, 75.0, closed='right')"
      ]
     },
     "execution_count": 23,
     "metadata": {},
     "output_type": "execute_result"
    }
   ],
   "source": [
    "top_temp_interval = temp_value_counts.idxmax()\n",
    "top_temp_interval"
   ]
  },
  {
   "cell_type": "markdown",
   "id": "9e6f2938",
   "metadata": {},
   "source": [
    "How do I pull one of those values defining this `Interval` out? There are `.left` and `.right` attributes!"
   ]
  },
  {
   "cell_type": "code",
   "execution_count": 24,
   "id": "8318c27c",
   "metadata": {},
   "outputs": [
    {
     "data": {
      "text/plain": [
       "(70.833, 75.0)"
      ]
     },
     "execution_count": 24,
     "metadata": {},
     "output_type": "execute_result"
    }
   ],
   "source": [
    "top_temp_interval.left, top_temp_interval.right"
   ]
  },
  {
   "cell_type": "markdown",
   "id": "9833da0b",
   "metadata": {},
   "source": [
    "### Back to annotating"
   ]
  },
  {
   "cell_type": "code",
   "execution_count": 26,
   "id": "ea9605c4",
   "metadata": {},
   "outputs": [
    {
     "data": {
      "image/png": "[encoded data removed]",
      "text/plain": [
       "<Figure size 432x432 with 2 Axes>"
      ]
     },
     "execution_count": 26,
     "metadata": {},
     "output_type": "execute_result"
    }
   ],
   "source": [
    "ax_hist.annotate('Max value',xy=(10,300))\n",
    "\n",
    "box_hist_f"
   ]
  },
  {
   "cell_type": "code",
   "execution_count": null,
   "id": "941758f7",
   "metadata": {},
   "outputs": [],
   "source": []
  },
  {
   "cell_type": "code",
   "execution_count": null,
   "id": "df339525",
   "metadata": {},
   "outputs": [],
   "source": []
  },
  {
   "cell_type": "markdown",
   "id": "71785787",
   "metadata": {},
   "source": [
    "## Exploring the House office expenditure data\n",
    "\n",
    "Let's use the standardized and cleaned [data from ProPublica](https://projects.propublica.org/represent/expenditures)."
   ]
  },
  {
   "cell_type": "code",
   "execution_count": 6,
   "id": "708e81c3",
   "metadata": {},
   "outputs": [
    {
     "data": {
      "text/html": [
       "<div>\n",
       "<style scoped>\n",
       "    .dataframe tbody tr th:only-of-type {\n",
       "        vertical-align: middle;\n",
       "    }\n",
       "\n",
       "    .dataframe tbody tr th {\n",
       "        vertical-align: top;\n",
       "    }\n",
       "\n",
       "    .dataframe thead th {\n",
       "        text-align: right;\n",
       "    }\n",
       "</style>\n",
       "<table border=\"1\" class=\"dataframe\">\n",
       "  <thead>\n",
       "    <tr style=\"text-align: right;\">\n",
       "      <th></th>\n",
       "      <th>BIOGUIDE_ID</th>\n",
       "      <th>OFFICE</th>\n",
       "      <th>QUARTER</th>\n",
       "      <th>PROGRAM</th>\n",
       "      <th>CATEGORY</th>\n",
       "      <th>SORT SEQUENCE</th>\n",
       "      <th>DATE</th>\n",
       "      <th>TRANSCODE</th>\n",
       "      <th>RECORDID</th>\n",
       "      <th>PAYEE</th>\n",
       "      <th>START DATE</th>\n",
       "      <th>END DATE</th>\n",
       "      <th>PURPOSE</th>\n",
       "      <th>AMOUNT</th>\n",
       "      <th>YEAR</th>\n",
       "    </tr>\n",
       "  </thead>\n",
       "  <tbody>\n",
       "    <tr>\n",
       "      <th>0</th>\n",
       "      <td>NaN</td>\n",
       "      <td>2021 OFFICE OF THE SPEAKER</td>\n",
       "      <td>3</td>\n",
       "      <td>OFFICIAL EXPENSES - LEADERSHIP</td>\n",
       "      <td>SUPPLIES AND MATERIALS</td>\n",
       "      <td>DETAIL</td>\n",
       "      <td>2021-08-03</td>\n",
       "      <td>AP</td>\n",
       "      <td>1448486</td>\n",
       "      <td>CAPITOL  HOST</td>\n",
       "      <td>2021-07-19</td>\n",
       "      <td>2021-07-19</td>\n",
       "      <td>FOOD &amp; BEVERAGE</td>\n",
       "      <td>298.58</td>\n",
       "      <td>2021</td>\n",
       "    </tr>\n",
       "    <tr>\n",
       "      <th>1</th>\n",
       "      <td>NaN</td>\n",
       "      <td>2021 OFFICE OF THE SPEAKER</td>\n",
       "      <td>3</td>\n",
       "      <td>OFFICIAL EXPENSES - LEADERSHIP</td>\n",
       "      <td>SUPPLIES AND MATERIALS</td>\n",
       "      <td>DETAIL</td>\n",
       "      <td>2021-08-03</td>\n",
       "      <td>AP</td>\n",
       "      <td>1448487</td>\n",
       "      <td>CAPITOL  HOST</td>\n",
       "      <td>2021-07-20</td>\n",
       "      <td>2021-07-20</td>\n",
       "      <td>FOOD &amp; BEVERAGE</td>\n",
       "      <td>124.83</td>\n",
       "      <td>2021</td>\n",
       "    </tr>\n",
       "    <tr>\n",
       "      <th>2</th>\n",
       "      <td>NaN</td>\n",
       "      <td>2021 OFFICE OF THE SPEAKER</td>\n",
       "      <td>3</td>\n",
       "      <td>OFFICIAL EXPENSES - LEADERSHIP</td>\n",
       "      <td>SUPPLIES AND MATERIALS</td>\n",
       "      <td>DETAIL</td>\n",
       "      <td>2021-08-03</td>\n",
       "      <td>AP</td>\n",
       "      <td>1448488</td>\n",
       "      <td>CAPITOL  HOST</td>\n",
       "      <td>2021-07-20</td>\n",
       "      <td>2021-07-20</td>\n",
       "      <td>FOOD &amp; BEVERAGE</td>\n",
       "      <td>259.38</td>\n",
       "      <td>2021</td>\n",
       "    </tr>\n",
       "    <tr>\n",
       "      <th>3</th>\n",
       "      <td>NaN</td>\n",
       "      <td>2021 OFFICE OF THE SPEAKER</td>\n",
       "      <td>3</td>\n",
       "      <td>OFFICIAL EXPENSES - LEADERSHIP</td>\n",
       "      <td>SUPPLIES AND MATERIALS</td>\n",
       "      <td>SUBTOTAL</td>\n",
       "      <td></td>\n",
       "      <td></td>\n",
       "      <td></td>\n",
       "      <td></td>\n",
       "      <td></td>\n",
       "      <td></td>\n",
       "      <td>SUPPLIES AND MATERIALS TOTALS:</td>\n",
       "      <td>682.79</td>\n",
       "      <td>2021</td>\n",
       "    </tr>\n",
       "    <tr>\n",
       "      <th>4</th>\n",
       "      <td>NaN</td>\n",
       "      <td>2021 OFFICE OF THE SPEAKER</td>\n",
       "      <td>3</td>\n",
       "      <td>OFFICIAL EXPENSES - LEADERSHIP</td>\n",
       "      <td>SUPPLIES AND MATERIALS</td>\n",
       "      <td>SUBTOTAL</td>\n",
       "      <td></td>\n",
       "      <td></td>\n",
       "      <td></td>\n",
       "      <td></td>\n",
       "      <td></td>\n",
       "      <td></td>\n",
       "      <td>OFFICIAL EXPENSES - LEADERSHIP TOTALS:</td>\n",
       "      <td>682.79</td>\n",
       "      <td>2021</td>\n",
       "    </tr>\n",
       "  </tbody>\n",
       "</table>\n",
       "</div>"
      ],
      "text/plain": [
       "  BIOGUIDE_ID                      OFFICE  QUARTER  \\\n",
       "0         NaN  2021 OFFICE OF THE SPEAKER        3   \n",
       "1         NaN  2021 OFFICE OF THE SPEAKER        3   \n",
       "2         NaN  2021 OFFICE OF THE SPEAKER        3   \n",
       "3         NaN  2021 OFFICE OF THE SPEAKER        3   \n",
       "4         NaN  2021 OFFICE OF THE SPEAKER        3   \n",
       "\n",
       "                          PROGRAM                CATEGORY SORT SEQUENCE  \\\n",
       "0  OFFICIAL EXPENSES - LEADERSHIP  SUPPLIES AND MATERIALS        DETAIL   \n",
       "1  OFFICIAL EXPENSES - LEADERSHIP  SUPPLIES AND MATERIALS        DETAIL   \n",
       "2  OFFICIAL EXPENSES - LEADERSHIP  SUPPLIES AND MATERIALS        DETAIL   \n",
       "3  OFFICIAL EXPENSES - LEADERSHIP  SUPPLIES AND MATERIALS      SUBTOTAL   \n",
       "4  OFFICIAL EXPENSES - LEADERSHIP  SUPPLIES AND MATERIALS      SUBTOTAL   \n",
       "\n",
       "         DATE TRANSCODE RECORDID          PAYEE  START DATE    END DATE  \\\n",
       "0  2021-08-03        AP  1448486  CAPITOL  HOST  2021-07-19  2021-07-19   \n",
       "1  2021-08-03        AP  1448487  CAPITOL  HOST  2021-07-20  2021-07-20   \n",
       "2  2021-08-03        AP  1448488  CAPITOL  HOST  2021-07-20  2021-07-20   \n",
       "3                                                                         \n",
       "4                                                                         \n",
       "\n",
       "                                  PURPOSE  AMOUNT  YEAR  \n",
       "0                         FOOD & BEVERAGE  298.58  2021  \n",
       "1                         FOOD & BEVERAGE  124.83  2021  \n",
       "2                         FOOD & BEVERAGE  259.38  2021  \n",
       "3          SUPPLIES AND MATERIALS TOTALS:  682.79  2021  \n",
       "4  OFFICIAL EXPENSES - LEADERSHIP TOTALS:  682.79  2021  "
      ]
     },
     "execution_count": 6,
     "metadata": {},
     "output_type": "execute_result"
    }
   ],
   "source": [
    "house_21q3_df = pd.read_csv('2021Q3-house-disburse-detail.csv')\n",
    "house_21q3_df.head()"
   ]
  },
  {
   "cell_type": "markdown",
   "id": "4a2e4127",
   "metadata": {},
   "source": [
    "Note the \"SORT SEQUENCE\" column include subtotals and other values. We probably want to drop those to avoid double-counting and focus on the \"DETAIL\"."
   ]
  },
  {
   "cell_type": "code",
   "execution_count": 28,
   "id": "2570cb03",
   "metadata": {},
   "outputs": [
    {
     "data": {
      "text/plain": [
       "DETAIL                          97327\n",
       "SUBTOTAL                         6597\n",
       "GRAND TOTAL FOR ORGANIZATION     1370\n",
       "Name: SORT SEQUENCE, dtype: int64"
      ]
     },
     "execution_count": 28,
     "metadata": {},
     "output_type": "execute_result"
    }
   ],
   "source": [
    "house_21q3_df['SORT SEQUENCE'].value_counts()"
   ]
  },
  {
   "cell_type": "markdown",
   "id": "0f7dc628",
   "metadata": {},
   "source": [
    "In addition to representatives' offices, there are also offices for various officers and administrators. The BIOGUIDE_ID is a standardized index of every senator and representative's names going back to 1790. We might consider filtering those as well to focus on member offices alone."
   ]
  },
  {
   "cell_type": "code",
   "execution_count": 29,
   "id": "32c37cbc",
   "metadata": {},
   "outputs": [
    {
     "data": {
      "text/plain": [
       "G000565    398\n",
       "M000312    388\n",
       "S001204    365\n",
       "G000553    342\n",
       "W000809    336\n",
       "          ... \n",
       "T000484      4\n",
       "K000210      4\n",
       "W000791      4\n",
       "C001124      4\n",
       "L000565      4\n",
       "Name: BIOGUIDE_ID, Length: 465, dtype: int64"
      ]
     },
     "execution_count": 29,
     "metadata": {},
     "output_type": "execute_result"
    }
   ],
   "source": [
    "house_21q3_df['BIOGUIDE_ID'].value_counts()"
   ]
  },
  {
   "cell_type": "code",
   "execution_count": 7,
   "id": "82e696e6",
   "metadata": {},
   "outputs": [
    {
     "data": {
      "text/html": [
       "<div>\n",
       "<style scoped>\n",
       "    .dataframe tbody tr th:only-of-type {\n",
       "        vertical-align: middle;\n",
       "    }\n",
       "\n",
       "    .dataframe tbody tr th {\n",
       "        vertical-align: top;\n",
       "    }\n",
       "\n",
       "    .dataframe thead th {\n",
       "        text-align: right;\n",
       "    }\n",
       "</style>\n",
       "<table border=\"1\" class=\"dataframe\">\n",
       "  <thead>\n",
       "    <tr style=\"text-align: right;\">\n",
       "      <th></th>\n",
       "      <th>BIOGUIDE_ID</th>\n",
       "      <th>OFFICE</th>\n",
       "      <th>QUARTER</th>\n",
       "      <th>PROGRAM</th>\n",
       "      <th>CATEGORY</th>\n",
       "      <th>SORT SEQUENCE</th>\n",
       "      <th>DATE</th>\n",
       "      <th>TRANSCODE</th>\n",
       "      <th>RECORDID</th>\n",
       "      <th>PAYEE</th>\n",
       "      <th>START DATE</th>\n",
       "      <th>END DATE</th>\n",
       "      <th>PURPOSE</th>\n",
       "      <th>AMOUNT</th>\n",
       "      <th>YEAR</th>\n",
       "    </tr>\n",
       "  </thead>\n",
       "  <tbody>\n",
       "    <tr>\n",
       "      <th>64599</th>\n",
       "      <td>N000191</td>\n",
       "      <td>2021 HON. JOE NEGUSE</td>\n",
       "      <td>3</td>\n",
       "      <td>OFFICIAL EXPENSES OF MEMBERS</td>\n",
       "      <td>FRANKED MAIL</td>\n",
       "      <td>DETAIL</td>\n",
       "      <td>2021-07-01</td>\n",
       "      <td>AP</td>\n",
       "      <td>1436891</td>\n",
       "      <td>UNITED STATES POSTAL SERVICE</td>\n",
       "      <td>2021-05-01</td>\n",
       "      <td>2021-05-31</td>\n",
       "      <td>FRANKED MAIL</td>\n",
       "      <td>9811.82</td>\n",
       "      <td>2021</td>\n",
       "    </tr>\n",
       "    <tr>\n",
       "      <th>64600</th>\n",
       "      <td>N000191</td>\n",
       "      <td>2021 HON. JOE NEGUSE</td>\n",
       "      <td>3</td>\n",
       "      <td>OFFICIAL EXPENSES OF MEMBERS</td>\n",
       "      <td>FRANKED MAIL</td>\n",
       "      <td>DETAIL</td>\n",
       "      <td>2021-08-10</td>\n",
       "      <td>AP</td>\n",
       "      <td>1448678</td>\n",
       "      <td>UNITED STATES POSTAL SERVICE</td>\n",
       "      <td>2021-06-01</td>\n",
       "      <td>2021-06-30</td>\n",
       "      <td>FRANKED MAIL</td>\n",
       "      <td>268.60</td>\n",
       "      <td>2021</td>\n",
       "    </tr>\n",
       "  </tbody>\n",
       "</table>\n",
       "</div>"
      ],
      "text/plain": [
       "      BIOGUIDE_ID                OFFICE  QUARTER  \\\n",
       "64599     N000191  2021 HON. JOE NEGUSE        3   \n",
       "64600     N000191  2021 HON. JOE NEGUSE        3   \n",
       "\n",
       "                            PROGRAM      CATEGORY SORT SEQUENCE        DATE  \\\n",
       "64599  OFFICIAL EXPENSES OF MEMBERS  FRANKED MAIL        DETAIL  2021-07-01   \n",
       "64600  OFFICIAL EXPENSES OF MEMBERS  FRANKED MAIL        DETAIL  2021-08-10   \n",
       "\n",
       "      TRANSCODE RECORDID                         PAYEE  START DATE  \\\n",
       "64599        AP  1436891  UNITED STATES POSTAL SERVICE  2021-05-01   \n",
       "64600        AP  1448678  UNITED STATES POSTAL SERVICE  2021-06-01   \n",
       "\n",
       "         END DATE       PURPOSE   AMOUNT  YEAR  \n",
       "64599  2021-05-31  FRANKED MAIL  9811.82  2021  \n",
       "64600  2021-06-30  FRANKED MAIL   268.60  2021  "
      ]
     },
     "execution_count": 7,
     "metadata": {},
     "output_type": "execute_result"
    }
   ],
   "source": [
    "house_21q3_df[house_21q3_df['BIOGUIDE_ID'] == 'N000191'].head(2)"
   ]
  },
  {
   "cell_type": "code",
   "execution_count": null,
   "id": "eb1a1031",
   "metadata": {},
   "outputs": [],
   "source": []
  },
  {
   "cell_type": "markdown",
   "id": "343fac82",
   "metadata": {},
   "source": [
    "### Exercise 01: Filter data to only have \"DETAIL\"s and non-null BIOGUIDE_ID"
   ]
  },
  {
   "cell_type": "code",
   "execution_count": 12,
   "id": "ca127400",
   "metadata": {},
   "outputs": [
    {
     "data": {
      "text/html": [
       "<div>\n",
       "<style scoped>\n",
       "    .dataframe tbody tr th:only-of-type {\n",
       "        vertical-align: middle;\n",
       "    }\n",
       "\n",
       "    .dataframe tbody tr th {\n",
       "        vertical-align: top;\n",
       "    }\n",
       "\n",
       "    .dataframe thead th {\n",
       "        text-align: right;\n",
       "    }\n",
       "</style>\n",
       "<table border=\"1\" class=\"dataframe\">\n",
       "  <thead>\n",
       "    <tr style=\"text-align: right;\">\n",
       "      <th></th>\n",
       "      <th>BIOGUIDE_ID</th>\n",
       "      <th>OFFICE</th>\n",
       "      <th>QUARTER</th>\n",
       "      <th>PROGRAM</th>\n",
       "      <th>CATEGORY</th>\n",
       "      <th>SORT SEQUENCE</th>\n",
       "      <th>DATE</th>\n",
       "      <th>TRANSCODE</th>\n",
       "      <th>RECORDID</th>\n",
       "      <th>PAYEE</th>\n",
       "      <th>START DATE</th>\n",
       "      <th>END DATE</th>\n",
       "      <th>PURPOSE</th>\n",
       "      <th>AMOUNT</th>\n",
       "      <th>YEAR</th>\n",
       "    </tr>\n",
       "  </thead>\n",
       "  <tbody>\n",
       "    <tr>\n",
       "      <th>7126</th>\n",
       "      <td>A000370</td>\n",
       "      <td>2021 HON. ALMA S. ADAMS</td>\n",
       "      <td>3</td>\n",
       "      <td>OFFICIAL EXPENSES OF MEMBERS</td>\n",
       "      <td>FRANKED MAIL</td>\n",
       "      <td>DETAIL</td>\n",
       "      <td>2021-07-31</td>\n",
       "      <td>GL</td>\n",
       "      <td>FLG0108342</td>\n",
       "      <td></td>\n",
       "      <td>2021-07-20</td>\n",
       "      <td>2021-07-31</td>\n",
       "      <td>FRANKED MAIL</td>\n",
       "      <td>-22.20</td>\n",
       "      <td>2021</td>\n",
       "    </tr>\n",
       "    <tr>\n",
       "      <th>7127</th>\n",
       "      <td>A000370</td>\n",
       "      <td>2021 HON. ALMA S. ADAMS</td>\n",
       "      <td>3</td>\n",
       "      <td>OFFICIAL EXPENSES OF MEMBERS</td>\n",
       "      <td>FRANKED MAIL</td>\n",
       "      <td>DETAIL</td>\n",
       "      <td>2021-08-10</td>\n",
       "      <td>AP</td>\n",
       "      <td>1448678</td>\n",
       "      <td>UNITED STATES POSTAL SERVICE</td>\n",
       "      <td>2021-06-01</td>\n",
       "      <td>2021-06-30</td>\n",
       "      <td>FRANKED MAIL</td>\n",
       "      <td>346.61</td>\n",
       "      <td>2021</td>\n",
       "    </tr>\n",
       "    <tr>\n",
       "      <th>7128</th>\n",
       "      <td>A000370</td>\n",
       "      <td>2021 HON. ALMA S. ADAMS</td>\n",
       "      <td>3</td>\n",
       "      <td>OFFICIAL EXPENSES OF MEMBERS</td>\n",
       "      <td>FRANKED MAIL</td>\n",
       "      <td>DETAIL</td>\n",
       "      <td>2021-09-01</td>\n",
       "      <td>AP</td>\n",
       "      <td>1460065</td>\n",
       "      <td>UNITED STATES POSTAL SERVICE</td>\n",
       "      <td>2021-07-01</td>\n",
       "      <td>2021-07-31</td>\n",
       "      <td>FRANKED MAIL</td>\n",
       "      <td>31.89</td>\n",
       "      <td>2021</td>\n",
       "    </tr>\n",
       "    <tr>\n",
       "      <th>7129</th>\n",
       "      <td>A000370</td>\n",
       "      <td>2021 HON. ALMA S. ADAMS</td>\n",
       "      <td>3</td>\n",
       "      <td>OFFICIAL EXPENSES OF MEMBERS</td>\n",
       "      <td>FRANKED MAIL</td>\n",
       "      <td>DETAIL</td>\n",
       "      <td>2021-09-28</td>\n",
       "      <td>AP</td>\n",
       "      <td>1470892</td>\n",
       "      <td>UNITED STATES POSTAL SERVICE</td>\n",
       "      <td>2021-08-01</td>\n",
       "      <td>2021-08-31</td>\n",
       "      <td>FRANKED MAIL</td>\n",
       "      <td>24.05</td>\n",
       "      <td>2021</td>\n",
       "    </tr>\n",
       "    <tr>\n",
       "      <th>7130</th>\n",
       "      <td>A000370</td>\n",
       "      <td>2021 HON. ALMA S. ADAMS</td>\n",
       "      <td>3</td>\n",
       "      <td>OFFICIAL EXPENSES OF MEMBERS</td>\n",
       "      <td>FRANKED MAIL</td>\n",
       "      <td>DETAIL</td>\n",
       "      <td>2021-09-30</td>\n",
       "      <td>GL</td>\n",
       "      <td>FLG0109986</td>\n",
       "      <td></td>\n",
       "      <td>2021-09-20</td>\n",
       "      <td>2021-09-30</td>\n",
       "      <td>FRANKED MAIL</td>\n",
       "      <td>-10.10</td>\n",
       "      <td>2021</td>\n",
       "    </tr>\n",
       "  </tbody>\n",
       "</table>\n",
       "</div>"
      ],
      "text/plain": [
       "     BIOGUIDE_ID                   OFFICE  QUARTER  \\\n",
       "7126     A000370  2021 HON. ALMA S. ADAMS        3   \n",
       "7127     A000370  2021 HON. ALMA S. ADAMS        3   \n",
       "7128     A000370  2021 HON. ALMA S. ADAMS        3   \n",
       "7129     A000370  2021 HON. ALMA S. ADAMS        3   \n",
       "7130     A000370  2021 HON. ALMA S. ADAMS        3   \n",
       "\n",
       "                           PROGRAM      CATEGORY SORT SEQUENCE        DATE  \\\n",
       "7126  OFFICIAL EXPENSES OF MEMBERS  FRANKED MAIL        DETAIL  2021-07-31   \n",
       "7127  OFFICIAL EXPENSES OF MEMBERS  FRANKED MAIL        DETAIL  2021-08-10   \n",
       "7128  OFFICIAL EXPENSES OF MEMBERS  FRANKED MAIL        DETAIL  2021-09-01   \n",
       "7129  OFFICIAL EXPENSES OF MEMBERS  FRANKED MAIL        DETAIL  2021-09-28   \n",
       "7130  OFFICIAL EXPENSES OF MEMBERS  FRANKED MAIL        DETAIL  2021-09-30   \n",
       "\n",
       "     TRANSCODE    RECORDID                         PAYEE  START DATE  \\\n",
       "7126        GL  FLG0108342                                2021-07-20   \n",
       "7127        AP     1448678  UNITED STATES POSTAL SERVICE  2021-06-01   \n",
       "7128        AP     1460065  UNITED STATES POSTAL SERVICE  2021-07-01   \n",
       "7129        AP     1470892  UNITED STATES POSTAL SERVICE  2021-08-01   \n",
       "7130        GL  FLG0109986                                2021-09-20   \n",
       "\n",
       "        END DATE       PURPOSE  AMOUNT  YEAR  \n",
       "7126  2021-07-31  FRANKED MAIL  -22.20  2021  \n",
       "7127  2021-06-30  FRANKED MAIL  346.61  2021  \n",
       "7128  2021-07-31  FRANKED MAIL   31.89  2021  \n",
       "7129  2021-08-31  FRANKED MAIL   24.05  2021  \n",
       "7130  2021-09-30  FRANKED MAIL  -10.10  2021  "
      ]
     },
     "execution_count": 12,
     "metadata": {},
     "output_type": "execute_result"
    }
   ],
   "source": [
    "# Option 1 - Easy to read\n",
    "c0 = house_21q3_df['SORT SEQUENCE'] == 'DETAIL'\n",
    "c1 = house_21q3_df['BIOGUIDE_ID'].notnull()\n",
    "filtered_21q3_df = house_21q3_df[c0 & c1]\n",
    "\n",
    "# Option 2 - hard to read\n",
    "filtered_21q3_df = house_21q3_df[(house_21q3_df['SORT SEQUENCE'] == 'DETAIL') & (house_21q3_df['BIOGUIDE_ID'].notnull())]\n",
    "\n",
    "filtered_21q3_df.head()"
   ]
  },
  {
   "cell_type": "markdown",
   "id": "624060d0",
   "metadata": {},
   "source": [
    "### Exercise 02: What member's office had the greatest amount spent? Make a histogram"
   ]
  },
  {
   "cell_type": "code",
   "execution_count": 17,
   "id": "b8c6e6bc",
   "metadata": {},
   "outputs": [
    {
     "data": {
      "text/plain": [
       "OFFICE\n",
       "2021 HON. GARY J. PALMER              474197.54\n",
       "2021 HON. RANDY FEENSTRA              459081.64\n",
       "2021 HON. JOYCE BEATTY                426756.05\n",
       "2021 HON. LANCE GOODEN                424360.20\n",
       "2021 HON. DAVID E. PRICE              415543.36\n",
       "                                        ...    \n",
       "2020 HON. CEDRIC L. RICHMOND           -2143.81\n",
       "2020 HON. ERIC SWALWELL                -2338.55\n",
       "2019 HON. ERIC SWALWELL                -2805.22\n",
       "2020 HON. JENNIFFER GONZALEZ-COLON     -4940.00\n",
       "2019 HON. CHIP ROY                    -11822.34\n",
       "Name: AMOUNT, Length: 773, dtype: float64"
      ]
     },
     "execution_count": 17,
     "metadata": {},
     "output_type": "execute_result"
    }
   ],
   "source": [
    "office_totals = filtered_21q3_df.groupby('OFFICE').agg({'AMOUNT':'sum'})['AMOUNT']\n",
    "office_totals.sort_values(ascending=False)"
   ]
  },
  {
   "cell_type": "code",
   "execution_count": 25,
   "id": "31c1509d",
   "metadata": {},
   "outputs": [
    {
     "data": {
      "text/plain": [
       "<matplotlib.lines.Line2D at 0x165a7f1c0>"
      ]
     },
     "execution_count": 25,
     "metadata": {},
     "output_type": "execute_result"
    },
    {
     "data": {
      "image/png": "[encoded data removed]",
      "text/plain": [
       "<Figure size 576x288 with 1 Axes>"
      ]
     },
     "metadata": {
      "needs_background": "light"
     },
     "output_type": "display_data"
    }
   ],
   "source": [
    "f,ax = plt.subplots(figsize=(8,4))\n",
    "office_totals[office_totals>100000].hist(ax=ax,bins=50)\n",
    "\n",
    "ax.axvline(office_totals.max(),c='r')"
   ]
  },
  {
   "cell_type": "markdown",
   "id": "abd65dda",
   "metadata": {},
   "source": [
    "### Exercise 03: Crosstab office and category with total sum spent"
   ]
  },
  {
   "cell_type": "code",
   "execution_count": 30,
   "id": "2a9e4e9b",
   "metadata": {},
   "outputs": [
    {
     "data": {
      "text/html": [
       "<div>\n",
       "<style scoped>\n",
       "    .dataframe tbody tr th:only-of-type {\n",
       "        vertical-align: middle;\n",
       "    }\n",
       "\n",
       "    .dataframe tbody tr th {\n",
       "        vertical-align: top;\n",
       "    }\n",
       "\n",
       "    .dataframe thead th {\n",
       "        text-align: right;\n",
       "    }\n",
       "</style>\n",
       "<table border=\"1\" class=\"dataframe\">\n",
       "  <thead>\n",
       "    <tr style=\"text-align: right;\">\n",
       "      <th>CATEGORY</th>\n",
       "      <th>EQUIPMENT</th>\n",
       "      <th>FRANKED MAIL</th>\n",
       "      <th>OTHER SERVICES</th>\n",
       "      <th>PERSONNEL COMPENSATION</th>\n",
       "      <th>PRINTING AND REPRODUCTION</th>\n",
       "      <th>RENT  COMMUNICATION  UTILITIES</th>\n",
       "      <th>SUPPLIES AND MATERIALS</th>\n",
       "      <th>TRANSPORTATION OF THINGS</th>\n",
       "      <th>TRAVEL</th>\n",
       "    </tr>\n",
       "    <tr>\n",
       "      <th>OFFICE</th>\n",
       "      <th></th>\n",
       "      <th></th>\n",
       "      <th></th>\n",
       "      <th></th>\n",
       "      <th></th>\n",
       "      <th></th>\n",
       "      <th></th>\n",
       "      <th></th>\n",
       "      <th></th>\n",
       "    </tr>\n",
       "  </thead>\n",
       "  <tbody>\n",
       "    <tr>\n",
       "      <th>2013 HON. DIANA DEGETTE</th>\n",
       "      <td>NaN</td>\n",
       "      <td>NaN</td>\n",
       "      <td>NaN</td>\n",
       "      <td>NaN</td>\n",
       "      <td>456.25</td>\n",
       "      <td>NaN</td>\n",
       "      <td>NaN</td>\n",
       "      <td>NaN</td>\n",
       "      <td>NaN</td>\n",
       "    </tr>\n",
       "    <tr>\n",
       "      <th>2014 HON. DIANA DEGETTE</th>\n",
       "      <td>NaN</td>\n",
       "      <td>NaN</td>\n",
       "      <td>NaN</td>\n",
       "      <td>NaN</td>\n",
       "      <td>410.58</td>\n",
       "      <td>NaN</td>\n",
       "      <td>NaN</td>\n",
       "      <td>NaN</td>\n",
       "      <td>NaN</td>\n",
       "    </tr>\n",
       "    <tr>\n",
       "      <th>2016 HON. AUMUA AMATA COLEMAN RADEWAGEN</th>\n",
       "      <td>NaN</td>\n",
       "      <td>NaN</td>\n",
       "      <td>NaN</td>\n",
       "      <td>NaN</td>\n",
       "      <td>NaN</td>\n",
       "      <td>NaN</td>\n",
       "      <td>134.4</td>\n",
       "      <td>NaN</td>\n",
       "      <td>NaN</td>\n",
       "    </tr>\n",
       "    <tr>\n",
       "      <th>2017 HON. KEVIN MCCARTHY</th>\n",
       "      <td>NaN</td>\n",
       "      <td>NaN</td>\n",
       "      <td>NaN</td>\n",
       "      <td>NaN</td>\n",
       "      <td>NaN</td>\n",
       "      <td>328.25</td>\n",
       "      <td>NaN</td>\n",
       "      <td>NaN</td>\n",
       "      <td>NaN</td>\n",
       "    </tr>\n",
       "    <tr>\n",
       "      <th>2018 HON. ADAM SMITH</th>\n",
       "      <td>1473.0</td>\n",
       "      <td>NaN</td>\n",
       "      <td>NaN</td>\n",
       "      <td>NaN</td>\n",
       "      <td>NaN</td>\n",
       "      <td>NaN</td>\n",
       "      <td>1056.0</td>\n",
       "      <td>NaN</td>\n",
       "      <td>NaN</td>\n",
       "    </tr>\n",
       "  </tbody>\n",
       "</table>\n",
       "</div>"
      ],
      "text/plain": [
       "CATEGORY                                 EQUIPMENT  FRANKED MAIL  \\\n",
       "OFFICE                                                             \n",
       "2013 HON. DIANA DEGETTE                        NaN           NaN   \n",
       "2014 HON. DIANA DEGETTE                        NaN           NaN   \n",
       "2016 HON. AUMUA AMATA COLEMAN RADEWAGEN        NaN           NaN   \n",
       "2017 HON. KEVIN MCCARTHY                       NaN           NaN   \n",
       "2018 HON. ADAM SMITH                        1473.0           NaN   \n",
       "\n",
       "CATEGORY                                 OTHER SERVICES  \\\n",
       "OFFICE                                                    \n",
       "2013 HON. DIANA DEGETTE                             NaN   \n",
       "2014 HON. DIANA DEGETTE                             NaN   \n",
       "2016 HON. AUMUA AMATA COLEMAN RADEWAGEN             NaN   \n",
       "2017 HON. KEVIN MCCARTHY                            NaN   \n",
       "2018 HON. ADAM SMITH                                NaN   \n",
       "\n",
       "CATEGORY                                 PERSONNEL COMPENSATION  \\\n",
       "OFFICE                                                            \n",
       "2013 HON. DIANA DEGETTE                                     NaN   \n",
       "2014 HON. DIANA DEGETTE                                     NaN   \n",
       "2016 HON. AUMUA AMATA COLEMAN RADEWAGEN                     NaN   \n",
       "2017 HON. KEVIN MCCARTHY                                    NaN   \n",
       "2018 HON. ADAM SMITH                                        NaN   \n",
       "\n",
       "CATEGORY                                 PRINTING AND REPRODUCTION  \\\n",
       "OFFICE                                                               \n",
       "2013 HON. DIANA DEGETTE                                     456.25   \n",
       "2014 HON. DIANA DEGETTE                                     410.58   \n",
       "2016 HON. AUMUA AMATA COLEMAN RADEWAGEN                        NaN   \n",
       "2017 HON. KEVIN MCCARTHY                                       NaN   \n",
       "2018 HON. ADAM SMITH                                           NaN   \n",
       "\n",
       "CATEGORY                                 RENT  COMMUNICATION  UTILITIES  \\\n",
       "OFFICE                                                                    \n",
       "2013 HON. DIANA DEGETTE                                             NaN   \n",
       "2014 HON. DIANA DEGETTE                                             NaN   \n",
       "2016 HON. AUMUA AMATA COLEMAN RADEWAGEN                             NaN   \n",
       "2017 HON. KEVIN MCCARTHY                                         328.25   \n",
       "2018 HON. ADAM SMITH                                                NaN   \n",
       "\n",
       "CATEGORY                                 SUPPLIES AND MATERIALS  \\\n",
       "OFFICE                                                            \n",
       "2013 HON. DIANA DEGETTE                                     NaN   \n",
       "2014 HON. DIANA DEGETTE                                     NaN   \n",
       "2016 HON. AUMUA AMATA COLEMAN RADEWAGEN                   134.4   \n",
       "2017 HON. KEVIN MCCARTHY                                    NaN   \n",
       "2018 HON. ADAM SMITH                                     1056.0   \n",
       "\n",
       "CATEGORY                                 TRANSPORTATION OF THINGS  TRAVEL  \n",
       "OFFICE                                                                     \n",
       "2013 HON. DIANA DEGETTE                                       NaN     NaN  \n",
       "2014 HON. DIANA DEGETTE                                       NaN     NaN  \n",
       "2016 HON. AUMUA AMATA COLEMAN RADEWAGEN                       NaN     NaN  \n",
       "2017 HON. KEVIN MCCARTHY                                      NaN     NaN  \n",
       "2018 HON. ADAM SMITH                                          NaN     NaN  "
      ]
     },
     "execution_count": 30,
     "metadata": {},
     "output_type": "execute_result"
    }
   ],
   "source": [
    "office_category_totals = pd.pivot_table(\n",
    "    data = filtered_21q3_df,\n",
    "    index = 'OFFICE',\n",
    "    columns = 'CATEGORY',\n",
    "    values = 'AMOUNT',\n",
    "    aggfunc = 'sum'\n",
    ")\n",
    "\n",
    "office_category_totals.head()"
   ]
  },
  {
   "cell_type": "code",
   "execution_count": 37,
   "id": "af6c79c7",
   "metadata": {},
   "outputs": [
    {
     "data": {
      "text/html": [
       "<div>\n",
       "<style scoped>\n",
       "    .dataframe tbody tr th:only-of-type {\n",
       "        vertical-align: middle;\n",
       "    }\n",
       "\n",
       "    .dataframe tbody tr th {\n",
       "        vertical-align: top;\n",
       "    }\n",
       "\n",
       "    .dataframe thead th {\n",
       "        text-align: right;\n",
       "    }\n",
       "</style>\n",
       "<table border=\"1\" class=\"dataframe\">\n",
       "  <thead>\n",
       "    <tr style=\"text-align: right;\">\n",
       "      <th>CATEGORY</th>\n",
       "      <th>EQUIPMENT</th>\n",
       "      <th>FRANKED MAIL</th>\n",
       "      <th>OTHER SERVICES</th>\n",
       "      <th>PERSONNEL COMPENSATION</th>\n",
       "      <th>PRINTING AND REPRODUCTION</th>\n",
       "      <th>RENT  COMMUNICATION  UTILITIES</th>\n",
       "      <th>SUPPLIES AND MATERIALS</th>\n",
       "      <th>TRANSPORTATION OF THINGS</th>\n",
       "      <th>TRAVEL</th>\n",
       "    </tr>\n",
       "    <tr>\n",
       "      <th>OFFICE</th>\n",
       "      <th></th>\n",
       "      <th></th>\n",
       "      <th></th>\n",
       "      <th></th>\n",
       "      <th></th>\n",
       "      <th></th>\n",
       "      <th></th>\n",
       "      <th></th>\n",
       "      <th></th>\n",
       "    </tr>\n",
       "  </thead>\n",
       "  <tbody>\n",
       "    <tr>\n",
       "      <th>2019 HON. ANTONIO DELGADO</th>\n",
       "      <td>NaN</td>\n",
       "      <td>NaN</td>\n",
       "      <td>NaN</td>\n",
       "      <td>1.000000</td>\n",
       "      <td>NaN</td>\n",
       "      <td>NaN</td>\n",
       "      <td>NaN</td>\n",
       "      <td>NaN</td>\n",
       "      <td>NaN</td>\n",
       "    </tr>\n",
       "    <tr>\n",
       "      <th>2020 HON. BILL FOSTER</th>\n",
       "      <td>NaN</td>\n",
       "      <td>NaN</td>\n",
       "      <td>NaN</td>\n",
       "      <td>1.000000</td>\n",
       "      <td>NaN</td>\n",
       "      <td>NaN</td>\n",
       "      <td>NaN</td>\n",
       "      <td>NaN</td>\n",
       "      <td>NaN</td>\n",
       "    </tr>\n",
       "    <tr>\n",
       "      <th>2020 HON. JOE WILSON</th>\n",
       "      <td>NaN</td>\n",
       "      <td>NaN</td>\n",
       "      <td>NaN</td>\n",
       "      <td>0.994646</td>\n",
       "      <td>NaN</td>\n",
       "      <td>NaN</td>\n",
       "      <td>0.024160</td>\n",
       "      <td>NaN</td>\n",
       "      <td>-0.018806</td>\n",
       "    </tr>\n",
       "    <tr>\n",
       "      <th>2021 HON. PATRICK T. MCHENRY</th>\n",
       "      <td>0.000347</td>\n",
       "      <td>0.005389</td>\n",
       "      <td>0.023184</td>\n",
       "      <td>0.918416</td>\n",
       "      <td>0.001597</td>\n",
       "      <td>0.037802</td>\n",
       "      <td>0.006137</td>\n",
       "      <td>NaN</td>\n",
       "      <td>0.007128</td>\n",
       "    </tr>\n",
       "    <tr>\n",
       "      <th>2021 HON. ANN WAGNER</th>\n",
       "      <td>0.006307</td>\n",
       "      <td>0.000518</td>\n",
       "      <td>0.016715</td>\n",
       "      <td>0.911436</td>\n",
       "      <td>0.000556</td>\n",
       "      <td>0.039483</td>\n",
       "      <td>0.010650</td>\n",
       "      <td>NaN</td>\n",
       "      <td>0.014336</td>\n",
       "    </tr>\n",
       "    <tr>\n",
       "      <th>...</th>\n",
       "      <td>...</td>\n",
       "      <td>...</td>\n",
       "      <td>...</td>\n",
       "      <td>...</td>\n",
       "      <td>...</td>\n",
       "      <td>...</td>\n",
       "      <td>...</td>\n",
       "      <td>...</td>\n",
       "      <td>...</td>\n",
       "    </tr>\n",
       "    <tr>\n",
       "      <th>2020 HON. WILLIAM R. TIMMONS IV</th>\n",
       "      <td>NaN</td>\n",
       "      <td>NaN</td>\n",
       "      <td>NaN</td>\n",
       "      <td>NaN</td>\n",
       "      <td>NaN</td>\n",
       "      <td>1.612903</td>\n",
       "      <td>-0.612903</td>\n",
       "      <td>NaN</td>\n",
       "      <td>NaN</td>\n",
       "    </tr>\n",
       "    <tr>\n",
       "      <th>2020 HON. XOCHITL TORRES SMALL</th>\n",
       "      <td>NaN</td>\n",
       "      <td>NaN</td>\n",
       "      <td>NaN</td>\n",
       "      <td>NaN</td>\n",
       "      <td>NaN</td>\n",
       "      <td>1.000000</td>\n",
       "      <td>NaN</td>\n",
       "      <td>NaN</td>\n",
       "      <td>NaN</td>\n",
       "    </tr>\n",
       "    <tr>\n",
       "      <th>2020 HON. YVETTE D. CLARKE</th>\n",
       "      <td>NaN</td>\n",
       "      <td>NaN</td>\n",
       "      <td>NaN</td>\n",
       "      <td>NaN</td>\n",
       "      <td>NaN</td>\n",
       "      <td>1.000000</td>\n",
       "      <td>NaN</td>\n",
       "      <td>NaN</td>\n",
       "      <td>NaN</td>\n",
       "    </tr>\n",
       "    <tr>\n",
       "      <th>2021 HON. CEDRIC L. RICHMOND</th>\n",
       "      <td>0.052507</td>\n",
       "      <td>NaN</td>\n",
       "      <td>0.304163</td>\n",
       "      <td>NaN</td>\n",
       "      <td>NaN</td>\n",
       "      <td>0.645482</td>\n",
       "      <td>-0.002152</td>\n",
       "      <td>NaN</td>\n",
       "      <td>NaN</td>\n",
       "    </tr>\n",
       "    <tr>\n",
       "      <th>2021 HON. DEBRA A. HAALAND</th>\n",
       "      <td>NaN</td>\n",
       "      <td>NaN</td>\n",
       "      <td>0.837710</td>\n",
       "      <td>NaN</td>\n",
       "      <td>NaN</td>\n",
       "      <td>0.152855</td>\n",
       "      <td>0.009435</td>\n",
       "      <td>NaN</td>\n",
       "      <td>NaN</td>\n",
       "    </tr>\n",
       "  </tbody>\n",
       "</table>\n",
       "<p>773 rows × 9 columns</p>\n",
       "</div>"
      ],
      "text/plain": [
       "CATEGORY                         EQUIPMENT  FRANKED MAIL  OTHER SERVICES  \\\n",
       "OFFICE                                                                     \n",
       "2019 HON. ANTONIO DELGADO              NaN           NaN             NaN   \n",
       "2020 HON. BILL FOSTER                  NaN           NaN             NaN   \n",
       "2020 HON. JOE WILSON                   NaN           NaN             NaN   \n",
       "2021 HON. PATRICK T. MCHENRY      0.000347      0.005389        0.023184   \n",
       "2021 HON. ANN WAGNER              0.006307      0.000518        0.016715   \n",
       "...                                    ...           ...             ...   \n",
       "2020 HON. WILLIAM R. TIMMONS IV        NaN           NaN             NaN   \n",
       "2020 HON. XOCHITL TORRES SMALL         NaN           NaN             NaN   \n",
       "2020 HON. YVETTE D. CLARKE             NaN           NaN             NaN   \n",
       "2021 HON. CEDRIC L. RICHMOND      0.052507           NaN        0.304163   \n",
       "2021 HON. DEBRA A. HAALAND             NaN           NaN        0.837710   \n",
       "\n",
       "CATEGORY                         PERSONNEL COMPENSATION  \\\n",
       "OFFICE                                                    \n",
       "2019 HON. ANTONIO DELGADO                      1.000000   \n",
       "2020 HON. BILL FOSTER                          1.000000   \n",
       "2020 HON. JOE WILSON                           0.994646   \n",
       "2021 HON. PATRICK T. MCHENRY                   0.918416   \n",
       "2021 HON. ANN WAGNER                           0.911436   \n",
       "...                                                 ...   \n",
       "2020 HON. WILLIAM R. TIMMONS IV                     NaN   \n",
       "2020 HON. XOCHITL TORRES SMALL                      NaN   \n",
       "2020 HON. YVETTE D. CLARKE                          NaN   \n",
       "2021 HON. CEDRIC L. RICHMOND                        NaN   \n",
       "2021 HON. DEBRA A. HAALAND                          NaN   \n",
       "\n",
       "CATEGORY                         PRINTING AND REPRODUCTION  \\\n",
       "OFFICE                                                       \n",
       "2019 HON. ANTONIO DELGADO                              NaN   \n",
       "2020 HON. BILL FOSTER                                  NaN   \n",
       "2020 HON. JOE WILSON                                   NaN   \n",
       "2021 HON. PATRICK T. MCHENRY                      0.001597   \n",
       "2021 HON. ANN WAGNER                              0.000556   \n",
       "...                                                    ...   \n",
       "2020 HON. WILLIAM R. TIMMONS IV                        NaN   \n",
       "2020 HON. XOCHITL TORRES SMALL                         NaN   \n",
       "2020 HON. YVETTE D. CLARKE                             NaN   \n",
       "2021 HON. CEDRIC L. RICHMOND                           NaN   \n",
       "2021 HON. DEBRA A. HAALAND                             NaN   \n",
       "\n",
       "CATEGORY                         RENT  COMMUNICATION  UTILITIES  \\\n",
       "OFFICE                                                            \n",
       "2019 HON. ANTONIO DELGADO                                   NaN   \n",
       "2020 HON. BILL FOSTER                                       NaN   \n",
       "2020 HON. JOE WILSON                                        NaN   \n",
       "2021 HON. PATRICK T. MCHENRY                           0.037802   \n",
       "2021 HON. ANN WAGNER                                   0.039483   \n",
       "...                                                         ...   \n",
       "2020 HON. WILLIAM R. TIMMONS IV                        1.612903   \n",
       "2020 HON. XOCHITL TORRES SMALL                         1.000000   \n",
       "2020 HON. YVETTE D. CLARKE                             1.000000   \n",
       "2021 HON. CEDRIC L. RICHMOND                           0.645482   \n",
       "2021 HON. DEBRA A. HAALAND                             0.152855   \n",
       "\n",
       "CATEGORY                         SUPPLIES AND MATERIALS  \\\n",
       "OFFICE                                                    \n",
       "2019 HON. ANTONIO DELGADO                           NaN   \n",
       "2020 HON. BILL FOSTER                               NaN   \n",
       "2020 HON. JOE WILSON                           0.024160   \n",
       "2021 HON. PATRICK T. MCHENRY                   0.006137   \n",
       "2021 HON. ANN WAGNER                           0.010650   \n",
       "...                                                 ...   \n",
       "2020 HON. WILLIAM R. TIMMONS IV               -0.612903   \n",
       "2020 HON. XOCHITL TORRES SMALL                      NaN   \n",
       "2020 HON. YVETTE D. CLARKE                          NaN   \n",
       "2021 HON. CEDRIC L. RICHMOND                  -0.002152   \n",
       "2021 HON. DEBRA A. HAALAND                     0.009435   \n",
       "\n",
       "CATEGORY                         TRANSPORTATION OF THINGS    TRAVEL  \n",
       "OFFICE                                                               \n",
       "2019 HON. ANTONIO DELGADO                             NaN       NaN  \n",
       "2020 HON. BILL FOSTER                                 NaN       NaN  \n",
       "2020 HON. JOE WILSON                                  NaN -0.018806  \n",
       "2021 HON. PATRICK T. MCHENRY                          NaN  0.007128  \n",
       "2021 HON. ANN WAGNER                                  NaN  0.014336  \n",
       "...                                                   ...       ...  \n",
       "2020 HON. WILLIAM R. TIMMONS IV                       NaN       NaN  \n",
       "2020 HON. XOCHITL TORRES SMALL                        NaN       NaN  \n",
       "2020 HON. YVETTE D. CLARKE                            NaN       NaN  \n",
       "2021 HON. CEDRIC L. RICHMOND                          NaN       NaN  \n",
       "2021 HON. DEBRA A. HAALAND                            NaN       NaN  \n",
       "\n",
       "[773 rows x 9 columns]"
      ]
     },
     "execution_count": 37,
     "metadata": {},
     "output_type": "execute_result"
    }
   ],
   "source": [
    "fractions_category_expenses = office_category_totals.div(office_category_totals.sum(1),axis=0)\n",
    "\n",
    "fractions_category_expenses.sort_values('PERSONNEL COMPENSATION',ascending=False)"
   ]
  },
  {
   "cell_type": "markdown",
   "id": "5296182e",
   "metadata": {},
   "source": [
    "### Exercise 04: What category types received the most spending?"
   ]
  },
  {
   "cell_type": "code",
   "execution_count": 39,
   "id": "0c30b827",
   "metadata": {},
   "outputs": [
    {
     "data": {
      "text/plain": [
       "CATEGORY\n",
       "TRANSPORTATION OF THINGS          1.374810e+03\n",
       "EQUIPMENT                         1.710751e+06\n",
       "SUPPLIES AND MATERIALS            1.762593e+06\n",
       "FRANKED MAIL                      2.691896e+06\n",
       "PRINTING AND REPRODUCTION         3.048657e+06\n",
       "OTHER SERVICES                    4.958492e+06\n",
       "TRAVEL                            4.973119e+06\n",
       "RENT  COMMUNICATION  UTILITIES    1.132337e+07\n",
       "PERSONNEL COMPENSATION            1.137219e+08\n",
       "dtype: float64"
      ]
     },
     "execution_count": 39,
     "metadata": {},
     "output_type": "execute_result"
    }
   ],
   "source": [
    "office_category_totals.sum().sort_values()"
   ]
  },
  {
   "cell_type": "markdown",
   "id": "7345676b",
   "metadata": {},
   "source": [
    "### Exercise 05: Who was the top spender in Travel? Why might that be?"
   ]
  },
  {
   "cell_type": "code",
   "execution_count": 40,
   "id": "e3a48b69",
   "metadata": {},
   "outputs": [
    {
     "data": {
      "text/html": [
       "<div>\n",
       "<style scoped>\n",
       "    .dataframe tbody tr th:only-of-type {\n",
       "        vertical-align: middle;\n",
       "    }\n",
       "\n",
       "    .dataframe tbody tr th {\n",
       "        vertical-align: top;\n",
       "    }\n",
       "\n",
       "    .dataframe thead th {\n",
       "        text-align: right;\n",
       "    }\n",
       "</style>\n",
       "<table border=\"1\" class=\"dataframe\">\n",
       "  <thead>\n",
       "    <tr style=\"text-align: right;\">\n",
       "      <th>CATEGORY</th>\n",
       "      <th>EQUIPMENT</th>\n",
       "      <th>FRANKED MAIL</th>\n",
       "      <th>OTHER SERVICES</th>\n",
       "      <th>PERSONNEL COMPENSATION</th>\n",
       "      <th>PRINTING AND REPRODUCTION</th>\n",
       "      <th>RENT  COMMUNICATION  UTILITIES</th>\n",
       "      <th>SUPPLIES AND MATERIALS</th>\n",
       "      <th>TRANSPORTATION OF THINGS</th>\n",
       "      <th>TRAVEL</th>\n",
       "    </tr>\n",
       "    <tr>\n",
       "      <th>OFFICE</th>\n",
       "      <th></th>\n",
       "      <th></th>\n",
       "      <th></th>\n",
       "      <th></th>\n",
       "      <th></th>\n",
       "      <th></th>\n",
       "      <th></th>\n",
       "      <th></th>\n",
       "      <th></th>\n",
       "    </tr>\n",
       "  </thead>\n",
       "  <tbody>\n",
       "    <tr>\n",
       "      <th>2021 HON. MICHAEL F.Q. SAN NICOLAS</th>\n",
       "      <td>10793.00</td>\n",
       "      <td>694.85</td>\n",
       "      <td>10485.00</td>\n",
       "      <td>197984.16</td>\n",
       "      <td>54558.91</td>\n",
       "      <td>13430.28</td>\n",
       "      <td>8292.57</td>\n",
       "      <td>NaN</td>\n",
       "      <td>74864.29</td>\n",
       "    </tr>\n",
       "    <tr>\n",
       "      <th>2021 HON. PAUL A. GOSAR</th>\n",
       "      <td>1176.00</td>\n",
       "      <td>628.55</td>\n",
       "      <td>6997.70</td>\n",
       "      <td>287091.67</td>\n",
       "      <td>750.00</td>\n",
       "      <td>20174.88</td>\n",
       "      <td>2712.62</td>\n",
       "      <td>NaN</td>\n",
       "      <td>47347.31</td>\n",
       "    </tr>\n",
       "    <tr>\n",
       "      <th>2021 HON. MATTHEW M. ROSENDALE</th>\n",
       "      <td>-160.32</td>\n",
       "      <td>-7.70</td>\n",
       "      <td>11680.76</td>\n",
       "      <td>281746.03</td>\n",
       "      <td>25680.14</td>\n",
       "      <td>27808.47</td>\n",
       "      <td>14665.11</td>\n",
       "      <td>NaN</td>\n",
       "      <td>44414.42</td>\n",
       "    </tr>\n",
       "    <tr>\n",
       "      <th>2021 HON. LANCE GOODEN</th>\n",
       "      <td>4893.72</td>\n",
       "      <td>76350.30</td>\n",
       "      <td>10045.44</td>\n",
       "      <td>226302.18</td>\n",
       "      <td>46611.10</td>\n",
       "      <td>13555.69</td>\n",
       "      <td>6099.44</td>\n",
       "      <td>NaN</td>\n",
       "      <td>40502.33</td>\n",
       "    </tr>\n",
       "    <tr>\n",
       "      <th>2021 HON. CLIFF BENTZ</th>\n",
       "      <td>2618.00</td>\n",
       "      <td>223.40</td>\n",
       "      <td>19146.45</td>\n",
       "      <td>225881.93</td>\n",
       "      <td>1562.13</td>\n",
       "      <td>21762.84</td>\n",
       "      <td>6340.38</td>\n",
       "      <td>NaN</td>\n",
       "      <td>40321.16</td>\n",
       "    </tr>\n",
       "    <tr>\n",
       "      <th>...</th>\n",
       "      <td>...</td>\n",
       "      <td>...</td>\n",
       "      <td>...</td>\n",
       "      <td>...</td>\n",
       "      <td>...</td>\n",
       "      <td>...</td>\n",
       "      <td>...</td>\n",
       "      <td>...</td>\n",
       "      <td>...</td>\n",
       "    </tr>\n",
       "    <tr>\n",
       "      <th>2021 HON. KATHY CASTOR</th>\n",
       "      <td>NaN</td>\n",
       "      <td>87.61</td>\n",
       "      <td>8580.00</td>\n",
       "      <td>276639.10</td>\n",
       "      <td>180.22</td>\n",
       "      <td>23199.17</td>\n",
       "      <td>2066.35</td>\n",
       "      <td>NaN</td>\n",
       "      <td>NaN</td>\n",
       "    </tr>\n",
       "    <tr>\n",
       "      <th>2021 HON. MARCIA L. FUDGE</th>\n",
       "      <td>1251.00</td>\n",
       "      <td>243.67</td>\n",
       "      <td>6150.00</td>\n",
       "      <td>141541.68</td>\n",
       "      <td>NaN</td>\n",
       "      <td>29421.27</td>\n",
       "      <td>5294.25</td>\n",
       "      <td>NaN</td>\n",
       "      <td>NaN</td>\n",
       "    </tr>\n",
       "    <tr>\n",
       "      <th>2021 HON. RON WRIGHT</th>\n",
       "      <td>70.02</td>\n",
       "      <td>61.24</td>\n",
       "      <td>7214.04</td>\n",
       "      <td>49950.00</td>\n",
       "      <td>NaN</td>\n",
       "      <td>10407.42</td>\n",
       "      <td>NaN</td>\n",
       "      <td>NaN</td>\n",
       "      <td>NaN</td>\n",
       "    </tr>\n",
       "    <tr>\n",
       "      <th>2021 HON. STENY H. HOYER</th>\n",
       "      <td>2513.00</td>\n",
       "      <td>302.64</td>\n",
       "      <td>11308.74</td>\n",
       "      <td>269577.21</td>\n",
       "      <td>297.00</td>\n",
       "      <td>56180.03</td>\n",
       "      <td>3073.14</td>\n",
       "      <td>NaN</td>\n",
       "      <td>NaN</td>\n",
       "    </tr>\n",
       "    <tr>\n",
       "      <th>2021 HON. STEVE STIVERS</th>\n",
       "      <td>586.50</td>\n",
       "      <td>181.40</td>\n",
       "      <td>19639.54</td>\n",
       "      <td>137197.56</td>\n",
       "      <td>NaN</td>\n",
       "      <td>18287.12</td>\n",
       "      <td>224.71</td>\n",
       "      <td>NaN</td>\n",
       "      <td>NaN</td>\n",
       "    </tr>\n",
       "  </tbody>\n",
       "</table>\n",
       "<p>773 rows × 9 columns</p>\n",
       "</div>"
      ],
      "text/plain": [
       "CATEGORY                            EQUIPMENT  FRANKED MAIL  OTHER SERVICES  \\\n",
       "OFFICE                                                                        \n",
       "2021 HON. MICHAEL F.Q. SAN NICOLAS   10793.00        694.85        10485.00   \n",
       "2021 HON. PAUL A. GOSAR               1176.00        628.55         6997.70   \n",
       "2021 HON. MATTHEW M. ROSENDALE        -160.32         -7.70        11680.76   \n",
       "2021 HON. LANCE GOODEN                4893.72      76350.30        10045.44   \n",
       "2021 HON. CLIFF BENTZ                 2618.00        223.40        19146.45   \n",
       "...                                       ...           ...             ...   \n",
       "2021 HON. KATHY CASTOR                    NaN         87.61         8580.00   \n",
       "2021 HON. MARCIA L. FUDGE             1251.00        243.67         6150.00   \n",
       "2021 HON. RON WRIGHT                    70.02         61.24         7214.04   \n",
       "2021 HON. STENY H. HOYER              2513.00        302.64        11308.74   \n",
       "2021 HON. STEVE STIVERS                586.50        181.40        19639.54   \n",
       "\n",
       "CATEGORY                            PERSONNEL COMPENSATION  \\\n",
       "OFFICE                                                       \n",
       "2021 HON. MICHAEL F.Q. SAN NICOLAS               197984.16   \n",
       "2021 HON. PAUL A. GOSAR                          287091.67   \n",
       "2021 HON. MATTHEW M. ROSENDALE                   281746.03   \n",
       "2021 HON. LANCE GOODEN                           226302.18   \n",
       "2021 HON. CLIFF BENTZ                            225881.93   \n",
       "...                                                    ...   \n",
       "2021 HON. KATHY CASTOR                           276639.10   \n",
       "2021 HON. MARCIA L. FUDGE                        141541.68   \n",
       "2021 HON. RON WRIGHT                              49950.00   \n",
       "2021 HON. STENY H. HOYER                         269577.21   \n",
       "2021 HON. STEVE STIVERS                          137197.56   \n",
       "\n",
       "CATEGORY                            PRINTING AND REPRODUCTION  \\\n",
       "OFFICE                                                          \n",
       "2021 HON. MICHAEL F.Q. SAN NICOLAS                   54558.91   \n",
       "2021 HON. PAUL A. GOSAR                                750.00   \n",
       "2021 HON. MATTHEW M. ROSENDALE                       25680.14   \n",
       "2021 HON. LANCE GOODEN                               46611.10   \n",
       "2021 HON. CLIFF BENTZ                                 1562.13   \n",
       "...                                                       ...   \n",
       "2021 HON. KATHY CASTOR                                 180.22   \n",
       "2021 HON. MARCIA L. FUDGE                                 NaN   \n",
       "2021 HON. RON WRIGHT                                      NaN   \n",
       "2021 HON. STENY H. HOYER                               297.00   \n",
       "2021 HON. STEVE STIVERS                                   NaN   \n",
       "\n",
       "CATEGORY                            RENT  COMMUNICATION  UTILITIES  \\\n",
       "OFFICE                                                               \n",
       "2021 HON. MICHAEL F.Q. SAN NICOLAS                        13430.28   \n",
       "2021 HON. PAUL A. GOSAR                                   20174.88   \n",
       "2021 HON. MATTHEW M. ROSENDALE                            27808.47   \n",
       "2021 HON. LANCE GOODEN                                    13555.69   \n",
       "2021 HON. CLIFF BENTZ                                     21762.84   \n",
       "...                                                            ...   \n",
       "2021 HON. KATHY CASTOR                                    23199.17   \n",
       "2021 HON. MARCIA L. FUDGE                                 29421.27   \n",
       "2021 HON. RON WRIGHT                                      10407.42   \n",
       "2021 HON. STENY H. HOYER                                  56180.03   \n",
       "2021 HON. STEVE STIVERS                                   18287.12   \n",
       "\n",
       "CATEGORY                            SUPPLIES AND MATERIALS  \\\n",
       "OFFICE                                                       \n",
       "2021 HON. MICHAEL F.Q. SAN NICOLAS                 8292.57   \n",
       "2021 HON. PAUL A. GOSAR                            2712.62   \n",
       "2021 HON. MATTHEW M. ROSENDALE                    14665.11   \n",
       "2021 HON. LANCE GOODEN                             6099.44   \n",
       "2021 HON. CLIFF BENTZ                              6340.38   \n",
       "...                                                    ...   \n",
       "2021 HON. KATHY CASTOR                             2066.35   \n",
       "2021 HON. MARCIA L. FUDGE                          5294.25   \n",
       "2021 HON. RON WRIGHT                                   NaN   \n",
       "2021 HON. STENY H. HOYER                           3073.14   \n",
       "2021 HON. STEVE STIVERS                             224.71   \n",
       "\n",
       "CATEGORY                            TRANSPORTATION OF THINGS    TRAVEL  \n",
       "OFFICE                                                                  \n",
       "2021 HON. MICHAEL F.Q. SAN NICOLAS                       NaN  74864.29  \n",
       "2021 HON. PAUL A. GOSAR                                  NaN  47347.31  \n",
       "2021 HON. MATTHEW M. ROSENDALE                           NaN  44414.42  \n",
       "2021 HON. LANCE GOODEN                                   NaN  40502.33  \n",
       "2021 HON. CLIFF BENTZ                                    NaN  40321.16  \n",
       "...                                                      ...       ...  \n",
       "2021 HON. KATHY CASTOR                                   NaN       NaN  \n",
       "2021 HON. MARCIA L. FUDGE                                NaN       NaN  \n",
       "2021 HON. RON WRIGHT                                     NaN       NaN  \n",
       "2021 HON. STENY H. HOYER                                 NaN       NaN  \n",
       "2021 HON. STEVE STIVERS                                  NaN       NaN  \n",
       "\n",
       "[773 rows x 9 columns]"
      ]
     },
     "execution_count": 40,
     "metadata": {},
     "output_type": "execute_result"
    }
   ],
   "source": [
    "office_category_totals.sort_values('TRAVEL',ascending=False)"
   ]
  },
  {
   "cell_type": "markdown",
   "id": "a5a1e63d",
   "metadata": {},
   "source": [
    "## Appendix\n",
    "\n",
    "Here's our anatomy of a matplotlib figure for reference.\n",
    "\n",
    "![Anatomy of a matplotlib figure](https://matplotlib.org/stable/_images/sphx_glr_anatomy_001.png)"
   ]
  },
  {
   "cell_type": "code",
   "execution_count": null,
   "id": "40ee108a",
   "metadata": {},
   "outputs": [],
   "source": []
  }
 ],
 "metadata": {
  "kernelspec": {
   "display_name": "Python 3 (ipykernel)",
   "language": "python",
   "name": "python3"
  },
  "language_info": {
   "codemirror_mode": {
    "name": "ipython",
    "version": 3
   },
   "file_extension": ".py",
   "mimetype": "text/x-python",
   "name": "python",
   "nbconvert_exporter": "python",
   "pygments_lexer": "ipython3",
   "version": "3.9.10"
  }
 },
 "nbformat": 4,
 "nbformat_minor": 5
}
