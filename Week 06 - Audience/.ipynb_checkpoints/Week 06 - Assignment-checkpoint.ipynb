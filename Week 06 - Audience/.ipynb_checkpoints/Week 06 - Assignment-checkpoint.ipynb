{
 "cells": [
  {
   "cell_type": "markdown",
   "id": "aeaad0b1",
   "metadata": {},
   "source": [
    "# INFO 3402 – Week 06: Assignment\n",
    "\n",
    "[Brian C. Keegan, Ph.D.](http://brianckeegan.com/)  \n",
    "[Assistant Professor, Department of Information Science](https://www.colorado.edu/cmci/people/information-science/brian-c-keegan)  \n",
    "University of Colorado Boulder  \n",
    "\n",
    "Copyright and distributed under an [MIT License](https://opensource.org/licenses/MIT)"
   ]
  },
  {
   "cell_type": "markdown",
   "id": "7a8422e8",
   "metadata": {},
   "source": [
    "## Background\n",
    "\n",
    "The U.S. House of Representatives [publishes](https://www.house.gov/the-house-explained/open-government/statement-of-disbursements) data about its members office expenditures. These include costs associated with staff, rent, services, and travel. We will use the [cleaned versions of these data](https://projects.propublica.org/represent/expenditures) published by the data journalists at ProPublica. We'll also work through Knaflic's \"Big Idea Worksheet\" to help you prepare for MA02."
   ]
  },
  {
   "cell_type": "markdown",
   "id": "84163819",
   "metadata": {},
   "source": [
    "## Question 01: Load libraries; inspect and clean datasets (6 pts)\n",
    "\n",
    "Import the `numpy`, `pandas`, and matplotlib's `pyplot` libraries and the matplotlib cell magic. (1 pt)"
   ]
  },
  {
   "cell_type": "code",
   "execution_count": null,
   "id": "22979cc4",
   "metadata": {},
   "outputs": [],
   "source": []
  },
  {
   "cell_type": "markdown",
   "id": "c1cac460",
   "metadata": {},
   "source": [
    "Download a \"Detail\" file from ProPublica and use pandas's `.read_csv()` function to open and inspect it. (2 pts)"
   ]
  },
  {
   "cell_type": "code",
   "execution_count": null,
   "id": "59174abc",
   "metadata": {},
   "outputs": [],
   "source": []
  },
  {
   "cell_type": "markdown",
   "id": "5e17a0f7",
   "metadata": {},
   "source": [
    "Identify and remove the \"SORT SEQUENCE\" values that are not \"DETAIL\"s. (3 pts)"
   ]
  },
  {
   "cell_type": "code",
   "execution_count": null,
   "id": "c277f725",
   "metadata": {},
   "outputs": [],
   "source": []
  },
  {
   "cell_type": "markdown",
   "id": "3c7d07de",
   "metadata": {},
   "source": [
    "## Question 02: Filter and histogram (10 pts)\n",
    "\n",
    "Filter the \"CATEGORY\" column down to \"PERSONNEL COMPENSATION\". What House employee was paid the **third** (remember that pandas indexes from 0: the \"first\" value is at 0, the second is at 1, *etc*.) most in 2021Q3? Report strings from the \"PAYEE\" and \"PURPOSE\" columns. (2 pts)"
   ]
  },
  {
   "cell_type": "code",
   "execution_count": null,
   "id": "eac5fb88",
   "metadata": {},
   "outputs": [],
   "source": []
  },
  {
   "cell_type": "markdown",
   "id": "6ccfdad5",
   "metadata": {},
   "source": [
    "Make a histogram of all the amounts paid in personnel compensation in 2021Q3. Use appropriate bin counts, ranges, and scales to show meaningful variation in the data. (4 pts)"
   ]
  },
  {
   "cell_type": "code",
   "execution_count": null,
   "id": "5bf98da8",
   "metadata": {},
   "outputs": [],
   "source": []
  },
  {
   "cell_type": "markdown",
   "id": "d7bea6f6",
   "metadata": {},
   "source": [
    "Add a vertical red line to the histogram with the *median* value of personnel compensation for 2021Q3. Show the updated figure. (2 pts)"
   ]
  },
  {
   "cell_type": "code",
   "execution_count": null,
   "id": "e7dc3c6c",
   "metadata": {},
   "outputs": [],
   "source": []
  },
  {
   "cell_type": "markdown",
   "id": "1c736bfa",
   "metadata": {},
   "source": [
    "Make a horizontal boxplot of the same data and use appropriate scales to show the variation in the data. (2 pts)"
   ]
  },
  {
   "cell_type": "code",
   "execution_count": null,
   "id": "47137f59",
   "metadata": {},
   "outputs": [],
   "source": []
  },
  {
   "cell_type": "markdown",
   "id": "99f50c56",
   "metadata": {},
   "source": [
    "## Question 3: Congress Student loans (4 pts)"
   ]
  },
  {
   "cell_type": "markdown",
   "id": "24bd27e6",
   "metadata": {},
   "source": [
    "Filter the data to find (1) \"PAYEE\"S containing the string \"OF EDU\" in (2) the \"CATEGORY\" \"PERSONNEL BENEFITS\". (2 pts)"
   ]
  },
  {
   "cell_type": "code",
   "execution_count": null,
   "id": "9bdec66b",
   "metadata": {},
   "outputs": [],
   "source": []
  },
  {
   "cell_type": "markdown",
   "id": "67239dc8",
   "metadata": {},
   "source": [
    "Make a boxplot of congressional disbursements for student loan repayment. (2 pts)"
   ]
  },
  {
   "cell_type": "code",
   "execution_count": null,
   "id": "b7969407",
   "metadata": {},
   "outputs": [],
   "source": []
  },
  {
   "cell_type": "markdown",
   "id": "5bc8afa3",
   "metadata": {},
   "source": [
    "## Question 4: Complete the \"Big Idea Worksheet\" for your MA02 (10 pts)\n",
    "\n",
    "What is your preliminary idea for your MA02 blog post? (3 pts)"
   ]
  },
  {
   "cell_type": "code",
   "execution_count": null,
   "id": "5a117dd9",
   "metadata": {},
   "outputs": [],
   "source": []
  },
  {
   "cell_type": "markdown",
   "id": "ec629602",
   "metadata": {},
   "source": [
    "Who is your audience? (4 pts)\n",
    "* Who are the people or groups with whom you’re communicating?\n",
    "* How could that group be narrowed?\n",
    "* What does your audience care about?\n",
    "* What action does your audience need to take?"
   ]
  },
  {
   "cell_type": "code",
   "execution_count": null,
   "id": "8e1b5dc0",
   "metadata": {},
   "outputs": [],
   "source": []
  },
  {
   "cell_type": "markdown",
   "id": "99ea32ee",
   "metadata": {},
   "source": [
    "What is at stake? (1 pt)\n",
    "* What are benefits and risks of audience acting how you want?"
   ]
  },
  {
   "cell_type": "code",
   "execution_count": null,
   "id": "29f9660d",
   "metadata": {},
   "outputs": [],
   "source": []
  },
  {
   "cell_type": "markdown",
   "id": "100f76fb",
   "metadata": {},
   "source": [
    "Form your big idea (2 pts)\n",
    "* Articulate a point of view\n",
    "* Convey what is at stake\n",
    "* What is a concise and complete statement of the idea?"
   ]
  },
  {
   "cell_type": "code",
   "execution_count": null,
   "id": "afff90dd",
   "metadata": {},
   "outputs": [],
   "source": []
  }
 ],
 "metadata": {
  "kernelspec": {
   "display_name": "Python 3 (ipykernel)",
   "language": "python",
   "name": "python3"
  },
  "language_info": {
   "codemirror_mode": {
    "name": "ipython",
    "version": 3
   },
   "file_extension": ".py",
   "mimetype": "text/x-python",
   "name": "python",
   "nbconvert_exporter": "python",
   "pygments_lexer": "ipython3",
   "version": "3.9.9"
  }
 },
 "nbformat": 4,
 "nbformat_minor": 5
}
