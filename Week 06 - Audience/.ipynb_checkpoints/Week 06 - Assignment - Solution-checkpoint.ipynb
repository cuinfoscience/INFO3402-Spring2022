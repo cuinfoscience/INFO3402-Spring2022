{
 "cells": [
  {
   "cell_type": "markdown",
   "id": "aeaad0b1",
   "metadata": {},
   "source": [
    "# INFO 3402 – Week 06: Assignment - Solutions\n",
    "\n",
    "[Brian C. Keegan, Ph.D.](http://brianckeegan.com/)  \n",
    "[Assistant Professor, Department of Information Science](https://www.colorado.edu/cmci/people/information-science/brian-c-keegan)  \n",
    "University of Colorado Boulder  \n",
    "\n",
    "Copyright and distributed under an [MIT License](https://opensource.org/licenses/MIT)"
   ]
  },
  {
   "cell_type": "markdown",
   "id": "7a8422e8",
   "metadata": {},
   "source": [
    "## Background\n",
    "\n",
    "The U.S. House of Representatives [publishes](https://www.house.gov/the-house-explained/open-government/statement-of-disbursements) data about its members office expenditures. These include costs associated with staff, rent, services, and travel. We will use the [cleaned versions of these data](https://projects.propublica.org/represent/expenditures) published by the data journalists at ProPublica. We'll also work through Knaflic's \"Big Idea Worksheet\" to help you prepare for MA02."
   ]
  },
  {
   "cell_type": "markdown",
   "id": "84163819",
   "metadata": {},
   "source": [
    "## Question 01: Load libraries; inspect and clean datasets (6 pts)\n",
    "\n",
    "Import the `numpy`, `pandas`, and matplotlib's `pyplot` libraries and the matplotlib cell magic. (1 pt)"
   ]
  },
  {
   "cell_type": "code",
   "execution_count": 2,
   "id": "26218477",
   "metadata": {},
   "outputs": [],
   "source": [
    "import numpy as np\n",
    "import pandas as pd\n",
    "\n",
    "%matplotlib inline\n",
    "import matplotlib.pyplot as plt"
   ]
  },
  {
   "cell_type": "markdown",
   "id": "c1cac460",
   "metadata": {},
   "source": [
    "Download a \"Detail\" file from ProPublica and use pandas's `.read_csv()` function to open and inspect it. (2 pts)"
   ]
  },
  {
   "cell_type": "code",
   "execution_count": 3,
   "id": "15516afb",
   "metadata": {},
   "outputs": [
    {
     "data": {
      "text/html": [
       "<div>\n",
       "<style scoped>\n",
       "    .dataframe tbody tr th:only-of-type {\n",
       "        vertical-align: middle;\n",
       "    }\n",
       "\n",
       "    .dataframe tbody tr th {\n",
       "        vertical-align: top;\n",
       "    }\n",
       "\n",
       "    .dataframe thead th {\n",
       "        text-align: right;\n",
       "    }\n",
       "</style>\n",
       "<table border=\"1\" class=\"dataframe\">\n",
       "  <thead>\n",
       "    <tr style=\"text-align: right;\">\n",
       "      <th></th>\n",
       "      <th>BIOGUIDE_ID</th>\n",
       "      <th>OFFICE</th>\n",
       "      <th>QUARTER</th>\n",
       "      <th>PROGRAM</th>\n",
       "      <th>CATEGORY</th>\n",
       "      <th>SORT SEQUENCE</th>\n",
       "      <th>DATE</th>\n",
       "      <th>TRANSCODE</th>\n",
       "      <th>RECORDID</th>\n",
       "      <th>PAYEE</th>\n",
       "      <th>START DATE</th>\n",
       "      <th>END DATE</th>\n",
       "      <th>PURPOSE</th>\n",
       "      <th>AMOUNT</th>\n",
       "      <th>YEAR</th>\n",
       "    </tr>\n",
       "  </thead>\n",
       "  <tbody>\n",
       "    <tr>\n",
       "      <th>0</th>\n",
       "      <td>NaN</td>\n",
       "      <td>2021 OFFICE OF THE SPEAKER</td>\n",
       "      <td>3</td>\n",
       "      <td>OFFICIAL EXPENSES - LEADERSHIP</td>\n",
       "      <td>SUPPLIES AND MATERIALS</td>\n",
       "      <td>DETAIL</td>\n",
       "      <td>2021-08-03</td>\n",
       "      <td>AP</td>\n",
       "      <td>1448486</td>\n",
       "      <td>CAPITOL  HOST</td>\n",
       "      <td>2021-07-19</td>\n",
       "      <td>2021-07-19</td>\n",
       "      <td>FOOD &amp; BEVERAGE</td>\n",
       "      <td>298.58</td>\n",
       "      <td>2021</td>\n",
       "    </tr>\n",
       "    <tr>\n",
       "      <th>1</th>\n",
       "      <td>NaN</td>\n",
       "      <td>2021 OFFICE OF THE SPEAKER</td>\n",
       "      <td>3</td>\n",
       "      <td>OFFICIAL EXPENSES - LEADERSHIP</td>\n",
       "      <td>SUPPLIES AND MATERIALS</td>\n",
       "      <td>DETAIL</td>\n",
       "      <td>2021-08-03</td>\n",
       "      <td>AP</td>\n",
       "      <td>1448487</td>\n",
       "      <td>CAPITOL  HOST</td>\n",
       "      <td>2021-07-20</td>\n",
       "      <td>2021-07-20</td>\n",
       "      <td>FOOD &amp; BEVERAGE</td>\n",
       "      <td>124.83</td>\n",
       "      <td>2021</td>\n",
       "    </tr>\n",
       "    <tr>\n",
       "      <th>2</th>\n",
       "      <td>NaN</td>\n",
       "      <td>2021 OFFICE OF THE SPEAKER</td>\n",
       "      <td>3</td>\n",
       "      <td>OFFICIAL EXPENSES - LEADERSHIP</td>\n",
       "      <td>SUPPLIES AND MATERIALS</td>\n",
       "      <td>DETAIL</td>\n",
       "      <td>2021-08-03</td>\n",
       "      <td>AP</td>\n",
       "      <td>1448488</td>\n",
       "      <td>CAPITOL  HOST</td>\n",
       "      <td>2021-07-20</td>\n",
       "      <td>2021-07-20</td>\n",
       "      <td>FOOD &amp; BEVERAGE</td>\n",
       "      <td>259.38</td>\n",
       "      <td>2021</td>\n",
       "    </tr>\n",
       "    <tr>\n",
       "      <th>3</th>\n",
       "      <td>NaN</td>\n",
       "      <td>2021 OFFICE OF THE SPEAKER</td>\n",
       "      <td>3</td>\n",
       "      <td>OFFICIAL EXPENSES - LEADERSHIP</td>\n",
       "      <td>SUPPLIES AND MATERIALS</td>\n",
       "      <td>SUBTOTAL</td>\n",
       "      <td></td>\n",
       "      <td></td>\n",
       "      <td></td>\n",
       "      <td></td>\n",
       "      <td></td>\n",
       "      <td></td>\n",
       "      <td>SUPPLIES AND MATERIALS TOTALS:</td>\n",
       "      <td>682.79</td>\n",
       "      <td>2021</td>\n",
       "    </tr>\n",
       "    <tr>\n",
       "      <th>4</th>\n",
       "      <td>NaN</td>\n",
       "      <td>2021 OFFICE OF THE SPEAKER</td>\n",
       "      <td>3</td>\n",
       "      <td>OFFICIAL EXPENSES - LEADERSHIP</td>\n",
       "      <td>SUPPLIES AND MATERIALS</td>\n",
       "      <td>SUBTOTAL</td>\n",
       "      <td></td>\n",
       "      <td></td>\n",
       "      <td></td>\n",
       "      <td></td>\n",
       "      <td></td>\n",
       "      <td></td>\n",
       "      <td>OFFICIAL EXPENSES - LEADERSHIP TOTALS:</td>\n",
       "      <td>682.79</td>\n",
       "      <td>2021</td>\n",
       "    </tr>\n",
       "  </tbody>\n",
       "</table>\n",
       "</div>"
      ],
      "text/plain": [
       "  BIOGUIDE_ID                      OFFICE  QUARTER  \\\n",
       "0         NaN  2021 OFFICE OF THE SPEAKER        3   \n",
       "1         NaN  2021 OFFICE OF THE SPEAKER        3   \n",
       "2         NaN  2021 OFFICE OF THE SPEAKER        3   \n",
       "3         NaN  2021 OFFICE OF THE SPEAKER        3   \n",
       "4         NaN  2021 OFFICE OF THE SPEAKER        3   \n",
       "\n",
       "                          PROGRAM                CATEGORY SORT SEQUENCE  \\\n",
       "0  OFFICIAL EXPENSES - LEADERSHIP  SUPPLIES AND MATERIALS        DETAIL   \n",
       "1  OFFICIAL EXPENSES - LEADERSHIP  SUPPLIES AND MATERIALS        DETAIL   \n",
       "2  OFFICIAL EXPENSES - LEADERSHIP  SUPPLIES AND MATERIALS        DETAIL   \n",
       "3  OFFICIAL EXPENSES - LEADERSHIP  SUPPLIES AND MATERIALS      SUBTOTAL   \n",
       "4  OFFICIAL EXPENSES - LEADERSHIP  SUPPLIES AND MATERIALS      SUBTOTAL   \n",
       "\n",
       "         DATE TRANSCODE RECORDID          PAYEE  START DATE    END DATE  \\\n",
       "0  2021-08-03        AP  1448486  CAPITOL  HOST  2021-07-19  2021-07-19   \n",
       "1  2021-08-03        AP  1448487  CAPITOL  HOST  2021-07-20  2021-07-20   \n",
       "2  2021-08-03        AP  1448488  CAPITOL  HOST  2021-07-20  2021-07-20   \n",
       "3                                                                         \n",
       "4                                                                         \n",
       "\n",
       "                                  PURPOSE  AMOUNT  YEAR  \n",
       "0                         FOOD & BEVERAGE  298.58  2021  \n",
       "1                         FOOD & BEVERAGE  124.83  2021  \n",
       "2                         FOOD & BEVERAGE  259.38  2021  \n",
       "3          SUPPLIES AND MATERIALS TOTALS:  682.79  2021  \n",
       "4  OFFICIAL EXPENSES - LEADERSHIP TOTALS:  682.79  2021  "
      ]
     },
     "execution_count": 3,
     "metadata": {},
     "output_type": "execute_result"
    }
   ],
   "source": [
    "h2021q3 = pd.read_csv('2021Q3-house-disburse-detail.csv')\n",
    "h2021q3.head()"
   ]
  },
  {
   "cell_type": "markdown",
   "id": "5e17a0f7",
   "metadata": {},
   "source": [
    "Identify and remove the \"SORT SEQUENCE\" values that are not \"DETAIL\"s. (3 pts)"
   ]
  },
  {
   "cell_type": "code",
   "execution_count": 4,
   "id": "5b3d021f",
   "metadata": {},
   "outputs": [
    {
     "data": {
      "text/html": [
       "<div>\n",
       "<style scoped>\n",
       "    .dataframe tbody tr th:only-of-type {\n",
       "        vertical-align: middle;\n",
       "    }\n",
       "\n",
       "    .dataframe tbody tr th {\n",
       "        vertical-align: top;\n",
       "    }\n",
       "\n",
       "    .dataframe thead th {\n",
       "        text-align: right;\n",
       "    }\n",
       "</style>\n",
       "<table border=\"1\" class=\"dataframe\">\n",
       "  <thead>\n",
       "    <tr style=\"text-align: right;\">\n",
       "      <th></th>\n",
       "      <th>BIOGUIDE_ID</th>\n",
       "      <th>OFFICE</th>\n",
       "      <th>QUARTER</th>\n",
       "      <th>PROGRAM</th>\n",
       "      <th>CATEGORY</th>\n",
       "      <th>SORT SEQUENCE</th>\n",
       "      <th>DATE</th>\n",
       "      <th>TRANSCODE</th>\n",
       "      <th>RECORDID</th>\n",
       "      <th>PAYEE</th>\n",
       "      <th>START DATE</th>\n",
       "      <th>END DATE</th>\n",
       "      <th>PURPOSE</th>\n",
       "      <th>AMOUNT</th>\n",
       "      <th>YEAR</th>\n",
       "    </tr>\n",
       "  </thead>\n",
       "  <tbody>\n",
       "    <tr>\n",
       "      <th>0</th>\n",
       "      <td>NaN</td>\n",
       "      <td>2021 OFFICE OF THE SPEAKER</td>\n",
       "      <td>3</td>\n",
       "      <td>OFFICIAL EXPENSES - LEADERSHIP</td>\n",
       "      <td>SUPPLIES AND MATERIALS</td>\n",
       "      <td>DETAIL</td>\n",
       "      <td>2021-08-03</td>\n",
       "      <td>AP</td>\n",
       "      <td>1448486</td>\n",
       "      <td>CAPITOL  HOST</td>\n",
       "      <td>2021-07-19</td>\n",
       "      <td>2021-07-19</td>\n",
       "      <td>FOOD &amp; BEVERAGE</td>\n",
       "      <td>298.58</td>\n",
       "      <td>2021</td>\n",
       "    </tr>\n",
       "    <tr>\n",
       "      <th>1</th>\n",
       "      <td>NaN</td>\n",
       "      <td>2021 OFFICE OF THE SPEAKER</td>\n",
       "      <td>3</td>\n",
       "      <td>OFFICIAL EXPENSES - LEADERSHIP</td>\n",
       "      <td>SUPPLIES AND MATERIALS</td>\n",
       "      <td>DETAIL</td>\n",
       "      <td>2021-08-03</td>\n",
       "      <td>AP</td>\n",
       "      <td>1448487</td>\n",
       "      <td>CAPITOL  HOST</td>\n",
       "      <td>2021-07-20</td>\n",
       "      <td>2021-07-20</td>\n",
       "      <td>FOOD &amp; BEVERAGE</td>\n",
       "      <td>124.83</td>\n",
       "      <td>2021</td>\n",
       "    </tr>\n",
       "    <tr>\n",
       "      <th>2</th>\n",
       "      <td>NaN</td>\n",
       "      <td>2021 OFFICE OF THE SPEAKER</td>\n",
       "      <td>3</td>\n",
       "      <td>OFFICIAL EXPENSES - LEADERSHIP</td>\n",
       "      <td>SUPPLIES AND MATERIALS</td>\n",
       "      <td>DETAIL</td>\n",
       "      <td>2021-08-03</td>\n",
       "      <td>AP</td>\n",
       "      <td>1448488</td>\n",
       "      <td>CAPITOL  HOST</td>\n",
       "      <td>2021-07-20</td>\n",
       "      <td>2021-07-20</td>\n",
       "      <td>FOOD &amp; BEVERAGE</td>\n",
       "      <td>259.38</td>\n",
       "      <td>2021</td>\n",
       "    </tr>\n",
       "    <tr>\n",
       "      <th>5</th>\n",
       "      <td>NaN</td>\n",
       "      <td>2021 OFFICE OF THE SPEAKER</td>\n",
       "      <td>3</td>\n",
       "      <td>GENERAL EXPENDITURES</td>\n",
       "      <td>PERSONNEL COMPENSATION</td>\n",
       "      <td>DETAIL</td>\n",
       "      <td></td>\n",
       "      <td></td>\n",
       "      <td></td>\n",
       "      <td>BENNETT AARON M.</td>\n",
       "      <td>2021-07-01</td>\n",
       "      <td>2021-09-30</td>\n",
       "      <td>DEPUTY DIR OF SPEECHWRITING</td>\n",
       "      <td>15624.99</td>\n",
       "      <td>2021</td>\n",
       "    </tr>\n",
       "    <tr>\n",
       "      <th>6</th>\n",
       "      <td>NaN</td>\n",
       "      <td>2021 OFFICE OF THE SPEAKER</td>\n",
       "      <td>3</td>\n",
       "      <td>GENERAL EXPENDITURES</td>\n",
       "      <td>PERSONNEL COMPENSATION</td>\n",
       "      <td>DETAIL</td>\n",
       "      <td></td>\n",
       "      <td></td>\n",
       "      <td></td>\n",
       "      <td>BERRET EMILY C</td>\n",
       "      <td>2021-07-01</td>\n",
       "      <td>2021-07-31</td>\n",
       "      <td>DIR OF OPERATIONS &amp; ADVISOR</td>\n",
       "      <td>14166.67</td>\n",
       "      <td>2021</td>\n",
       "    </tr>\n",
       "  </tbody>\n",
       "</table>\n",
       "</div>"
      ],
      "text/plain": [
       "  BIOGUIDE_ID                      OFFICE  QUARTER  \\\n",
       "0         NaN  2021 OFFICE OF THE SPEAKER        3   \n",
       "1         NaN  2021 OFFICE OF THE SPEAKER        3   \n",
       "2         NaN  2021 OFFICE OF THE SPEAKER        3   \n",
       "5         NaN  2021 OFFICE OF THE SPEAKER        3   \n",
       "6         NaN  2021 OFFICE OF THE SPEAKER        3   \n",
       "\n",
       "                          PROGRAM                CATEGORY SORT SEQUENCE  \\\n",
       "0  OFFICIAL EXPENSES - LEADERSHIP  SUPPLIES AND MATERIALS        DETAIL   \n",
       "1  OFFICIAL EXPENSES - LEADERSHIP  SUPPLIES AND MATERIALS        DETAIL   \n",
       "2  OFFICIAL EXPENSES - LEADERSHIP  SUPPLIES AND MATERIALS        DETAIL   \n",
       "5            GENERAL EXPENDITURES  PERSONNEL COMPENSATION        DETAIL   \n",
       "6            GENERAL EXPENDITURES  PERSONNEL COMPENSATION        DETAIL   \n",
       "\n",
       "         DATE TRANSCODE RECORDID             PAYEE  START DATE    END DATE  \\\n",
       "0  2021-08-03        AP  1448486     CAPITOL  HOST  2021-07-19  2021-07-19   \n",
       "1  2021-08-03        AP  1448487     CAPITOL  HOST  2021-07-20  2021-07-20   \n",
       "2  2021-08-03        AP  1448488     CAPITOL  HOST  2021-07-20  2021-07-20   \n",
       "5                                 BENNETT AARON M.  2021-07-01  2021-09-30   \n",
       "6                                   BERRET EMILY C  2021-07-01  2021-07-31   \n",
       "\n",
       "                       PURPOSE    AMOUNT  YEAR  \n",
       "0              FOOD & BEVERAGE    298.58  2021  \n",
       "1              FOOD & BEVERAGE    124.83  2021  \n",
       "2              FOOD & BEVERAGE    259.38  2021  \n",
       "5  DEPUTY DIR OF SPEECHWRITING  15624.99  2021  \n",
       "6  DIR OF OPERATIONS & ADVISOR  14166.67  2021  "
      ]
     },
     "execution_count": 4,
     "metadata": {},
     "output_type": "execute_result"
    }
   ],
   "source": [
    "h2021q3_detail_df = h2021q3[h2021q3['SORT SEQUENCE'] == 'DETAIL']\n",
    "h2021q3_detail_df.head()"
   ]
  },
  {
   "cell_type": "markdown",
   "id": "3c7d07de",
   "metadata": {},
   "source": [
    "## Question 02: Filter and histogram (10 pts)\n",
    "\n",
    "Filter the \"CATEGORY\" column down to \"PERSONNEL COMPENSATION\". What House employee was paid the **third** (remember that pandas indexes from 0: the \"first\" value is at 0, the second is at 1, *etc*.) most in 2021Q3? Report strings from the \"PAYEE\" and \"PURPOSE\" columns. (2 pts)"
   ]
  },
  {
   "cell_type": "code",
   "execution_count": 22,
   "id": "a5265e28",
   "metadata": {},
   "outputs": [
    {
     "name": "stdout",
     "output_type": "stream",
     "text": [
      "The third highest paid detail under Personnel Compensation was 'Leopold Matthew B.', a 'Chief Of Staff'\n"
     ]
    }
   ],
   "source": [
    "personnel_df = h2021q3_detail_df[h2021q3_detail_df['CATEGORY'] == 'PERSONNEL COMPENSATION']\n",
    "third_most = personnel_df['AMOUNT'].sort_values(ascending=False).index[2]\n",
    "\n",
    "print(\"The third highest paid detail under Personnel Compensation was '{PAYEE}', a '{PURPOSE}'\".format(**personnel_df.loc[third_most,['PAYEE','PURPOSE']].str.title()))"
   ]
  },
  {
   "cell_type": "markdown",
   "id": "a34e841a",
   "metadata": {},
   "source": [
    "Make a histogram of all the amounts paid in personnel compensation in 2021Q3. Use appropriate bin counts, ranges, and scales to show meaningful variation in the data. (4 pts)"
   ]
  },
  {
   "cell_type": "code",
   "execution_count": 29,
   "id": "c0512241",
   "metadata": {},
   "outputs": [
    {
     "data": {
      "image/png": "[encoded data removed]",
      "text/plain": [
       "<Figure size 432x288 with 1 Axes>"
      ]
     },
     "metadata": {
      "needs_background": "light"
     },
     "output_type": "display_data"
    }
   ],
   "source": [
    "f,ax = plt.subplots()\n",
    "personnel_df['AMOUNT'].plot.hist(bins=np.geomspace(1,1000000,25),ax=ax)\n",
    "ax.set_xscale('log')\n",
    "# ax.set_yscale('log') # Semi-log or log-log are both fine"
   ]
  },
  {
   "cell_type": "markdown",
   "id": "7039a183",
   "metadata": {},
   "source": [
    "Add a vertical red line to the histogram with the *median* value of personnel compensation for 2021Q3. Show the updated figure. (2 pts)"
   ]
  },
  {
   "cell_type": "code",
   "execution_count": 31,
   "id": "06030df8",
   "metadata": {},
   "outputs": [
    {
     "data": {
      "image/png": "[encoded data removed]",
      "text/plain": [
       "<Figure size 432x288 with 1 Axes>"
      ]
     },
     "execution_count": 31,
     "metadata": {},
     "output_type": "execute_result"
    }
   ],
   "source": [
    "median_personnel = np.median(personnel_df['AMOUNT'])\n",
    "ax.axvline(median_personnel,color='r')\n",
    "\n",
    "f"
   ]
  },
  {
   "cell_type": "markdown",
   "id": "94871c9b",
   "metadata": {},
   "source": [
    "Make a horizontal boxplot of the same data and use appropriate scales to show the variation in the data. (2 pts)"
   ]
  },
  {
   "cell_type": "code",
   "execution_count": 36,
   "id": "045b1ed0",
   "metadata": {},
   "outputs": [
    {
     "data": {
      "image/png": "[encoded data removed]",
      "text/plain": [
       "<Figure size 432x288 with 1 Axes>"
      ]
     },
     "metadata": {
      "needs_background": "light"
     },
     "output_type": "display_data"
    }
   ],
   "source": [
    "f,ax = plt.subplots()\n",
    "personnel_df['AMOUNT'].plot.box(ax=ax,vert=False)\n",
    "# ax.set_xlim((1e0,1e6)) # They really should do this, but it's fine if they don't\n",
    "ax.set_xscale('log')"
   ]
  },
  {
   "cell_type": "markdown",
   "id": "4322f395",
   "metadata": {},
   "source": [
    "## Question 3: Congress Student loans (4 pts)"
   ]
  },
  {
   "cell_type": "markdown",
   "id": "24bd27e6",
   "metadata": {},
   "source": [
    "Filter the data to find (1) \"PAYEE\"S containing the string \"OF EDU\" in (2) the \"CATEGORY\" \"PERSONNEL BENEFITS\". (2 pts)"
   ]
  },
  {
   "cell_type": "code",
   "execution_count": 45,
   "id": "75686c25",
   "metadata": {},
   "outputs": [
    {
     "data": {
      "text/html": [
       "<div>\n",
       "<style scoped>\n",
       "    .dataframe tbody tr th:only-of-type {\n",
       "        vertical-align: middle;\n",
       "    }\n",
       "\n",
       "    .dataframe tbody tr th {\n",
       "        vertical-align: top;\n",
       "    }\n",
       "\n",
       "    .dataframe thead th {\n",
       "        text-align: right;\n",
       "    }\n",
       "</style>\n",
       "<table border=\"1\" class=\"dataframe\">\n",
       "  <thead>\n",
       "    <tr style=\"text-align: right;\">\n",
       "      <th></th>\n",
       "      <th>BIOGUIDE_ID</th>\n",
       "      <th>OFFICE</th>\n",
       "      <th>QUARTER</th>\n",
       "      <th>PROGRAM</th>\n",
       "      <th>CATEGORY</th>\n",
       "      <th>SORT SEQUENCE</th>\n",
       "      <th>DATE</th>\n",
       "      <th>TRANSCODE</th>\n",
       "      <th>RECORDID</th>\n",
       "      <th>PAYEE</th>\n",
       "      <th>START DATE</th>\n",
       "      <th>END DATE</th>\n",
       "      <th>PURPOSE</th>\n",
       "      <th>AMOUNT</th>\n",
       "      <th>YEAR</th>\n",
       "    </tr>\n",
       "  </thead>\n",
       "  <tbody>\n",
       "    <tr>\n",
       "      <th>97019</th>\n",
       "      <td>NaN</td>\n",
       "      <td>FISCAL YEAR 2021 GOVERNMENT CONTRIBUTIONS</td>\n",
       "      <td>3</td>\n",
       "      <td>GOVERNMENT CONTRIBUTIONS</td>\n",
       "      <td>PERSONNEL BENEFITS</td>\n",
       "      <td>DETAIL</td>\n",
       "      <td>2021-07-01</td>\n",
       "      <td>AP</td>\n",
       "      <td>1437658</td>\n",
       "      <td>DEPT OF EDUCATION/NAVIENT</td>\n",
       "      <td>2021-05-01</td>\n",
       "      <td>2021-05-31</td>\n",
       "      <td>STUDENT LOANS</td>\n",
       "      <td>833.00</td>\n",
       "      <td>2021</td>\n",
       "    </tr>\n",
       "    <tr>\n",
       "      <th>97020</th>\n",
       "      <td>NaN</td>\n",
       "      <td>FISCAL YEAR 2021 GOVERNMENT CONTRIBUTIONS</td>\n",
       "      <td>3</td>\n",
       "      <td>GOVERNMENT CONTRIBUTIONS</td>\n",
       "      <td>PERSONNEL BENEFITS</td>\n",
       "      <td>DETAIL</td>\n",
       "      <td>2021-07-01</td>\n",
       "      <td>AR</td>\n",
       "      <td>AC-17169</td>\n",
       "      <td>DEPARTMENT OF EDUCATION</td>\n",
       "      <td>2021-05-01</td>\n",
       "      <td>2021-05-31</td>\n",
       "      <td>STUDENT LOAN PAYMT</td>\n",
       "      <td>-365.83</td>\n",
       "      <td>2021</td>\n",
       "    </tr>\n",
       "    <tr>\n",
       "      <th>97021</th>\n",
       "      <td>NaN</td>\n",
       "      <td>FISCAL YEAR 2021 GOVERNMENT CONTRIBUTIONS</td>\n",
       "      <td>3</td>\n",
       "      <td>GOVERNMENT CONTRIBUTIONS</td>\n",
       "      <td>PERSONNEL BENEFITS</td>\n",
       "      <td>DETAIL</td>\n",
       "      <td>2021-07-01</td>\n",
       "      <td>AR</td>\n",
       "      <td>AC-17170</td>\n",
       "      <td>DEPARTMENT OF EDUCATION</td>\n",
       "      <td>2021-05-01</td>\n",
       "      <td>2021-05-31</td>\n",
       "      <td>STUDENT LOAN PAYMT</td>\n",
       "      <td>-135.68</td>\n",
       "      <td>2021</td>\n",
       "    </tr>\n",
       "    <tr>\n",
       "      <th>97022</th>\n",
       "      <td>NaN</td>\n",
       "      <td>FISCAL YEAR 2021 GOVERNMENT CONTRIBUTIONS</td>\n",
       "      <td>3</td>\n",
       "      <td>GOVERNMENT CONTRIBUTIONS</td>\n",
       "      <td>PERSONNEL BENEFITS</td>\n",
       "      <td>DETAIL</td>\n",
       "      <td>2021-07-01</td>\n",
       "      <td>AR</td>\n",
       "      <td>AC-17171</td>\n",
       "      <td>DEPARTMENT OF EDUCATION</td>\n",
       "      <td>2021-05-01</td>\n",
       "      <td>2021-05-31</td>\n",
       "      <td>STUDENT LOAN PAYMT</td>\n",
       "      <td>-612.63</td>\n",
       "      <td>2021</td>\n",
       "    </tr>\n",
       "    <tr>\n",
       "      <th>97023</th>\n",
       "      <td>NaN</td>\n",
       "      <td>FISCAL YEAR 2021 GOVERNMENT CONTRIBUTIONS</td>\n",
       "      <td>3</td>\n",
       "      <td>GOVERNMENT CONTRIBUTIONS</td>\n",
       "      <td>PERSONNEL BENEFITS</td>\n",
       "      <td>DETAIL</td>\n",
       "      <td>2021-07-01</td>\n",
       "      <td>AR</td>\n",
       "      <td>AC-17172</td>\n",
       "      <td>DEPARTMENT OF EDUCATION</td>\n",
       "      <td>2021-05-01</td>\n",
       "      <td>2021-05-31</td>\n",
       "      <td>STUDENT LOAN PAYMT</td>\n",
       "      <td>-468.39</td>\n",
       "      <td>2021</td>\n",
       "    </tr>\n",
       "  </tbody>\n",
       "</table>\n",
       "</div>"
      ],
      "text/plain": [
       "      BIOGUIDE_ID                                     OFFICE  QUARTER  \\\n",
       "97019         NaN  FISCAL YEAR 2021 GOVERNMENT CONTRIBUTIONS        3   \n",
       "97020         NaN  FISCAL YEAR 2021 GOVERNMENT CONTRIBUTIONS        3   \n",
       "97021         NaN  FISCAL YEAR 2021 GOVERNMENT CONTRIBUTIONS        3   \n",
       "97022         NaN  FISCAL YEAR 2021 GOVERNMENT CONTRIBUTIONS        3   \n",
       "97023         NaN  FISCAL YEAR 2021 GOVERNMENT CONTRIBUTIONS        3   \n",
       "\n",
       "                        PROGRAM            CATEGORY SORT SEQUENCE        DATE  \\\n",
       "97019  GOVERNMENT CONTRIBUTIONS  PERSONNEL BENEFITS        DETAIL  2021-07-01   \n",
       "97020  GOVERNMENT CONTRIBUTIONS  PERSONNEL BENEFITS        DETAIL  2021-07-01   \n",
       "97021  GOVERNMENT CONTRIBUTIONS  PERSONNEL BENEFITS        DETAIL  2021-07-01   \n",
       "97022  GOVERNMENT CONTRIBUTIONS  PERSONNEL BENEFITS        DETAIL  2021-07-01   \n",
       "97023  GOVERNMENT CONTRIBUTIONS  PERSONNEL BENEFITS        DETAIL  2021-07-01   \n",
       "\n",
       "      TRANSCODE  RECORDID                      PAYEE  START DATE    END DATE  \\\n",
       "97019        AP   1437658  DEPT OF EDUCATION/NAVIENT  2021-05-01  2021-05-31   \n",
       "97020        AR  AC-17169    DEPARTMENT OF EDUCATION  2021-05-01  2021-05-31   \n",
       "97021        AR  AC-17170    DEPARTMENT OF EDUCATION  2021-05-01  2021-05-31   \n",
       "97022        AR  AC-17171    DEPARTMENT OF EDUCATION  2021-05-01  2021-05-31   \n",
       "97023        AR  AC-17172    DEPARTMENT OF EDUCATION  2021-05-01  2021-05-31   \n",
       "\n",
       "                  PURPOSE  AMOUNT  YEAR  \n",
       "97019       STUDENT LOANS  833.00  2021  \n",
       "97020  STUDENT LOAN PAYMT -365.83  2021  \n",
       "97021  STUDENT LOAN PAYMT -135.68  2021  \n",
       "97022  STUDENT LOAN PAYMT -612.63  2021  \n",
       "97023  STUDENT LOAN PAYMT -468.39  2021  "
      ]
     },
     "execution_count": 45,
     "metadata": {},
     "output_type": "execute_result"
    }
   ],
   "source": [
    "c0 = h2021q3_detail_df['PAYEE'].str.contains('OF EDU')\n",
    "c1 = h2021q3_detail_df['CATEGORY'] == 'PERSONNEL BENEFITS'\n",
    "loans_df = h2021q3_detail_df[c0 & c1]\n",
    "loans_df.head()"
   ]
  },
  {
   "cell_type": "markdown",
   "id": "67239dc8",
   "metadata": {},
   "source": [
    "Make a boxplot of congressional disbursements for student loan repayment. (2 pts)"
   ]
  },
  {
   "cell_type": "code",
   "execution_count": 50,
   "id": "10d7c5a0",
   "metadata": {},
   "outputs": [
    {
     "data": {
      "image/png": "[encoded data removed]",
      "text/plain": [
       "<Figure size 432x288 with 1 Axes>"
      ]
     },
     "metadata": {
      "needs_background": "light"
     },
     "output_type": "display_data"
    }
   ],
   "source": [
    "f,ax = plt.subplots()\n",
    "loans_df['AMOUNT'].plot.box(ax=ax,vert=False) # Doesn't have to be horizontal\n",
    "ax.yaxis.set_visible(False)"
   ]
  },
  {
   "cell_type": "markdown",
   "id": "59880198",
   "metadata": {},
   "source": [
    "## Question 4: Complete the \"Big Idea Worksheet\" for your MA02 (10 pts)\n",
    "\n",
    "What is your preliminary idea for your MA02 blog post? (3 pts)"
   ]
  },
  {
   "cell_type": "code",
   "execution_count": null,
   "id": "0328edc5",
   "metadata": {},
   "outputs": [],
   "source": []
  },
  {
   "cell_type": "markdown",
   "id": "dc529da9",
   "metadata": {},
   "source": [
    "Who is your audience? (4 pts)\n",
    "* Who are the people or groups with whom you’re communicating?\n",
    "* How could that group be narrowed?\n",
    "* What does your audience care about?\n",
    "* What action does your audience need to take?"
   ]
  },
  {
   "cell_type": "code",
   "execution_count": null,
   "id": "05ccd17d",
   "metadata": {},
   "outputs": [],
   "source": []
  },
  {
   "cell_type": "markdown",
   "id": "a4be4804",
   "metadata": {},
   "source": [
    "What is at stake? (1 pt)\n",
    "* What are benefits and risks of audience acting how you want?"
   ]
  },
  {
   "cell_type": "code",
   "execution_count": null,
   "id": "010423ba",
   "metadata": {},
   "outputs": [],
   "source": []
  },
  {
   "cell_type": "markdown",
   "id": "c7f8b9b9",
   "metadata": {},
   "source": [
    "Form your big idea (2 pts)\n",
    "* Articulate a point of view\n",
    "* Convey what is at stake\n",
    "* What is a concise and complete statement of the idea?"
   ]
  },
  {
   "cell_type": "code",
   "execution_count": null,
   "id": "0d2c5803",
   "metadata": {},
   "outputs": [],
   "source": []
  }
 ],
 "metadata": {
  "kernelspec": {
   "display_name": "Python 3 (ipykernel)",
   "language": "python",
   "name": "python3"
  },
  "language_info": {
   "codemirror_mode": {
    "name": "ipython",
    "version": 3
   },
   "file_extension": ".py",
   "mimetype": "text/x-python",
   "name": "python",
   "nbconvert_exporter": "python",
   "pygments_lexer": "ipython3",
   "version": "3.9.9"
  }
 },
 "nbformat": 4,
 "nbformat_minor": 5
}
