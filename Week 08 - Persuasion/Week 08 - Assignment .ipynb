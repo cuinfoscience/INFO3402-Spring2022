{
 "cells": [
  {
   "cell_type": "markdown",
   "id": "aeaad0b1",
   "metadata": {},
   "source": [
    "# INFO 3402 – Week 08: Assignment\n",
    "\n",
    "[Brian C. Keegan, Ph.D.](http://brianckeegan.com/)  \n",
    "[Assistant Professor, Department of Information Science](https://www.colorado.edu/cmci/people/information-science/brian-c-keegan)  \n",
    "University of Colorado Boulder  \n",
    "\n",
    "Copyright and distributed under an [MIT License](https://opensource.org/licenses/MIT)"
   ]
  },
  {
   "cell_type": "markdown",
   "id": "7a8422e8",
   "metadata": {},
   "source": [
    "## Background\n",
    "\n",
    "1. The U.S. Census Bureau's [International Database](https://www.census.gov/programs-surveys/international-programs/about/idb.html) has detailed population estimates and forecasts for countries since 1960 through 2100. We'll use this data to practice our data cleaning, reshaping, and visualization skills so far.\n",
    "2. This week's readings and Module Assignment 03 are focused on persuasion as a type of communication. Integrate some themes from your readings and start to outline what you will do for MA03."
   ]
  },
  {
   "cell_type": "code",
   "execution_count": 4,
   "id": "7ddac778",
   "metadata": {},
   "outputs": [],
   "source": [
    "age_bucket_order = ['0-4','5-9','10-14','15-19','20-24','25-29','30-34','35-39',\n",
    "                    '40-44','45-49','50-54','55-59','60-64','65-69','70-74','75-79',\n",
    "                    '80-84','85-89','90-94','95-99','100-']"
   ]
  },
  {
   "cell_type": "markdown",
   "id": "511cb233",
   "metadata": {},
   "source": [
    "## Question 01: Load libraries; clean and explore datasets (7 pts)\n",
    "\n",
    "Import the `numpy`, `pandas`, matplotlib's `pyplot`, and `seaborn` libraries and the matplotlib cell magic. (1 pt)"
   ]
  },
  {
   "cell_type": "code",
   "execution_count": null,
   "id": "63ff74a8",
   "metadata": {},
   "outputs": [],
   "source": []
  },
  {
   "cell_type": "markdown",
   "id": "a91b4a85",
   "metadata": {},
   "source": [
    "Load the \"fiveyear_pop.csv\" file as `pop_df`. Cast the \"age\" and \"gender\" columns to a \"Categorical\" type, making sure the \"age\" variable is ordered following `age_bucket_order`. ([user guide](https://pandas.pydata.org/docs/reference/api/pandas.Categorical.html), [docs](https://pandas.pydata.org/docs/reference/api/pandas.Categorical.html), [tutorial](https://medium.com/swlh/categorical-data-in-pandas-9eaaff71e6f3)) (2 pts)"
   ]
  },
  {
   "cell_type": "code",
   "execution_count": null,
   "id": "78a0c328",
   "metadata": {},
   "outputs": [],
   "source": []
  },
  {
   "cell_type": "markdown",
   "id": "38ff3918",
   "metadata": {},
   "source": [
    "The cell below needs to resolve to `(True,True)`. (1 pt)"
   ]
  },
  {
   "cell_type": "code",
   "execution_count": null,
   "id": "e3ddb5ab",
   "metadata": {},
   "outputs": [],
   "source": [
    "pop_df['age'].cat.categories[-1] == age_bucket_order[-1], pop_df['age'].cat.ordered"
   ]
  },
  {
   "cell_type": "markdown",
   "id": "4ef42c0a",
   "metadata": {},
   "source": [
    "Remove the \"Both\" values from the \"gender\" column in `pop_df` and print the shape of male and female only `pop_df`. (1 pt)"
   ]
  },
  {
   "cell_type": "code",
   "execution_count": null,
   "id": "7e4f871b",
   "metadata": {},
   "outputs": [],
   "source": []
  },
  {
   "cell_type": "markdown",
   "id": "61cd14d9",
   "metadata": {},
   "source": [
    "Find the year and country with the maximum estimated/forecasted female population bracket. (2 pts)"
   ]
  },
  {
   "cell_type": "code",
   "execution_count": null,
   "id": "83bc9891",
   "metadata": {},
   "outputs": [],
   "source": []
  },
  {
   "cell_type": "markdown",
   "id": "c526fbf6",
   "metadata": {},
   "source": [
    "## Question 02: Find an unusual population pyramid (10 pts)\n",
    "\n",
    "Untidy/reshape/pivot the `pop_df` into a new DataFrame `pop_pivot_df` so that there are now columns for the male and female population for each country, year, and age bracket. Reset and rename indices as needed so we have simple, non-MultiIndex indices and columns. Inspect `pop_pivot_df`. ([docs](https://pandas.pydata.org/docs/reference/api/pandas.DataFrame.droplevel.html) and [hint](https://stackoverflow.com/a/22233719/1574687)) (3 pts)\n",
    "\n"
   ]
  },
  {
   "cell_type": "code",
   "execution_count": null,
   "id": "2282b9cc",
   "metadata": {},
   "outputs": [],
   "source": []
  },
  {
   "cell_type": "markdown",
   "id": "0b41dbd7",
   "metadata": {},
   "source": [
    "Use `pop_pivot_df` to make a new DataFrame `country_df` by filter the data to one country and year. Make the \"Male\" column values all negative. Inspect `country_df`. (2 pts)"
   ]
  },
  {
   "cell_type": "code",
   "execution_count": null,
   "id": "032b2013",
   "metadata": {},
   "outputs": [],
   "source": []
  },
  {
   "cell_type": "markdown",
   "id": "dea6a24c",
   "metadata": {},
   "source": [
    "Make a population pyramid of the male and female population per bracket for the country in that year. (3 pts)"
   ]
  },
  {
   "cell_type": "code",
   "execution_count": null,
   "id": "7acd582c",
   "metadata": {},
   "outputs": [],
   "source": []
  },
  {
   "cell_type": "markdown",
   "id": "50bf162c",
   "metadata": {},
   "source": [
    "Iterate on your initial choice of country and year above to find a combination that has an unusual distribution either by age or by gender. Show the population pyramid in the previous cell above. Write a few sentences in the cell below about why this country's population pyramid in this year is interesting or unusual. (2 pts)"
   ]
  },
  {
   "cell_type": "code",
   "execution_count": null,
   "id": "ea8c98b5",
   "metadata": {},
   "outputs": [],
   "source": []
  },
  {
   "cell_type": "markdown",
   "id": "3ea0b50c",
   "metadata": {},
   "source": [
    "**Extra credit (2 pts).** Spice up the population pyramid by using a non-default color palettes to differentiate men and women."
   ]
  },
  {
   "cell_type": "code",
   "execution_count": null,
   "id": "ace15e91",
   "metadata": {},
   "outputs": [],
   "source": []
  },
  {
   "cell_type": "markdown",
   "id": "813dc7a2",
   "metadata": {},
   "source": [
    "## Question 03: Summarize persuasion review article (6 pts)\n",
    "\n",
    "Based on the article you deep skimmed (see Canvas under Readings for Week 08), summarize some key findings from prior research and the most interesting/relevant parts of the framework. Deep skimming means not reading every sentence, but paying attention to the introduction and conclusion sections, understanding the figures and tables, focusing on the paragraphs discussing these figures and tables. (2 pts)"
   ]
  },
  {
   "cell_type": "code",
   "execution_count": null,
   "id": "cdf4f09f",
   "metadata": {},
   "outputs": [],
   "source": []
  },
  {
   "cell_type": "markdown",
   "id": "ba7886b3",
   "metadata": {},
   "source": [
    "How do the elements of the review article's findings and/or frameworks map onto the op-ed you read in class? (2 pts)"
   ]
  },
  {
   "cell_type": "code",
   "execution_count": null,
   "id": "f6a80036",
   "metadata": {},
   "outputs": [],
   "source": []
  },
  {
   "cell_type": "markdown",
   "id": "6fd9aff6",
   "metadata": {},
   "source": [
    "How will the elements of the review article's findings and/or frameworks inform how you approach your persuasion strategies for MA03? (2 pts)"
   ]
  },
  {
   "cell_type": "code",
   "execution_count": null,
   "id": "1bcb28c0",
   "metadata": {},
   "outputs": [],
   "source": []
  },
  {
   "cell_type": "markdown",
   "id": "8ace89d3",
   "metadata": {},
   "source": [
    "## Question 04: Outline persuasive structure of MA03 (7 pts)\n",
    "\n",
    "Using any of the ideas from the readings and lecture, outline a 5-6 paragraph persuasive editorial for your MA03.\n",
    "\n",
    "What is your lede and opening paragraph and call to action? (1 pt)"
   ]
  },
  {
   "cell_type": "code",
   "execution_count": null,
   "id": "311f12c1",
   "metadata": {},
   "outputs": [],
   "source": []
  },
  {
   "cell_type": "markdown",
   "id": "fb7c3dd6",
   "metadata": {},
   "source": [
    "What is your core argument and need for action? (1 pt)"
   ]
  },
  {
   "cell_type": "code",
   "execution_count": null,
   "id": "6e4d6410",
   "metadata": {},
   "outputs": [],
   "source": []
  },
  {
   "cell_type": "markdown",
   "id": "61aa377e",
   "metadata": {},
   "source": [
    "What are your three core paragraphs and evidence? (3 pts)"
   ]
  },
  {
   "cell_type": "code",
   "execution_count": null,
   "id": "e2b58f14",
   "metadata": {},
   "outputs": [],
   "source": []
  },
  {
   "cell_type": "markdown",
   "id": "8fee4b42",
   "metadata": {},
   "source": [
    "What is your \"to be sure\" and concluding paragraph? (1 pt)"
   ]
  },
  {
   "cell_type": "code",
   "execution_count": null,
   "id": "06ba6e49",
   "metadata": {},
   "outputs": [],
   "source": []
  },
  {
   "cell_type": "markdown",
   "id": "0bc43765",
   "metadata": {},
   "source": [
    "What kind of visualization will you use? (1 pt)"
   ]
  },
  {
   "cell_type": "code",
   "execution_count": null,
   "id": "01a2b6cb",
   "metadata": {},
   "outputs": [],
   "source": []
  }
 ],
 "metadata": {
  "kernelspec": {
   "display_name": "Python 3 (ipykernel)",
   "language": "python",
   "name": "python3"
  },
  "language_info": {
   "codemirror_mode": {
    "name": "ipython",
    "version": 3
   },
   "file_extension": ".py",
   "mimetype": "text/x-python",
   "name": "python",
   "nbconvert_exporter": "python",
   "pygments_lexer": "ipython3",
   "version": "3.9.10"
  }
 },
 "nbformat": 4,
 "nbformat_minor": 5
}
