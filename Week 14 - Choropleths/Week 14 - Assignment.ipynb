{
 "cells": [
  {
   "cell_type": "markdown",
   "id": "aeaad0b1",
   "metadata": {},
   "source": [
    "# INFO 3402 – Week 14: Assignment - Solutions\n",
    "\n",
    "[Brian C. Keegan, Ph.D.](http://brianckeegan.com/)  \n",
    "[Assistant Professor, Department of Information Science](https://www.colorado.edu/cmci/people/information-science/brian-c-keegan)  \n",
    "University of Colorado Boulder  \n",
    "\n",
    "Copyright and distributed under an [MIT License](https://opensource.org/licenses/MIT)"
   ]
  },
  {
   "cell_type": "code",
   "execution_count": 1,
   "id": "9476d3fe",
   "metadata": {},
   "outputs": [],
   "source": [
    "import pandas as pd\n",
    "import geopandas as gpd\n",
    "import numpy as np\n",
    "\n",
    "%matplotlib inline\n",
    "import matplotlib.pyplot as plt"
   ]
  },
  {
   "cell_type": "markdown",
   "id": "bfc2dcee",
   "metadata": {},
   "source": [
    "## Question 01: Clean Colorado precinct results (15 pts)\n",
    "\n",
    "Download the 2020 \"General Election precinct-level results in Excel\" from the Colorado Secretary of State: https://www.sos.state.co.us/pubs/elections/Results/Archives.html\n",
    "\n",
    "Load the results and store as `co_results_df` making sure the \"Precinct\" column is read in as a string. (3 pts)"
   ]
  },
  {
   "cell_type": "code",
   "execution_count": null,
   "id": "aa805786",
   "metadata": {},
   "outputs": [],
   "source": []
  },
  {
   "cell_type": "markdown",
   "id": "c73afc3b",
   "metadata": {},
   "source": [
    "Make two boolean indexed filters variables using `co_results_df` to:\n",
    "\n",
    "1. The \"President/Vice President\" for the \"Office\" column\n",
    "2. The Democratic and Republican parties in the \"Party\" column\n",
    "\n",
    "Use the intersection of the two filters and store as `pres_results_df`. Print the shape and first five rows of `pres_results_df`. (3 pts)"
   ]
  },
  {
   "cell_type": "code",
   "execution_count": null,
   "id": "3e198e99",
   "metadata": {},
   "outputs": [],
   "source": []
  },
  {
   "cell_type": "markdown",
   "id": "f4217f46",
   "metadata": {},
   "source": [
    "Use `pres_results_df` to make a pivot table called `pres_precincts_df` with the \"Precinct\" column as an index, the \"Candidate\" column as columns, and the \"Candidate Votes\" as values. Print the shape and first five rows of `pres_precincts_df`. (2 pts)"
   ]
  },
  {
   "cell_type": "code",
   "execution_count": null,
   "id": "768452b3",
   "metadata": {},
   "outputs": [],
   "source": []
  },
  {
   "cell_type": "markdown",
   "id": "85aad47d",
   "metadata": {},
   "source": [
    "Filter `co_results_df` to the \"President/Vice President\" \"Office\" (I would strongly encourage you to re-use the filter variable you should've defined two steps back) and then perform a groupby-aggreation to compute the total \"Candidate Votes\" per \"Precinct\" as `total_precinct_votes`. (2 pts)"
   ]
  },
  {
   "cell_type": "code",
   "execution_count": null,
   "id": "9899418f",
   "metadata": {},
   "outputs": [],
   "source": []
  },
  {
   "cell_type": "markdown",
   "id": "25c17bd7",
   "metadata": {},
   "source": [
    "Perform a left join/merge with with `pres_precincts_df` as the left DataFrame and `total_precinct_votes` as the right DataFrame ans store as `precincts_df`. Print the shape and the first five rows of `precincts_df`. (2 pts)"
   ]
  },
  {
   "cell_type": "code",
   "execution_count": null,
   "id": "e33f89c3",
   "metadata": {},
   "outputs": [],
   "source": []
  },
  {
   "cell_type": "markdown",
   "id": "47fda4d4",
   "metadata": {},
   "source": [
    "Rename the columns of `precincts_df` to be \"Republican\", \"Democratic\", and \"Total\". Compute two new columns in `precincts_df` called \"Dem_Share\" and \"Rep_Shape\" that are the fraction of Democratic and Republican Votes (respectively) out of the \"Total\" votes in the precinct. Print the shape and the first five rows of `precincts_df`. (3 pts)"
   ]
  },
  {
   "cell_type": "code",
   "execution_count": null,
   "id": "6ba49a73",
   "metadata": {},
   "outputs": [],
   "source": []
  },
  {
   "cell_type": "markdown",
   "id": "e4082177",
   "metadata": {},
   "source": [
    "## Question 02: Boulder County precincts shapefile (15 pts)\n",
    "\n",
    "Download and unzip the Boulder County precinct shapefile: https://opendata-bouldercounty.hub.arcgis.com/datasets/precincts\n",
    "\n",
    "Use GeoPandas's `read_file` function to load the \"Precincts.shp\" shapefile as `boco_precincts_gdf` with the \"PRECINCT\" column as a string. Print the shape and show the first five rows of `boco_precincts_gdf`. (2 pts)"
   ]
  },
  {
   "cell_type": "code",
   "execution_count": null,
   "id": "c0845625",
   "metadata": {},
   "outputs": [],
   "source": []
  },
  {
   "cell_type": "markdown",
   "id": "7e7cf0df",
   "metadata": {},
   "source": [
    "Use the plot method for GeoPandas ([docs](https://geopandas.org/en/stable/docs/reference/api/geopandas.GeoDataFrame.plot.html)) on `boco_precincts_gdf` and make the \"color\" white, \"edgecolor\" black, and remove the visibility of the ticklabels on the xaxis and yaxis. (3 pts)"
   ]
  },
  {
   "cell_type": "code",
   "execution_count": null,
   "id": "1b9d1b2c",
   "metadata": {},
   "outputs": [],
   "source": []
  },
  {
   "cell_type": "markdown",
   "id": "2c934201",
   "metadata": {},
   "source": [
    "Check to make sure there's some overlap between the \"PRECINCT\" column in `boco_precincts_gdf` and the index in `precincts_df`. Print the length of the intersection of these two sets. (1 pts)"
   ]
  },
  {
   "cell_type": "code",
   "execution_count": null,
   "id": "9b4b77b6",
   "metadata": {},
   "outputs": [],
   "source": []
  },
  {
   "cell_type": "markdown",
   "id": "a5eac70b",
   "metadata": {},
   "source": [
    "Perform a left join/merge with with `boco_precincts_gdf` as the left DataFrame and `precincts_df` as the right DataFrame and store as `boulder_precinct_results_df` using the precinct columns/indices as a key. Print the shape and the first five rows of `boulder_precinct_results_df`. (3 pts)"
   ]
  },
  {
   "cell_type": "code",
   "execution_count": null,
   "id": "455952a9",
   "metadata": {},
   "outputs": [],
   "source": []
  },
  {
   "cell_type": "markdown",
   "id": "aa6bcd53",
   "metadata": {},
   "source": [
    "Make a choropleth of `boulder_precinct_results_df` with \"Rep_Share\" as the \"column\" to visualize. Set the \"vmin\" and \"vmax\" to cover the range [0,1], the \"cmap\" to \"bwr\", the \"edgecolor\" to black, include a legend, and remove the ticklabels. (4 pts)"
   ]
  },
  {
   "cell_type": "code",
   "execution_count": null,
   "id": "5517be9c",
   "metadata": {},
   "outputs": [],
   "source": []
  },
  {
   "cell_type": "markdown",
   "id": "2eaa4860",
   "metadata": {},
   "source": [
    "Write a few sentences about the patterns you see in the precinct-level results about the 2020 presidential election. (2 pts)"
   ]
  },
  {
   "cell_type": "raw",
   "id": "44bd576c",
   "metadata": {},
   "source": []
  },
  {
   "cell_type": "markdown",
   "id": "b99e7a6c",
   "metadata": {},
   "source": [
    "**Extra credit**. Make a scatterplot of the area of the precincts against the \"Dem_Share\". Keeping in mind that the precinct areas are strongly skewed and need to be log-scaled, report the correlation coefficient, use `linregress` to estimate a model, and interpret the slope parameter. Write a few sentences about what this relationship implies. (4 pts)"
   ]
  },
  {
   "cell_type": "code",
   "execution_count": null,
   "id": "e48fadaa",
   "metadata": {},
   "outputs": [],
   "source": []
  },
  {
   "cell_type": "markdown",
   "id": "29f496ad",
   "metadata": {},
   "source": [
    "## Question 03: Visualize county-level results (25 pts)\n",
    "\n",
    "Go to the State of Colorado's State Demography Office and download and unzip the \"Counties\" data under \"2020 Census Statistical Geography\": https://demography.dola.colorado.gov/assets/html/gis.html\n",
    "\n",
    "Use GeoPandas's `read_file` function to load the \"County_Data_2020.shp\" shapefile as `counties_gdf`. Print the shape and show the first five rows of `counties_gdf`. (2 pts)"
   ]
  },
  {
   "cell_type": "code",
   "execution_count": null,
   "id": "672e906a",
   "metadata": {},
   "outputs": [],
   "source": []
  },
  {
   "cell_type": "markdown",
   "id": "06798a9d",
   "metadata": {},
   "source": [
    "Use the plot method for GeoPandas ([docs](https://geopandas.org/en/stable/docs/reference/api/geopandas.GeoDataFrame.plot.html)) on `counties_gdf` and make the \"color\" white, \"edgecolor\" black, and remove the visibility of the ticklabels on the xaxis and yaxis. (3 pts)"
   ]
  },
  {
   "cell_type": "code",
   "execution_count": null,
   "id": "57e04f45",
   "metadata": {},
   "outputs": [],
   "source": []
  },
  {
   "cell_type": "markdown",
   "id": "5de2b0fe",
   "metadata": {},
   "source": [
    "Use `pres_results_df` to make a pivot table with \"County\" as an index, \"Candidate\" as columns, \"Candidate Votes\" as values, and a sum aggfunc and store as `pres_county_df`. (2 pts)"
   ]
  },
  {
   "cell_type": "code",
   "execution_count": null,
   "id": "8dede793",
   "metadata": {},
   "outputs": [],
   "source": []
  },
  {
   "cell_type": "markdown",
   "id": "269f5e85",
   "metadata": {},
   "source": [
    "Filter `co_results_df` to the \"President/Vice President\" \"Office\" and then perform a groupby-aggreation to compute the total \"Candidate Votes\" per \"County\". Store the aggregated DataFrame as `total_county_votes`. Show the first five rows of `total_county_votes`. (2 pts)"
   ]
  },
  {
   "cell_type": "code",
   "execution_count": null,
   "id": "510bfd13",
   "metadata": {},
   "outputs": [],
   "source": []
  },
  {
   "cell_type": "markdown",
   "id": "b3637cd3",
   "metadata": {},
   "source": [
    "Merge `pres_county_df` (left) and `counties_df` (right) together as `county_total_df`. Print the shape and show the first five rows of `counties_df`. (3 pts)"
   ]
  },
  {
   "cell_type": "code",
   "execution_count": null,
   "id": "47450e5b",
   "metadata": {},
   "outputs": [],
   "source": []
  },
  {
   "cell_type": "markdown",
   "id": "0e455cc1",
   "metadata": {},
   "source": [
    "Rename the columns of `counties_df` to be \"Republican\", \"Democratic\", and \"Total\". Compute two new columns in `counties_df` called \"Dem_Share\" and \"Rep_Shape\" that are the fraction of Democratic and Republican Votes (respectively) out of the \"Total\" votes in the precinct. Print the shape and the first five rows of `counties_df`. (3 pts)"
   ]
  },
  {
   "cell_type": "code",
   "execution_count": null,
   "id": "e668c7d3",
   "metadata": {},
   "outputs": [],
   "source": []
  },
  {
   "cell_type": "markdown",
   "id": "3591a0f4",
   "metadata": {},
   "source": [
    "Perform a left join/merge with with `counties_gdf` as the left DataFrame and `counties_df` as the right DataFrame and store as `counties_results_df` using the \"NAME20\" column (left) and index (right). Print the shape and the first five rows of `counties_results_df`. (3 pts)"
   ]
  },
  {
   "cell_type": "code",
   "execution_count": null,
   "id": "5b6387e0",
   "metadata": {},
   "outputs": [],
   "source": []
  },
  {
   "cell_type": "markdown",
   "id": "b1619897",
   "metadata": {},
   "source": [
    "Make a choropleth of `counties_results_df` with \"Rep_Share\" as the \"column\" to visualize. Set the \"vmin\" and \"vmax\" to cover the range [0,1], the \"cmap\" to \"bwr\", the \"edgecolor\" to black, include a legend, and remove the ticklabels. (4 pts)"
   ]
  },
  {
   "cell_type": "code",
   "execution_count": null,
   "id": "a075cf4c",
   "metadata": {},
   "outputs": [],
   "source": []
  },
  {
   "cell_type": "markdown",
   "id": "a174e95d",
   "metadata": {},
   "source": [
    "Write a few sentences about the patterns you see in the county-level results about the 2020 presidential election. (3 pts)"
   ]
  },
  {
   "cell_type": "code",
   "execution_count": null,
   "id": "7ce03f6d",
   "metadata": {},
   "outputs": [],
   "source": []
  },
  {
   "cell_type": "markdown",
   "id": "f5e300b7",
   "metadata": {},
   "source": [
    "**Extra credit**. Annotate each county with its name and \"Rep_Share\" at its \"representative_point\" ([docs](https://shapely.readthedocs.io/en/stable/manual.html)). ([Hint](https://stackoverflow.com/a/38902492/1574687)) (3 pts)"
   ]
  },
  {
   "cell_type": "code",
   "execution_count": null,
   "id": "a663b262",
   "metadata": {},
   "outputs": [],
   "source": []
  }
 ],
 "metadata": {
  "kernelspec": {
   "display_name": "Python 3 (ipykernel)",
   "language": "python",
   "name": "python3"
  },
  "language_info": {
   "codemirror_mode": {
    "name": "ipython",
    "version": 3
   },
   "file_extension": ".py",
   "mimetype": "text/x-python",
   "name": "python",
   "nbconvert_exporter": "python",
   "pygments_lexer": "ipython3",
   "version": "3.9.12"
  }
 },
 "nbformat": 4,
 "nbformat_minor": 5
}
