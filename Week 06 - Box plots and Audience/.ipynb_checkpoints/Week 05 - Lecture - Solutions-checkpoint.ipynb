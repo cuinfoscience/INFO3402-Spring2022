{
 "cells": [
  {
   "cell_type": "markdown",
   "id": "5907ff57",
   "metadata": {},
   "source": [
    "# INFO 3402 – Week 05: Histograms and Perception\n",
    "\n",
    "[Brian C. Keegan, Ph.D.](http://brianckeegan.com/)  \n",
    "[Assistant Professor, Department of Information Science](https://www.colorado.edu/cmci/people/information-science/brian-c-keegan)  \n",
    "University of Colorado Boulder  \n",
    "\n",
    "Copyright and distributed under an [MIT License](https://opensource.org/licenses/MIT)  "
   ]
  },
  {
   "cell_type": "markdown",
   "id": "dd15daba",
   "metadata": {},
   "source": [
    "## Setup"
   ]
  },
  {
   "cell_type": "code",
   "execution_count": 1,
   "id": "a7ab87e0",
   "metadata": {},
   "outputs": [],
   "source": [
    "import numpy as np\n",
    "np.set_printoptions(suppress=True)\n",
    "import pandas as pd\n",
    "\n",
    "idx = pd.IndexSlice\n",
    "\n",
    "pd.options.display.max_columns = 100"
   ]
  },
  {
   "cell_type": "markdown",
   "id": "cd66ed92",
   "metadata": {},
   "source": [
    "Load the Boulder and Broomfield weather data from Week 1."
   ]
  },
  {
   "cell_type": "code",
   "execution_count": 2,
   "id": "15a2015b",
   "metadata": {
    "scrolled": true
   },
   "outputs": [
    {
     "data": {
      "text/html": [
       "<div>\n",
       "<style scoped>\n",
       "    .dataframe tbody tr th:only-of-type {\n",
       "        vertical-align: middle;\n",
       "    }\n",
       "\n",
       "    .dataframe tbody tr th {\n",
       "        vertical-align: top;\n",
       "    }\n",
       "\n",
       "    .dataframe thead th {\n",
       "        text-align: right;\n",
       "    }\n",
       "</style>\n",
       "<table border=\"1\" class=\"dataframe\">\n",
       "  <thead>\n",
       "    <tr style=\"text-align: right;\">\n",
       "      <th></th>\n",
       "      <th>DATE</th>\n",
       "      <th>TEMP</th>\n",
       "      <th>MIN</th>\n",
       "      <th>MAX</th>\n",
       "      <th>DEWP</th>\n",
       "      <th>STP</th>\n",
       "      <th>VISIB</th>\n",
       "      <th>WDSP</th>\n",
       "      <th>MXSPD</th>\n",
       "      <th>GUST</th>\n",
       "      <th>PRCP</th>\n",
       "    </tr>\n",
       "  </thead>\n",
       "  <tbody>\n",
       "    <tr>\n",
       "      <th>0</th>\n",
       "      <td>2010-01-01</td>\n",
       "      <td>30.4</td>\n",
       "      <td>24.8</td>\n",
       "      <td>39.2</td>\n",
       "      <td>9.9</td>\n",
       "      <td>828.5</td>\n",
       "      <td>46.9</td>\n",
       "      <td>6.1</td>\n",
       "      <td>11.1</td>\n",
       "      <td>NaN</td>\n",
       "      <td>0.0</td>\n",
       "    </tr>\n",
       "    <tr>\n",
       "      <th>1</th>\n",
       "      <td>2010-01-02</td>\n",
       "      <td>32.3</td>\n",
       "      <td>21.2</td>\n",
       "      <td>44.6</td>\n",
       "      <td>19.6</td>\n",
       "      <td>825.1</td>\n",
       "      <td>29.4</td>\n",
       "      <td>5.5</td>\n",
       "      <td>12.0</td>\n",
       "      <td>NaN</td>\n",
       "      <td>0.0</td>\n",
       "    </tr>\n",
       "    <tr>\n",
       "      <th>2</th>\n",
       "      <td>2010-01-03</td>\n",
       "      <td>33.9</td>\n",
       "      <td>28.4</td>\n",
       "      <td>39.2</td>\n",
       "      <td>20.4</td>\n",
       "      <td>830.1</td>\n",
       "      <td>27.8</td>\n",
       "      <td>5.2</td>\n",
       "      <td>12.0</td>\n",
       "      <td>20.0</td>\n",
       "      <td>NaN</td>\n",
       "    </tr>\n",
       "    <tr>\n",
       "      <th>3</th>\n",
       "      <td>2010-01-04</td>\n",
       "      <td>30.7</td>\n",
       "      <td>19.4</td>\n",
       "      <td>41.0</td>\n",
       "      <td>19.3</td>\n",
       "      <td>831.7</td>\n",
       "      <td>36.1</td>\n",
       "      <td>2.7</td>\n",
       "      <td>6.0</td>\n",
       "      <td>NaN</td>\n",
       "      <td>0.0</td>\n",
       "    </tr>\n",
       "    <tr>\n",
       "      <th>4</th>\n",
       "      <td>2010-01-05</td>\n",
       "      <td>39.9</td>\n",
       "      <td>28.4</td>\n",
       "      <td>48.2</td>\n",
       "      <td>17.6</td>\n",
       "      <td>825.5</td>\n",
       "      <td>43.1</td>\n",
       "      <td>9.3</td>\n",
       "      <td>25.1</td>\n",
       "      <td>33.0</td>\n",
       "      <td>0.0</td>\n",
       "    </tr>\n",
       "  </tbody>\n",
       "</table>\n",
       "</div>"
      ],
      "text/plain": [
       "         DATE  TEMP   MIN   MAX  DEWP    STP  VISIB  WDSP  MXSPD  GUST  PRCP\n",
       "0  2010-01-01  30.4  24.8  39.2   9.9  828.5   46.9   6.1   11.1   NaN   0.0\n",
       "1  2010-01-02  32.3  21.2  44.6  19.6  825.1   29.4   5.5   12.0   NaN   0.0\n",
       "2  2010-01-03  33.9  28.4  39.2  20.4  830.1   27.8   5.2   12.0  20.0   NaN\n",
       "3  2010-01-04  30.7  19.4  41.0  19.3  831.7   36.1   2.7    6.0   NaN   0.0\n",
       "4  2010-01-05  39.9  28.4  48.2  17.6  825.5   43.1   9.3   25.1  33.0   0.0"
      ]
     },
     "execution_count": 2,
     "metadata": {},
     "output_type": "execute_result"
    }
   ],
   "source": [
    "boulder_df = pd.read_csv('../Week 01 - Loading and Documentation/boulder_weather.csv',header=1,sep='|')\n",
    "boulder_df.head()"
   ]
  },
  {
   "cell_type": "markdown",
   "id": "81a9a490",
   "metadata": {},
   "source": [
    "## Background\n",
    "\n",
    "We've discussed the *shape* of DataFrames in terms of rows, columns, MultiIndicies, and tidy data. But for our first encounter with data visualization, we want to explore the *shape* of data values themselves. A classic and still influential practice is to visualize the distribution of data values as histograms.\n",
    "\n",
    "We are going to spend a lot of time for the rest of class working with the [matplotlib](https://matplotlib.org/) data visualization library. Many other parts of Python's data analysis ecosystem, including pandas and seaborn, interface with matplotlib for visualization. In particular, we are going to use matplotlib's \"[object-oriented](https://matplotlib.org/stable/tutorials/introductory/usage.html?highlight=object%20oriented#coding-styles)\" coding style for constucting and customizing visualizations. Here is the \"anatomy\" of a matplotlib figure with the corresponding methods for changing that part of a figure. We'll be referencing this a lot!\n",
    "\n",
    "![Anatomy of a matplotlib figure](https://matplotlib.org/stable/_images/sphx_glr_anatomy_001.png)"
   ]
  },
  {
   "cell_type": "markdown",
   "id": "c121cb10",
   "metadata": {},
   "source": [
    "## Setting up matplotlib\n",
    "\n",
    "When we use matplotlib within a Jupyter Notebook, we have to run a special command called a \"[cell magic](https://ipython.readthedocs.io/en/stable/interactive/magics.html)\" so that the images it generates are included in the notebook. If you didn't have the `%matplotlib inline` cell magic, you would need to run a command like `plt.show()` or `plt.savefig()` to see the output of your visualization. \n",
    "\n",
    "We also construct and manage plots through matplotlib's `pyplot` ([docs](https://matplotlib.org/stable/api/_as_gen/matplotlib.pyplot.html)) interface. The `pyplot` module contains many functions for improving plots.\n",
    "\n",
    "**Take-away 01**: If you're using matplotlib in a Jupyter Notebook, include the `%matplotlib inline` command.  \n",
    "**Take-away 02**: Always import and alias the pyplot interface at a minimum: `import matplotlib.pyplot as plt`"
   ]
  },
  {
   "cell_type": "code",
   "execution_count": 3,
   "id": "affa8d46",
   "metadata": {},
   "outputs": [],
   "source": [
    "%matplotlib inline\n",
    "\n",
    "import matplotlib.pyplot as plt"
   ]
  },
  {
   "cell_type": "markdown",
   "id": "2c9f36b5",
   "metadata": {},
   "source": [
    "### Exercise 01: Load Broomfield weather data"
   ]
  },
  {
   "cell_type": "code",
   "execution_count": 4,
   "id": "b916b1ae",
   "metadata": {},
   "outputs": [
    {
     "data": {
      "text/html": [
       "<div>\n",
       "<style scoped>\n",
       "    .dataframe tbody tr th:only-of-type {\n",
       "        vertical-align: middle;\n",
       "    }\n",
       "\n",
       "    .dataframe tbody tr th {\n",
       "        vertical-align: top;\n",
       "    }\n",
       "\n",
       "    .dataframe thead th {\n",
       "        text-align: right;\n",
       "    }\n",
       "</style>\n",
       "<table border=\"1\" class=\"dataframe\">\n",
       "  <thead>\n",
       "    <tr style=\"text-align: right;\">\n",
       "      <th></th>\n",
       "      <th>DATE</th>\n",
       "      <th>TEMP</th>\n",
       "      <th>MIN</th>\n",
       "      <th>MAX</th>\n",
       "      <th>DEWP</th>\n",
       "      <th>STP</th>\n",
       "      <th>VISIB</th>\n",
       "      <th>WDSP</th>\n",
       "      <th>MXSPD</th>\n",
       "      <th>GUST</th>\n",
       "      <th>PRCP</th>\n",
       "    </tr>\n",
       "  </thead>\n",
       "  <tbody>\n",
       "    <tr>\n",
       "      <th>0</th>\n",
       "      <td>2010-02-01</td>\n",
       "      <td>46.8</td>\n",
       "      <td>44.6</td>\n",
       "      <td>50.0</td>\n",
       "      <td>11.3</td>\n",
       "      <td>NaN</td>\n",
       "      <td>10.0</td>\n",
       "      <td>11.9</td>\n",
       "      <td>15.9</td>\n",
       "      <td>25.1</td>\n",
       "      <td>0.0</td>\n",
       "    </tr>\n",
       "    <tr>\n",
       "      <th>1</th>\n",
       "      <td>2010-02-02</td>\n",
       "      <td>36.9</td>\n",
       "      <td>26.6</td>\n",
       "      <td>46.4</td>\n",
       "      <td>14.6</td>\n",
       "      <td>NaN</td>\n",
       "      <td>10.0</td>\n",
       "      <td>2.5</td>\n",
       "      <td>9.9</td>\n",
       "      <td>20.0</td>\n",
       "      <td>0.0</td>\n",
       "    </tr>\n",
       "    <tr>\n",
       "      <th>2</th>\n",
       "      <td>2010-02-03</td>\n",
       "      <td>38.3</td>\n",
       "      <td>30.2</td>\n",
       "      <td>48.2</td>\n",
       "      <td>18.9</td>\n",
       "      <td>NaN</td>\n",
       "      <td>10.0</td>\n",
       "      <td>1.2</td>\n",
       "      <td>4.1</td>\n",
       "      <td>NaN</td>\n",
       "      <td>0.0</td>\n",
       "    </tr>\n",
       "    <tr>\n",
       "      <th>3</th>\n",
       "      <td>2010-02-04</td>\n",
       "      <td>41.7</td>\n",
       "      <td>33.8</td>\n",
       "      <td>51.8</td>\n",
       "      <td>26.8</td>\n",
       "      <td>NaN</td>\n",
       "      <td>8.9</td>\n",
       "      <td>3.7</td>\n",
       "      <td>26.0</td>\n",
       "      <td>33.0</td>\n",
       "      <td>NaN</td>\n",
       "    </tr>\n",
       "    <tr>\n",
       "      <th>4</th>\n",
       "      <td>2010-02-05</td>\n",
       "      <td>41.7</td>\n",
       "      <td>32.0</td>\n",
       "      <td>50.0</td>\n",
       "      <td>13.9</td>\n",
       "      <td>NaN</td>\n",
       "      <td>10.0</td>\n",
       "      <td>5.3</td>\n",
       "      <td>23.9</td>\n",
       "      <td>30.9</td>\n",
       "      <td>0.0</td>\n",
       "    </tr>\n",
       "  </tbody>\n",
       "</table>\n",
       "</div>"
      ],
      "text/plain": [
       "         DATE  TEMP   MIN   MAX  DEWP  STP  VISIB  WDSP  MXSPD  GUST  PRCP\n",
       "0  2010-02-01  46.8  44.6  50.0  11.3  NaN   10.0  11.9   15.9  25.1   0.0\n",
       "1  2010-02-02  36.9  26.6  46.4  14.6  NaN   10.0   2.5    9.9  20.0   0.0\n",
       "2  2010-02-03  38.3  30.2  48.2  18.9  NaN   10.0   1.2    4.1   NaN   0.0\n",
       "3  2010-02-04  41.7  33.8  51.8  26.8  NaN    8.9   3.7   26.0  33.0   NaN\n",
       "4  2010-02-05  41.7  32.0  50.0  13.9  NaN   10.0   5.3   23.9  30.9   0.0"
      ]
     },
     "execution_count": 4,
     "metadata": {},
     "output_type": "execute_result"
    }
   ],
   "source": [
    "broomfield_df = pd.read_csv('../Week 01 - Loading and Documentation/broomfield_weather.csv',header=1,sep='|')\n",
    "broomfield_df.head()"
   ]
  },
  {
   "cell_type": "markdown",
   "id": "2ec512aa",
   "metadata": {},
   "source": [
    "## Creating and customizing figures and subplots\n",
    "\n",
    "This is our first stop on the \"object-oriented\" coding style in matplotlib. Before we do anything, we just want to create a figure called `f` containing a single subplot called `ax`. These are empty until we fill them."
   ]
  },
  {
   "cell_type": "code",
   "execution_count": 5,
   "id": "07b26e75",
   "metadata": {},
   "outputs": [
    {
     "data": {
      "image/png": "[encoded data removed]",
      "text/plain": [
       "<Figure size 432x288 with 1 Axes>"
      ]
     },
     "metadata": {
      "needs_background": "light"
     },
     "output_type": "display_data"
    }
   ],
   "source": [
    "f, ax = plt.subplots()"
   ]
  },
  {
   "cell_type": "markdown",
   "id": "73ca4f15",
   "metadata": {},
   "source": [
    "We can call the `f` Figure object and it will return the (now-empty) visualization."
   ]
  },
  {
   "cell_type": "code",
   "execution_count": 6,
   "id": "9bd647f9",
   "metadata": {},
   "outputs": [
    {
     "data": {
      "image/png": "[encoded data removed]",
      "text/plain": [
       "<Figure size 432x288 with 1 Axes>"
      ]
     },
     "execution_count": 6,
     "metadata": {},
     "output_type": "execute_result"
    }
   ],
   "source": [
    "f"
   ]
  },
  {
   "cell_type": "markdown",
   "id": "df34439c",
   "metadata": {},
   "source": [
    "The `f` object contains an enormous number of methods and attributes, many of which we will explore in the weeks to come. The `.get_axes()` method retrieves the subplot objects (called axes) within the figure object. There's only one subplot in this figure, so it's a list of one ax. Later, we will see how to make figures with multiple subplots (or see [this tutorial](https://matplotlib.org/stable/tutorials/intermediate/arranging_axes.html) if you can't wait)."
   ]
  },
  {
   "cell_type": "code",
   "execution_count": 7,
   "id": "98382d4e",
   "metadata": {},
   "outputs": [
    {
     "data": {
      "text/plain": [
       "[<AxesSubplot:>]"
      ]
     },
     "execution_count": 7,
     "metadata": {},
     "output_type": "execute_result"
    }
   ],
   "source": [
    "f.get_axes()"
   ]
  },
  {
   "cell_type": "markdown",
   "id": "42bcc10c",
   "metadata": {},
   "source": [
    "The `ax` object (or the `AxesSubplot:` object within the figure's list of axes) have their own methods and attributes. The `.get_children()` shows all the components of this \"empty\" plot: \n",
    "* `spines` for the four borders (top, bottom, right, left)\n",
    "* the `XAxis` and `YAxis` with the tick labels 0.0 to 1.0\n",
    "* empty `Text` objects for the xlabel, ylabel, and title\n",
    "* a `Rectangle` patch object that overlaps with the spines. "
   ]
  },
  {
   "cell_type": "code",
   "execution_count": 8,
   "id": "1f618e04",
   "metadata": {},
   "outputs": [
    {
     "data": {
      "text/plain": [
       "[<matplotlib.spines.Spine at 0x1653c2040>,\n",
       " <matplotlib.spines.Spine at 0x1653c2160>,\n",
       " <matplotlib.spines.Spine at 0x1653c2280>,\n",
       " <matplotlib.spines.Spine at 0x1653c23a0>,\n",
       " <matplotlib.axis.XAxis at 0x1653a7fa0>,\n",
       " <matplotlib.axis.YAxis at 0x165348c40>,\n",
       " Text(0.5, 1.0, ''),\n",
       " Text(0.0, 1.0, ''),\n",
       " Text(1.0, 1.0, ''),\n",
       " <matplotlib.patches.Rectangle at 0x1653f10d0>]"
      ]
     },
     "execution_count": 8,
     "metadata": {},
     "output_type": "execute_result"
    }
   ],
   "source": [
    "ax.get_children()"
   ]
  },
  {
   "cell_type": "markdown",
   "id": "a7b0c967",
   "metadata": {},
   "source": [
    "The rectangle object is a box that has a height and width of 1 and starts at the origin (0,0)."
   ]
  },
  {
   "cell_type": "code",
   "execution_count": 9,
   "id": "ef8b7564",
   "metadata": {},
   "outputs": [
    {
     "data": {
      "text/plain": [
       "(1.0, 1.0, (0.0, 0.0))"
      ]
     },
     "execution_count": 9,
     "metadata": {},
     "output_type": "execute_result"
    }
   ],
   "source": [
    "rect = ax.get_children()[-1]\n",
    "rect.get_height(), rect.get_width(), rect.get_xy()"
   ]
  },
  {
   "cell_type": "markdown",
   "id": "1b7f8f0c",
   "metadata": {},
   "source": [
    "We could mutate this Rectangle: color it red and give it a new width and height."
   ]
  },
  {
   "cell_type": "code",
   "execution_count": 10,
   "id": "84c7bdd5",
   "metadata": {},
   "outputs": [],
   "source": [
    "rect.set_facecolor('red')\n",
    "rect.set_height(.5)\n",
    "rect.set_width(.5)"
   ]
  },
  {
   "cell_type": "markdown",
   "id": "c96ad346",
   "metadata": {},
   "source": [
    "If we check the `f` object again, we can see this rectangle within the axes object within the figure object is now red and has half the height and width as before."
   ]
  },
  {
   "cell_type": "code",
   "execution_count": 11,
   "id": "3da7f94b",
   "metadata": {},
   "outputs": [
    {
     "data": {
      "image/png": "[encoded data removed]",
      "text/plain": [
       "<Figure size 432x288 with 1 Axes>"
      ]
     },
     "execution_count": 11,
     "metadata": {},
     "output_type": "execute_result"
    }
   ],
   "source": [
    "f"
   ]
  },
  {
   "cell_type": "markdown",
   "id": "2ef8906c",
   "metadata": {},
   "source": [
    "### Exercise 02: Mutate a patch edgecolor and linewidth\n",
    "\n",
    "Mutate the `rect` object ([docs](https://matplotlib.org/stable/api/_as_gen/matplotlib.patches.Rectangle.html)) so that it has an \"edgecolor\" of green and \"linewidth\" of 10. Show the result in `f`."
   ]
  },
  {
   "cell_type": "code",
   "execution_count": 12,
   "id": "5ecb00ef",
   "metadata": {},
   "outputs": [
    {
     "data": {
      "image/png": "[encoded data removed]",
      "text/plain": [
       "<Figure size 432x288 with 1 Axes>"
      ]
     },
     "execution_count": 12,
     "metadata": {},
     "output_type": "execute_result"
    }
   ],
   "source": [
    "rect.set_edgecolor('green')\n",
    "rect.set_linewidth(10)\n",
    "f"
   ]
  },
  {
   "cell_type": "markdown",
   "id": "231047c5",
   "metadata": {},
   "source": [
    "## One-dimensional histogram\n",
    "\n",
    "We're going to make a simple histogram using the weather data we loaded above.\n",
    "\n",
    "First, retrieve the values of the Boulder \"TEMP\" Series as a numpy `array` using the `.values` attribute and store as `boulder_temps`."
   ]
  },
  {
   "cell_type": "code",
   "execution_count": 13,
   "id": "66d2cb11",
   "metadata": {},
   "outputs": [
    {
     "data": {
      "text/plain": [
       "array([30.4, 32.3, 33.9, ...,  6.6, 36.9, 44.7])"
      ]
     },
     "execution_count": 13,
     "metadata": {},
     "output_type": "execute_result"
    }
   ],
   "source": [
    "boulder_temps = boulder_df['TEMP'].values\n",
    "boulder_temps"
   ]
  },
  {
   "cell_type": "markdown",
   "id": "2fbce24b",
   "metadata": {},
   "source": [
    "Now make an empty figure and subplot."
   ]
  },
  {
   "cell_type": "code",
   "execution_count": 14,
   "id": "e7ae00f0",
   "metadata": {},
   "outputs": [
    {
     "data": {
      "image/png": "[encoded data removed]",
      "text/plain": [
       "<Figure size 432x288 with 1 Axes>"
      ]
     },
     "metadata": {
      "needs_background": "light"
     },
     "output_type": "display_data"
    }
   ],
   "source": [
    "f,ax = plt.subplots()"
   ]
  },
  {
   "cell_type": "markdown",
   "id": "8071f4a2",
   "metadata": {},
   "source": [
    "Now plot a histogram of `boulder_temps` in the `ax` object. The `.hist` method returns three values:\n",
    "\n",
    "* The count of values in each bin\n",
    "* The bounadies of each bin\n",
    "* The `BarContainer` object that populates/replaces the contents of the empty `ax`"
   ]
  },
  {
   "cell_type": "code",
   "execution_count": 15,
   "id": "915f99cf",
   "metadata": {},
   "outputs": [
    {
     "data": {
      "text/plain": [
       "(array([ 13.,  45., 115., 346., 723., 796., 720., 705., 812., 116.]),\n",
       " array([-5.9 ,  3.59, 13.08, 22.57, 32.06, 41.55, 51.04, 60.53, 70.02,\n",
       "        79.51, 89.  ]),\n",
       " <BarContainer object of 10 artists>)"
      ]
     },
     "execution_count": 15,
     "metadata": {},
     "output_type": "execute_result"
    }
   ],
   "source": [
    "ax.hist(boulder_temps)"
   ]
  },
  {
   "cell_type": "markdown",
   "id": "623e3b6d",
   "metadata": {},
   "source": [
    "But where's the plot? Check `f`."
   ]
  },
  {
   "cell_type": "code",
   "execution_count": 16,
   "id": "268a1c79",
   "metadata": {},
   "outputs": [
    {
     "data": {
      "image/png": "[encoded data removed]",
      "text/plain": [
       "<Figure size 432x288 with 1 Axes>"
      ]
     },
     "execution_count": 16,
     "metadata": {},
     "output_type": "execute_result"
    }
   ],
   "source": [
    "f"
   ]
  },
  {
   "cell_type": "markdown",
   "id": "7aaa6bc1",
   "metadata": {},
   "source": [
    "If you do the create the figure and subplot and make the histogram in the same cell (which we'll do from now on) the figure appears automatically. \n",
    "\n",
    "The other output from the `hist` method is still included: if you want to silence this, add a semicolon to the end of the line."
   ]
  },
  {
   "cell_type": "code",
   "execution_count": 17,
   "id": "cb0016c6",
   "metadata": {},
   "outputs": [
    {
     "data": {
      "image/png": "[encoded data removed]",
      "text/plain": [
       "<Figure size 432x288 with 1 Axes>"
      ]
     },
     "metadata": {
      "needs_background": "light"
     },
     "output_type": "display_data"
    }
   ],
   "source": [
    "f,ax = plt.subplots()\n",
    "ax.hist(boulder_temps); # Silence the bin counts and boundaries"
   ]
  },
  {
   "cell_type": "markdown",
   "id": "ad6933de",
   "metadata": {},
   "source": [
    "### Number of bins\n",
    "We can also change the number of bins in the histogram with the \"bins\" parameter. Start with few bins."
   ]
  },
  {
   "cell_type": "code",
   "execution_count": 18,
   "id": "331a00f9",
   "metadata": {},
   "outputs": [
    {
     "data": {
      "image/png": "[encoded data removed]",
      "text/plain": [
       "<Figure size 432x288 with 1 Axes>"
      ]
     },
     "metadata": {
      "needs_background": "light"
     },
     "output_type": "display_data"
    }
   ],
   "source": [
    "f,ax = plt.subplots()\n",
    "ax.hist(boulder_temps,bins=5);"
   ]
  },
  {
   "cell_type": "markdown",
   "id": "f4974b2a",
   "metadata": {},
   "source": [
    "Try a large number of bins. We start to see there might be two-ish peaks to the data, which would make sense for different temperatures in the winter and summer."
   ]
  },
  {
   "cell_type": "code",
   "execution_count": 19,
   "id": "c13cb942",
   "metadata": {},
   "outputs": [
    {
     "data": {
      "image/png": "[encoded data removed]",
      "text/plain": [
       "<Figure size 432x288 with 1 Axes>"
      ]
     },
     "metadata": {
      "needs_background": "light"
     },
     "output_type": "display_data"
    }
   ],
   "source": [
    "f,ax = plt.subplots()\n",
    "ax.hist(boulder_temps,bins=25);"
   ]
  },
  {
   "cell_type": "markdown",
   "id": "b297ff68",
   "metadata": {},
   "source": [
    "Try a really big number of bins. The bimodal distribution is perhaps clearer here, but this probably more bins than intended for a histogram."
   ]
  },
  {
   "cell_type": "code",
   "execution_count": 20,
   "id": "3bb54da5",
   "metadata": {},
   "outputs": [
    {
     "data": {
      "image/png": "[encoded data removed]",
      "text/plain": [
       "<Figure size 432x288 with 1 Axes>"
      ]
     },
     "metadata": {
      "needs_background": "light"
     },
     "output_type": "display_data"
    }
   ],
   "source": [
    "f,ax = plt.subplots()\n",
    "ax.hist(boulder_temps,bins=500);"
   ]
  },
  {
   "cell_type": "markdown",
   "id": "5b173d9d",
   "metadata": {},
   "source": [
    "### Label axes\n",
    "\n",
    "One of the most essential visualization practices is to label our axes. Add an x-label and y-label."
   ]
  },
  {
   "cell_type": "code",
   "execution_count": 21,
   "id": "137cdc4e",
   "metadata": {},
   "outputs": [
    {
     "data": {
      "text/plain": [
       "Text(0.5, 1.0, 'Temperatures in Boulder, Colorado (2010-2021)')"
      ]
     },
     "execution_count": 21,
     "metadata": {},
     "output_type": "execute_result"
    },
    {
     "data": {
      "image/png": "[encoded data removed]",
      "text/plain": [
       "<Figure size 432x288 with 1 Axes>"
      ]
     },
     "metadata": {
      "needs_background": "light"
     },
     "output_type": "display_data"
    }
   ],
   "source": [
    "f,ax = plt.subplots()\n",
    "ax.hist(boulder_temps,bins=25)\n",
    "\n",
    "ax.set_xlabel('Temperature (F)')\n",
    "ax.set_ylabel('Count (Days)')\n",
    "ax.set_title('Temperatures in Boulder, Colorado (2010-2021)')"
   ]
  },
  {
   "cell_type": "markdown",
   "id": "f09cd953",
   "metadata": {},
   "source": [
    "### Exercise 03: Plot a histogram of Broomfield's temperatures\n",
    "\n",
    "Create an empty figure and subplot, extract the \"TEMP\" values from `broomfield_df`, make and display a histogram, and label your axes."
   ]
  },
  {
   "cell_type": "code",
   "execution_count": 22,
   "id": "39f7ce79",
   "metadata": {},
   "outputs": [
    {
     "data": {
      "text/plain": [
       "Text(0.5, 1.0, 'Temperatures in Broomfield, Colorado (2010-2021)')"
      ]
     },
     "execution_count": 22,
     "metadata": {},
     "output_type": "execute_result"
    },
    {
     "data": {
      "image/png": "[encoded data removed]",
      "text/plain": [
       "<Figure size 432x288 with 1 Axes>"
      ]
     },
     "metadata": {
      "needs_background": "light"
     },
     "output_type": "display_data"
    }
   ],
   "source": [
    "f,ax = plt.subplots()\n",
    "\n",
    "broomfield_temps = broomfield_df['TEMP'].values\n",
    "ax.hist(broomfield_temps,bins=25)\n",
    "ax.set_xlabel('Temperature (F)')\n",
    "ax.set_ylabel('Count (Days)')\n",
    "ax.set_title('Temperatures in Broomfield, Colorado (2010-2021)')"
   ]
  },
  {
   "cell_type": "markdown",
   "id": "509b7306",
   "metadata": {},
   "source": [
    "## Skewed data\n",
    "\n",
    "The weather data has nice statistical and visual properties of being (approximately) normally distributed. Many kinds of data do not have this property and instead show a strong skew with low counts being significantly more represented than high counts.\n",
    "\n",
    "Load in the county COVID data from Week 3 as `co_covid_df`."
   ]
  },
  {
   "cell_type": "code",
   "execution_count": 23,
   "id": "3676f019",
   "metadata": {},
   "outputs": [
    {
     "data": {
      "text/html": [
       "<div>\n",
       "<style scoped>\n",
       "    .dataframe tbody tr th:only-of-type {\n",
       "        vertical-align: middle;\n",
       "    }\n",
       "\n",
       "    .dataframe tbody tr th {\n",
       "        vertical-align: top;\n",
       "    }\n",
       "\n",
       "    .dataframe thead th {\n",
       "        text-align: right;\n",
       "    }\n",
       "</style>\n",
       "<table border=\"1\" class=\"dataframe\">\n",
       "  <thead>\n",
       "    <tr style=\"text-align: right;\">\n",
       "      <th></th>\n",
       "      <th>Year</th>\n",
       "      <th>Month</th>\n",
       "      <th>County</th>\n",
       "      <th>Cases</th>\n",
       "      <th>Deaths</th>\n",
       "    </tr>\n",
       "  </thead>\n",
       "  <tbody>\n",
       "    <tr>\n",
       "      <th>0</th>\n",
       "      <td>2020</td>\n",
       "      <td>3</td>\n",
       "      <td>Adams</td>\n",
       "      <td>0.0</td>\n",
       "      <td>0.0</td>\n",
       "    </tr>\n",
       "    <tr>\n",
       "      <th>1</th>\n",
       "      <td>2020</td>\n",
       "      <td>3</td>\n",
       "      <td>Adams</td>\n",
       "      <td>0.0</td>\n",
       "      <td>0.0</td>\n",
       "    </tr>\n",
       "    <tr>\n",
       "      <th>2</th>\n",
       "      <td>2020</td>\n",
       "      <td>3</td>\n",
       "      <td>Adams</td>\n",
       "      <td>0.0</td>\n",
       "      <td>0.0</td>\n",
       "    </tr>\n",
       "    <tr>\n",
       "      <th>3</th>\n",
       "      <td>2020</td>\n",
       "      <td>3</td>\n",
       "      <td>Adams</td>\n",
       "      <td>0.0</td>\n",
       "      <td>0.0</td>\n",
       "    </tr>\n",
       "    <tr>\n",
       "      <th>4</th>\n",
       "      <td>2020</td>\n",
       "      <td>3</td>\n",
       "      <td>Adams</td>\n",
       "      <td>1.0</td>\n",
       "      <td>0.0</td>\n",
       "    </tr>\n",
       "  </tbody>\n",
       "</table>\n",
       "</div>"
      ],
      "text/plain": [
       "   Year  Month County  Cases  Deaths\n",
       "0  2020      3  Adams    0.0     0.0\n",
       "1  2020      3  Adams    0.0     0.0\n",
       "2  2020      3  Adams    0.0     0.0\n",
       "3  2020      3  Adams    0.0     0.0\n",
       "4  2020      3  Adams    1.0     0.0"
      ]
     },
     "execution_count": 23,
     "metadata": {},
     "output_type": "execute_result"
    }
   ],
   "source": [
    "co_covid_df = pd.read_csv('../Week 03 - Combining and Validation/co_county_covid.csv')\n",
    "co_covid_df.head()"
   ]
  },
  {
   "cell_type": "markdown",
   "id": "d2cad127",
   "metadata": {},
   "source": [
    "Extract the values for the \"Cases\" column and make a histogram. There's an enormous number of county-months where there are 0 or few cases and a handful of county-months where there are thousands of cases. This is not an informative data visualization."
   ]
  },
  {
   "cell_type": "code",
   "execution_count": 24,
   "id": "88bc0e36",
   "metadata": {},
   "outputs": [
    {
     "data": {
      "text/plain": [
       "Text(0.5, 1.0, 'COVID-19 Cases in Colorado Counties')"
      ]
     },
     "execution_count": 24,
     "metadata": {},
     "output_type": "execute_result"
    },
    {
     "data": {
      "image/png": "[encoded data removed]",
      "text/plain": [
       "<Figure size 432x288 with 1 Axes>"
      ]
     },
     "metadata": {
      "needs_background": "light"
     },
     "output_type": "display_data"
    }
   ],
   "source": [
    "covid_cases = co_covid_df['Cases'].values\n",
    "\n",
    "f,ax = plt.subplots()\n",
    "ax.hist(covid_cases)\n",
    "\n",
    "ax.set_xlabel('Cases')\n",
    "ax.set_ylabel('Count (Monthly)')\n",
    "ax.set_title('COVID-19 Cases in Colorado Counties')"
   ]
  },
  {
   "cell_type": "markdown",
   "id": "f7a037bd",
   "metadata": {},
   "source": [
    "Even adding more bins does not improve this visualization."
   ]
  },
  {
   "cell_type": "code",
   "execution_count": 25,
   "id": "f6d12eeb",
   "metadata": {},
   "outputs": [
    {
     "data": {
      "text/plain": [
       "Text(0.5, 1.0, 'COVID-19 Cases in Colorado Counties')"
      ]
     },
     "execution_count": 25,
     "metadata": {},
     "output_type": "execute_result"
    },
    {
     "data": {
      "image/png": "[encoded data removed]",
      "text/plain": [
       "<Figure size 432x288 with 1 Axes>"
      ]
     },
     "metadata": {
      "needs_background": "light"
     },
     "output_type": "display_data"
    }
   ],
   "source": [
    "f,ax = plt.subplots()\n",
    "ax.hist(covid_cases,bins=50)\n",
    "\n",
    "ax.set_xlabel('Cases')\n",
    "ax.set_ylabel('Count (Monthly)')\n",
    "ax.set_title('COVID-19 Cases in Colorado Counties')"
   ]
  },
  {
   "cell_type": "markdown",
   "id": "02624452",
   "metadata": {},
   "source": [
    "A common approach to handling skewed data like this is to use a log-transformation. Rather than the bin sizes being linear (1 to 10, 11 to 20, *etc*.) the bin sizes are exponential (1 to 10, 11 to 100, 101 to 1000, *etc*.). \n",
    "\n",
    "A numpy function called `linspace` ([docs](https://numpy.org/doc/stable/reference/generated/numpy.linspace.html)) can illustrate creating 10 linearly-spaced bins from 1 to 1000 and a similar function called `geomspace` ([docs](https://numpy.org/doc/stable/reference/generated/numpy.geomspace.html)) to create 10 exponentially-spaced bins from 1 to 1000."
   ]
  },
  {
   "cell_type": "code",
   "execution_count": 26,
   "id": "b4d3a0df",
   "metadata": {},
   "outputs": [
    {
     "data": {
      "text/plain": [
       "array([    1. ,  1000.9,  2000.8,  3000.7,  4000.6,  5000.5,  6000.4,\n",
       "        7000.3,  8000.2,  9000.1, 10000. ])"
      ]
     },
     "execution_count": 26,
     "metadata": {},
     "output_type": "execute_result"
    }
   ],
   "source": [
    "np.linspace(1,10000,11)"
   ]
  },
  {
   "cell_type": "code",
   "execution_count": 27,
   "id": "67139a62",
   "metadata": {},
   "outputs": [
    {
     "data": {
      "text/plain": [
       "array([    1.        ,     2.51188643,     6.30957344,    15.84893192,\n",
       "          39.81071706,   100.        ,   251.18864315,   630.95734448,\n",
       "        1584.89319246,  3981.07170553, 10000.        ])"
      ]
     },
     "execution_count": 27,
     "metadata": {},
     "output_type": "execute_result"
    }
   ],
   "source": [
    "np.geomspace(1,10000,11) # The start and stop values are in base units 10^0 = 1, 10^4 = 10000"
   ]
  },
  {
   "cell_type": "markdown",
   "id": "2c204d11",
   "metadata": {},
   "source": [
    "We can pass these bin boundaries into the \"bins\" parameter for `hist`."
   ]
  },
  {
   "cell_type": "code",
   "execution_count": 28,
   "id": "a657565a",
   "metadata": {},
   "outputs": [
    {
     "data": {
      "text/plain": [
       "Text(0.5, 1.0, 'COVID-19 Cases in Colorado Counties')"
      ]
     },
     "execution_count": 28,
     "metadata": {},
     "output_type": "execute_result"
    },
    {
     "data": {
      "image/png": "[encoded data removed]",
      "text/plain": [
       "<Figure size 432x288 with 1 Axes>"
      ]
     },
     "metadata": {
      "needs_background": "light"
     },
     "output_type": "display_data"
    }
   ],
   "source": [
    "f,ax = plt.subplots()\n",
    "ax.hist(covid_cases,bins=np.linspace(1,10000,11)) # Linear bin sizes\n",
    "\n",
    "ax.set_xlabel('Cases')\n",
    "ax.set_ylabel('Count (Monthly)')\n",
    "ax.set_title('COVID-19 Cases in Colorado Counties')"
   ]
  },
  {
   "cell_type": "markdown",
   "id": "645815b7",
   "metadata": {},
   "source": [
    "Use the geometrically-spaced bins instead. There's definitely something different going on here!"
   ]
  },
  {
   "cell_type": "code",
   "execution_count": 29,
   "id": "8e037f86",
   "metadata": {},
   "outputs": [
    {
     "data": {
      "text/plain": [
       "Text(0.5, 1.0, 'COVID-19 Cases in Colorado Counties')"
      ]
     },
     "execution_count": 29,
     "metadata": {},
     "output_type": "execute_result"
    },
    {
     "data": {
      "image/png": "[encoded data removed]",
      "text/plain": [
       "<Figure size 432x288 with 1 Axes>"
      ]
     },
     "metadata": {
      "needs_background": "light"
     },
     "output_type": "display_data"
    }
   ],
   "source": [
    "f,ax = plt.subplots()\n",
    "ax.hist(covid_cases,bins=np.geomspace(1,10000,11)) # Geometric bin sizes\n",
    "\n",
    "ax.set_xlabel('Cases')\n",
    "ax.set_ylabel('Count (Monthly)')\n",
    "ax.set_title('COVID-19 Cases in Colorado Counties')"
   ]
  },
  {
   "cell_type": "markdown",
   "id": "9b8d8304",
   "metadata": {},
   "source": [
    "Because we're using geometric instead of linear bins, we should also use a geometric scale for the x and y-axes instead of a linear scale. Use the `.set_xscale()` ([docs](https://matplotlib.org/stable/api/_as_gen/matplotlib.axes.Axes.set_xscale.html)) method to turn the x-axis ticks into a geometric rather than linear progression. This is called a \"semi-log\" plot.\n",
    "\n",
    "You could also make the y-axis have a geometric/logarithmic progression (uncomment the last line with `.set_yscale('log')`. This would be a \"log-log\" plot."
   ]
  },
  {
   "cell_type": "code",
   "execution_count": 30,
   "id": "c1455099",
   "metadata": {},
   "outputs": [
    {
     "data": {
      "image/png": "[encoded data removed]",
      "text/plain": [
       "<Figure size 432x288 with 1 Axes>"
      ]
     },
     "metadata": {
      "needs_background": "light"
     },
     "output_type": "display_data"
    }
   ],
   "source": [
    "f,ax = plt.subplots()\n",
    "ax.hist(covid_cases,bins=np.geomspace(1,10000,11)) # Geometric bin sizes\n",
    "\n",
    "ax.set_xlabel('Cases')\n",
    "ax.set_ylabel('Count (Monthly)')\n",
    "ax.set_title('Monthly COVID-19 Cases in Colorado Counties')\n",
    "\n",
    "ax.set_xscale('log')\n",
    "# ax.set_yscale('log')"
   ]
  },
  {
   "cell_type": "markdown",
   "id": "57b9c278",
   "metadata": {},
   "source": [
    "### Advanced: Why should I care about log-binned data?\n",
    "(This won't be on the quiz, but if you're curious, read on)\n",
    "\n",
    "Make some data following different distributions: [exponential](https://numpy.org/doc/stable/reference/random/generated/numpy.random.exponential.html), [lognormal](https://numpy.org/doc/stable/reference/random/generated/numpy.random.lognormal.html), [pareto](https://numpy.org/doc/stable/reference/random/generated/numpy.random.pareto.html), and [power](https://numpy.org/doc/stable/reference/random/generated/numpy.random.power.html)."
   ]
  },
  {
   "cell_type": "code",
   "execution_count": 31,
   "id": "fd5a53a5",
   "metadata": {},
   "outputs": [],
   "source": [
    "# https://stackoverflow.com/a/58331860/1574687\n",
    "\n",
    "# Rescale data to be (0,1)\n",
    "from sklearn.preprocessing import minmax_scale\n",
    "_size = 1000\n",
    "\n",
    "# Make random distributions of different shapes\n",
    "random_exponential = minmax_scale(np.random.exponential(size=_size),feature_range=(0,1))\n",
    "random_lognormal = minmax_scale(np.random.lognormal(size=_size),feature_range=(0,1))\n",
    "random_pareto = minmax_scale(np.random.pareto(.9,size=_size),feature_range=(0,1))\n",
    "random_power = minmax_scale(np.random.power(.1,size=_size),feature_range=(0,1))"
   ]
  },
  {
   "cell_type": "markdown",
   "id": "18af888d",
   "metadata": {},
   "source": [
    "On linear axes and bins these distributions look pretty similar."
   ]
  },
  {
   "cell_type": "code",
   "execution_count": 32,
   "id": "71bacbdd",
   "metadata": {},
   "outputs": [
    {
     "data": {
      "image/png": "[encoded data removed]",
      "text/plain": [
       "<Figure size 1152x288 with 4 Axes>"
      ]
     },
     "metadata": {},
     "output_type": "display_data"
    }
   ],
   "source": [
    "# Make four subplots\n",
    "f,(ax0,ax1,ax2,ax3) = plt.subplots(\n",
    "    nrows = 1,\n",
    "    ncols = 4,\n",
    "    figsize=(16,4)\n",
    ")\n",
    "\n",
    "# Histograms for each subplot\n",
    "ax0.hist(random_exponential,bins=25)\n",
    "ax1.hist(random_lognormal,bins=25)\n",
    "ax2.hist(random_pareto,bins=25)\n",
    "ax3.hist(random_power,bins=25)\n",
    "\n",
    "# Set titles\n",
    "ax0.set_title('Exponential')\n",
    "ax1.set_title('Log-normal')\n",
    "ax2.set_title('Pareto')\n",
    "ax3.set_title('Power')\n",
    "\n",
    "# Super-title and cleanup\n",
    "f.suptitle('Long-tailed distributions')\n",
    "f.set_facecolor('w')\n",
    "f.tight_layout()"
   ]
  },
  {
   "cell_type": "markdown",
   "id": "69741b9f",
   "metadata": {},
   "source": [
    "On log axes and bins they look very different!"
   ]
  },
  {
   "cell_type": "code",
   "execution_count": 33,
   "id": "309ee49d",
   "metadata": {},
   "outputs": [
    {
     "data": {
      "image/png": "[encoded data removed]",
      "text/plain": [
       "<Figure size 1152x288 with 4 Axes>"
      ]
     },
     "metadata": {},
     "output_type": "display_data"
    }
   ],
   "source": [
    "# Make four subplots\n",
    "f,(ax0,ax1,ax2,ax3) = plt.subplots(\n",
    "    nrows = 1,\n",
    "    ncols = 4,\n",
    "    figsize = (16,4),\n",
    "    subplot_kw = {'xscale':'log'}\n",
    ")\n",
    "\n",
    "# Histograms for each subplot with geomspace bins\n",
    "ax0.hist(random_exponential,bins=np.geomspace(1e-3,1e0,25))\n",
    "ax1.hist(random_lognormal,bins=np.geomspace(1e-3,1e0,25))\n",
    "ax2.hist(random_pareto,bins=np.geomspace(1e-4,1e0,25))\n",
    "ax3.hist(random_power,bins=np.geomspace(1e-3,1e0,25))\n",
    "\n",
    "# Set titles\n",
    "ax0.set_title('Exponential')\n",
    "ax1.set_title('Log-normal')\n",
    "ax2.set_title('Pareto')\n",
    "ax3.set_title('Power')\n",
    "\n",
    "# Super-title and cleanup\n",
    "f.suptitle('Long-tailed distributions')\n",
    "f.set_facecolor('w')\n",
    "f.tight_layout()"
   ]
  },
  {
   "cell_type": "markdown",
   "id": "03d72f92",
   "metadata": {},
   "source": [
    "### Exercise 04: Make a log-log histogram of deaths\n",
    "\n",
    "Create an empty figure and subplot, extract the \"Deaths\" values from `co_covid_df`, make a histogram with an appropriate number and size of bins, label your axes, and rescale the axes."
   ]
  },
  {
   "cell_type": "code",
   "execution_count": 49,
   "id": "f3dfa6bf",
   "metadata": {},
   "outputs": [
    {
     "data": {
      "text/plain": [
       "Text(0.5, 1.0, 'Monthly COVID-19 Deaths in Colorado Counties')"
      ]
     },
     "execution_count": 49,
     "metadata": {},
     "output_type": "execute_result"
    },
    {
     "data": {
      "image/png": "[encoded data removed]",
      "text/plain": [
       "<Figure size 432x288 with 1 Axes>"
      ]
     },
     "metadata": {
      "needs_background": "light"
     },
     "output_type": "display_data"
    }
   ],
   "source": [
    "covid_deaths = co_covid_df['Deaths'].values\n",
    "\n",
    "f,ax = plt.subplots()\n",
    "ax.hist(covid_deaths)\n",
    "\n",
    "ax.set_xlabel('Deaths')\n",
    "ax.set_ylabel('Count')\n",
    "ax.set_title('Monthly COVID-19 Deaths in Colorado Counties')"
   ]
  },
  {
   "cell_type": "code",
   "execution_count": 50,
   "id": "912527f3",
   "metadata": {},
   "outputs": [
    {
     "data": {
      "text/plain": [
       "-22.0"
      ]
     },
     "execution_count": 50,
     "metadata": {},
     "output_type": "execute_result"
    }
   ],
   "source": [
    "# Apparently there are negative deaths\n",
    "co_covid_df['Deaths'].min()"
   ]
  },
  {
   "cell_type": "code",
   "execution_count": 57,
   "id": "0045f5df",
   "metadata": {},
   "outputs": [
    {
     "data": {
      "image/png": "[encoded data removed]",
      "text/plain": [
       "<Figure size 432x288 with 1 Axes>"
      ]
     },
     "metadata": {
      "needs_background": "light"
     },
     "output_type": "display_data"
    }
   ],
   "source": [
    "# Filter for non-negative deaths\n",
    "nonneg_covid_df = co_covid_df[co_covid_df['Deaths'] > 0]\n",
    "\n",
    "covid_deaths = nonneg_covid_df['Deaths'].values\n",
    "\n",
    "f,ax = plt.subplots()\n",
    "ax.hist(covid_deaths,bins=np.geomspace(1,100,10))\n",
    "\n",
    "ax.set_xlabel('Deaths')\n",
    "ax.set_ylabel('Count')\n",
    "ax.set_title('Monthly COVID-19 Deaths in Colorado Counties')\n",
    "\n",
    "ax.set_xscale('log')\n",
    "ax.set_yscale('log')"
   ]
  },
  {
   "cell_type": "markdown",
   "id": "c6fc71f2",
   "metadata": {},
   "source": [
    "## Visualizing multiple histograms\n",
    "\n",
    "([Adapted from this gallery](https://matplotlib.org/stable/gallery/statistics/histogram_multihist.html))\n",
    "\n",
    "We may want to visualize more than one histogram at once. Let's work with the \"TEMP\" data from the Boulder and Broomfield data. \n",
    "\n",
    "These data are different sizes reflecting different dates, start by inner joining them together so they are the same size. I'm using the \"suffixes\" parameter because the column names are otherwise identical (tidy data violation!)."
   ]
  },
  {
   "cell_type": "code",
   "execution_count": 34,
   "id": "22da36a1",
   "metadata": {},
   "outputs": [
    {
     "data": {
      "text/html": [
       "<div>\n",
       "<style scoped>\n",
       "    .dataframe tbody tr th:only-of-type {\n",
       "        vertical-align: middle;\n",
       "    }\n",
       "\n",
       "    .dataframe tbody tr th {\n",
       "        vertical-align: top;\n",
       "    }\n",
       "\n",
       "    .dataframe thead th {\n",
       "        text-align: right;\n",
       "    }\n",
       "</style>\n",
       "<table border=\"1\" class=\"dataframe\">\n",
       "  <thead>\n",
       "    <tr style=\"text-align: right;\">\n",
       "      <th></th>\n",
       "      <th>DATE</th>\n",
       "      <th>TEMP_BOULDER</th>\n",
       "      <th>MIN_BOULDER</th>\n",
       "      <th>MAX_BOULDER</th>\n",
       "      <th>DEWP_BOULDER</th>\n",
       "      <th>STP_BOULDER</th>\n",
       "      <th>VISIB_BOULDER</th>\n",
       "      <th>WDSP_BOULDER</th>\n",
       "      <th>MXSPD_BOULDER</th>\n",
       "      <th>GUST_BOULDER</th>\n",
       "      <th>PRCP_BOULDER</th>\n",
       "      <th>TEMP_BROOMFIELD</th>\n",
       "      <th>MIN_BROOMFIELD</th>\n",
       "      <th>MAX_BROOMFIELD</th>\n",
       "      <th>DEWP_BROOMFIELD</th>\n",
       "      <th>STP_BROOMFIELD</th>\n",
       "      <th>VISIB_BROOMFIELD</th>\n",
       "      <th>WDSP_BROOMFIELD</th>\n",
       "      <th>MXSPD_BROOMFIELD</th>\n",
       "      <th>GUST_BROOMFIELD</th>\n",
       "      <th>PRCP_BROOMFIELD</th>\n",
       "    </tr>\n",
       "  </thead>\n",
       "  <tbody>\n",
       "    <tr>\n",
       "      <th>0</th>\n",
       "      <td>2010-02-01</td>\n",
       "      <td>37.8</td>\n",
       "      <td>28.4</td>\n",
       "      <td>46.4</td>\n",
       "      <td>9.7</td>\n",
       "      <td>819.7</td>\n",
       "      <td>27.4</td>\n",
       "      <td>6.7</td>\n",
       "      <td>22.9</td>\n",
       "      <td>28.9</td>\n",
       "      <td>0.0</td>\n",
       "      <td>46.8</td>\n",
       "      <td>44.6</td>\n",
       "      <td>50.0</td>\n",
       "      <td>11.3</td>\n",
       "      <td>NaN</td>\n",
       "      <td>10.0</td>\n",
       "      <td>11.9</td>\n",
       "      <td>15.9</td>\n",
       "      <td>25.1</td>\n",
       "      <td>0.0</td>\n",
       "    </tr>\n",
       "    <tr>\n",
       "      <th>1</th>\n",
       "      <td>2010-02-02</td>\n",
       "      <td>33.6</td>\n",
       "      <td>23.0</td>\n",
       "      <td>44.6</td>\n",
       "      <td>9.3</td>\n",
       "      <td>822.9</td>\n",
       "      <td>10.0</td>\n",
       "      <td>5.9</td>\n",
       "      <td>20.0</td>\n",
       "      <td>26.0</td>\n",
       "      <td>0.0</td>\n",
       "      <td>36.9</td>\n",
       "      <td>26.6</td>\n",
       "      <td>46.4</td>\n",
       "      <td>14.6</td>\n",
       "      <td>NaN</td>\n",
       "      <td>10.0</td>\n",
       "      <td>2.5</td>\n",
       "      <td>9.9</td>\n",
       "      <td>20.0</td>\n",
       "      <td>0.0</td>\n",
       "    </tr>\n",
       "    <tr>\n",
       "      <th>2</th>\n",
       "      <td>2010-02-03</td>\n",
       "      <td>39.3</td>\n",
       "      <td>32.0</td>\n",
       "      <td>46.4</td>\n",
       "      <td>9.7</td>\n",
       "      <td>821.3</td>\n",
       "      <td>43.8</td>\n",
       "      <td>2.9</td>\n",
       "      <td>8.9</td>\n",
       "      <td>NaN</td>\n",
       "      <td>0.0</td>\n",
       "      <td>38.3</td>\n",
       "      <td>30.2</td>\n",
       "      <td>48.2</td>\n",
       "      <td>18.9</td>\n",
       "      <td>NaN</td>\n",
       "      <td>10.0</td>\n",
       "      <td>1.2</td>\n",
       "      <td>4.1</td>\n",
       "      <td>NaN</td>\n",
       "      <td>0.0</td>\n",
       "    </tr>\n",
       "    <tr>\n",
       "      <th>3</th>\n",
       "      <td>2010-02-04</td>\n",
       "      <td>38.1</td>\n",
       "      <td>30.2</td>\n",
       "      <td>48.2</td>\n",
       "      <td>20.0</td>\n",
       "      <td>817.0</td>\n",
       "      <td>15.0</td>\n",
       "      <td>6.1</td>\n",
       "      <td>18.1</td>\n",
       "      <td>25.1</td>\n",
       "      <td>NaN</td>\n",
       "      <td>41.7</td>\n",
       "      <td>33.8</td>\n",
       "      <td>51.8</td>\n",
       "      <td>26.8</td>\n",
       "      <td>NaN</td>\n",
       "      <td>8.9</td>\n",
       "      <td>3.7</td>\n",
       "      <td>26.0</td>\n",
       "      <td>33.0</td>\n",
       "      <td>NaN</td>\n",
       "    </tr>\n",
       "    <tr>\n",
       "      <th>4</th>\n",
       "      <td>2010-02-05</td>\n",
       "      <td>37.7</td>\n",
       "      <td>30.2</td>\n",
       "      <td>46.4</td>\n",
       "      <td>7.7</td>\n",
       "      <td>819.8</td>\n",
       "      <td>32.9</td>\n",
       "      <td>4.4</td>\n",
       "      <td>19.0</td>\n",
       "      <td>28.9</td>\n",
       "      <td>0.0</td>\n",
       "      <td>41.7</td>\n",
       "      <td>32.0</td>\n",
       "      <td>50.0</td>\n",
       "      <td>13.9</td>\n",
       "      <td>NaN</td>\n",
       "      <td>10.0</td>\n",
       "      <td>5.3</td>\n",
       "      <td>23.9</td>\n",
       "      <td>30.9</td>\n",
       "      <td>0.0</td>\n",
       "    </tr>\n",
       "  </tbody>\n",
       "</table>\n",
       "</div>"
      ],
      "text/plain": [
       "         DATE  TEMP_BOULDER  MIN_BOULDER  MAX_BOULDER  DEWP_BOULDER  \\\n",
       "0  2010-02-01          37.8         28.4         46.4           9.7   \n",
       "1  2010-02-02          33.6         23.0         44.6           9.3   \n",
       "2  2010-02-03          39.3         32.0         46.4           9.7   \n",
       "3  2010-02-04          38.1         30.2         48.2          20.0   \n",
       "4  2010-02-05          37.7         30.2         46.4           7.7   \n",
       "\n",
       "   STP_BOULDER  VISIB_BOULDER  WDSP_BOULDER  MXSPD_BOULDER  GUST_BOULDER  \\\n",
       "0        819.7           27.4           6.7           22.9          28.9   \n",
       "1        822.9           10.0           5.9           20.0          26.0   \n",
       "2        821.3           43.8           2.9            8.9           NaN   \n",
       "3        817.0           15.0           6.1           18.1          25.1   \n",
       "4        819.8           32.9           4.4           19.0          28.9   \n",
       "\n",
       "   PRCP_BOULDER  TEMP_BROOMFIELD  MIN_BROOMFIELD  MAX_BROOMFIELD  \\\n",
       "0           0.0             46.8            44.6            50.0   \n",
       "1           0.0             36.9            26.6            46.4   \n",
       "2           0.0             38.3            30.2            48.2   \n",
       "3           NaN             41.7            33.8            51.8   \n",
       "4           0.0             41.7            32.0            50.0   \n",
       "\n",
       "   DEWP_BROOMFIELD  STP_BROOMFIELD  VISIB_BROOMFIELD  WDSP_BROOMFIELD  \\\n",
       "0             11.3             NaN              10.0             11.9   \n",
       "1             14.6             NaN              10.0              2.5   \n",
       "2             18.9             NaN              10.0              1.2   \n",
       "3             26.8             NaN               8.9              3.7   \n",
       "4             13.9             NaN              10.0              5.3   \n",
       "\n",
       "   MXSPD_BROOMFIELD  GUST_BROOMFIELD  PRCP_BROOMFIELD  \n",
       "0              15.9             25.1              0.0  \n",
       "1               9.9             20.0              0.0  \n",
       "2               4.1              NaN              0.0  \n",
       "3              26.0             33.0              NaN  \n",
       "4              23.9             30.9              0.0  "
      ]
     },
     "execution_count": 34,
     "metadata": {},
     "output_type": "execute_result"
    }
   ],
   "source": [
    "both_df = pd.merge(\n",
    "    left = boulder_df,\n",
    "    right = broomfield_df,\n",
    "    left_on = 'DATE',\n",
    "    right_on = 'DATE',\n",
    "    how = 'inner',\n",
    "    suffixes = ('_BOULDER','_BROOMFIELD')\n",
    ")\n",
    "\n",
    "both_df.head()"
   ]
  },
  {
   "cell_type": "code",
   "execution_count": 35,
   "id": "4b19b174",
   "metadata": {},
   "outputs": [],
   "source": [
    "boulder_temps = both_df['TEMP_BOULDER'].values\n",
    "broomfield_temps = both_df['TEMP_BROOMFIELD'].values"
   ]
  },
  {
   "cell_type": "markdown",
   "id": "0063fc1d",
   "metadata": {},
   "source": [
    "Option 1 is to make side-by-side plots. The \"ncols\" parameter is changed from default 1 to 2. Now the `subplots` function produces two subplot axes that I capture as `ax0` and `ax1`."
   ]
  },
  {
   "cell_type": "code",
   "execution_count": 36,
   "id": "d8d3502f",
   "metadata": {},
   "outputs": [
    {
     "data": {
      "image/png": "[encoded data removed]",
      "text/plain": [
       "<Figure size 576x288 with 2 Axes>"
      ]
     },
     "metadata": {
      "needs_background": "light"
     },
     "output_type": "display_data"
    }
   ],
   "source": [
    "f,(ax0,ax1) = plt.subplots(\n",
    "    nrows=1,\n",
    "    ncols=2,\n",
    "    figsize=(8,4),\n",
    "    sharey=True\n",
    ")\n",
    "\n",
    "ax0.hist(boulder_temps,bins=25)\n",
    "ax1.hist(broomfield_temps,bins=25)\n",
    "\n",
    "ax0.set_xlabel('Temperature (F)')\n",
    "ax0.set_ylabel('Count (Days)')\n",
    "ax0.set_title('Boulder, Colorado')\n",
    "\n",
    "ax1.set_xlabel('Temperature (F)')\n",
    "ax1.set_ylabel('Count (Days)')\n",
    "ax1.set_title('Broomfield, Colorado')\n",
    "\n",
    "f.suptitle('Temperatures 2010-2021',fontweight='heavy')\n",
    "f.tight_layout()"
   ]
  },
  {
   "cell_type": "markdown",
   "id": "f03f16bb",
   "metadata": {},
   "source": [
    "Option 2 is to make the histogram on a single plot but with different bars for each city. This is hard with default matplotlib, but is easier with pandas and seaborn.\n",
    "\n",
    "stack ([docs](https://numpy.org/doc/stable/reference/generated/numpy.stack.html)) the two arrays together (similar to a concat)."
   ]
  },
  {
   "cell_type": "code",
   "execution_count": 37,
   "id": "597825d0",
   "metadata": {},
   "outputs": [
    {
     "data": {
      "text/plain": [
       "((4337,), (4337,), (4337, 2))"
      ]
     },
     "execution_count": 37,
     "metadata": {},
     "output_type": "execute_result"
    }
   ],
   "source": [
    "# Stack the numpy arrays together\n",
    "stacked_arrays = np.stack([boulder_temps,broomfield_temps],axis=1)\n",
    "boulder_temps.shape, broomfield_temps.shape, stacked_arrays.shape"
   ]
  },
  {
   "cell_type": "code",
   "execution_count": 38,
   "id": "d12e8f35",
   "metadata": {},
   "outputs": [
    {
     "data": {
      "text/plain": [
       "<matplotlib.legend.Legend at 0x16add7940>"
      ]
     },
     "execution_count": 38,
     "metadata": {},
     "output_type": "execute_result"
    },
    {
     "data": {
      "image/png": "[encoded data removed]",
      "text/plain": [
       "<Figure size 432x288 with 1 Axes>"
      ]
     },
     "metadata": {
      "needs_background": "light"
     },
     "output_type": "display_data"
    }
   ],
   "source": [
    "f,ax = plt.subplots()\n",
    "\n",
    "ax.hist(\n",
    "    stacked_arrays,\n",
    "    bins = 15,\n",
    "    histtype = 'bar', \n",
    "    color = ['tab:red','tab:blue'], \n",
    "    label = ['Boulder','Broomfield']\n",
    ")\n",
    "\n",
    "ax.set_xlabel('Temperature (F)')\n",
    "ax.set_ylabel('Count (Days)')\n",
    "ax.set_title('Temperatures (2010-2021)',fontweight='heavy')\n",
    "ax.legend(prop={'size': 10})"
   ]
  },
  {
   "cell_type": "markdown",
   "id": "c14aab30",
   "metadata": {},
   "source": [
    "Option 3 is to stack the bars on top of each other. This is perceptually hard to compare to identify differences in many cases."
   ]
  },
  {
   "cell_type": "code",
   "execution_count": 39,
   "id": "e4c8d719",
   "metadata": {},
   "outputs": [
    {
     "data": {
      "text/plain": [
       "<matplotlib.legend.Legend at 0x16a9956a0>"
      ]
     },
     "execution_count": 39,
     "metadata": {},
     "output_type": "execute_result"
    },
    {
     "data": {
      "image/png": "[encoded data removed]",
      "text/plain": [
       "<Figure size 432x288 with 1 Axes>"
      ]
     },
     "metadata": {
      "needs_background": "light"
     },
     "output_type": "display_data"
    }
   ],
   "source": [
    "f,ax = plt.subplots()\n",
    "\n",
    "ax.hist(\n",
    "    stacked_arrays,\n",
    "    bins = 15,\n",
    "    histtype = 'bar', \n",
    "    stacked = True,\n",
    "    color = ['tab:red','tab:blue'], \n",
    "    label = ['Boulder','Broomfield']\n",
    ")\n",
    "\n",
    "ax.set_xlabel('Temperature (F)')\n",
    "ax.set_ylabel('Count (Days)')\n",
    "ax.set_title('Temperatures (2010-2021)',fontweight='heavy')\n",
    "ax.legend(prop={'size': 10})"
   ]
  },
  {
   "cell_type": "markdown",
   "id": "0e45068a",
   "metadata": {},
   "source": [
    "Plotting a cumulative histogram."
   ]
  },
  {
   "cell_type": "code",
   "execution_count": 40,
   "id": "07d12bd3",
   "metadata": {},
   "outputs": [
    {
     "data": {
      "text/plain": [
       "<matplotlib.legend.Legend at 0x16adb8ac0>"
      ]
     },
     "execution_count": 40,
     "metadata": {},
     "output_type": "execute_result"
    },
    {
     "data": {
      "image/png": "[encoded data removed]",
      "text/plain": [
       "<Figure size 432x288 with 1 Axes>"
      ]
     },
     "metadata": {
      "needs_background": "light"
     },
     "output_type": "display_data"
    }
   ],
   "source": [
    "f,ax = plt.subplots()\n",
    "\n",
    "ax.hist(\n",
    "    stacked_arrays,\n",
    "    bins = 15,\n",
    "    histtype = 'bar', \n",
    "    cumulative = True,\n",
    "    color = ['tab:red','tab:blue'], \n",
    "    label = ['Boulder','Broomfield']\n",
    ")\n",
    "\n",
    "ax.set_xlabel('Temperature (F)')\n",
    "ax.set_ylabel('Count (Days, cuml.)')\n",
    "ax.set_title('Temperatures (2010-2021)',fontweight='heavy')\n",
    "ax.legend(prop={'size': 10})"
   ]
  },
  {
   "cell_type": "markdown",
   "id": "ed9b6472",
   "metadata": {},
   "source": [
    "## pandas methods\n",
    "\n",
    "Everything we were doing above involved an extra step to extract data in pandas as numpy arrays and some new functions to manipulate those numpy arrays. Let's stay in pandas-land!\n",
    "\n",
    "You can call the `.hist()` method ([docs](https://pandas.pydata.org/docs/reference/api/pandas.DataFrame.hist.html)) on a pandas Series and it will return a figure and subplot with the histogram. There are some stylistic differences, but this is much easier!"
   ]
  },
  {
   "cell_type": "code",
   "execution_count": 41,
   "id": "ef86cd6f",
   "metadata": {},
   "outputs": [
    {
     "data": {
      "text/plain": [
       "<AxesSubplot:>"
      ]
     },
     "execution_count": 41,
     "metadata": {},
     "output_type": "execute_result"
    },
    {
     "data": {
      "image/png": "[encoded data removed]",
      "text/plain": [
       "<Figure size 432x288 with 1 Axes>"
      ]
     },
     "metadata": {
      "needs_background": "light"
     },
     "output_type": "display_data"
    }
   ],
   "source": [
    "both_df['TEMP_BOULDER'].hist()"
   ]
  },
  {
   "cell_type": "markdown",
   "id": "8ca1a120",
   "metadata": {},
   "source": [
    "You could also call `.hist()` on a DataFrame and get a histogram for each."
   ]
  },
  {
   "cell_type": "code",
   "execution_count": 42,
   "id": "22069ba3",
   "metadata": {},
   "outputs": [
    {
     "data": {
      "text/plain": [
       "array([[<AxesSubplot:title={'center':'TEMP_BOULDER'}>,\n",
       "        <AxesSubplot:title={'center':'TEMP_BROOMFIELD'}>]], dtype=object)"
      ]
     },
     "execution_count": 42,
     "metadata": {},
     "output_type": "execute_result"
    },
    {
     "data": {
      "image/png": "[encoded data removed]",
      "text/plain": [
       "<Figure size 432x288 with 2 Axes>"
      ]
     },
     "metadata": {
      "needs_background": "light"
     },
     "output_type": "display_data"
    }
   ],
   "source": [
    "both_df[['TEMP_BOULDER','TEMP_BROOMFIELD']].hist()"
   ]
  },
  {
   "cell_type": "markdown",
   "id": "f53c80c2",
   "metadata": {},
   "source": [
    "The `.plot.hist()` method is distinct and will draw stacked, cumulative, horizontal and others."
   ]
  },
  {
   "cell_type": "code",
   "execution_count": 43,
   "id": "dc8ca5c0",
   "metadata": {},
   "outputs": [
    {
     "data": {
      "text/plain": [
       "<AxesSubplot:ylabel='Frequency'>"
      ]
     },
     "execution_count": 43,
     "metadata": {},
     "output_type": "execute_result"
    },
    {
     "data": {
      "image/png": "[encoded data removed]",
      "text/plain": [
       "<Figure size 432x288 with 1 Axes>"
      ]
     },
     "metadata": {
      "needs_background": "light"
     },
     "output_type": "display_data"
    }
   ],
   "source": [
    "both_df[['TEMP_BOULDER','TEMP_BROOMFIELD']].plot.hist()"
   ]
  },
  {
   "cell_type": "code",
   "execution_count": 44,
   "id": "5acd6e45",
   "metadata": {},
   "outputs": [
    {
     "data": {
      "text/plain": [
       "<AxesSubplot:ylabel='Frequency'>"
      ]
     },
     "execution_count": 44,
     "metadata": {},
     "output_type": "execute_result"
    },
    {
     "data": {
      "image/png": "[encoded data removed]",
      "text/plain": [
       "<Figure size 432x288 with 1 Axes>"
      ]
     },
     "metadata": {
      "needs_background": "light"
     },
     "output_type": "display_data"
    }
   ],
   "source": [
    "both_df[['TEMP_BOULDER','TEMP_BROOMFIELD']].plot.hist(stacked=True)"
   ]
  },
  {
   "cell_type": "code",
   "execution_count": 45,
   "id": "345185d6",
   "metadata": {},
   "outputs": [
    {
     "data": {
      "text/plain": [
       "<AxesSubplot:xlabel='Frequency'>"
      ]
     },
     "execution_count": 45,
     "metadata": {},
     "output_type": "execute_result"
    },
    {
     "data": {
      "image/png": "[encoded data removed]",
      "text/plain": [
       "<Figure size 432x288 with 1 Axes>"
      ]
     },
     "metadata": {
      "needs_background": "light"
     },
     "output_type": "display_data"
    }
   ],
   "source": [
    "both_df[['TEMP_BOULDER','TEMP_BROOMFIELD']].plot.hist(orientation='horizontal')"
   ]
  },
  {
   "cell_type": "markdown",
   "id": "a333425f",
   "metadata": {},
   "source": [
    "You can also pass pandas's subplots back to a figure you've already setup with `subplots`. Just pass the axes created by subplots to the \"ax\" parameter inside the pandas `.hist()` method."
   ]
  },
  {
   "cell_type": "code",
   "execution_count": 46,
   "id": "2ca4ea65",
   "metadata": {},
   "outputs": [
    {
     "data": {
      "text/plain": [
       "<AxesSubplot:xlabel='Frequency'>"
      ]
     },
     "execution_count": 46,
     "metadata": {},
     "output_type": "execute_result"
    },
    {
     "data": {
      "image/png": "[encoded data removed]",
      "text/plain": [
       "<Figure size 576x288 with 2 Axes>"
      ]
     },
     "metadata": {
      "needs_background": "light"
     },
     "output_type": "display_data"
    }
   ],
   "source": [
    "f,(ax0,ax1) = plt.subplots(ncols=2,figsize=(8,4))\n",
    "\n",
    "both_df[['TEMP_BOULDER','TEMP_BROOMFIELD']].plot.hist(stacked=True,ax=ax0,legend=False)\n",
    "both_df[['TEMP_BOULDER','TEMP_BROOMFIELD']].plot.hist(orientation='horizontal',ax=ax1)"
   ]
  },
  {
   "cell_type": "markdown",
   "id": "62a013e2",
   "metadata": {},
   "source": [
    "### Exercise 05: Make a histogram of COVID cases and deaths"
   ]
  },
  {
   "cell_type": "code",
   "execution_count": 47,
   "id": "768736ce",
   "metadata": {},
   "outputs": [
    {
     "data": {
      "text/plain": [
       "<AxesSubplot:ylabel='Frequency'>"
      ]
     },
     "execution_count": 47,
     "metadata": {},
     "output_type": "execute_result"
    },
    {
     "data": {
      "image/png": "[encoded data removed]",
      "text/plain": [
       "<Figure size 576x288 with 2 Axes>"
      ]
     },
     "metadata": {
      "needs_background": "light"
     },
     "output_type": "display_data"
    }
   ],
   "source": [
    "f,(ax0,ax1) = plt.subplots(ncols=2,figsize=(8,4))\n",
    "\n",
    "co_covid_df['Cases'].plot.hist(ax=ax0,bins=25)\n",
    "\n",
    "# Apparently there are negative deaths in the data? Filter them out\n",
    "co_covid_df.loc[co_covid_df['Deaths'] > 0,'Deaths'].plot.hist(ax=ax1,bins=25)"
   ]
  },
  {
   "cell_type": "markdown",
   "id": "9e8cd514",
   "metadata": {},
   "source": [
    "## Advanced: Two-dimensional histogram\n",
    "\n",
    "You can visualize the counts of two series of data. This is a bit like a terrain map, darker colors are lower and brighter colors are higher. Basically, how many days did Boulder and Broomfield have these temperature values? Unsurprisingly, two nearby cities have similar temperatures: all the values lie along the diagonal, there are no days when it's 80 in Boulder and 20 in Broomfield."
   ]
  },
  {
   "cell_type": "code",
   "execution_count": 48,
   "id": "841f63a8",
   "metadata": {},
   "outputs": [
    {
     "data": {
      "text/plain": [
       "<matplotlib.colorbar.Colorbar at 0x16b9ce310>"
      ]
     },
     "execution_count": 48,
     "metadata": {},
     "output_type": "execute_result"
    },
    {
     "data": {
      "image/png": "[encoded data removed]",
      "text/plain": [
       "<Figure size 504x432 with 2 Axes>"
      ]
     },
     "metadata": {
      "needs_background": "light"
     },
     "output_type": "display_data"
    }
   ],
   "source": [
    "f,ax = plt.subplots(figsize=(7,6))\n",
    "\n",
    "counts, xedges, yedges, im = ax.hist2d(\n",
    "    x = boulder_temps,\n",
    "    y = broomfield_temps,\n",
    "    bins = 25\n",
    ")\n",
    "\n",
    "ax.set_xlabel('Temperatures in Boulder (F)')\n",
    "ax.set_ylabel('Temperatures in Broomfield (F)')\n",
    "f.colorbar(im,ax=ax)"
   ]
  }
 ],
 "metadata": {
  "kernelspec": {
   "display_name": "Python 3 (ipykernel)",
   "language": "python",
   "name": "python3"
  },
  "language_info": {
   "codemirror_mode": {
    "name": "ipython",
    "version": 3
   },
   "file_extension": ".py",
   "mimetype": "text/x-python",
   "name": "python",
   "nbconvert_exporter": "python",
   "pygments_lexer": "ipython3",
   "version": "3.9.10"
  }
 },
 "nbformat": 4,
 "nbformat_minor": 5
}
