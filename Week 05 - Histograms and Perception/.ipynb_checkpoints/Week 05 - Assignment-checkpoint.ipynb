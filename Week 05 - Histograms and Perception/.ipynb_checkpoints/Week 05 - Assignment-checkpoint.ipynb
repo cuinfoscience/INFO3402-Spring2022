{
 "cells": [
  {
   "cell_type": "markdown",
   "id": "aeaad0b1",
   "metadata": {},
   "source": [
    "# INFO 3402 – Week 05: Assignment - Solutions\n",
    "\n",
    "[Brian C. Keegan, Ph.D.](http://brianckeegan.com/)  \n",
    "[Assistant Professor, Department of Information Science](https://www.colorado.edu/cmci/people/information-science/brian-c-keegan)  \n",
    "University of Colorado Boulder  \n",
    "\n",
    "Copyright and distributed under an [MIT License](https://opensource.org/licenses/MIT)"
   ]
  },
  {
   "cell_type": "markdown",
   "id": "7a8422e8",
   "metadata": {},
   "source": [
    "## Background\n",
    "\n",
    "The University of Colorado Boulder collects data about faculty performance in courses and publishes the aggregated data [here](https://www.colorado.edu/fcq/boulder-fcq-results). We're going to use the Excel sheet for Fall 2010 to Fall 2019 because the FCQ format changed and then no data was collected in spring 2020 because of the move to remote learning."
   ]
  },
  {
   "cell_type": "markdown",
   "id": "84163819",
   "metadata": {},
   "source": [
    "## Question 01: Load libraries and inspect datasets (6 pts)\n",
    "\n",
    "Import the `numpy`, `pandas`, and matplotlib's `pyplot` libraries and the matplotlib cell magic. (1 pt)"
   ]
  },
  {
   "cell_type": "code",
   "execution_count": 38,
   "id": "26218477",
   "metadata": {},
   "outputs": [],
   "source": [
    "import numpy as np\n",
    "import pandas as pd\n",
    "\n",
    "pd.options.display.max_columns = 100\n",
    "\n",
    "%matplotlib inline\n",
    "import matplotlib.pyplot as plt"
   ]
  },
  {
   "cell_type": "markdown",
   "id": "1e90d630",
   "metadata": {},
   "source": [
    "Load the \"fcq_2010_2019.xlsx\" file with `read_excel`, use the data from the \"FCQ Results\" sheet, make sure your header is correct, assign to `fcq_df`, and inspect. (3 pts)"
   ]
  },
  {
   "cell_type": "code",
   "execution_count": null,
   "id": "6f6f850b",
   "metadata": {},
   "outputs": [],
   "source": []
  },
  {
   "cell_type": "markdown",
   "id": "e969094a",
   "metadata": {},
   "source": [
    "Identify and remove the rows whose \"Enroll\" is \"(blank)\". (2 pts)"
   ]
  },
  {
   "cell_type": "code",
   "execution_count": null,
   "id": "c8f1c731",
   "metadata": {},
   "outputs": [],
   "source": []
  },
  {
   "cell_type": "markdown",
   "id": "69a82580",
   "metadata": {},
   "source": [
    "## Question 02: Simple histograms (10 pts)\n",
    "\n",
    "Using the \"HrsPerWk\" column, make a histogram with 25 bins of the average hours per week across all sections and lectures. Make sure to label the x-axis, y-axis, and title. (3 pts)"
   ]
  },
  {
   "cell_type": "code",
   "execution_count": null,
   "id": "6aad31a8",
   "metadata": {},
   "outputs": [],
   "source": []
  },
  {
   "cell_type": "markdown",
   "id": "656888db",
   "metadata": {},
   "source": [
    "Using the \"Enroll\" column, make a histogram with 25 bins of the average hours per week across all sections and lectures. Make sure to label the x-axis, y-axis, and title. (3 pts)"
   ]
  },
  {
   "cell_type": "code",
   "execution_count": null,
   "id": "7d9fd003",
   "metadata": {},
   "outputs": [],
   "source": []
  },
  {
   "cell_type": "markdown",
   "id": "40e86c5c",
   "metadata": {},
   "source": [
    "Re-do the histogram for the \"Enroll\" column but use log-spaced bins and semi-log axes. (4 pts)"
   ]
  },
  {
   "cell_type": "code",
   "execution_count": null,
   "id": "9f0d37e3",
   "metadata": {},
   "outputs": [],
   "source": []
  },
  {
   "cell_type": "markdown",
   "id": "006ea90a",
   "metadata": {},
   "source": [
    "### Extra credit (2 pts)\n",
    "What is the average class size versus the average log-class size?"
   ]
  },
  {
   "cell_type": "code",
   "execution_count": null,
   "id": "a72b3ee3",
   "metadata": {},
   "outputs": [],
   "source": []
  },
  {
   "cell_type": "markdown",
   "id": "d3cda7e0",
   "metadata": {},
   "source": [
    "## Question 03: Multiple subplots (14 pts)\n",
    "\n",
    "Filter `fcq_df` down to only the \"CMCI\" values in \"College\" and store as `cmci_fcq_df`. Print the shape. (1 pt)"
   ]
  },
  {
   "cell_type": "code",
   "execution_count": null,
   "id": "0fc153a7",
   "metadata": {},
   "outputs": [],
   "source": []
  },
  {
   "cell_type": "markdown",
   "id": "96a78c5f",
   "metadata": {},
   "source": [
    "Filter the \"Dept\" column to only include \"APRD\", \"CMCI\", \"CMDP\", \"COMM\", \"INFO\", \"JRNL\", and \"MDST\". Print the shape. (1 pt)"
   ]
  },
  {
   "cell_type": "code",
   "execution_count": null,
   "id": "ba6c7c90",
   "metadata": {},
   "outputs": [],
   "source": []
  },
  {
   "cell_type": "markdown",
   "id": "318bac6e",
   "metadata": {},
   "source": [
    "Make a histogram of the \"HrsPerWk\" column and use the \"by\" parameter to group by \"Term\". Experiment with different \"figsize\" values until the subplots are approximately square. Get rid of the legend. Use `plt.tight_layout` ([docs](https://matplotlib.org/stable/tutorials/intermediate/tight_layout_guide.html)) to make it clean. (5 pts)"
   ]
  },
  {
   "cell_type": "code",
   "execution_count": null,
   "id": "82747d6f",
   "metadata": {},
   "outputs": [],
   "source": []
  },
  {
   "cell_type": "markdown",
   "id": "1cc51c73",
   "metadata": {},
   "source": [
    "Using the pandas `.plot.hist()` ([docs](https://pandas.pydata.org/docs/reference/api/pandas.DataFrame.plot.hist.html)) or `.plot()` ([docs](https://pandas.pydata.org/docs/reference/api/pandas.DataFrame.plot.html#pandas.DataFrame.plot)) methods on `cmci_fcq_df` and their \"by\" parameter, make a collection of histograms of \"Course\" scores by \"Dept\". Use other parameters to make the \"figsize\" (12,6) and the \"layout\" with two rows. Use `plt.tight_layout` ([docs](https://matplotlib.org/stable/tutorials/intermediate/tight_layout_guide.html)) to make it clean. (6 pts)"
   ]
  },
  {
   "cell_type": "code",
   "execution_count": null,
   "id": "23f2b2e9",
   "metadata": {},
   "outputs": [],
   "source": []
  },
  {
   "cell_type": "markdown",
   "id": "523b0df4",
   "metadata": {},
   "source": [
    "Convert the cell below to a Raw NBCovert and write a sentence or two about the patterns in the visualizations above. (1 pt)"
   ]
  },
  {
   "cell_type": "raw",
   "id": "2710f587",
   "metadata": {},
   "source": []
  },
  {
   "cell_type": "markdown",
   "id": "d73f618f",
   "metadata": {},
   "source": [
    "### Extra credit (2 pts)\n",
    "\n",
    "Calculate the t-statistic and p-value for the difference in \"HrsPerWk\" for Spring versus Summer CMCI classes using `ttest_ind` and unequal variance from scipy.stats ([docs](https://docs.scipy.org/doc/scipy-1.8.0/html-scipyorg/reference/generated/scipy.stats.ttest_ind.html)). You may need to drop missing values."
   ]
  },
  {
   "cell_type": "code",
   "execution_count": null,
   "id": "aa032168",
   "metadata": {},
   "outputs": [],
   "source": []
  }
 ],
 "metadata": {
  "kernelspec": {
   "display_name": "Python 3 (ipykernel)",
   "language": "python",
   "name": "python3"
  },
  "language_info": {
   "codemirror_mode": {
    "name": "ipython",
    "version": 3
   },
   "file_extension": ".py",
   "mimetype": "text/x-python",
   "name": "python",
   "nbconvert_exporter": "python",
   "pygments_lexer": "ipython3",
   "version": "3.9.10"
  }
 },
 "nbformat": 4,
 "nbformat_minor": 5
}
