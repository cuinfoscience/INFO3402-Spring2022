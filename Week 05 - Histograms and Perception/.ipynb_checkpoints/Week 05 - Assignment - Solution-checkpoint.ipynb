{
 "cells": [
  {
   "cell_type": "markdown",
   "id": "aeaad0b1",
   "metadata": {},
   "source": [
    "# INFO 3402 – Week 05: Assignment - Solutions\n",
    "\n",
    "[Brian C. Keegan, Ph.D.](http://brianckeegan.com/)  \n",
    "[Assistant Professor, Department of Information Science](https://www.colorado.edu/cmci/people/information-science/brian-c-keegan)  \n",
    "University of Colorado Boulder  \n",
    "\n",
    "Copyright and distributed under an [MIT License](https://opensource.org/licenses/MIT)"
   ]
  },
  {
   "cell_type": "markdown",
   "id": "7a8422e8",
   "metadata": {},
   "source": [
    "## Background\n",
    "\n",
    "The University of Colorado Boulder collects data about faculty performance in courses and publishes the aggregated data [here](https://www.colorado.edu/fcq/boulder-fcq-results). We're going to use the Excel sheet for Fall 2010 to Fall 2019 because the FCQ format changed and then no data was collected in spring 2020 because of the move to remote learning."
   ]
  },
  {
   "cell_type": "markdown",
   "id": "84163819",
   "metadata": {},
   "source": [
    "## Question 01: Load libraries and inspect datasets (6 pts)\n",
    "\n",
    "Import the `numpy`, `pandas`, and matplotlib's `pyplot` libraries and the matplotlib cell magic. (1 pt)"
   ]
  },
  {
   "cell_type": "code",
   "execution_count": 38,
   "id": "26218477",
   "metadata": {},
   "outputs": [],
   "source": [
    "import numpy as np\n",
    "import pandas as pd\n",
    "\n",
    "pd.options.display.max_columns = 100\n",
    "\n",
    "%matplotlib inline\n",
    "import matplotlib.pyplot as plt"
   ]
  },
  {
   "cell_type": "markdown",
   "id": "c1cac460",
   "metadata": {},
   "source": [
    "Load the \"fcq_2010_2019.xlsx\" file with `read_excel`, use the data from the \"FCQ Results\" sheet, make sure your header is correct, assign to `fcq_df`, and inspect. (3 pts)"
   ]
  },
  {
   "cell_type": "code",
   "execution_count": 3,
   "id": "15516afb",
   "metadata": {},
   "outputs": [
    {
     "data": {
      "text/html": [
       "<div>\n",
       "<style scoped>\n",
       "    .dataframe tbody tr th:only-of-type {\n",
       "        vertical-align: middle;\n",
       "    }\n",
       "\n",
       "    .dataframe tbody tr th {\n",
       "        vertical-align: top;\n",
       "    }\n",
       "\n",
       "    .dataframe thead th {\n",
       "        text-align: right;\n",
       "    }\n",
       "</style>\n",
       "<table border=\"1\" class=\"dataframe\">\n",
       "  <thead>\n",
       "    <tr style=\"text-align: right;\">\n",
       "      <th></th>\n",
       "      <th>Term</th>\n",
       "      <th>Year</th>\n",
       "      <th>Campus</th>\n",
       "      <th>College</th>\n",
       "      <th>Dept</th>\n",
       "      <th>Sbjct</th>\n",
       "      <th>Crse</th>\n",
       "      <th>Sect</th>\n",
       "      <th>Crse Title</th>\n",
       "      <th>Instructor Name</th>\n",
       "      <th>Instr Grp</th>\n",
       "      <th>Crse Type</th>\n",
       "      <th>Crse Lvl</th>\n",
       "      <th>Onlin</th>\n",
       "      <th>Enroll</th>\n",
       "      <th># Resp</th>\n",
       "      <th>Resp Rate</th>\n",
       "      <th>HrsPerWk</th>\n",
       "      <th>Interest</th>\n",
       "      <th>Challenge</th>\n",
       "      <th>Learned</th>\n",
       "      <th>Course</th>\n",
       "      <th>Effect</th>\n",
       "      <th>Avail</th>\n",
       "      <th>Respect</th>\n",
       "      <th>Instr</th>\n",
       "      <th>SD Crse</th>\n",
       "      <th>SD Instr</th>\n",
       "    </tr>\n",
       "  </thead>\n",
       "  <tbody>\n",
       "    <tr>\n",
       "      <th>0</th>\n",
       "      <td>Fall</td>\n",
       "      <td>2010</td>\n",
       "      <td>BD</td>\n",
       "      <td>BUSN</td>\n",
       "      <td>BU</td>\n",
       "      <td>ACCT</td>\n",
       "      <td>3220</td>\n",
       "      <td>002</td>\n",
       "      <td>CORP FINANCIAL RPRTNG 1</td>\n",
       "      <td>Jagolinzer, Alan David</td>\n",
       "      <td>TTT</td>\n",
       "      <td>LEC</td>\n",
       "      <td>Upper</td>\n",
       "      <td>NaN</td>\n",
       "      <td>40</td>\n",
       "      <td>38.0</td>\n",
       "      <td>0.950000</td>\n",
       "      <td>2.888672</td>\n",
       "      <td>4.289062</td>\n",
       "      <td>5.183594</td>\n",
       "      <td>5.473633</td>\n",
       "      <td>5.578125</td>\n",
       "      <td>5.683594</td>\n",
       "      <td>5.789062</td>\n",
       "      <td>6.000000</td>\n",
       "      <td>5.841797</td>\n",
       "      <td>0.598633</td>\n",
       "      <td>0.369507</td>\n",
       "    </tr>\n",
       "    <tr>\n",
       "      <th>1</th>\n",
       "      <td>Fall</td>\n",
       "      <td>2010</td>\n",
       "      <td>BD</td>\n",
       "      <td>BUSN</td>\n",
       "      <td>BU</td>\n",
       "      <td>ACCT</td>\n",
       "      <td>3220</td>\n",
       "      <td>003</td>\n",
       "      <td>CORP FINANCIAL RPRTNG 1</td>\n",
       "      <td>Jagolinzer, Alan David</td>\n",
       "      <td>TTT</td>\n",
       "      <td>LEC</td>\n",
       "      <td>Upper</td>\n",
       "      <td>NaN</td>\n",
       "      <td>45</td>\n",
       "      <td>42.0</td>\n",
       "      <td>0.933333</td>\n",
       "      <td>2.896973</td>\n",
       "      <td>3.737793</td>\n",
       "      <td>5.261719</td>\n",
       "      <td>5.213867</td>\n",
       "      <td>5.194336</td>\n",
       "      <td>5.666016</td>\n",
       "      <td>5.571289</td>\n",
       "      <td>5.975586</td>\n",
       "      <td>5.785156</td>\n",
       "      <td>0.872314</td>\n",
       "      <td>0.470337</td>\n",
       "    </tr>\n",
       "    <tr>\n",
       "      <th>2</th>\n",
       "      <td>Fall</td>\n",
       "      <td>2010</td>\n",
       "      <td>BD</td>\n",
       "      <td>BUSN</td>\n",
       "      <td>BU</td>\n",
       "      <td>ACCT</td>\n",
       "      <td>3220</td>\n",
       "      <td>004</td>\n",
       "      <td>CORP FINANCIAL RPRTNG 1</td>\n",
       "      <td>Jagolinzer, Alan David</td>\n",
       "      <td>TTT</td>\n",
       "      <td>LEC</td>\n",
       "      <td>Upper</td>\n",
       "      <td>NaN</td>\n",
       "      <td>39</td>\n",
       "      <td>32.0</td>\n",
       "      <td>0.820513</td>\n",
       "      <td>2.413574</td>\n",
       "      <td>3.875000</td>\n",
       "      <td>5.343750</td>\n",
       "      <td>5.531250</td>\n",
       "      <td>5.531250</td>\n",
       "      <td>5.750000</td>\n",
       "      <td>5.687500</td>\n",
       "      <td>5.968750</td>\n",
       "      <td>5.968750</td>\n",
       "      <td>0.879272</td>\n",
       "      <td>0.176758</td>\n",
       "    </tr>\n",
       "    <tr>\n",
       "      <th>3</th>\n",
       "      <td>Fall</td>\n",
       "      <td>2010</td>\n",
       "      <td>BD</td>\n",
       "      <td>BUSN</td>\n",
       "      <td>BU</td>\n",
       "      <td>ACCT</td>\n",
       "      <td>3220</td>\n",
       "      <td>005</td>\n",
       "      <td>CORP FINANCIAL RPRTNG 1</td>\n",
       "      <td>Mabon, Janet Lee</td>\n",
       "      <td>OTH</td>\n",
       "      <td>LEC</td>\n",
       "      <td>Upper</td>\n",
       "      <td>NaN</td>\n",
       "      <td>34</td>\n",
       "      <td>23.0</td>\n",
       "      <td>0.676471</td>\n",
       "      <td>2.869141</td>\n",
       "      <td>3.869141</td>\n",
       "      <td>5.347656</td>\n",
       "      <td>4.434570</td>\n",
       "      <td>3.782227</td>\n",
       "      <td>3.825684</td>\n",
       "      <td>5.454102</td>\n",
       "      <td>6.000000</td>\n",
       "      <td>4.303711</td>\n",
       "      <td>1.085205</td>\n",
       "      <td>1.427979</td>\n",
       "    </tr>\n",
       "    <tr>\n",
       "      <th>4</th>\n",
       "      <td>Fall</td>\n",
       "      <td>2010</td>\n",
       "      <td>BD</td>\n",
       "      <td>BUSN</td>\n",
       "      <td>BU</td>\n",
       "      <td>ACCT</td>\n",
       "      <td>3220</td>\n",
       "      <td>006</td>\n",
       "      <td>CORP FINANCIAL RPRTNG 1</td>\n",
       "      <td>Hall, Renee Arlene</td>\n",
       "      <td>TTT</td>\n",
       "      <td>LEC</td>\n",
       "      <td>Upper</td>\n",
       "      <td>NaN</td>\n",
       "      <td>31</td>\n",
       "      <td>29.0</td>\n",
       "      <td>0.935484</td>\n",
       "      <td>3.035645</td>\n",
       "      <td>3.620605</td>\n",
       "      <td>5.241211</td>\n",
       "      <td>4.171875</td>\n",
       "      <td>3.206543</td>\n",
       "      <td>3.068848</td>\n",
       "      <td>4.550781</td>\n",
       "      <td>5.861328</td>\n",
       "      <td>3.137695</td>\n",
       "      <td>1.114014</td>\n",
       "      <td>1.156250</td>\n",
       "    </tr>\n",
       "  </tbody>\n",
       "</table>\n",
       "</div>"
      ],
      "text/plain": [
       "   Term  Year Campus College Dept Sbjct  Crse Sect               Crse Title  \\\n",
       "0  Fall  2010     BD    BUSN   BU  ACCT  3220  002  CORP FINANCIAL RPRTNG 1   \n",
       "1  Fall  2010     BD    BUSN   BU  ACCT  3220  003  CORP FINANCIAL RPRTNG 1   \n",
       "2  Fall  2010     BD    BUSN   BU  ACCT  3220  004  CORP FINANCIAL RPRTNG 1   \n",
       "3  Fall  2010     BD    BUSN   BU  ACCT  3220  005  CORP FINANCIAL RPRTNG 1   \n",
       "4  Fall  2010     BD    BUSN   BU  ACCT  3220  006  CORP FINANCIAL RPRTNG 1   \n",
       "\n",
       "          Instructor Name Instr Grp Crse Type Crse Lvl Onlin Enroll  # Resp  \\\n",
       "0  Jagolinzer, Alan David       TTT       LEC    Upper   NaN     40    38.0   \n",
       "1  Jagolinzer, Alan David       TTT       LEC    Upper   NaN     45    42.0   \n",
       "2  Jagolinzer, Alan David       TTT       LEC    Upper   NaN     39    32.0   \n",
       "3        Mabon, Janet Lee       OTH       LEC    Upper   NaN     34    23.0   \n",
       "4      Hall, Renee Arlene       TTT       LEC    Upper   NaN     31    29.0   \n",
       "\n",
       "   Resp Rate  HrsPerWk  Interest  Challenge   Learned    Course    Effect  \\\n",
       "0   0.950000  2.888672  4.289062   5.183594  5.473633  5.578125  5.683594   \n",
       "1   0.933333  2.896973  3.737793   5.261719  5.213867  5.194336  5.666016   \n",
       "2   0.820513  2.413574  3.875000   5.343750  5.531250  5.531250  5.750000   \n",
       "3   0.676471  2.869141  3.869141   5.347656  4.434570  3.782227  3.825684   \n",
       "4   0.935484  3.035645  3.620605   5.241211  4.171875  3.206543  3.068848   \n",
       "\n",
       "      Avail   Respect     Instr   SD Crse  SD Instr  \n",
       "0  5.789062  6.000000  5.841797  0.598633  0.369507  \n",
       "1  5.571289  5.975586  5.785156  0.872314  0.470337  \n",
       "2  5.687500  5.968750  5.968750  0.879272  0.176758  \n",
       "3  5.454102  6.000000  4.303711  1.085205  1.427979  \n",
       "4  4.550781  5.861328  3.137695  1.114014  1.156250  "
      ]
     },
     "execution_count": 3,
     "metadata": {},
     "output_type": "execute_result"
    }
   ],
   "source": [
    "fcq_df = pd.read_excel('fcq_2010_2019.xlsx',sheet_name=\"FCQ Results\",header=6)\n",
    "\n",
    "fcq_df.head()"
   ]
  },
  {
   "cell_type": "markdown",
   "id": "5e17a0f7",
   "metadata": {},
   "source": [
    "Identify and remove the rows whose \"Enroll\" is \"(blank)\". (2 pts)"
   ]
  },
  {
   "cell_type": "code",
   "execution_count": 14,
   "id": "5b3d021f",
   "metadata": {},
   "outputs": [],
   "source": [
    "fcq_df = fcq_df[fcq_df['Enroll'] != '(blank)']"
   ]
  },
  {
   "cell_type": "markdown",
   "id": "3c7d07de",
   "metadata": {},
   "source": [
    "## Question 02: Simple histograms (10 pts)\n",
    "\n",
    "Using the \"HrsPerWk\" column, make a histogram with 25 bins of the average hours per week across all sections and lectures. Make sure to label the x-axis, y-axis, and title. (3 pts)"
   ]
  },
  {
   "cell_type": "code",
   "execution_count": 6,
   "id": "c0512241",
   "metadata": {},
   "outputs": [
    {
     "data": {
      "text/plain": [
       "Text(0.5, 1.0, 'FCQ-reported average hours per week')"
      ]
     },
     "execution_count": 6,
     "metadata": {},
     "output_type": "execute_result"
    },
    {
     "data": {
      "image/png": "[encoded data removed]",
      "text/plain": [
       "<Figure size 432x288 with 1 Axes>"
      ]
     },
     "metadata": {
      "needs_background": "light"
     },
     "output_type": "display_data"
    }
   ],
   "source": [
    "ax = fcq_df['HrsPerWk'].hist(bins=25)\n",
    "ax.set_xlabel('Hours')\n",
    "ax.set_ylabel('Count (sections)')\n",
    "ax.set_title('FCQ-reported average hours per week')"
   ]
  },
  {
   "cell_type": "markdown",
   "id": "24bd27e6",
   "metadata": {},
   "source": [
    "Using the \"Enroll\" column, make a histogram with 25 bins of the average hours per week across all sections and lectures. Make sure to label the x-axis, y-axis, and title. (3 pts)"
   ]
  },
  {
   "cell_type": "code",
   "execution_count": 15,
   "id": "75686c25",
   "metadata": {},
   "outputs": [
    {
     "data": {
      "text/plain": [
       "Text(0.5, 1.0, 'FCQ-reported enrollments')"
      ]
     },
     "execution_count": 15,
     "metadata": {},
     "output_type": "execute_result"
    },
    {
     "data": {
      "image/png": "[encoded data removed]",
      "text/plain": [
       "<Figure size 432x288 with 1 Axes>"
      ]
     },
     "metadata": {
      "needs_background": "light"
     },
     "output_type": "display_data"
    }
   ],
   "source": [
    "ax = fcq_df['Enroll'].hist()\n",
    "ax.set_xlabel('Students')\n",
    "ax.set_ylabel('Count (sections)')\n",
    "ax.set_title('FCQ-reported enrollments')"
   ]
  },
  {
   "cell_type": "markdown",
   "id": "67239dc8",
   "metadata": {},
   "source": [
    "Re-do the histogram for the \"Enroll\" column but use log-spaced bins and semi-log axes. (4 pts)"
   ]
  },
  {
   "cell_type": "code",
   "execution_count": 18,
   "id": "10d7c5a0",
   "metadata": {},
   "outputs": [
    {
     "data": {
      "text/plain": [
       "Text(0.5, 1.0, 'FCQ-reported enrollments')"
      ]
     },
     "execution_count": 18,
     "metadata": {},
     "output_type": "execute_result"
    },
    {
     "data": {
      "image/png": "[encoded data removed]",
      "text/plain": [
       "<Figure size 432x288 with 1 Axes>"
      ]
     },
     "metadata": {
      "needs_background": "light"
     },
     "output_type": "display_data"
    }
   ],
   "source": [
    "ax = fcq_df['Enroll'].hist(bins=np.geomspace(1,1000,25))\n",
    "ax.set_xlabel('Students')\n",
    "ax.set_ylabel('Count (sections)')\n",
    "ax.set_xscale('log')\n",
    "ax.set_title('FCQ-reported enrollments')"
   ]
  },
  {
   "cell_type": "markdown",
   "id": "8e9cbe43",
   "metadata": {},
   "source": [
    "### Extra credit (2 pts)\n",
    "What is the average class size versus the average log-class size?"
   ]
  },
  {
   "cell_type": "code",
   "execution_count": 34,
   "id": "b8822664",
   "metadata": {},
   "outputs": [
    {
     "data": {
      "text/plain": [
       "'Averaging the raw enrollments, there are 29.9 students'"
      ]
     },
     "execution_count": 34,
     "metadata": {},
     "output_type": "execute_result"
    }
   ],
   "source": [
    "average_raw_enrollments = fcq_df['Enroll'].mean()\n",
    "\"Averaging the raw enrollments, there are {0:.1f} students\".format(average_raw_enrollments)"
   ]
  },
  {
   "cell_type": "code",
   "execution_count": 35,
   "id": "a5166c87",
   "metadata": {},
   "outputs": [
    {
     "data": {
      "text/plain": [
       "'Averaging the log-enrollments, there are 20.7 students'"
      ]
     },
     "execution_count": 35,
     "metadata": {},
     "output_type": "execute_result"
    }
   ],
   "source": [
    "# Need to cast ints to floats\n",
    "average_log_enrollments = np.e**fcq_df['Enroll'].astype(float).apply(np.log).mean()\n",
    "\"Averaging the log-enrollments, there are {0:.1f} students\".format(average_log_enrollments)"
   ]
  },
  {
   "cell_type": "markdown",
   "id": "70f56448",
   "metadata": {},
   "source": [
    "## Question 03: Multiple subplots (14 pts)\n",
    "\n",
    "Filter `fcq_df` down to only the \"CMCI\" values in \"College\" and store as `cmci_fcq_df`. Print the shape. (1 pt)"
   ]
  },
  {
   "cell_type": "code",
   "execution_count": 51,
   "id": "5af074dc",
   "metadata": {},
   "outputs": [
    {
     "data": {
      "text/plain": [
       "(4016, 28)"
      ]
     },
     "execution_count": 51,
     "metadata": {},
     "output_type": "execute_result"
    }
   ],
   "source": [
    "cmci_fcq_df = fcq_df[fcq_df['College'] == 'CMCI']\n",
    "cmci_fcq_df.shape"
   ]
  },
  {
   "cell_type": "markdown",
   "id": "152a69cc",
   "metadata": {},
   "source": [
    "Filter the \"Dept\" column to only include \"APRD\", \"CMCI\", \"CMDP\", \"COMM\", \"INFO\", \"JRNL\", and \"MDST\". Print the shape. (1 pt)"
   ]
  },
  {
   "cell_type": "code",
   "execution_count": 52,
   "id": "bddceaca",
   "metadata": {},
   "outputs": [
    {
     "data": {
      "text/plain": [
       "(2826, 28)"
      ]
     },
     "execution_count": 52,
     "metadata": {},
     "output_type": "execute_result"
    }
   ],
   "source": [
    "cmci_fcq_df = cmci_fcq_df[cmci_fcq_df['Dept'].isin([\"APRD\", \"CMCI\", \"CMDP\", \"COMM\", \"INFO\", \"JRNL\", \"MDST\"])]\n",
    "cmci_fcq_df.shape"
   ]
  },
  {
   "cell_type": "markdown",
   "id": "394b566b",
   "metadata": {},
   "source": [
    "Make a histogram of the \"HrsPerWk\" column and use the \"by\" parameter to group by \"Term\". Experiment with different \"figsize\" values until the subplots are approximately square. Get rid of the legend. Use `plt.tight_layout` ([docs](https://matplotlib.org/stable/tutorials/intermediate/tight_layout_guide.html)) to make it clean. (5 pts)"
   ]
  },
  {
   "cell_type": "code",
   "execution_count": 86,
   "id": "750b0463",
   "metadata": {},
   "outputs": [
    {
     "data": {
      "image/png": "[encoded data removed]",
      "text/plain": [
       "<Figure size 288x864 with 3 Axes>"
      ]
     },
     "metadata": {
      "needs_background": "light"
     },
     "output_type": "display_data"
    }
   ],
   "source": [
    "cmci_fcq_df.plot.hist(\n",
    "    column = 'HrsPerWk', \n",
    "    by = 'Term',\n",
    "    bins = 20,\n",
    "    figsize = (4,12),\n",
    "    legend = False\n",
    ")\n",
    "\n",
    "plt.tight_layout()"
   ]
  },
  {
   "cell_type": "markdown",
   "id": "438a74ed",
   "metadata": {},
   "source": [
    "Using the pandas `.plot.hist()` ([docs](https://pandas.pydata.org/docs/reference/api/pandas.DataFrame.plot.hist.html)) or `.plot()` ([docs](https://pandas.pydata.org/docs/reference/api/pandas.DataFrame.plot.html#pandas.DataFrame.plot)) methods on `cmci_fcq_df` and their \"by\" parameter, make a collection of histograms of \"Course\" scores by \"Dept\". Use other parameters to make the \"figsize\" (12,6) and the \"layout\" with two rows. Use `plt.tight_layout` ([docs](https://matplotlib.org/stable/tutorials/intermediate/tight_layout_guide.html)) to make it clean. (6 pts)"
   ]
  },
  {
   "cell_type": "code",
   "execution_count": 67,
   "id": "86b18f5b",
   "metadata": {
    "scrolled": false
   },
   "outputs": [
    {
     "data": {
      "image/png": "[encoded data removed]",
      "text/plain": [
       "<Figure size 864x432 with 8 Axes>"
      ]
     },
     "metadata": {
      "needs_background": "light"
     },
     "output_type": "display_data"
    }
   ],
   "source": [
    "dept_num = len(cmci_fcq_df['Dept'].unique())\n",
    "\n",
    "axs = cmci_fcq_df.plot.hist(\n",
    "    column = 'Course',\n",
    "    by = 'Dept',\n",
    "    legend = False,\n",
    "    figsize = (12,6),\n",
    "    layout = (2,4),\n",
    "    xlim = (1,6),\n",
    "    bins = 15\n",
    ")\n",
    "\n",
    "plt.tight_layout()"
   ]
  },
  {
   "cell_type": "markdown",
   "id": "4bfce69c",
   "metadata": {},
   "source": [
    "Convert the cell below to a Raw NBCovert and write a sentence or two about the patterns in the visualizations above. (1 pt)"
   ]
  },
  {
   "cell_type": "raw",
   "id": "9a8e6de0",
   "metadata": {},
   "source": [
    "There are a lot of classes in Comm and few in Media Studies but otherwise the distribution of course scores seem similar."
   ]
  },
  {
   "cell_type": "markdown",
   "id": "cef69fe0",
   "metadata": {},
   "source": [
    "### Extra credit (2 pts)\n",
    "\n",
    "Calculate the t-statistic and p-value for the difference in \"HrsPerWk\" for Spring versus Summer CMCI classes using `ttest_ind` and unequal variance from scipy.stats ([docs](https://docs.scipy.org/doc/scipy-1.8.0/html-scipyorg/reference/generated/scipy.stats.ttest_ind.html)). You may need to drop missing values."
   ]
  },
  {
   "cell_type": "code",
   "execution_count": 93,
   "id": "e08725e9",
   "metadata": {},
   "outputs": [],
   "source": [
    "summer_hrs = cmci_fcq_df.loc[cmci_fcq_df['Term'] == 'Summer','HrsPerWk'].dropna()\n",
    "spring_hrs = cmci_fcq_df.loc[cmci_fcq_df['Term'] == 'Spring','HrsPerWk'].dropna()"
   ]
  },
  {
   "cell_type": "code",
   "execution_count": 98,
   "id": "0219b22b",
   "metadata": {},
   "outputs": [
    {
     "data": {
      "text/plain": [
       "Ttest_indResult(statistic=13.585440859127925, pvalue=3.821766327730183e-29)"
      ]
     },
     "execution_count": 98,
     "metadata": {},
     "output_type": "execute_result"
    }
   ],
   "source": [
    "from scipy.stats import ttest_ind\n",
    "\n",
    "ttest_ind(summer_hrs,spring_hrs,equal_var=False)"
   ]
  },
  {
   "cell_type": "code",
   "execution_count": null,
   "id": "c875e75d",
   "metadata": {},
   "outputs": [],
   "source": []
  }
 ],
 "metadata": {
  "kernelspec": {
   "display_name": "Python 3 (ipykernel)",
   "language": "python",
   "name": "python3"
  },
  "language_info": {
   "codemirror_mode": {
    "name": "ipython",
    "version": 3
   },
   "file_extension": ".py",
   "mimetype": "text/x-python",
   "name": "python",
   "nbconvert_exporter": "python",
   "pygments_lexer": "ipython3",
   "version": "3.9.9"
  }
 },
 "nbformat": 4,
 "nbformat_minor": 5
}
