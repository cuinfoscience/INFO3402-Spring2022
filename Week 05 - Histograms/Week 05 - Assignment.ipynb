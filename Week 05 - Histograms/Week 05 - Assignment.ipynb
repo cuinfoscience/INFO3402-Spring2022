{
 "cells": [
  {
   "cell_type": "markdown",
   "id": "aeaad0b1",
   "metadata": {},
   "source": [
    "# INFO 3402 – Week 05: Assignment\n",
    "\n",
    "[Brian C. Keegan, Ph.D.](http://brianckeegan.com/)  \n",
    "[Assistant Professor, Department of Information Science](https://www.colorado.edu/cmci/people/information-science/brian-c-keegan)  \n",
    "University of Colorado Boulder  \n",
    "\n",
    "Copyright and distributed under an [MIT License](https://opensource.org/licenses/MIT)"
   ]
  },
  {
   "cell_type": "markdown",
   "id": "7a8422e8",
   "metadata": {},
   "source": [
    "## Background\n",
    "\n",
    "The University of Colorado Boulder collects data about faculty performance in courses and publishes the aggregated data [here](https://www.colorado.edu/fcq/boulder-fcq-results). We're going to use the Excel sheet for Fall 2010 to Fall 2019 because the FCQ format changed and then no data was collected in spring 2020 because of the move to remote learning."
   ]
  },
  {
   "cell_type": "markdown",
   "id": "84163819",
   "metadata": {},
   "source": [
    "## Question 01: Load libraries and inspect datasets (6 pts)\n",
    "\n",
    "Import the `numpy`, `pandas`, and matplotlib's `pyplot` libraries and the matplotlib cell magic. (1 pt)"
   ]
  },
  {
   "cell_type": "code",
   "execution_count": 1,
   "id": "26218477",
   "metadata": {},
   "outputs": [],
   "source": [
    "import numpy as np\n",
    "import pandas as pd\n",
    "\n",
    "pd.options.display.max_columns = 100\n",
    "\n",
    "%matplotlib inline\n",
    "import matplotlib.pyplot as plt"
   ]
  },
  {
   "cell_type": "markdown",
   "id": "1e90d630",
   "metadata": {},
   "source": [
    "Load the \"fcq_2010_2019.xlsx\" file with `read_excel`, use the data from the \"FCQ Results\" sheet, make sure your header is correct, assign to `fcq_df`, and inspect. (3 pts)"
   ]
  },
  {
   "cell_type": "code",
   "execution_count": 6,
   "id": "6f6f850b",
   "metadata": {},
   "outputs": [],
   "source": [
    "fcq_df = pd.read_excel('fcq_2010_2019.xlsx',sheet_name='FCQ Results',header=6)"
   ]
  },
  {
   "cell_type": "markdown",
   "id": "e969094a",
   "metadata": {},
   "source": [
    "Identify and remove the rows whose \"Enroll\" is \"(blank)\". (2 pts)"
   ]
  },
  {
   "cell_type": "code",
   "execution_count": 7,
   "id": "37b50c60",
   "metadata": {},
   "outputs": [
    {
     "data": {
      "text/html": [
       "<div>\n",
       "<style scoped>\n",
       "    .dataframe tbody tr th:only-of-type {\n",
       "        vertical-align: middle;\n",
       "    }\n",
       "\n",
       "    .dataframe tbody tr th {\n",
       "        vertical-align: top;\n",
       "    }\n",
       "\n",
       "    .dataframe thead th {\n",
       "        text-align: right;\n",
       "    }\n",
       "</style>\n",
       "<table border=\"1\" class=\"dataframe\">\n",
       "  <thead>\n",
       "    <tr style=\"text-align: right;\">\n",
       "      <th></th>\n",
       "      <th>Term</th>\n",
       "      <th>Year</th>\n",
       "      <th>Campus</th>\n",
       "      <th>College</th>\n",
       "      <th>Dept</th>\n",
       "      <th>Sbjct</th>\n",
       "      <th>Crse</th>\n",
       "      <th>Sect</th>\n",
       "      <th>Crse Title</th>\n",
       "      <th>Instructor Name</th>\n",
       "      <th>Instr Grp</th>\n",
       "      <th>Crse Type</th>\n",
       "      <th>Crse Lvl</th>\n",
       "      <th>Onlin</th>\n",
       "      <th>Enroll</th>\n",
       "      <th># Resp</th>\n",
       "      <th>Resp Rate</th>\n",
       "      <th>HrsPerWk</th>\n",
       "      <th>Interest</th>\n",
       "      <th>Challenge</th>\n",
       "      <th>Learned</th>\n",
       "      <th>Course</th>\n",
       "      <th>Effect</th>\n",
       "      <th>Avail</th>\n",
       "      <th>Respect</th>\n",
       "      <th>Instr</th>\n",
       "      <th>SD Crse</th>\n",
       "      <th>SD Instr</th>\n",
       "    </tr>\n",
       "  </thead>\n",
       "  <tbody>\n",
       "    <tr>\n",
       "      <th>0</th>\n",
       "      <td>Fall</td>\n",
       "      <td>2010</td>\n",
       "      <td>BD</td>\n",
       "      <td>BUSN</td>\n",
       "      <td>BU</td>\n",
       "      <td>ACCT</td>\n",
       "      <td>3220</td>\n",
       "      <td>002</td>\n",
       "      <td>CORP FINANCIAL RPRTNG 1</td>\n",
       "      <td>Jagolinzer, Alan David</td>\n",
       "      <td>TTT</td>\n",
       "      <td>LEC</td>\n",
       "      <td>Upper</td>\n",
       "      <td>NaN</td>\n",
       "      <td>40</td>\n",
       "      <td>38.0</td>\n",
       "      <td>0.950000</td>\n",
       "      <td>2.888672</td>\n",
       "      <td>4.289062</td>\n",
       "      <td>5.183594</td>\n",
       "      <td>5.473633</td>\n",
       "      <td>5.578125</td>\n",
       "      <td>5.683594</td>\n",
       "      <td>5.789062</td>\n",
       "      <td>6.000000</td>\n",
       "      <td>5.841797</td>\n",
       "      <td>0.598633</td>\n",
       "      <td>0.369507</td>\n",
       "    </tr>\n",
       "    <tr>\n",
       "      <th>1</th>\n",
       "      <td>Fall</td>\n",
       "      <td>2010</td>\n",
       "      <td>BD</td>\n",
       "      <td>BUSN</td>\n",
       "      <td>BU</td>\n",
       "      <td>ACCT</td>\n",
       "      <td>3220</td>\n",
       "      <td>003</td>\n",
       "      <td>CORP FINANCIAL RPRTNG 1</td>\n",
       "      <td>Jagolinzer, Alan David</td>\n",
       "      <td>TTT</td>\n",
       "      <td>LEC</td>\n",
       "      <td>Upper</td>\n",
       "      <td>NaN</td>\n",
       "      <td>45</td>\n",
       "      <td>42.0</td>\n",
       "      <td>0.933333</td>\n",
       "      <td>2.896973</td>\n",
       "      <td>3.737793</td>\n",
       "      <td>5.261719</td>\n",
       "      <td>5.213867</td>\n",
       "      <td>5.194336</td>\n",
       "      <td>5.666016</td>\n",
       "      <td>5.571289</td>\n",
       "      <td>5.975586</td>\n",
       "      <td>5.785156</td>\n",
       "      <td>0.872314</td>\n",
       "      <td>0.470337</td>\n",
       "    </tr>\n",
       "  </tbody>\n",
       "</table>\n",
       "</div>"
      ],
      "text/plain": [
       "   Term  Year Campus College Dept Sbjct  Crse Sect               Crse Title  \\\n",
       "0  Fall  2010     BD    BUSN   BU  ACCT  3220  002  CORP FINANCIAL RPRTNG 1   \n",
       "1  Fall  2010     BD    BUSN   BU  ACCT  3220  003  CORP FINANCIAL RPRTNG 1   \n",
       "\n",
       "          Instructor Name Instr Grp Crse Type Crse Lvl Onlin Enroll  # Resp  \\\n",
       "0  Jagolinzer, Alan David       TTT       LEC    Upper   NaN     40    38.0   \n",
       "1  Jagolinzer, Alan David       TTT       LEC    Upper   NaN     45    42.0   \n",
       "\n",
       "   Resp Rate  HrsPerWk  Interest  Challenge   Learned    Course    Effect  \\\n",
       "0   0.950000  2.888672  4.289062   5.183594  5.473633  5.578125  5.683594   \n",
       "1   0.933333  2.896973  3.737793   5.261719  5.213867  5.194336  5.666016   \n",
       "\n",
       "      Avail   Respect     Instr   SD Crse  SD Instr  \n",
       "0  5.789062  6.000000  5.841797  0.598633  0.369507  \n",
       "1  5.571289  5.975586  5.785156  0.872314  0.470337  "
      ]
     },
     "execution_count": 7,
     "metadata": {},
     "output_type": "execute_result"
    }
   ],
   "source": [
    "fcq_df.head(2)"
   ]
  },
  {
   "cell_type": "code",
   "execution_count": 8,
   "id": "c8f1c731",
   "metadata": {},
   "outputs": [],
   "source": [
    "fcq_df = fcq_df[fcq_df['Enroll'] != \"(blank)\"]"
   ]
  },
  {
   "cell_type": "markdown",
   "id": "69a82580",
   "metadata": {},
   "source": [
    "## Question 02: Simple histograms (10 pts)\n",
    "\n",
    "Using the \"HrsPerWk\" column, make a histogram with 25 bins of the average hours per week across all sections and lectures. Make sure to label the x-axis, y-axis, and title. (3 pts)"
   ]
  },
  {
   "cell_type": "code",
   "execution_count": null,
   "id": "6aad31a8",
   "metadata": {},
   "outputs": [],
   "source": []
  },
  {
   "cell_type": "markdown",
   "id": "656888db",
   "metadata": {},
   "source": [
    "Using the \"Enroll\" column, make a histogram with 25 bins of the average hours per week across all sections and lectures. Make sure to label the x-axis, y-axis, and title. (3 pts)"
   ]
  },
  {
   "cell_type": "code",
   "execution_count": null,
   "id": "7d9fd003",
   "metadata": {},
   "outputs": [],
   "source": []
  },
  {
   "cell_type": "markdown",
   "id": "40e86c5c",
   "metadata": {},
   "source": [
    "Re-do the histogram for the \"Enroll\" column but use log-spaced bins and semi-log axes. (4 pts)"
   ]
  },
  {
   "cell_type": "code",
   "execution_count": null,
   "id": "9f0d37e3",
   "metadata": {},
   "outputs": [],
   "source": []
  },
  {
   "cell_type": "markdown",
   "id": "006ea90a",
   "metadata": {},
   "source": [
    "### Extra credit (2 pts)\n",
    "What is the average class size versus the average log-class size?"
   ]
  },
  {
   "cell_type": "code",
   "execution_count": null,
   "id": "a72b3ee3",
   "metadata": {},
   "outputs": [],
   "source": []
  },
  {
   "cell_type": "markdown",
   "id": "d3cda7e0",
   "metadata": {},
   "source": [
    "## Question 03: Multiple subplots (14 pts)\n",
    "\n",
    "Filter `fcq_df` down to only the \"CMCI\" values in \"College\" and store as `cmci_fcq_df`. Print the shape. (1 pt)"
   ]
  },
  {
   "cell_type": "code",
   "execution_count": null,
   "id": "0fc153a7",
   "metadata": {},
   "outputs": [],
   "source": []
  },
  {
   "cell_type": "markdown",
   "id": "96a78c5f",
   "metadata": {},
   "source": [
    "Filter the \"Dept\" column to only include \"APRD\", \"CMCI\", \"CMDP\", \"COMM\", \"INFO\", \"JRNL\", and \"MDST\". Print the shape. (1 pt)"
   ]
  },
  {
   "cell_type": "code",
   "execution_count": null,
   "id": "ba6c7c90",
   "metadata": {},
   "outputs": [],
   "source": []
  },
  {
   "cell_type": "markdown",
   "id": "318bac6e",
   "metadata": {},
   "source": [
    "Make a histogram of the \"HrsPerWk\" column and use the \"by\" parameter to group by \"Term\". Experiment with different \"figsize\" values until the subplots are approximately square. Get rid of the legend. Use `plt.tight_layout` ([docs](https://matplotlib.org/stable/tutorials/intermediate/tight_layout_guide.html)) to make it clean. (5 pts)"
   ]
  },
  {
   "cell_type": "markdown",
   "id": "1cc51c73",
   "metadata": {},
   "source": [
    "Using the pandas `.plot.hist()` ([docs](https://pandas.pydata.org/docs/reference/api/pandas.DataFrame.plot.hist.html)) or `.plot()` ([docs](https://pandas.pydata.org/docs/reference/api/pandas.DataFrame.plot.html#pandas.DataFrame.plot)) methods on `cmci_fcq_df` and their \"by\" parameter, make a collection of histograms of \"Course\" scores by \"Dept\". Use other parameters to make the \"figsize\" (12,6) and the \"layout\" with two rows. Use `plt.tight_layout` ([docs](https://matplotlib.org/stable/tutorials/intermediate/tight_layout_guide.html)) to make it clean. (6 pts)"
   ]
  },
  {
   "cell_type": "code",
   "execution_count": null,
   "id": "23f2b2e9",
   "metadata": {},
   "outputs": [],
   "source": []
  },
  {
   "cell_type": "markdown",
   "id": "523b0df4",
   "metadata": {},
   "source": [
    "Convert the cell below to a Raw NBCovert and write a sentence or two about the patterns in the visualizations above. (1 pt)"
   ]
  },
  {
   "cell_type": "raw",
   "id": "2710f587",
   "metadata": {},
   "source": []
  },
  {
   "cell_type": "markdown",
   "id": "d73f618f",
   "metadata": {},
   "source": [
    "### Extra credit (2 pts)\n",
    "\n",
    "Calculate the t-statistic and p-value for the difference in \"HrsPerWk\" for Spring versus Summer CMCI classes using `ttest_ind` and unequal variance from scipy.stats ([docs](https://docs.scipy.org/doc/scipy-1.8.0/html-scipyorg/reference/generated/scipy.stats.ttest_ind.html)). You may need to drop missing values."
   ]
  },
  {
   "cell_type": "code",
   "execution_count": null,
   "id": "aa032168",
   "metadata": {},
   "outputs": [],
   "source": []
  }
 ],
 "metadata": {
  "kernelspec": {
   "display_name": "Python 3 (ipykernel)",
   "language": "python",
   "name": "python3"
  },
  "language_info": {
   "codemirror_mode": {
    "name": "ipython",
    "version": 3
   },
   "file_extension": ".py",
   "mimetype": "text/x-python",
   "name": "python",
   "nbconvert_exporter": "python",
   "pygments_lexer": "ipython3",
   "version": "3.9.9"
  }
 },
 "nbformat": 4,
 "nbformat_minor": 5
}
