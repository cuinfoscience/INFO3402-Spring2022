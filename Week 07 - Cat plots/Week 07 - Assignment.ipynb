{
 "cells": [
  {
   "cell_type": "markdown",
   "id": "aeaad0b1",
   "metadata": {},
   "source": [
    "# INFO 3402 – Week 07: Assignment - Solutions\n",
    "\n",
    "[Brian C. Keegan, Ph.D.](http://brianckeegan.com/)  \n",
    "[Assistant Professor, Department of Information Science](https://www.colorado.edu/cmci/people/information-science/brian-c-keegan)  \n",
    "University of Colorado Boulder  \n",
    "\n",
    "Copyright and distributed under an [MIT License](https://opensource.org/licenses/MIT)"
   ]
  },
  {
   "cell_type": "markdown",
   "id": "7a8422e8",
   "metadata": {},
   "source": [
    "## Background\n",
    "\n",
    "The Economist Intelligence Unit collects and publishes an annual ranking called the \"[Democracy Index](https://en.wikipedia.org/wiki/Democracy_Index)\" ([2021](https://www.eiu.com/n/campaigns/democracy-index-2021/)). I have collected and standardized this annual data from 2010 onwards."
   ]
  },
  {
   "cell_type": "markdown",
   "id": "511cb233",
   "metadata": {},
   "source": [
    "## Question 01: Load libraries; inspect and clean datasets (10 pts)\n",
    "\n",
    "Import the `numpy`, `pandas`, matplotlib's `pyplot`, and `seaborn` libraries and the matplotlib cell magic. (2 pt)"
   ]
  },
  {
   "cell_type": "code",
   "execution_count": null,
   "id": "0196cb28",
   "metadata": {},
   "outputs": [],
   "source": []
  },
  {
   "cell_type": "markdown",
   "id": "d8dba586",
   "metadata": {},
   "source": [
    "Load \"democracy_index.csv\", store as `democracy_df`, and inspect. (2 pts)"
   ]
  },
  {
   "cell_type": "code",
   "execution_count": null,
   "id": "e3512e04",
   "metadata": {},
   "outputs": [],
   "source": []
  },
  {
   "cell_type": "markdown",
   "id": "a911ab63",
   "metadata": {},
   "source": [
    "Load \"regional_classifications\", store as `regions_df`, and inspect. (2 pts)"
   ]
  },
  {
   "cell_type": "code",
   "execution_count": null,
   "id": "eaf33176",
   "metadata": {},
   "outputs": [],
   "source": []
  },
  {
   "cell_type": "markdown",
   "id": "1939d882",
   "metadata": {},
   "source": [
    "Identify the unique countries present in `democracy_df` but not in `regions_df` as `dem_minus_reg`. Print the size of `dem_minus_reg`. (1 pt)"
   ]
  },
  {
   "cell_type": "code",
   "execution_count": null,
   "id": "4238c94b",
   "metadata": {},
   "outputs": [],
   "source": [
    "set(['A','B','C']) - set(['A','B','C','D'])"
   ]
  },
  {
   "cell_type": "markdown",
   "id": "022c7506",
   "metadata": {},
   "source": [
    "Identify the unique countries present in `regions_df` but not in `democracy_df` as `reg_minus_dem`. Print the size of `reg_minus_dem`. (1 pt)"
   ]
  },
  {
   "cell_type": "code",
   "execution_count": null,
   "id": "dd33558f",
   "metadata": {},
   "outputs": [],
   "source": []
  },
  {
   "cell_type": "markdown",
   "id": "242401e5",
   "metadata": {},
   "source": [
    "Based on the differences in the countries present, is additional data cleaning required? What is an appropriate join strategy? How many countries should be in the joined data? (2 pts)"
   ]
  },
  {
   "cell_type": "code",
   "execution_count": null,
   "id": "eee7f04e",
   "metadata": {},
   "outputs": [],
   "source": []
  },
  {
   "cell_type": "code",
   "execution_count": null,
   "id": "254bab9c",
   "metadata": {},
   "outputs": [],
   "source": []
  },
  {
   "cell_type": "markdown",
   "id": "ea6183e5",
   "metadata": {},
   "source": [
    "## Question 02: Perform join and exploratory analyses (10 pts)\n",
    "\n",
    "Join `regions_df` on `democracy_df` using the join strategy you outlined above and store it as `joined_df`. Print the shape of `joined_df` and inspect the first 15 rows. (5 points)"
   ]
  },
  {
   "cell_type": "code",
   "execution_count": null,
   "id": "6448bb6f",
   "metadata": {},
   "outputs": [],
   "source": []
  },
  {
   "cell_type": "markdown",
   "id": "7d916bc2",
   "metadata": {},
   "source": [
    "Compute the average annual \"Overall score\" for all countries. Visualize the resulting time series as a line plot. Add appropriate axes labels and titles. (2 pts)\n",
    "\n",
    "**Extra credit**: annotate each bar with its score (2 pts)"
   ]
  },
  {
   "cell_type": "code",
   "execution_count": null,
   "id": "8c0c9241",
   "metadata": {},
   "outputs": [],
   "source": []
  },
  {
   "cell_type": "markdown",
   "id": "aa7e3b4c",
   "metadata": {},
   "source": [
    "Filter `joined_df` down to \"United States of America\" and call this sub-DataFrame `joined_us_df`. Make a figure with two subplots. Plot its \"Political culture\" scores from 2010 to 2021 as a bar graph on the left subplot. Plot its \"Functioning of government\" scores from 2010 to 2021 as a line graph on the right subplot. (3 pts)"
   ]
  },
  {
   "cell_type": "code",
   "execution_count": null,
   "id": "5bf65c5a",
   "metadata": {},
   "outputs": [],
   "source": []
  },
  {
   "cell_type": "markdown",
   "id": "6852d228",
   "metadata": {},
   "source": [
    "## Question 03: Make cat plots (10 pts)\n",
    "\n",
    "Use `joined_df` to make a barplot with \"UN Regions\" on the y-axis, and \"Overall score\" on the x-axis. (2 pts)"
   ]
  },
  {
   "cell_type": "code",
   "execution_count": 1,
   "id": "fb35cfd3",
   "metadata": {},
   "outputs": [
    {
     "data": {
      "text/plain": [
       "set()"
      ]
     },
     "execution_count": 1,
     "metadata": {},
     "output_type": "execute_result"
    }
   ],
   "source": []
  },
  {
   "cell_type": "markdown",
   "id": "ebdf6255",
   "metadata": {},
   "source": [
    "Add \"Developed/developing\" as a hue to the previous chart below and try a *different* \"kind\" of catplot. (2 pts)"
   ]
  },
  {
   "cell_type": "code",
   "execution_count": null,
   "id": "5b59ca8c",
   "metadata": {},
   "outputs": [],
   "source": []
  },
  {
   "cell_type": "markdown",
   "id": "3076899d",
   "metadata": {},
   "source": [
    "Make a boxplot of the \"Civil liberties\" column on the y-axis, \"Year\" on the x-axis, and \"World Bank Income Group\" as a hue. (2 pts)"
   ]
  },
  {
   "cell_type": "code",
   "execution_count": null,
   "id": "3c1dcbf1",
   "metadata": {},
   "outputs": [],
   "source": []
  },
  {
   "cell_type": "markdown",
   "id": "122fa464",
   "metadata": {},
   "source": [
    "Make another kind of catplot using the `joined_df`. (2 pts)"
   ]
  },
  {
   "cell_type": "code",
   "execution_count": null,
   "id": "33753470",
   "metadata": {},
   "outputs": [],
   "source": []
  },
  {
   "cell_type": "markdown",
   "id": "0691abc2",
   "metadata": {},
   "source": [
    "Write a few sentences about the patterns you saw in these cat plots. (2 pts)"
   ]
  },
  {
   "cell_type": "code",
   "execution_count": null,
   "id": "a5090d9c",
   "metadata": {},
   "outputs": [],
   "source": []
  }
 ],
 "metadata": {
  "kernelspec": {
   "display_name": "Python 3 (ipykernel)",
   "language": "python",
   "name": "python3"
  },
  "language_info": {
   "codemirror_mode": {
    "name": "ipython",
    "version": 3
   },
   "file_extension": ".py",
   "mimetype": "text/x-python",
   "name": "python",
   "nbconvert_exporter": "python",
   "pygments_lexer": "ipython3",
   "version": "3.9.10"
  }
 },
 "nbformat": 4,
 "nbformat_minor": 5
}
