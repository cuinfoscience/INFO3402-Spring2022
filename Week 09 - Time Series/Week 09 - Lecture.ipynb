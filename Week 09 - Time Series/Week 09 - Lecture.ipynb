{
 "cells": [
  {
   "cell_type": "markdown",
   "id": "5907ff57",
   "metadata": {},
   "source": [
    "# INFO 3402 – Week 09: Time series\n",
    "\n",
    "[Brian C. Keegan, Ph.D.](http://brianckeegan.com/)  \n",
    "[Assistant Professor, Department of Information Science](https://www.colorado.edu/cmci/people/information-science/brian-c-keegan)  \n",
    "University of Colorado Boulder  \n",
    "\n",
    "Copyright and distributed under an [MIT License](https://opensource.org/licenses/MIT)  "
   ]
  },
  {
   "cell_type": "markdown",
   "id": "dd15daba",
   "metadata": {},
   "source": [
    "## Setup"
   ]
  },
  {
   "cell_type": "code",
   "execution_count": 1,
   "id": "a7ab87e0",
   "metadata": {},
   "outputs": [],
   "source": [
    "import numpy as np\n",
    "np.set_printoptions(suppress=True)\n",
    "\n",
    "import pandas as pd\n",
    "idx = pd.IndexSlice\n",
    "pd.options.display.max_columns = 100\n",
    "\n",
    "%matplotlib inline\n",
    "import matplotlib.pyplot as plt\n",
    "\n",
    "import seaborn as sb"
   ]
  },
  {
   "cell_type": "markdown",
   "id": "5f4d9d94",
   "metadata": {},
   "source": [
    "## Background\n",
    "\n",
    "Much of the data we have worked with so far has been categorical and cross-sectional, but many of you have likely started to encounter examples of temporal data: observations that also include timestamps. Working with temporal data brings a host of challenges since dates and times can be so irregular: 60 seconds within 60 minutes within 24-hour days within 7-day weeks within 28, 29, 30, or 31-day months; time elapsed; time zones; and more! Working with temporal data is a common problem so there are powerful libraries, functions, methods, and attributes within Python to help you. "
   ]
  },
  {
   "cell_type": "markdown",
   "id": "a54be551",
   "metadata": {},
   "source": [
    "## `datetime` library\n",
    "\n",
    "A \"classic\" joke among Python programmers is the very justifiable confusion between the [datetime object](https://docs.python.org/3/library/datetime.html#datetime-objects) within the [datetime module](https://docs.python.org/3/library/datetime.html).\n",
    "\n",
    "<div>\n",
    "<img src=\"https://external-preview.redd.it/zvDEM_ZO9yMYRHFvy4oPndpSxuBhQnUucQUASB3foOc.png?auto=webp&s=0287e0eeff39d34a6202f2ba22e733a553b38a8b\" width=\"400\"/>\n",
    "</div>\n",
    "\n",
    "<div>\n",
    "<img src=\"https://i.redd.it/j4hy36mdzmn31.png\" width=\"400\"/>\n",
    "</div>\n",
    "\n",
    "<div>\n",
    "<img src=\"https://memegenerator.net/img/instances/55315123/say-datetime-one-more-time.jpg\" width=\"400\"/>\n",
    "</div>\n",
    "\n",
    "\n",
    "Time and dates are confusing to work with, so let's take a moment to embrace the confusion and commit to working through them together.\n",
    "\n",
    "* **`datetime`** objects contain both time and date information (year, month, day, hour, minute, second, microseconds)\n",
    "* **`date`** objects contain only date information (year, month, day)\n",
    "* **`time`** objects contain only time information (hour, minute, second, microseconds)\n",
    "\n",
    "There are some additional classes within the datetime library that can also be helpful in various applications.\n",
    "\n",
    "* **`timedelta`** is a measure of duration or difference between two dates/times/datetimes\n",
    "* **`tzinfo`** is for handling time zone information."
   ]
  },
  {
   "cell_type": "code",
   "execution_count": 2,
   "id": "80b6540d",
   "metadata": {},
   "outputs": [],
   "source": [
    "import datetime"
   ]
  },
  {
   "cell_type": "markdown",
   "id": "8454ba5a",
   "metadata": {},
   "source": [
    "### `datetime` attributes and methods\n",
    "\n",
    "`.now()` can get the time right now."
   ]
  },
  {
   "cell_type": "code",
   "execution_count": 4,
   "id": "60d8a398",
   "metadata": {},
   "outputs": [
    {
     "data": {
      "text/plain": [
       "datetime.datetime(2022, 3, 8, 11, 23, 2, 69450)"
      ]
     },
     "execution_count": 4,
     "metadata": {},
     "output_type": "execute_result"
    }
   ],
   "source": [
    "now = datetime.datetime.now()\n",
    "now"
   ]
  },
  {
   "cell_type": "markdown",
   "id": "47543073",
   "metadata": {},
   "source": [
    "There's also a `.utcnow()` that gets the \"[coordinated universal time](https://en.wikipedia.org/wiki/Coordinated_Universal_Time)\" time (basically, the time at 0° longitude in London) rather than my system's current time."
   ]
  },
  {
   "cell_type": "code",
   "execution_count": 5,
   "id": "43802054",
   "metadata": {},
   "outputs": [
    {
     "data": {
      "text/plain": [
       "datetime.datetime(2022, 3, 8, 18, 23, 8, 760856)"
      ]
     },
     "execution_count": 5,
     "metadata": {},
     "output_type": "execute_result"
    }
   ],
   "source": [
    "utc = datetime.datetime.utcnow()\n",
    "utc"
   ]
  },
  {
   "cell_type": "markdown",
   "id": "1b853961",
   "metadata": {},
   "source": [
    "Make a `datetime` object for your birthday."
   ]
  },
  {
   "cell_type": "code",
   "execution_count": 6,
   "id": "0a406b43",
   "metadata": {},
   "outputs": [
    {
     "data": {
      "text/plain": [
       "datetime.datetime(1984, 2, 13, 7, 0)"
      ]
     },
     "execution_count": 6,
     "metadata": {},
     "output_type": "execute_result"
    }
   ],
   "source": [
    "birthday = datetime.datetime(1984,2,13,7,0)\n",
    "birthday"
   ]
  },
  {
   "cell_type": "markdown",
   "id": "a35a7b15",
   "metadata": {},
   "source": [
    "Note what happens when you try to pass a string to `datetime.datetime`. You should get a `TypeError`: datetime doesn't support converting string representations of dates into `datetime` objects. We will discuss how to move between strings and `datetime` using `strptime` below."
   ]
  },
  {
   "cell_type": "code",
   "execution_count": 7,
   "id": "69e03b04",
   "metadata": {},
   "outputs": [
    {
     "ename": "TypeError",
     "evalue": "an integer is required (got type str)",
     "output_type": "error",
     "traceback": [
      "\u001b[0;31m---------------------------------------------------------------------------\u001b[0m",
      "\u001b[0;31mTypeError\u001b[0m                                 Traceback (most recent call last)",
      "Input \u001b[0;32mIn [7]\u001b[0m, in \u001b[0;36m<module>\u001b[0;34m\u001b[0m\n\u001b[0;32m----> 1\u001b[0m \u001b[43mdatetime\u001b[49m\u001b[38;5;241;43m.\u001b[39;49m\u001b[43mdatetime\u001b[49m\u001b[43m(\u001b[49m\u001b[38;5;124;43m'\u001b[39;49m\u001b[38;5;124;43m2020-09-25\u001b[39;49m\u001b[38;5;124;43m'\u001b[39;49m\u001b[43m)\u001b[49m\n",
      "\u001b[0;31mTypeError\u001b[0m: an integer is required (got type str)"
     ]
    }
   ],
   "source": [
    "datetime.datetime('2020-09-25')"
   ]
  },
  {
   "cell_type": "markdown",
   "id": "fe40a94b",
   "metadata": {},
   "source": [
    "There are a variety of attributes and methods we can call on a datetime object to extract relevant information.\n",
    "\n",
    "Methods for converting from `datetime` objects to `date` or `time` objects."
   ]
  },
  {
   "cell_type": "code",
   "execution_count": 8,
   "id": "e6bfe8ce",
   "metadata": {},
   "outputs": [
    {
     "data": {
      "text/plain": [
       "datetime.date(2022, 3, 8)"
      ]
     },
     "execution_count": 8,
     "metadata": {},
     "output_type": "execute_result"
    }
   ],
   "source": [
    "now.date()"
   ]
  },
  {
   "cell_type": "code",
   "execution_count": 9,
   "id": "e755b7c6",
   "metadata": {},
   "outputs": [
    {
     "data": {
      "text/plain": [
       "datetime.time(11, 23, 2, 69450)"
      ]
     },
     "execution_count": 9,
     "metadata": {},
     "output_type": "execute_result"
    }
   ],
   "source": [
    "now.time()"
   ]
  },
  {
   "cell_type": "markdown",
   "id": "1242e70a",
   "metadata": {},
   "source": [
    "Attributes of a `date`, `time`, or `datetime` object:\n",
    "* **`.year`**\n",
    "* **`.month`**\n",
    "* **`.day`**\n",
    "* **`.hour`**\n",
    "* **`.minute`**\n",
    "* **`.second`**\n",
    "* **`.year`**"
   ]
  },
  {
   "cell_type": "code",
   "execution_count": 10,
   "id": "6713c5c4",
   "metadata": {},
   "outputs": [
    {
     "data": {
      "text/plain": [
       "(11, 23, 2)"
      ]
     },
     "execution_count": 10,
     "metadata": {},
     "output_type": "execute_result"
    }
   ],
   "source": [
    "now.hour, now.minute, now.second"
   ]
  },
  {
   "cell_type": "markdown",
   "id": "e6f2d4a7",
   "metadata": {},
   "source": [
    "There are some other conversion methods that are powerful:\n",
    "\n",
    "* **`.weekday()`**\n",
    "* **`.isoweekday()`**\n",
    "* **`.isoformat()`**"
   ]
  },
  {
   "cell_type": "code",
   "execution_count": 14,
   "id": "ed9d5d73",
   "metadata": {},
   "outputs": [
    {
     "data": {
      "text/plain": [
       "2"
      ]
     },
     "execution_count": 14,
     "metadata": {},
     "output_type": "execute_result"
    }
   ],
   "source": [
    "now.isoweekday()"
   ]
  },
  {
   "cell_type": "markdown",
   "id": "6b6d401b",
   "metadata": {},
   "source": [
    "### `strftime` vs. `strptime`\n",
    "\n",
    "Dates and times are often stored as strings like \"2020-07-04\" or \"07\\04\\2020\" to represent July 4, 2020 in the U.S. or April 7, 2020 in Europe (see? dates and times can be really frustrating!): [Date format by country](https://en.wikipedia.org/wiki/Date_format_by_country).\n",
    "\n",
    "If you want to convert a string to a datetime object, you use `strptime`. If you want to convert a datetime object to a string, you use `strftime`. These use a common \"grammar\" for representing temporal elements (years, months, days, hours, minutes, seconds, weekdays, *etc.*): [strftime and strptime Behavior](https://docs.python.org/3/library/datetime.html#strftime-and-strptime-behavior) Some of the most common elements of this format:\n",
    "\n",
    "* `%A` - Weekday full name\n",
    "* `%d` - Day of the month number as a zero-padded decimal\n",
    "* `%B` - Month full name\n",
    "* `%m` - Month number as a zero-padded decimal\n",
    "* `%Y` - Year with century (typically four digits)\n",
    "* `%H` - 24-hour clock hour as a zero-padded decimal\n",
    "* `%M` - Minute as a zero-padded decimal\n",
    "* `%S` - Second as a zero-padded decimal\n",
    "\n",
    "There are others like day of the year, week of the year, timezones, *etc*.\n",
    "\n",
    "Convert a datetime into a string using `strftime(format)`."
   ]
  },
  {
   "cell_type": "code",
   "execution_count": 17,
   "id": "8f5cdf4f",
   "metadata": {},
   "outputs": [
    {
     "data": {
      "text/plain": [
       "\"Tuesday! March 08, 2022 and we're at 00 seconds\""
      ]
     },
     "execution_count": 17,
     "metadata": {},
     "output_type": "execute_result"
    }
   ],
   "source": [
    "datetime.datetime(2022,3,8).strftime('%A! %B %d, %Y and we\\'re at %S seconds')"
   ]
  },
  {
   "cell_type": "markdown",
   "id": "1bb1bf70",
   "metadata": {},
   "source": [
    "Convert a string into a datetime using `strptime(date_string, format)`."
   ]
  },
  {
   "cell_type": "code",
   "execution_count": 18,
   "id": "d84b8803",
   "metadata": {},
   "outputs": [
    {
     "data": {
      "text/plain": [
       "datetime.datetime(2022, 3, 8, 11, 27)"
      ]
     },
     "execution_count": 18,
     "metadata": {},
     "output_type": "execute_result"
    }
   ],
   "source": [
    "str_time = datetime.datetime.strptime('Tuesday, March 8, 2022 11:27 am', '%A, %B %d, %Y %H:%M %p')\n",
    "str_time"
   ]
  },
  {
   "cell_type": "markdown",
   "id": "173630ff",
   "metadata": {},
   "source": [
    "### Unix timestamps\n",
    "\n",
    "Sometimes computer scientists represent time as the number of seconds elapsed since midnight on January 1, 1970. That moment was second 0 and every second since then is incremented. This is popularly known as \"[Unix time](https://en.wikipedia.org/wiki/Unix_time)\" or the \"Unix epoch\". \n",
    "\n",
    "Many of you are too young to remember the panic around the [Y2K problem](https://en.wikipedia.org/wiki/Year_2000_problem) when computers that represented time as a two digit number made 2000 indistinguishable from 1900. But there's a much bigger problem known as the [Year 2038 problem](https://en.wikipedia.org/wiki/Year_2038_problem) when 32-bit computing systems that keep track of time using Unix timestamps will similarly be confused on January 19, 2038 whether it is 1901, 1970, or 2038. 32-bit systems can't store numbers larger than $2^{31} - 1$ or 2,147,483,647. The date  2,147,483,647 seconds after January 1, 1970 is January 19, 2038 at 3:14:07 UTC. Mark that date in your calendars when a lot of basic social and technical infrastructure relying on any kind of computing devices is at risk of failure.\n",
    "\n",
    "<div>\n",
    "<img src=\"https://imageproxy.ifunny.co/crop:x-20,resize:320x,crop:x800,quality:90x75/images/4810476c0d383f6210bb02cb8e26eafbfd0803104b91da23abae4446d31ada53_1.jpg\" width=\"400\"/>\n",
    "</div>\n",
    "\n",
    "You can convert a `datetime` object into its Unix time with `.timestamp()` method."
   ]
  },
  {
   "cell_type": "code",
   "execution_count": 19,
   "id": "551b8e47",
   "metadata": {},
   "outputs": [
    {
     "data": {
      "text/plain": [
       "1646763782.06945"
      ]
     },
     "execution_count": 19,
     "metadata": {},
     "output_type": "execute_result"
    }
   ],
   "source": [
    "now.timestamp()"
   ]
  },
  {
   "cell_type": "markdown",
   "id": "52d8c95d",
   "metadata": {},
   "source": [
    "You can also convert from Unix timestamps you encounter in the wild to datetime objects with the `fromtimestamp` method."
   ]
  },
  {
   "cell_type": "code",
   "execution_count": 28,
   "id": "ced15339",
   "metadata": {},
   "outputs": [
    {
     "data": {
      "text/plain": [
       "datetime.datetime(2004, 5, 28, 10, 42, 43)"
      ]
     },
     "execution_count": 28,
     "metadata": {},
     "output_type": "execute_result"
    }
   ],
   "source": [
    "datetime.datetime.fromtimestamp(1085762563)"
   ]
  },
  {
   "cell_type": "markdown",
   "id": "16f919d4",
   "metadata": {},
   "source": [
    "What happens to your computer when you call `timestamp()` on a `datetime` from January 20, 2038?"
   ]
  },
  {
   "cell_type": "code",
   "execution_count": 29,
   "id": "ee10fe6d",
   "metadata": {},
   "outputs": [
    {
     "data": {
      "text/plain": [
       "2147583600.0"
      ]
     },
     "execution_count": 29,
     "metadata": {},
     "output_type": "execute_result"
    }
   ],
   "source": [
    "datetime.datetime(2038,1,20).timestamp()"
   ]
  },
  {
   "cell_type": "markdown",
   "id": "7f48e00c",
   "metadata": {},
   "source": [
    "### `timedelta`\n",
    "\n",
    "We can also do operations on `datetime` objects, like computing the amount of time between two datetimes."
   ]
  },
  {
   "cell_type": "code",
   "execution_count": 39,
   "id": "6be5c0fa",
   "metadata": {},
   "outputs": [
    {
     "data": {
      "text/plain": [
       "datetime.timedelta(days=13903, seconds=15782, microseconds=69450)"
      ]
     },
     "execution_count": 39,
     "metadata": {},
     "output_type": "execute_result"
    }
   ],
   "source": [
    "birthday_td = now - birthday\n",
    "birthday_td"
   ]
  },
  {
   "cell_type": "markdown",
   "id": "4231acef",
   "metadata": {},
   "source": [
    "You can also use a `timedelta` to perform operations on a `datetime` object."
   ]
  },
  {
   "cell_type": "code",
   "execution_count": 37,
   "id": "8875772c",
   "metadata": {},
   "outputs": [
    {
     "data": {
      "text/plain": [
       "datetime.datetime(2015, 10, 22, 8, 46, 40)"
      ]
     },
     "execution_count": 37,
     "metadata": {},
     "output_type": "execute_result"
    }
   ],
   "source": [
    "birthday + datetime.timedelta(seconds=1000000000)"
   ]
  },
  {
   "cell_type": "markdown",
   "id": "4719d09f",
   "metadata": {},
   "source": [
    "Finally, you can convert `timedelta` objects into simpler `float` or `int` objects by dividing a `timedelta` by a \"unit\" `timedelta`. The `timedelta` returned by subtracting now from my birthday can be divided by a `timedelta` of 1 minute to return an float representation of my current age in minutes."
   ]
  },
  {
   "cell_type": "code",
   "execution_count": 46,
   "id": "bbf16407",
   "metadata": {},
   "outputs": [
    {
     "data": {
      "text/plain": [
       "3.809091140504344"
      ]
     },
     "execution_count": 46,
     "metadata": {},
     "output_type": "execute_result"
    }
   ],
   "source": [
    "birthday_td/datetime.timedelta(days=3650)"
   ]
  },
  {
   "cell_type": "markdown",
   "id": "bb673c9e",
   "metadata": {},
   "source": [
    "## Dates and time in `pandas`\n",
    "\n",
    "pandas has its own type of object called a [`Timestamp`](https://pandas.pydata.org/pandas-docs/stable/reference/api/pandas.Timestamp.html) for representing time, dates, and datetimes that is distinct from `datetime`. There are good reasons for pandas to have its own representation, but it can definitely be frustrating and annoying having to juggle two distinct, sometimes compatible, and sometimes incompatible representations of dates and times within Python."
   ]
  },
  {
   "cell_type": "code",
   "execution_count": 47,
   "id": "1d5fb688",
   "metadata": {},
   "outputs": [],
   "source": [
    "import pandas as pd\n",
    "\n",
    "%matplotlib inline\n",
    "import matplotlib.pyplot as plt"
   ]
  },
  {
   "cell_type": "markdown",
   "id": "016b4307",
   "metadata": {},
   "source": [
    "### `Timestamp`\n",
    "\n",
    "One of the biggest and most powerful differences between datetime's `datetime` and panda's `Timestamp` is that `Timestamp` will automatically recognize and convert strings to `Timestamp`s without needing you to use the gnarly `strftime`/`strptime` syntax. \n",
    "\n",
    "Note that pandas's `Timestamp` is very, *very*, **very** different from the Unix time `.timestamp()` method in `datetime`.\n",
    "\n",
    "Make a `Timestamp` object for today."
   ]
  },
  {
   "cell_type": "code",
   "execution_count": 52,
   "id": "1310fcb0",
   "metadata": {},
   "outputs": [
    {
     "data": {
      "text/plain": [
       "Timestamp('2022-03-08 11:00:00')"
      ]
     },
     "execution_count": 52,
     "metadata": {},
     "output_type": "execute_result"
    }
   ],
   "source": [
    "ts_now = pd.Timestamp('2022-03-08 11:00')\n",
    "ts_now"
   ]
  },
  {
   "cell_type": "markdown",
   "id": "c9554444",
   "metadata": {},
   "source": [
    "Pass a `datetime` object to pandas's `Timestamp`."
   ]
  },
  {
   "cell_type": "code",
   "execution_count": 53,
   "id": "24f3875a",
   "metadata": {},
   "outputs": [
    {
     "data": {
      "text/plain": [
       "Timestamp('1984-02-13 07:00:00')"
      ]
     },
     "execution_count": 53,
     "metadata": {},
     "output_type": "execute_result"
    }
   ],
   "source": [
    "ts_birthday = pd.Timestamp(birthday)\n",
    "ts_birthday"
   ]
  },
  {
   "cell_type": "markdown",
   "id": "d352f1ec",
   "metadata": {},
   "source": [
    "Confirm that these are really different objects."
   ]
  },
  {
   "cell_type": "code",
   "execution_count": 54,
   "id": "9be48789",
   "metadata": {},
   "outputs": [
    {
     "data": {
      "text/plain": [
       "datetime.datetime"
      ]
     },
     "execution_count": 54,
     "metadata": {},
     "output_type": "execute_result"
    }
   ],
   "source": [
    "type(birthday)"
   ]
  },
  {
   "cell_type": "code",
   "execution_count": 55,
   "id": "8a690684",
   "metadata": {},
   "outputs": [
    {
     "data": {
      "text/plain": [
       "pandas._libs.tslibs.timestamps.Timestamp"
      ]
     },
     "execution_count": 55,
     "metadata": {},
     "output_type": "execute_result"
    }
   ],
   "source": [
    "type(ts_birthday)"
   ]
  },
  {
   "cell_type": "markdown",
   "id": "6ace77c8",
   "metadata": {},
   "source": [
    "Pass a UNIX timestamp to `Timestamp`."
   ]
  },
  {
   "cell_type": "code",
   "execution_count": 57,
   "id": "d88a4865",
   "metadata": {},
   "outputs": [
    {
     "data": {
      "text/plain": [
       "Timestamp('2019-04-14 00:00:00')"
      ]
     },
     "execution_count": 57,
     "metadata": {},
     "output_type": "execute_result"
    }
   ],
   "source": [
    "ts_unix = pd.Timestamp(18000,unit='d')\n",
    "ts_unix"
   ]
  },
  {
   "cell_type": "markdown",
   "id": "45211591",
   "metadata": {},
   "source": [
    "### New attributes and methods\n",
    "\n",
    "pandas's `Timestamp` objects have many of the same attributes and methods found for `datetime` objects but they also have some [additional attributes and methods](https://pandas.pydata.org/pandas-docs/stable/reference/api/pandas.Timestamp.html) (look in menu on left). I haven't used these often in practice, but they must be useful for enough people.\n",
    "\n",
    "* ``.quarter`` - What quarter of the year a date is in\n",
    "* ``.is_leap_year`` - Boolean for whether the current year is a leap year\n",
    "* ``.to_pydatetime()`` - convert a `Timestamp` to a `datetime`\n",
    "\n",
    "Experiment to see which of the `datetime` methods and attributes (from above) also work on `Timestamp` objects."
   ]
  },
  {
   "cell_type": "code",
   "execution_count": 58,
   "id": "78ceef12",
   "metadata": {},
   "outputs": [
    {
     "data": {
      "text/plain": [
       "datetime.datetime(1984, 2, 13, 7, 0)"
      ]
     },
     "execution_count": 58,
     "metadata": {},
     "output_type": "execute_result"
    }
   ],
   "source": [
    "ts_birthday.to_pydatetime()"
   ]
  },
  {
   "cell_type": "markdown",
   "id": "9566bcf2",
   "metadata": {},
   "source": [
    "Try out some of the `Timestamp`-specific attributes and methods."
   ]
  },
  {
   "cell_type": "code",
   "execution_count": 59,
   "id": "d3fe1a78",
   "metadata": {},
   "outputs": [
    {
     "data": {
      "text/plain": [
       "True"
      ]
     },
     "execution_count": 59,
     "metadata": {},
     "output_type": "execute_result"
    }
   ],
   "source": [
    "ts_birthday.is_leap_year"
   ]
  },
  {
   "cell_type": "markdown",
   "id": "dab52e66",
   "metadata": {},
   "source": [
    "### `to_datetime`\n",
    "\n",
    "Just like pandas's `Timestamp` can auto-magically convert all different kinds of date and time representations to a consistent representation, the `to_datetime()` function can take an array of misshapen and inconsistently typed objects that look like dates and convert them into an array of Timestamps.\n",
    "\n",
    "Make an array with different representations of dates and see what `to_datetime` does with them."
   ]
  },
  {
   "cell_type": "code",
   "execution_count": 60,
   "id": "d4ec54a8",
   "metadata": {},
   "outputs": [
    {
     "data": {
      "text/plain": [
       "['July 4, 2020',\n",
       " '9/11/01',\n",
       " datetime.datetime(1984, 2, 13, 7, 0),\n",
       " datetime.date(2006, 6, 6)]"
      ]
     },
     "execution_count": 60,
     "metadata": {},
     "output_type": "execute_result"
    }
   ],
   "source": [
    "misshapen_data = ['July 4, 2020','9/11/01',datetime.datetime(1984,2,13,7),datetime.date(2006,6,6)]\n",
    "misshapen_data"
   ]
  },
  {
   "cell_type": "code",
   "execution_count": 61,
   "id": "cc2805b0",
   "metadata": {},
   "outputs": [
    {
     "data": {
      "text/plain": [
       "DatetimeIndex(['2020-07-04 00:00:00', '2001-09-11 00:00:00',\n",
       "               '1984-02-13 07:00:00', '2006-06-06 00:00:00'],\n",
       "              dtype='datetime64[ns]', freq=None)"
      ]
     },
     "execution_count": 61,
     "metadata": {},
     "output_type": "execute_result"
    }
   ],
   "source": [
    "pd.to_datetime(misshapen_data)"
   ]
  },
  {
   "cell_type": "markdown",
   "id": "c72f24ed",
   "metadata": {},
   "source": [
    "If you read in a CSV file that has datetime information represented as strings, you have at least two options for converting those string representations into `Timestamp` objections.\n",
    "\n",
    "The first option is to pass the column names to the \"parse_dates\" option within [`read_csv`](https://pandas.pydata.org/pandas-docs/stable/reference/api/pandas.read_csv.html) (or [`read_excel`](https://pandas.pydata.org/pandas-docs/stable/reference/api/pandas.read_excel.html), [`read_sql`](https://pandas.pydata.org/pandas-docs/stable/reference/api/pandas.read_sql.html), *etc*.).\n",
    "\n",
    "Download the \"sp500.csv\" file from Canvas to the folder where this notebook is running and read it into this notebook as  `sp500_df` and parsing the \"Date\" column."
   ]
  },
  {
   "cell_type": "code",
   "execution_count": 69,
   "id": "6d7beb29",
   "metadata": {},
   "outputs": [
    {
     "data": {
      "text/html": [
       "<div>\n",
       "<style scoped>\n",
       "    .dataframe tbody tr th:only-of-type {\n",
       "        vertical-align: middle;\n",
       "    }\n",
       "\n",
       "    .dataframe tbody tr th {\n",
       "        vertical-align: top;\n",
       "    }\n",
       "\n",
       "    .dataframe thead th {\n",
       "        text-align: right;\n",
       "    }\n",
       "</style>\n",
       "<table border=\"1\" class=\"dataframe\">\n",
       "  <thead>\n",
       "    <tr style=\"text-align: right;\">\n",
       "      <th></th>\n",
       "      <th>Date</th>\n",
       "      <th>Open</th>\n",
       "      <th>High</th>\n",
       "      <th>Low</th>\n",
       "      <th>Close</th>\n",
       "      <th>Adj Close</th>\n",
       "      <th>Volume</th>\n",
       "    </tr>\n",
       "  </thead>\n",
       "  <tbody>\n",
       "    <tr>\n",
       "      <th>0</th>\n",
       "      <td>2010-01-04</td>\n",
       "      <td>1116.560059</td>\n",
       "      <td>1133.869995</td>\n",
       "      <td>1116.560059</td>\n",
       "      <td>1132.989990</td>\n",
       "      <td>1132.989990</td>\n",
       "      <td>3991400000</td>\n",
       "    </tr>\n",
       "    <tr>\n",
       "      <th>1</th>\n",
       "      <td>2010-01-05</td>\n",
       "      <td>1132.660034</td>\n",
       "      <td>1136.630005</td>\n",
       "      <td>1129.660034</td>\n",
       "      <td>1136.520020</td>\n",
       "      <td>1136.520020</td>\n",
       "      <td>2491020000</td>\n",
       "    </tr>\n",
       "    <tr>\n",
       "      <th>2</th>\n",
       "      <td>2010-01-06</td>\n",
       "      <td>1135.709961</td>\n",
       "      <td>1139.189941</td>\n",
       "      <td>1133.949951</td>\n",
       "      <td>1137.140015</td>\n",
       "      <td>1137.140015</td>\n",
       "      <td>4972660000</td>\n",
       "    </tr>\n",
       "    <tr>\n",
       "      <th>3</th>\n",
       "      <td>2010-01-07</td>\n",
       "      <td>1136.270020</td>\n",
       "      <td>1142.459961</td>\n",
       "      <td>1131.319946</td>\n",
       "      <td>1141.689941</td>\n",
       "      <td>1141.689941</td>\n",
       "      <td>5270680000</td>\n",
       "    </tr>\n",
       "    <tr>\n",
       "      <th>4</th>\n",
       "      <td>2010-01-08</td>\n",
       "      <td>1140.520020</td>\n",
       "      <td>1145.390015</td>\n",
       "      <td>1136.219971</td>\n",
       "      <td>1144.979980</td>\n",
       "      <td>1144.979980</td>\n",
       "      <td>4389590000</td>\n",
       "    </tr>\n",
       "  </tbody>\n",
       "</table>\n",
       "</div>"
      ],
      "text/plain": [
       "        Date         Open         High          Low        Close    Adj Close  \\\n",
       "0 2010-01-04  1116.560059  1133.869995  1116.560059  1132.989990  1132.989990   \n",
       "1 2010-01-05  1132.660034  1136.630005  1129.660034  1136.520020  1136.520020   \n",
       "2 2010-01-06  1135.709961  1139.189941  1133.949951  1137.140015  1137.140015   \n",
       "3 2010-01-07  1136.270020  1142.459961  1131.319946  1141.689941  1141.689941   \n",
       "4 2010-01-08  1140.520020  1145.390015  1136.219971  1144.979980  1144.979980   \n",
       "\n",
       "       Volume  \n",
       "0  3991400000  \n",
       "1  2491020000  \n",
       "2  4972660000  \n",
       "3  5270680000  \n",
       "4  4389590000  "
      ]
     },
     "execution_count": 69,
     "metadata": {},
     "output_type": "execute_result"
    }
   ],
   "source": [
    "sp500_df = pd.read_csv('sp500.csv',parse_dates=['Date'])\n",
    "sp500_df.head()"
   ]
  },
  {
   "cell_type": "markdown",
   "id": "c9924da5",
   "metadata": {},
   "source": [
    "Access the first value in the \"Date\" Series."
   ]
  },
  {
   "cell_type": "code",
   "execution_count": 73,
   "id": "a0bd2b24",
   "metadata": {},
   "outputs": [
    {
     "data": {
      "text/plain": [
       "Timestamp('2010-01-04 00:00:00')"
      ]
     },
     "execution_count": 73,
     "metadata": {},
     "output_type": "execute_result"
    }
   ],
   "source": [
    "sp500_df.loc[0,'Date']"
   ]
  },
  {
   "cell_type": "markdown",
   "id": "cf9a9c66",
   "metadata": {},
   "source": [
    "The second option is to mutate/convert the column with the dates after they've already been read in. You can use `to_datetime` on the Series or DataFrame column (but I repeat myself!) to convert those values from string to `Timestamp`s and overwrite the previous values.\n",
    "\n",
    "Read the \"sp500_close_volume.csv\" file into this notebook without parsing the column as `sp500_df` and then use the `to_datetime` function on the \"Date\" column to convert it to Timestamps."
   ]
  },
  {
   "cell_type": "code",
   "execution_count": 74,
   "id": "8599f768",
   "metadata": {},
   "outputs": [
    {
     "data": {
      "text/html": [
       "<div>\n",
       "<style scoped>\n",
       "    .dataframe tbody tr th:only-of-type {\n",
       "        vertical-align: middle;\n",
       "    }\n",
       "\n",
       "    .dataframe tbody tr th {\n",
       "        vertical-align: top;\n",
       "    }\n",
       "\n",
       "    .dataframe thead th {\n",
       "        text-align: right;\n",
       "    }\n",
       "</style>\n",
       "<table border=\"1\" class=\"dataframe\">\n",
       "  <thead>\n",
       "    <tr style=\"text-align: right;\">\n",
       "      <th></th>\n",
       "      <th>Date</th>\n",
       "      <th>Open</th>\n",
       "      <th>High</th>\n",
       "      <th>Low</th>\n",
       "      <th>Close</th>\n",
       "      <th>Adj Close</th>\n",
       "      <th>Volume</th>\n",
       "    </tr>\n",
       "  </thead>\n",
       "  <tbody>\n",
       "    <tr>\n",
       "      <th>0</th>\n",
       "      <td>2010-01-04</td>\n",
       "      <td>1116.560059</td>\n",
       "      <td>1133.869995</td>\n",
       "      <td>1116.560059</td>\n",
       "      <td>1132.989990</td>\n",
       "      <td>1132.989990</td>\n",
       "      <td>3991400000</td>\n",
       "    </tr>\n",
       "    <tr>\n",
       "      <th>1</th>\n",
       "      <td>2010-01-05</td>\n",
       "      <td>1132.660034</td>\n",
       "      <td>1136.630005</td>\n",
       "      <td>1129.660034</td>\n",
       "      <td>1136.520020</td>\n",
       "      <td>1136.520020</td>\n",
       "      <td>2491020000</td>\n",
       "    </tr>\n",
       "    <tr>\n",
       "      <th>2</th>\n",
       "      <td>2010-01-06</td>\n",
       "      <td>1135.709961</td>\n",
       "      <td>1139.189941</td>\n",
       "      <td>1133.949951</td>\n",
       "      <td>1137.140015</td>\n",
       "      <td>1137.140015</td>\n",
       "      <td>4972660000</td>\n",
       "    </tr>\n",
       "    <tr>\n",
       "      <th>3</th>\n",
       "      <td>2010-01-07</td>\n",
       "      <td>1136.270020</td>\n",
       "      <td>1142.459961</td>\n",
       "      <td>1131.319946</td>\n",
       "      <td>1141.689941</td>\n",
       "      <td>1141.689941</td>\n",
       "      <td>5270680000</td>\n",
       "    </tr>\n",
       "    <tr>\n",
       "      <th>4</th>\n",
       "      <td>2010-01-08</td>\n",
       "      <td>1140.520020</td>\n",
       "      <td>1145.390015</td>\n",
       "      <td>1136.219971</td>\n",
       "      <td>1144.979980</td>\n",
       "      <td>1144.979980</td>\n",
       "      <td>4389590000</td>\n",
       "    </tr>\n",
       "  </tbody>\n",
       "</table>\n",
       "</div>"
      ],
      "text/plain": [
       "         Date         Open         High          Low        Close  \\\n",
       "0  2010-01-04  1116.560059  1133.869995  1116.560059  1132.989990   \n",
       "1  2010-01-05  1132.660034  1136.630005  1129.660034  1136.520020   \n",
       "2  2010-01-06  1135.709961  1139.189941  1133.949951  1137.140015   \n",
       "3  2010-01-07  1136.270020  1142.459961  1131.319946  1141.689941   \n",
       "4  2010-01-08  1140.520020  1145.390015  1136.219971  1144.979980   \n",
       "\n",
       "     Adj Close      Volume  \n",
       "0  1132.989990  3991400000  \n",
       "1  1136.520020  2491020000  \n",
       "2  1137.140015  4972660000  \n",
       "3  1141.689941  5270680000  \n",
       "4  1144.979980  4389590000  "
      ]
     },
     "execution_count": 74,
     "metadata": {},
     "output_type": "execute_result"
    }
   ],
   "source": [
    "sp500_df = pd.read_csv('sp500.csv')\n",
    "sp500_df.head()"
   ]
  },
  {
   "cell_type": "markdown",
   "id": "e01c2c95",
   "metadata": {},
   "source": [
    "Access the first value in the \"Date\" Series to see that it is a string, not a `datetime` or `Timestamp`."
   ]
  },
  {
   "cell_type": "code",
   "execution_count": 75,
   "id": "a0fc315a",
   "metadata": {},
   "outputs": [
    {
     "data": {
      "text/plain": [
       "'2010-01-04'"
      ]
     },
     "execution_count": 75,
     "metadata": {},
     "output_type": "execute_result"
    }
   ],
   "source": [
    "sp500_df.loc[0,'Date']"
   ]
  },
  {
   "cell_type": "markdown",
   "id": "b9f2fc33",
   "metadata": {},
   "source": [
    "Use `to_datetime` to convert the Series into Timestamp objects."
   ]
  },
  {
   "cell_type": "code",
   "execution_count": 76,
   "id": "9355d5ee",
   "metadata": {},
   "outputs": [],
   "source": [
    "sp500_df['Date'] = pd.to_datetime(sp500_df['Date'])"
   ]
  },
  {
   "cell_type": "markdown",
   "id": "a72e357c",
   "metadata": {},
   "source": [
    "Check again."
   ]
  },
  {
   "cell_type": "code",
   "execution_count": 77,
   "id": "2d0cb6ae",
   "metadata": {},
   "outputs": [
    {
     "data": {
      "text/plain": [
       "Timestamp('2010-01-04 00:00:00')"
      ]
     },
     "execution_count": 77,
     "metadata": {},
     "output_type": "execute_result"
    }
   ],
   "source": [
    "sp500_df.loc[0,'Date']"
   ]
  },
  {
   "cell_type": "markdown",
   "id": "25cbaa7a",
   "metadata": {},
   "source": [
    "### Exercise: Load Boulder weather data\n",
    "\n",
    "Load the \"boulder_weather.csv\" file from Week 1. Make sure the \"DATE\" column is in a Timestamp format, either from `read_csv` or by using a function like `pd.to_datetime`."
   ]
  },
  {
   "cell_type": "code",
   "execution_count": null,
   "id": "9265f582",
   "metadata": {},
   "outputs": [],
   "source": []
  },
  {
   "cell_type": "markdown",
   "id": "c0a84e8d",
   "metadata": {},
   "source": [
    "## `date_range`\n",
    "\n",
    "Because pandas is designed for tabular data with long arrays of values rather than single values, how do you make a range of dates? The [`date_range`](https://pandas.pydata.org/pandas-docs/stable/reference/api/pandas.date_range.html) function has a number of parameters for creating an array of dates/times. The key parameters for this function are:\n",
    "\n",
    "* start - when to start the range\n",
    "* end - when to end the range\n",
    "* freq - what frequency in between these dates? Defaults to daily, but [other aliases](https://pandas.pydata.org/pandas-docs/stable/user_guide/timeseries.html#timeseries-offset-aliases) are possible\n",
    "\n",
    "Make an array of daily Timestamps for just March 2022."
   ]
  },
  {
   "cell_type": "code",
   "execution_count": 85,
   "id": "965c8edb",
   "metadata": {},
   "outputs": [
    {
     "data": {
      "text/plain": [
       "DatetimeIndex(['2022-03-01 00:00:00', '2022-03-01 01:00:00',\n",
       "               '2022-03-01 02:00:00', '2022-03-01 03:00:00',\n",
       "               '2022-03-01 04:00:00', '2022-03-01 05:00:00',\n",
       "               '2022-03-01 06:00:00', '2022-03-01 07:00:00',\n",
       "               '2022-03-01 08:00:00', '2022-03-01 09:00:00',\n",
       "               ...\n",
       "               '2022-03-30 15:00:00', '2022-03-30 16:00:00',\n",
       "               '2022-03-30 17:00:00', '2022-03-30 18:00:00',\n",
       "               '2022-03-30 19:00:00', '2022-03-30 20:00:00',\n",
       "               '2022-03-30 21:00:00', '2022-03-30 22:00:00',\n",
       "               '2022-03-30 23:00:00', '2022-03-31 00:00:00'],\n",
       "              dtype='datetime64[ns]', length=721, freq='H')"
      ]
     },
     "execution_count": 85,
     "metadata": {},
     "output_type": "execute_result"
    }
   ],
   "source": [
    "pd.date_range(start='March 1, 2022',end='March 31, 2022',freq='H')"
   ]
  },
  {
   "cell_type": "code",
   "execution_count": 79,
   "id": "22d16a04",
   "metadata": {},
   "outputs": [
    {
     "data": {
      "text/plain": [
       "DatetimeIndex(['2022-03-01 00:00:00', '2022-03-01 01:00:00',\n",
       "               '2022-03-01 02:00:00', '2022-03-01 03:00:00',\n",
       "               '2022-03-01 04:00:00', '2022-03-01 05:00:00',\n",
       "               '2022-03-01 06:00:00', '2022-03-01 07:00:00',\n",
       "               '2022-03-01 08:00:00', '2022-03-01 09:00:00',\n",
       "               ...\n",
       "               '2022-03-30 15:00:00', '2022-03-30 16:00:00',\n",
       "               '2022-03-30 17:00:00', '2022-03-30 18:00:00',\n",
       "               '2022-03-30 19:00:00', '2022-03-30 20:00:00',\n",
       "               '2022-03-30 21:00:00', '2022-03-30 22:00:00',\n",
       "               '2022-03-30 23:00:00', '2022-03-31 00:00:00'],\n",
       "              dtype='datetime64[ns]', length=721, freq='H')"
      ]
     },
     "execution_count": 79,
     "metadata": {},
     "output_type": "execute_result"
    }
   ],
   "source": [
    "pd.date_range(start='2022-03-01',end='2022-03-31',freq='H')"
   ]
  },
  {
   "cell_type": "markdown",
   "id": "f65691b7",
   "metadata": {},
   "source": [
    "Make an array of hourly `Timestamps` just for today."
   ]
  },
  {
   "cell_type": "code",
   "execution_count": 91,
   "id": "164ad2a5",
   "metadata": {},
   "outputs": [
    {
     "data": {
      "text/plain": [
       "DatetimeIndex(['2022-03-08 00:00:00', '2022-03-08 00:00:01',\n",
       "               '2022-03-08 00:00:02', '2022-03-08 00:00:03',\n",
       "               '2022-03-08 00:00:04', '2022-03-08 00:00:05',\n",
       "               '2022-03-08 00:00:06', '2022-03-08 00:00:07',\n",
       "               '2022-03-08 00:00:08', '2022-03-08 00:00:09',\n",
       "               '2022-03-08 00:00:10', '2022-03-08 00:00:11',\n",
       "               '2022-03-08 00:00:12', '2022-03-08 00:00:13',\n",
       "               '2022-03-08 00:00:14', '2022-03-08 00:00:15',\n",
       "               '2022-03-08 00:00:16', '2022-03-08 00:00:17',\n",
       "               '2022-03-08 00:00:18', '2022-03-08 00:00:19',\n",
       "               '2022-03-08 00:00:20', '2022-03-08 00:00:21',\n",
       "               '2022-03-08 00:00:22', '2022-03-08 00:00:23'],\n",
       "              dtype='datetime64[ns]', freq='S')"
      ]
     },
     "execution_count": 91,
     "metadata": {},
     "output_type": "execute_result"
    }
   ],
   "source": [
    "pd.date_range(start='2022-03-08 00:00',periods=24,freq='s')"
   ]
  },
  {
   "cell_type": "markdown",
   "id": "5a38cc32",
   "metadata": {},
   "source": [
    "Make an array of just business days from January 1, 2020 to today. (Look up the [alias for business day frequency](https://pandas.pydata.org/pandas-docs/stable/user_guide/timeseries.html#timeseries-offset-aliases))."
   ]
  },
  {
   "cell_type": "code",
   "execution_count": 92,
   "id": "c9a21374",
   "metadata": {},
   "outputs": [
    {
     "data": {
      "text/plain": [
       "DatetimeIndex(['2020-01-01', '2020-01-02', '2020-01-03', '2020-01-06',\n",
       "               '2020-01-07', '2020-01-08', '2020-01-09', '2020-01-10',\n",
       "               '2020-01-13', '2020-01-14',\n",
       "               ...\n",
       "               '2020-09-14', '2020-09-15', '2020-09-16', '2020-09-17',\n",
       "               '2020-09-18', '2020-09-21', '2020-09-22', '2020-09-23',\n",
       "               '2020-09-24', '2020-09-25'],\n",
       "              dtype='datetime64[ns]', length=193, freq='B')"
      ]
     },
     "execution_count": 92,
     "metadata": {},
     "output_type": "execute_result"
    }
   ],
   "source": [
    "pd.date_range(start='2020-01-01',end='2020-09-25',freq='B')"
   ]
  },
  {
   "cell_type": "markdown",
   "id": "5360fd3a",
   "metadata": {},
   "source": [
    "### Exercise: Quarter starts since January 2000"
   ]
  },
  {
   "cell_type": "markdown",
   "id": "0a94a824",
   "metadata": {},
   "source": [
    "Make an array of quarter starts from January 1, 2000 to today."
   ]
  },
  {
   "cell_type": "code",
   "execution_count": null,
   "id": "d623b3fb",
   "metadata": {},
   "outputs": [],
   "source": []
  },
  {
   "cell_type": "markdown",
   "id": "92cee355",
   "metadata": {},
   "source": [
    "## Indexing and slicing\n",
    "We often will use the Timestamp as an index, which means we'll want a way to access and slice different parts of the index.\n",
    "\n",
    "Use the `.set_index()` method to make the \"Date\" column an index for `sp500_df`."
   ]
  },
  {
   "cell_type": "code",
   "execution_count": 93,
   "id": "f68fea43",
   "metadata": {},
   "outputs": [
    {
     "data": {
      "text/html": [
       "<div>\n",
       "<style scoped>\n",
       "    .dataframe tbody tr th:only-of-type {\n",
       "        vertical-align: middle;\n",
       "    }\n",
       "\n",
       "    .dataframe tbody tr th {\n",
       "        vertical-align: top;\n",
       "    }\n",
       "\n",
       "    .dataframe thead th {\n",
       "        text-align: right;\n",
       "    }\n",
       "</style>\n",
       "<table border=\"1\" class=\"dataframe\">\n",
       "  <thead>\n",
       "    <tr style=\"text-align: right;\">\n",
       "      <th></th>\n",
       "      <th>Open</th>\n",
       "      <th>High</th>\n",
       "      <th>Low</th>\n",
       "      <th>Close</th>\n",
       "      <th>Adj Close</th>\n",
       "      <th>Volume</th>\n",
       "    </tr>\n",
       "    <tr>\n",
       "      <th>Date</th>\n",
       "      <th></th>\n",
       "      <th></th>\n",
       "      <th></th>\n",
       "      <th></th>\n",
       "      <th></th>\n",
       "      <th></th>\n",
       "    </tr>\n",
       "  </thead>\n",
       "  <tbody>\n",
       "    <tr>\n",
       "      <th>2010-01-04</th>\n",
       "      <td>1116.560059</td>\n",
       "      <td>1133.869995</td>\n",
       "      <td>1116.560059</td>\n",
       "      <td>1132.989990</td>\n",
       "      <td>1132.989990</td>\n",
       "      <td>3991400000</td>\n",
       "    </tr>\n",
       "    <tr>\n",
       "      <th>2010-01-05</th>\n",
       "      <td>1132.660034</td>\n",
       "      <td>1136.630005</td>\n",
       "      <td>1129.660034</td>\n",
       "      <td>1136.520020</td>\n",
       "      <td>1136.520020</td>\n",
       "      <td>2491020000</td>\n",
       "    </tr>\n",
       "    <tr>\n",
       "      <th>2010-01-06</th>\n",
       "      <td>1135.709961</td>\n",
       "      <td>1139.189941</td>\n",
       "      <td>1133.949951</td>\n",
       "      <td>1137.140015</td>\n",
       "      <td>1137.140015</td>\n",
       "      <td>4972660000</td>\n",
       "    </tr>\n",
       "    <tr>\n",
       "      <th>2010-01-07</th>\n",
       "      <td>1136.270020</td>\n",
       "      <td>1142.459961</td>\n",
       "      <td>1131.319946</td>\n",
       "      <td>1141.689941</td>\n",
       "      <td>1141.689941</td>\n",
       "      <td>5270680000</td>\n",
       "    </tr>\n",
       "    <tr>\n",
       "      <th>2010-01-08</th>\n",
       "      <td>1140.520020</td>\n",
       "      <td>1145.390015</td>\n",
       "      <td>1136.219971</td>\n",
       "      <td>1144.979980</td>\n",
       "      <td>1144.979980</td>\n",
       "      <td>4389590000</td>\n",
       "    </tr>\n",
       "  </tbody>\n",
       "</table>\n",
       "</div>"
      ],
      "text/plain": [
       "                   Open         High          Low        Close    Adj Close  \\\n",
       "Date                                                                          \n",
       "2010-01-04  1116.560059  1133.869995  1116.560059  1132.989990  1132.989990   \n",
       "2010-01-05  1132.660034  1136.630005  1129.660034  1136.520020  1136.520020   \n",
       "2010-01-06  1135.709961  1139.189941  1133.949951  1137.140015  1137.140015   \n",
       "2010-01-07  1136.270020  1142.459961  1131.319946  1141.689941  1141.689941   \n",
       "2010-01-08  1140.520020  1145.390015  1136.219971  1144.979980  1144.979980   \n",
       "\n",
       "                Volume  \n",
       "Date                    \n",
       "2010-01-04  3991400000  \n",
       "2010-01-05  2491020000  \n",
       "2010-01-06  4972660000  \n",
       "2010-01-07  5270680000  \n",
       "2010-01-08  4389590000  "
      ]
     },
     "execution_count": 93,
     "metadata": {},
     "output_type": "execute_result"
    }
   ],
   "source": [
    "sp500_df.set_index('Date',inplace=True)\n",
    "sp500_df.head()"
   ]
  },
  {
   "cell_type": "markdown",
   "id": "5236d6ef",
   "metadata": {},
   "source": [
    "Access the row for March 23, 2020. You can access in several different formats."
   ]
  },
  {
   "cell_type": "code",
   "execution_count": 94,
   "id": "afe1ba0b",
   "metadata": {},
   "outputs": [
    {
     "data": {
      "text/plain": [
       "Open         2.290710e+03\n",
       "High         2.300730e+03\n",
       "Low          2.191860e+03\n",
       "Close        2.237400e+03\n",
       "Adj Close    2.237400e+03\n",
       "Volume       7.402180e+09\n",
       "Name: 2020-03-23 00:00:00, dtype: float64"
      ]
     },
     "execution_count": 94,
     "metadata": {},
     "output_type": "execute_result"
    }
   ],
   "source": [
    "sp500_df.loc['2020 March 23']"
   ]
  },
  {
   "cell_type": "code",
   "execution_count": 95,
   "id": "6d490770",
   "metadata": {},
   "outputs": [
    {
     "data": {
      "text/plain": [
       "Open         2.290710e+03\n",
       "High         2.300730e+03\n",
       "Low          2.191860e+03\n",
       "Close        2.237400e+03\n",
       "Adj Close    2.237400e+03\n",
       "Volume       7.402180e+09\n",
       "Name: 2020-03-23 00:00:00, dtype: float64"
      ]
     },
     "execution_count": 95,
     "metadata": {},
     "output_type": "execute_result"
    }
   ],
   "source": [
    "sp500_df.loc['2020-03-23']"
   ]
  },
  {
   "cell_type": "code",
   "execution_count": 96,
   "id": "7ce3de68",
   "metadata": {},
   "outputs": [
    {
     "data": {
      "text/plain": [
       "Open         2.290710e+03\n",
       "High         2.300730e+03\n",
       "Low          2.191860e+03\n",
       "Close        2.237400e+03\n",
       "Adj Close    2.237400e+03\n",
       "Volume       7.402180e+09\n",
       "Name: 2020-03-23 00:00:00, dtype: float64"
      ]
     },
     "execution_count": 96,
     "metadata": {},
     "output_type": "execute_result"
    }
   ],
   "source": [
    "sp500_df.loc['March 23, 2020']"
   ]
  },
  {
   "cell_type": "markdown",
   "id": "16250159",
   "metadata": {},
   "source": [
    "We can also slice using string representations of Timestamps."
   ]
  },
  {
   "cell_type": "code",
   "execution_count": 97,
   "id": "bec81deb",
   "metadata": {},
   "outputs": [
    {
     "data": {
      "text/plain": [
       "Date\n",
       "2020-03-02    3090.229980\n",
       "2020-03-03    3003.370117\n",
       "2020-03-04    3130.120117\n",
       "2020-03-05    3023.939941\n",
       "2020-03-06    2972.370117\n",
       "2020-03-09    2746.560059\n",
       "2020-03-10    2882.229980\n",
       "2020-03-11    2741.379883\n",
       "2020-03-12    2480.639893\n",
       "2020-03-13    2711.020020\n",
       "2020-03-16    2386.129883\n",
       "2020-03-17    2529.189941\n",
       "2020-03-18    2398.100098\n",
       "2020-03-19    2409.389893\n",
       "2020-03-20    2304.919922\n",
       "2020-03-23    2237.399902\n",
       "2020-03-24    2447.330078\n",
       "2020-03-25    2475.560059\n",
       "2020-03-26    2630.070068\n",
       "2020-03-27    2541.469971\n",
       "2020-03-30    2626.649902\n",
       "2020-03-31    2584.590088\n",
       "Name: Adj Close, dtype: float64"
      ]
     },
     "execution_count": 97,
     "metadata": {},
     "output_type": "execute_result"
    }
   ],
   "source": [
    "sp500_df.loc['2020-03-01':'2020-03-31','Adj Close']"
   ]
  },
  {
   "cell_type": "code",
   "execution_count": 100,
   "id": "8d9801b1",
   "metadata": {},
   "outputs": [
    {
     "data": {
      "text/plain": [
       "Date\n",
       "2020-01-02    3257.850098\n",
       "2020-01-03    3234.850098\n",
       "2020-01-06    3246.280029\n",
       "2020-01-07    3237.179932\n",
       "2020-01-08    3253.050049\n",
       "                 ...     \n",
       "2020-12-24    3703.060059\n",
       "2020-12-28    3735.360107\n",
       "2020-12-29    3727.040039\n",
       "2020-12-30    3732.040039\n",
       "2020-12-31    3756.070068\n",
       "Name: Adj Close, Length: 253, dtype: float64"
      ]
     },
     "execution_count": 100,
     "metadata": {},
     "output_type": "execute_result"
    }
   ],
   "source": [
    "sp500_df.loc['2020','Adj Close']"
   ]
  },
  {
   "cell_type": "markdown",
   "id": "e186210a",
   "metadata": {},
   "source": [
    "You can also slice with other representations of time, including `Timestamp` and `datetime` objects."
   ]
  },
  {
   "cell_type": "code",
   "execution_count": 101,
   "id": "eb0926c4",
   "metadata": {},
   "outputs": [
    {
     "data": {
      "text/plain": [
       "Date\n",
       "2020-03-02    3090.229980\n",
       "2020-03-03    3003.370117\n",
       "2020-03-04    3130.120117\n",
       "2020-03-05    3023.939941\n",
       "2020-03-06    2972.370117\n",
       "2020-03-09    2746.560059\n",
       "2020-03-10    2882.229980\n",
       "2020-03-11    2741.379883\n",
       "2020-03-12    2480.639893\n",
       "2020-03-13    2711.020020\n",
       "2020-03-16    2386.129883\n",
       "2020-03-17    2529.189941\n",
       "2020-03-18    2398.100098\n",
       "2020-03-19    2409.389893\n",
       "2020-03-20    2304.919922\n",
       "2020-03-23    2237.399902\n",
       "2020-03-24    2447.330078\n",
       "2020-03-25    2475.560059\n",
       "2020-03-26    2630.070068\n",
       "2020-03-27    2541.469971\n",
       "2020-03-30    2626.649902\n",
       "2020-03-31    2584.590088\n",
       "Name: Adj Close, dtype: float64"
      ]
     },
     "execution_count": 101,
     "metadata": {},
     "output_type": "execute_result"
    }
   ],
   "source": [
    "sp500_df.loc[datetime.datetime(2020,3,1):datetime.datetime(2020,3,31),'Adj Close']"
   ]
  },
  {
   "cell_type": "code",
   "execution_count": 102,
   "id": "7fc86178",
   "metadata": {},
   "outputs": [
    {
     "data": {
      "text/plain": [
       "Date\n",
       "2020-03-02    3090.229980\n",
       "2020-03-03    3003.370117\n",
       "2020-03-04    3130.120117\n",
       "2020-03-05    3023.939941\n",
       "2020-03-06    2972.370117\n",
       "2020-03-09    2746.560059\n",
       "2020-03-10    2882.229980\n",
       "2020-03-11    2741.379883\n",
       "2020-03-12    2480.639893\n",
       "2020-03-13    2711.020020\n",
       "2020-03-16    2386.129883\n",
       "2020-03-17    2529.189941\n",
       "2020-03-18    2398.100098\n",
       "2020-03-19    2409.389893\n",
       "2020-03-20    2304.919922\n",
       "2020-03-23    2237.399902\n",
       "2020-03-24    2447.330078\n",
       "2020-03-25    2475.560059\n",
       "2020-03-26    2630.070068\n",
       "2020-03-27    2541.469971\n",
       "2020-03-30    2626.649902\n",
       "2020-03-31    2584.590088\n",
       "Name: Adj Close, dtype: float64"
      ]
     },
     "execution_count": 102,
     "metadata": {},
     "output_type": "execute_result"
    }
   ],
   "source": [
    "sp500_df.loc[pd.Timestamp('2020-03-01'):pd.Timestamp('2020-03-31'),'Adj Close']"
   ]
  },
  {
   "cell_type": "markdown",
   "id": "cee9e22f",
   "metadata": {},
   "source": [
    "### Exercise: Index Boulder weather by date and slice\n",
    "\n",
    "Use `.set_index()` on the Boulder weather and slice out dates for just 2020."
   ]
  },
  {
   "cell_type": "code",
   "execution_count": null,
   "id": "fe989e18",
   "metadata": {},
   "outputs": [],
   "source": []
  },
  {
   "cell_type": "markdown",
   "id": "3b1241d4",
   "metadata": {},
   "source": [
    "## Plotting data\n",
    "\n",
    "Only using datetime, numpy, and matplotlib, here's what a the S&P500 data since 2022 looks like by default."
   ]
  },
  {
   "cell_type": "code",
   "execution_count": 103,
   "id": "d71ae187",
   "metadata": {},
   "outputs": [
    {
     "data": {
      "text/plain": [
       "Text(0.5, 0, 'Date')"
      ]
     },
     "execution_count": 103,
     "metadata": {},
     "output_type": "execute_result"
    },
    {
     "data": {
      "image/png": "[encoded data removed]",
      "text/plain": [
       "<Figure size 864x432 with 1 Axes>"
      ]
     },
     "metadata": {
      "needs_background": "light"
     },
     "output_type": "display_data"
    }
   ],
   "source": [
    "# Turn the data in pandas into numpy arrays and datetimes\n",
    "dates = sp500_df.loc['2022':,:].index.to_pydatetime()\n",
    "values = sp500_df.loc['2022':,'Adj Close'].values\n",
    "\n",
    "# Set up plot\n",
    "f,ax = plt.subplots(figsize=(12,6))\n",
    "\n",
    "# Make the plot\n",
    "ax.plot(dates,values)\n",
    "\n",
    "# Label the plot\n",
    "ax.set_title('S&P500 Adjusted Closing Values, 2022-present')\n",
    "ax.set_ylabel('Adjusted Close')\n",
    "ax.set_xlabel('Date')"
   ]
  },
  {
   "cell_type": "markdown",
   "id": "11b9a857",
   "metadata": {},
   "source": [
    "pandas does some fancy stuff under the hood to make the same data look nicer."
   ]
  },
  {
   "cell_type": "code",
   "execution_count": 104,
   "id": "faaad7aa",
   "metadata": {},
   "outputs": [
    {
     "data": {
      "text/plain": [
       "Text(0.5, 0, 'Date')"
      ]
     },
     "execution_count": 104,
     "metadata": {},
     "output_type": "execute_result"
    },
    {
     "data": {
      "image/png": "[encoded data removed]",
      "text/plain": [
       "<Figure size 864x432 with 1 Axes>"
      ]
     },
     "metadata": {
      "needs_background": "light"
     },
     "output_type": "display_data"
    }
   ],
   "source": [
    "# Set up plot\n",
    "f,ax = plt.subplots(figsize=(12,6))\n",
    "\n",
    "# Make the plot\n",
    "sp500_df.loc['2022':,'Adj Close'].plot(ax=ax)\n",
    "\n",
    "# Label the plot\n",
    "ax.set_title('S&P500 Adjusted Closing Values, 2022-present')\n",
    "ax.set_ylabel('Adjusted Close')\n",
    "ax.set_xlabel('Date')"
   ]
  },
  {
   "cell_type": "markdown",
   "id": "cb1d0e94",
   "metadata": {},
   "source": [
    "Rotating the xtick_labels opens a whole can of worms involving Locator and Formatter functions (see the appendix). The simplest answer is to use the `autofmt_xdate` function ([docs](https://matplotlib.org/stable/api/figure_api.html#matplotlib.figure.Figure.autofmt_xdate), [demo](https://matplotlib.org/stable/gallery/ticks/date_demo_convert.html)) to adjust the rotation and horizontal alignment ('left','center','right')."
   ]
  },
  {
   "cell_type": "code",
   "execution_count": 105,
   "id": "b60b5f6f",
   "metadata": {},
   "outputs": [
    {
     "data": {
      "image/png": "[encoded data removed]",
      "text/plain": [
       "<Figure size 864x432 with 1 Axes>"
      ]
     },
     "metadata": {
      "needs_background": "light"
     },
     "output_type": "display_data"
    }
   ],
   "source": [
    "# Set up plot\n",
    "f,ax = plt.subplots(figsize=(12,6))\n",
    "\n",
    "# Make the plot\n",
    "sp500_df.loc['2022':,'Adj Close'].plot(ax=ax)\n",
    "\n",
    "# Label the plot\n",
    "ax.set_title('S&P500 Adjusted Closing Values, 2022-present')\n",
    "ax.set_ylabel('Adjusted Close')\n",
    "ax.set_xlabel('Date')\n",
    "\n",
    "f.autofmt_xdate(rotation=0,ha='center')"
   ]
  },
  {
   "cell_type": "markdown",
   "id": "82ac593b",
   "metadata": {},
   "source": [
    "### Exercise: Plot the weather data for 2019"
   ]
  },
  {
   "cell_type": "code",
   "execution_count": null,
   "id": "c873f398",
   "metadata": {},
   "outputs": [],
   "source": []
  },
  {
   "cell_type": "markdown",
   "id": "b5caeceb",
   "metadata": {},
   "source": [
    "## Rolling\n",
    "A rolling average is often a better way to \"smooth\" out noisy data. This works by averaging observations over a window. You need to chain two methods together to return a rolling average: [`.rolling()`](https://pandas.pydata.org/pandas-docs/stable/reference/api/pandas.Series.rolling.html) and `.mean()` but this means you can also return a rolling median, max, and other functions as well."
   ]
  },
  {
   "cell_type": "code",
   "execution_count": 106,
   "id": "3efb38f3",
   "metadata": {},
   "outputs": [
    {
     "data": {
      "text/html": [
       "<div>\n",
       "<style scoped>\n",
       "    .dataframe tbody tr th:only-of-type {\n",
       "        vertical-align: middle;\n",
       "    }\n",
       "\n",
       "    .dataframe tbody tr th {\n",
       "        vertical-align: top;\n",
       "    }\n",
       "\n",
       "    .dataframe thead th {\n",
       "        text-align: right;\n",
       "    }\n",
       "</style>\n",
       "<table border=\"1\" class=\"dataframe\">\n",
       "  <thead>\n",
       "    <tr style=\"text-align: right;\">\n",
       "      <th></th>\n",
       "      <th>Raw</th>\n",
       "      <th>7-day</th>\n",
       "      <th>90-day</th>\n",
       "    </tr>\n",
       "    <tr>\n",
       "      <th>Date</th>\n",
       "      <th></th>\n",
       "      <th></th>\n",
       "      <th></th>\n",
       "    </tr>\n",
       "  </thead>\n",
       "  <tbody>\n",
       "    <tr>\n",
       "      <th>2022-02-28</th>\n",
       "      <td>4373.939941</td>\n",
       "      <td>4329.525670</td>\n",
       "      <td>4444.247965</td>\n",
       "    </tr>\n",
       "    <tr>\n",
       "      <th>2022-03-01</th>\n",
       "      <td>4306.259766</td>\n",
       "      <td>4318.954241</td>\n",
       "      <td>4432.361621</td>\n",
       "    </tr>\n",
       "    <tr>\n",
       "      <th>2022-03-02</th>\n",
       "      <td>4386.540039</td>\n",
       "      <td>4324.335658</td>\n",
       "      <td>4426.009294</td>\n",
       "    </tr>\n",
       "    <tr>\n",
       "      <th>2022-03-03</th>\n",
       "      <td>4363.490234</td>\n",
       "      <td>4332.725725</td>\n",
       "      <td>4420.366976</td>\n",
       "    </tr>\n",
       "    <tr>\n",
       "      <th>2022-03-04</th>\n",
       "      <td>4328.870117</td>\n",
       "      <td>4347.492885</td>\n",
       "      <td>4415.238314</td>\n",
       "    </tr>\n",
       "  </tbody>\n",
       "</table>\n",
       "</div>"
      ],
      "text/plain": [
       "                    Raw        7-day       90-day\n",
       "Date                                             \n",
       "2022-02-28  4373.939941  4329.525670  4444.247965\n",
       "2022-03-01  4306.259766  4318.954241  4432.361621\n",
       "2022-03-02  4386.540039  4324.335658  4426.009294\n",
       "2022-03-03  4363.490234  4332.725725  4420.366976\n",
       "2022-03-04  4328.870117  4347.492885  4415.238314"
      ]
     },
     "execution_count": 106,
     "metadata": {},
     "output_type": "execute_result"
    }
   ],
   "source": [
    "# Create a new DataFrame\n",
    "sp500_2020 = pd.DataFrame()\n",
    "\n",
    "# Add the raw data\n",
    "sp500_2020['Raw'] = sp500_df.loc['2020-01-01':,'Adj Close']\n",
    "\n",
    "# Compute the 7-day rolling average\n",
    "sp500_2020['7-day'] = sp500_2020['Raw'].rolling(7).mean()\n",
    "\n",
    "# Compute the 90-day rolling average\n",
    "sp500_2020['90-day'] = sp500_2020['Raw'].rolling(30).mean()\n",
    "\n",
    "sp500_2020.tail()"
   ]
  },
  {
   "cell_type": "markdown",
   "id": "b6bfb60b",
   "metadata": {},
   "source": [
    "Visualization of the raw, weekly, and monthly rolling averages."
   ]
  },
  {
   "cell_type": "code",
   "execution_count": 107,
   "id": "ab283277",
   "metadata": {},
   "outputs": [
    {
     "data": {
      "text/plain": [
       "<matplotlib.legend.Legend at 0x16da1e6d0>"
      ]
     },
     "execution_count": 107,
     "metadata": {},
     "output_type": "execute_result"
    },
    {
     "data": {
      "image/png": "[encoded data removed]",
      "text/plain": [
       "<Figure size 864x432 with 1 Axes>"
      ]
     },
     "metadata": {
      "needs_background": "light"
     },
     "output_type": "display_data"
    }
   ],
   "source": [
    "f,ax = plt.subplots(figsize=(12,6))\n",
    "\n",
    "# Plot the original data in blue\n",
    "sp500_2020['Raw'].plot(ax = ax,lw = 3, c ='tab:blue')\n",
    "\n",
    "# Plot the 7-day smoothed data in orange\n",
    "sp500_2020['7-day'].plot(ax = ax, lw = 3, c = 'tab:orange')\n",
    "\n",
    "# Plot the 30-day smoothed data in green\n",
    "sp500_2020['90-day'].plot(ax = ax, lw = 3, c = 'tab:green')\n",
    "\n",
    "ax.legend(loc='upper left')"
   ]
  },
  {
   "cell_type": "markdown",
   "id": "5a04b1b1",
   "metadata": {},
   "source": [
    "### Exercise: Plot a 30-day rolling average of temperatures since 2018"
   ]
  },
  {
   "cell_type": "code",
   "execution_count": null,
   "id": "82e20673",
   "metadata": {},
   "outputs": [],
   "source": []
  },
  {
   "cell_type": "markdown",
   "id": "7b468468",
   "metadata": {},
   "source": [
    "## Reindexing\n",
    "\n",
    "Reindexing is a method for converting data to match a new index. Reindexing works on just about any kind of data (string, categorical, continuous, *etc*.) but it is especially powerful when working with temporal data. \n",
    "\n",
    "Temporal data for say, the stock market, might have gaps for weekends and holidays where social media data is often available every day. Comparing both requires some way of making a Series with all dates and then filling in the missing data.\n",
    "\n",
    "Identify the first and last dates in the DataFrame."
   ]
  },
  {
   "cell_type": "code",
   "execution_count": 108,
   "id": "f5e9c64c",
   "metadata": {},
   "outputs": [
    {
     "data": {
      "text/plain": [
       "(Timestamp('2010-01-04 00:00:00'), Timestamp('2022-03-04 00:00:00'))"
      ]
     },
     "execution_count": 108,
     "metadata": {},
     "output_type": "execute_result"
    }
   ],
   "source": [
    "sp500_df.index.min(), sp500_df.index.max()"
   ]
  },
  {
   "cell_type": "markdown",
   "id": "3a765978",
   "metadata": {},
   "source": [
    "Use [`.reindex()`](https://pandas.pydata.org/pandas-docs/stable/reference/api/pandas.DataFrame.reindex.html) and [`date_range()`](https://pandas.pydata.org/pandas-docs/stable/reference/api/pandas.date_range.html) to update the DateTimeIndex to be continuous since the start."
   ]
  },
  {
   "cell_type": "code",
   "execution_count": 109,
   "id": "c8976ce2",
   "metadata": {},
   "outputs": [
    {
     "data": {
      "text/plain": [
       "DatetimeIndex(['2010-01-04', '2010-01-05', '2010-01-06', '2010-01-07',\n",
       "               '2010-01-08', '2010-01-09', '2010-01-10', '2010-01-11',\n",
       "               '2010-01-12', '2010-01-13',\n",
       "               ...\n",
       "               '2022-02-23', '2022-02-24', '2022-02-25', '2022-02-26',\n",
       "               '2022-02-27', '2022-02-28', '2022-03-01', '2022-03-02',\n",
       "               '2022-03-03', '2022-03-04'],\n",
       "              dtype='datetime64[ns]', length=4443, freq='D')"
      ]
     },
     "execution_count": 109,
     "metadata": {},
     "output_type": "execute_result"
    }
   ],
   "source": [
    "sp500_daterange = pd.date_range(\n",
    "    start = sp500_df.index.min(),\n",
    "    end = sp500_df.index.max(),\n",
    "    freq = 'D'\n",
    ")\n",
    "\n",
    "sp500_daterange"
   ]
  },
  {
   "cell_type": "markdown",
   "id": "bac33c88",
   "metadata": {},
   "source": [
    "What is the size of the current data's date range compared to the new continuous date range?"
   ]
  },
  {
   "cell_type": "code",
   "execution_count": 110,
   "id": "f7bfe993",
   "metadata": {},
   "outputs": [
    {
     "data": {
      "text/plain": [
       "(3064, 4443)"
      ]
     },
     "execution_count": 110,
     "metadata": {},
     "output_type": "execute_result"
    }
   ],
   "source": [
    "sp500_df.index.size, sp500_daterange.size"
   ]
  },
  {
   "cell_type": "markdown",
   "id": "2359651c",
   "metadata": {},
   "source": [
    "Use the `reindex` method to change the index into the new continuous index."
   ]
  },
  {
   "cell_type": "code",
   "execution_count": 111,
   "id": "6e919ab3",
   "metadata": {},
   "outputs": [
    {
     "name": "stdout",
     "output_type": "stream",
     "text": [
      "(4443, 6)\n"
     ]
    },
    {
     "data": {
      "text/html": [
       "<div>\n",
       "<style scoped>\n",
       "    .dataframe tbody tr th:only-of-type {\n",
       "        vertical-align: middle;\n",
       "    }\n",
       "\n",
       "    .dataframe tbody tr th {\n",
       "        vertical-align: top;\n",
       "    }\n",
       "\n",
       "    .dataframe thead th {\n",
       "        text-align: right;\n",
       "    }\n",
       "</style>\n",
       "<table border=\"1\" class=\"dataframe\">\n",
       "  <thead>\n",
       "    <tr style=\"text-align: right;\">\n",
       "      <th></th>\n",
       "      <th>Open</th>\n",
       "      <th>High</th>\n",
       "      <th>Low</th>\n",
       "      <th>Close</th>\n",
       "      <th>Adj Close</th>\n",
       "      <th>Volume</th>\n",
       "    </tr>\n",
       "  </thead>\n",
       "  <tbody>\n",
       "    <tr>\n",
       "      <th>2010-01-04</th>\n",
       "      <td>1116.560059</td>\n",
       "      <td>1133.869995</td>\n",
       "      <td>1116.560059</td>\n",
       "      <td>1132.989990</td>\n",
       "      <td>1132.989990</td>\n",
       "      <td>3.991400e+09</td>\n",
       "    </tr>\n",
       "    <tr>\n",
       "      <th>2010-01-05</th>\n",
       "      <td>1132.660034</td>\n",
       "      <td>1136.630005</td>\n",
       "      <td>1129.660034</td>\n",
       "      <td>1136.520020</td>\n",
       "      <td>1136.520020</td>\n",
       "      <td>2.491020e+09</td>\n",
       "    </tr>\n",
       "    <tr>\n",
       "      <th>2010-01-06</th>\n",
       "      <td>1135.709961</td>\n",
       "      <td>1139.189941</td>\n",
       "      <td>1133.949951</td>\n",
       "      <td>1137.140015</td>\n",
       "      <td>1137.140015</td>\n",
       "      <td>4.972660e+09</td>\n",
       "    </tr>\n",
       "    <tr>\n",
       "      <th>2010-01-07</th>\n",
       "      <td>1136.270020</td>\n",
       "      <td>1142.459961</td>\n",
       "      <td>1131.319946</td>\n",
       "      <td>1141.689941</td>\n",
       "      <td>1141.689941</td>\n",
       "      <td>5.270680e+09</td>\n",
       "    </tr>\n",
       "    <tr>\n",
       "      <th>2010-01-08</th>\n",
       "      <td>1140.520020</td>\n",
       "      <td>1145.390015</td>\n",
       "      <td>1136.219971</td>\n",
       "      <td>1144.979980</td>\n",
       "      <td>1144.979980</td>\n",
       "      <td>4.389590e+09</td>\n",
       "    </tr>\n",
       "    <tr>\n",
       "      <th>2010-01-09</th>\n",
       "      <td>NaN</td>\n",
       "      <td>NaN</td>\n",
       "      <td>NaN</td>\n",
       "      <td>NaN</td>\n",
       "      <td>NaN</td>\n",
       "      <td>NaN</td>\n",
       "    </tr>\n",
       "    <tr>\n",
       "      <th>2010-01-10</th>\n",
       "      <td>NaN</td>\n",
       "      <td>NaN</td>\n",
       "      <td>NaN</td>\n",
       "      <td>NaN</td>\n",
       "      <td>NaN</td>\n",
       "      <td>NaN</td>\n",
       "    </tr>\n",
       "    <tr>\n",
       "      <th>2010-01-11</th>\n",
       "      <td>1145.959961</td>\n",
       "      <td>1149.739990</td>\n",
       "      <td>1142.020020</td>\n",
       "      <td>1146.979980</td>\n",
       "      <td>1146.979980</td>\n",
       "      <td>4.255780e+09</td>\n",
       "    </tr>\n",
       "    <tr>\n",
       "      <th>2010-01-12</th>\n",
       "      <td>1143.810059</td>\n",
       "      <td>1143.810059</td>\n",
       "      <td>1131.770020</td>\n",
       "      <td>1136.219971</td>\n",
       "      <td>1136.219971</td>\n",
       "      <td>4.716160e+09</td>\n",
       "    </tr>\n",
       "    <tr>\n",
       "      <th>2010-01-13</th>\n",
       "      <td>1137.310059</td>\n",
       "      <td>1148.400024</td>\n",
       "      <td>1133.180054</td>\n",
       "      <td>1145.680054</td>\n",
       "      <td>1145.680054</td>\n",
       "      <td>4.170360e+09</td>\n",
       "    </tr>\n",
       "  </tbody>\n",
       "</table>\n",
       "</div>"
      ],
      "text/plain": [
       "                   Open         High          Low        Close    Adj Close  \\\n",
       "2010-01-04  1116.560059  1133.869995  1116.560059  1132.989990  1132.989990   \n",
       "2010-01-05  1132.660034  1136.630005  1129.660034  1136.520020  1136.520020   \n",
       "2010-01-06  1135.709961  1139.189941  1133.949951  1137.140015  1137.140015   \n",
       "2010-01-07  1136.270020  1142.459961  1131.319946  1141.689941  1141.689941   \n",
       "2010-01-08  1140.520020  1145.390015  1136.219971  1144.979980  1144.979980   \n",
       "2010-01-09          NaN          NaN          NaN          NaN          NaN   \n",
       "2010-01-10          NaN          NaN          NaN          NaN          NaN   \n",
       "2010-01-11  1145.959961  1149.739990  1142.020020  1146.979980  1146.979980   \n",
       "2010-01-12  1143.810059  1143.810059  1131.770020  1136.219971  1136.219971   \n",
       "2010-01-13  1137.310059  1148.400024  1133.180054  1145.680054  1145.680054   \n",
       "\n",
       "                  Volume  \n",
       "2010-01-04  3.991400e+09  \n",
       "2010-01-05  2.491020e+09  \n",
       "2010-01-06  4.972660e+09  \n",
       "2010-01-07  5.270680e+09  \n",
       "2010-01-08  4.389590e+09  \n",
       "2010-01-09           NaN  \n",
       "2010-01-10           NaN  \n",
       "2010-01-11  4.255780e+09  \n",
       "2010-01-12  4.716160e+09  \n",
       "2010-01-13  4.170360e+09  "
      ]
     },
     "execution_count": 111,
     "metadata": {},
     "output_type": "execute_result"
    }
   ],
   "source": [
    "sp500_reindexed_df = sp500_df.reindex(sp500_daterange)\n",
    "print(sp500_reindexed_df.shape)\n",
    "sp500_reindexed_df.head(10)"
   ]
  },
  {
   "cell_type": "code",
   "execution_count": 115,
   "id": "d8f3e06b",
   "metadata": {},
   "outputs": [
    {
     "data": {
      "text/plain": [
       "<AxesSubplot:>"
      ]
     },
     "execution_count": 115,
     "metadata": {},
     "output_type": "execute_result"
    },
    {
     "data": {
      "image/png": "[encoded data removed]",
      "text/plain": [
       "<Figure size 432x288 with 1 Axes>"
      ]
     },
     "metadata": {
      "needs_background": "light"
     },
     "output_type": "display_data"
    }
   ],
   "source": [
    "sp500_reindexed_df.loc['2020-03':,'Close'].plot()"
   ]
  },
  {
   "cell_type": "markdown",
   "id": "98829caa",
   "metadata": {},
   "source": [
    "Double check that 9 January 2010 was a Saturday. The `.weekday()`, `.dayofweek`, or `.day_of_week` methods or attributes will return the 0-indexed day of the week (0=Monday, 1=Tuesday, 2=Wednesday, 3=Thursday, 4=Friday, 5=Saturday, 6=Sunday)"
   ]
  },
  {
   "cell_type": "code",
   "execution_count": 118,
   "id": "289b9d42",
   "metadata": {},
   "outputs": [
    {
     "data": {
      "text/plain": [
       "0"
      ]
     },
     "execution_count": 118,
     "metadata": {},
     "output_type": "execute_result"
    }
   ],
   "source": [
    "pd.Timestamp('2011-07-04').dayofweek"
   ]
  },
  {
   "cell_type": "markdown",
   "id": "535bdfdf",
   "metadata": {},
   "source": [
    "## Grouping\n",
    "\n",
    "There are many cases when we might want to perform a groupby-aggregation operation. For example, we may want to aggregate a time series to a lower frequency: from days to months.\n",
    "\n",
    "We can pass the `Grouper` function ([docs](https://pandas.pydata.org/docs/reference/api/pandas.Grouper.html)) inside a `.groupby` method and include parameters for frequency. Here we groupby on the index at a monthly frequency (`freq='M'`) and aggregate the volume to the total volume of each day in that month."
   ]
  },
  {
   "cell_type": "code",
   "execution_count": 119,
   "id": "55830b4a",
   "metadata": {},
   "outputs": [
    {
     "data": {
      "text/html": [
       "<div>\n",
       "<style scoped>\n",
       "    .dataframe tbody tr th:only-of-type {\n",
       "        vertical-align: middle;\n",
       "    }\n",
       "\n",
       "    .dataframe tbody tr th {\n",
       "        vertical-align: top;\n",
       "    }\n",
       "\n",
       "    .dataframe thead th {\n",
       "        text-align: right;\n",
       "    }\n",
       "</style>\n",
       "<table border=\"1\" class=\"dataframe\">\n",
       "  <thead>\n",
       "    <tr style=\"text-align: right;\">\n",
       "      <th></th>\n",
       "      <th>Open</th>\n",
       "      <th>High</th>\n",
       "      <th>Low</th>\n",
       "      <th>Close</th>\n",
       "      <th>Adj Close</th>\n",
       "      <th>Volume</th>\n",
       "    </tr>\n",
       "    <tr>\n",
       "      <th>Date</th>\n",
       "      <th></th>\n",
       "      <th></th>\n",
       "      <th></th>\n",
       "      <th></th>\n",
       "      <th></th>\n",
       "      <th></th>\n",
       "    </tr>\n",
       "  </thead>\n",
       "  <tbody>\n",
       "    <tr>\n",
       "      <th>2010-01-04</th>\n",
       "      <td>1116.560059</td>\n",
       "      <td>1133.869995</td>\n",
       "      <td>1116.560059</td>\n",
       "      <td>1132.989990</td>\n",
       "      <td>1132.989990</td>\n",
       "      <td>3991400000</td>\n",
       "    </tr>\n",
       "    <tr>\n",
       "      <th>2010-01-05</th>\n",
       "      <td>1132.660034</td>\n",
       "      <td>1136.630005</td>\n",
       "      <td>1129.660034</td>\n",
       "      <td>1136.520020</td>\n",
       "      <td>1136.520020</td>\n",
       "      <td>2491020000</td>\n",
       "    </tr>\n",
       "    <tr>\n",
       "      <th>2010-01-06</th>\n",
       "      <td>1135.709961</td>\n",
       "      <td>1139.189941</td>\n",
       "      <td>1133.949951</td>\n",
       "      <td>1137.140015</td>\n",
       "      <td>1137.140015</td>\n",
       "      <td>4972660000</td>\n",
       "    </tr>\n",
       "    <tr>\n",
       "      <th>2010-01-07</th>\n",
       "      <td>1136.270020</td>\n",
       "      <td>1142.459961</td>\n",
       "      <td>1131.319946</td>\n",
       "      <td>1141.689941</td>\n",
       "      <td>1141.689941</td>\n",
       "      <td>5270680000</td>\n",
       "    </tr>\n",
       "    <tr>\n",
       "      <th>2010-01-08</th>\n",
       "      <td>1140.520020</td>\n",
       "      <td>1145.390015</td>\n",
       "      <td>1136.219971</td>\n",
       "      <td>1144.979980</td>\n",
       "      <td>1144.979980</td>\n",
       "      <td>4389590000</td>\n",
       "    </tr>\n",
       "  </tbody>\n",
       "</table>\n",
       "</div>"
      ],
      "text/plain": [
       "                   Open         High          Low        Close    Adj Close  \\\n",
       "Date                                                                          \n",
       "2010-01-04  1116.560059  1133.869995  1116.560059  1132.989990  1132.989990   \n",
       "2010-01-05  1132.660034  1136.630005  1129.660034  1136.520020  1136.520020   \n",
       "2010-01-06  1135.709961  1139.189941  1133.949951  1137.140015  1137.140015   \n",
       "2010-01-07  1136.270020  1142.459961  1131.319946  1141.689941  1141.689941   \n",
       "2010-01-08  1140.520020  1145.390015  1136.219971  1144.979980  1144.979980   \n",
       "\n",
       "                Volume  \n",
       "Date                    \n",
       "2010-01-04  3991400000  \n",
       "2010-01-05  2491020000  \n",
       "2010-01-06  4972660000  \n",
       "2010-01-07  5270680000  \n",
       "2010-01-08  4389590000  "
      ]
     },
     "execution_count": 119,
     "metadata": {},
     "output_type": "execute_result"
    }
   ],
   "source": [
    "sp500_df.head()"
   ]
  },
  {
   "cell_type": "code",
   "execution_count": 123,
   "id": "36ff44af",
   "metadata": {},
   "outputs": [
    {
     "data": {
      "text/plain": [
       "<AxesSubplot:xlabel='Date'>"
      ]
     },
     "execution_count": 123,
     "metadata": {},
     "output_type": "execute_result"
    },
    {
     "data": {
      "image/png": "[encoded data removed]",
      "text/plain": [
       "<Figure size 432x288 with 1 Axes>"
      ]
     },
     "metadata": {
      "needs_background": "light"
     },
     "output_type": "display_data"
    }
   ],
   "source": [
    "sp500_df.groupby(\n",
    "    pd.Grouper(freq='W')\n",
    ").agg({'Volume':'sum'}).plot()"
   ]
  },
  {
   "cell_type": "markdown",
   "id": "41698d67",
   "metadata": {},
   "source": [
    "### Exercise: Group the weather by month and plot average monthly windspeed"
   ]
  },
  {
   "cell_type": "code",
   "execution_count": null,
   "id": "a7132df0",
   "metadata": {},
   "outputs": [],
   "source": []
  },
  {
   "cell_type": "markdown",
   "id": "3db162a4",
   "metadata": {},
   "source": [
    "## `wikifunctions`\n",
    "\n",
    "`wikifunctions` ([source and docs](https://github.com/brianckeegan/wikifunctions/)) is a collection of functions for retrieving data from the APIs connected to MediaWikis, like Wikipedia. You'll need to have the `wikifunctions.py` file in the same folder as your notebook for the next cell to work: there is no `conda install wikifunctions`.\n",
    "\n",
    "The functions I use the most are `get_all_page_revisions` and `get_pageviews`."
   ]
  },
  {
   "cell_type": "code",
   "execution_count": 124,
   "id": "de2d8f25",
   "metadata": {},
   "outputs": [],
   "source": [
    "import wikifunctions as wf"
   ]
  },
  {
   "cell_type": "markdown",
   "id": "7194ff26",
   "metadata": {},
   "source": [
    "### `get_all_page_revisions`\n",
    "\n",
    "Every change to a Wikipedia article is preserved in its \"[revision history](https://en.wikipedia.org/wiki/Help:Page_history)\" ([docs](https://meta.wikimedia.org/wiki/Help:Page_history)). The revision histories are available back to 2001 or 2002 for articles that existed then.\n",
    "\n",
    "If we retrieve the page revisions for someone like \"Hillary Clinton\" we can see the first edits to her article were made in March 2001, just two months after Wikipedia was founded."
   ]
  },
  {
   "cell_type": "code",
   "execution_count": 125,
   "id": "236e16fd",
   "metadata": {},
   "outputs": [
    {
     "data": {
      "text/html": [
       "<div>\n",
       "<style scoped>\n",
       "    .dataframe tbody tr th:only-of-type {\n",
       "        vertical-align: middle;\n",
       "    }\n",
       "\n",
       "    .dataframe tbody tr th {\n",
       "        vertical-align: top;\n",
       "    }\n",
       "\n",
       "    .dataframe thead th {\n",
       "        text-align: right;\n",
       "    }\n",
       "</style>\n",
       "<table border=\"1\" class=\"dataframe\">\n",
       "  <thead>\n",
       "    <tr style=\"text-align: right;\">\n",
       "      <th></th>\n",
       "      <th>revid</th>\n",
       "      <th>parentid</th>\n",
       "      <th>user</th>\n",
       "      <th>userid</th>\n",
       "      <th>timestamp</th>\n",
       "      <th>size</th>\n",
       "      <th>sha1</th>\n",
       "      <th>comment</th>\n",
       "      <th>anon</th>\n",
       "      <th>sha1hidden</th>\n",
       "      <th>commenthidden</th>\n",
       "      <th>suppressed</th>\n",
       "      <th>page</th>\n",
       "      <th>date</th>\n",
       "      <th>diff</th>\n",
       "      <th>lag</th>\n",
       "      <th>age</th>\n",
       "    </tr>\n",
       "  </thead>\n",
       "  <tbody>\n",
       "    <tr>\n",
       "      <th>0</th>\n",
       "      <td>855311067</td>\n",
       "      <td>0</td>\n",
       "      <td>Gareth Owen</td>\n",
       "      <td>151</td>\n",
       "      <td>2001-03-07 17:20:17+00:00</td>\n",
       "      <td>166</td>\n",
       "      <td>2da549fa405edb9dacee9b6020417e9a78574d8e</td>\n",
       "      <td>*</td>\n",
       "      <td>NaN</td>\n",
       "      <td>NaN</td>\n",
       "      <td>NaN</td>\n",
       "      <td>NaN</td>\n",
       "      <td>Hillary Clinton</td>\n",
       "      <td>2001-03-07</td>\n",
       "      <td>NaN</td>\n",
       "      <td>NaN</td>\n",
       "      <td>0.000000</td>\n",
       "    </tr>\n",
       "    <tr>\n",
       "      <th>1</th>\n",
       "      <td>855311068</td>\n",
       "      <td>855311067</td>\n",
       "      <td>Fw-us-hou-8.bmc.com</td>\n",
       "      <td>8973767</td>\n",
       "      <td>2001-03-07 17:39:16+00:00</td>\n",
       "      <td>248</td>\n",
       "      <td>65610fb66234715a226ac3aa03b79acf6e5ed400</td>\n",
       "      <td>*</td>\n",
       "      <td>NaN</td>\n",
       "      <td>NaN</td>\n",
       "      <td>NaN</td>\n",
       "      <td>NaN</td>\n",
       "      <td>Hillary Clinton</td>\n",
       "      <td>2001-03-07</td>\n",
       "      <td>82.0</td>\n",
       "      <td>1139.0</td>\n",
       "      <td>0.013183</td>\n",
       "    </tr>\n",
       "    <tr>\n",
       "      <th>2</th>\n",
       "      <td>855311069</td>\n",
       "      <td>855311068</td>\n",
       "      <td>KoyaanisQatsi</td>\n",
       "      <td>8509</td>\n",
       "      <td>2001-06-11 22:54:32+00:00</td>\n",
       "      <td>281</td>\n",
       "      <td>775de1c7346b5286ee7a26ba06b7b1e51c2ca247</td>\n",
       "      <td>*</td>\n",
       "      <td>NaN</td>\n",
       "      <td>NaN</td>\n",
       "      <td>NaN</td>\n",
       "      <td>NaN</td>\n",
       "      <td>Hillary Clinton</td>\n",
       "      <td>2001-06-11</td>\n",
       "      <td>33.0</td>\n",
       "      <td>8313316.0</td>\n",
       "      <td>96.232118</td>\n",
       "    </tr>\n",
       "    <tr>\n",
       "      <th>3</th>\n",
       "      <td>855311070</td>\n",
       "      <td>855311069</td>\n",
       "      <td>KoyaanisQatsi</td>\n",
       "      <td>8509</td>\n",
       "      <td>2001-06-11 22:56:23+00:00</td>\n",
       "      <td>281</td>\n",
       "      <td>f8be9a2e83825d359abac1cd058c44a33c6ecbaa</td>\n",
       "      <td>*</td>\n",
       "      <td>NaN</td>\n",
       "      <td>NaN</td>\n",
       "      <td>NaN</td>\n",
       "      <td>NaN</td>\n",
       "      <td>Hillary Clinton</td>\n",
       "      <td>2001-06-11</td>\n",
       "      <td>0.0</td>\n",
       "      <td>111.0</td>\n",
       "      <td>96.233403</td>\n",
       "    </tr>\n",
       "    <tr>\n",
       "      <th>4</th>\n",
       "      <td>855311071</td>\n",
       "      <td>855311070</td>\n",
       "      <td>212.187.124.xxx</td>\n",
       "      <td>0</td>\n",
       "      <td>2001-07-09 19:10:22+00:00</td>\n",
       "      <td>282</td>\n",
       "      <td>5f6004c99d157ec754ef644d4bbbec406cc50f1e</td>\n",
       "      <td>*</td>\n",
       "      <td>True</td>\n",
       "      <td>NaN</td>\n",
       "      <td>NaN</td>\n",
       "      <td>NaN</td>\n",
       "      <td>Hillary Clinton</td>\n",
       "      <td>2001-07-09</td>\n",
       "      <td>1.0</td>\n",
       "      <td>2405639.0</td>\n",
       "      <td>124.076447</td>\n",
       "    </tr>\n",
       "  </tbody>\n",
       "</table>\n",
       "</div>"
      ],
      "text/plain": [
       "       revid   parentid                 user   userid  \\\n",
       "0  855311067          0          Gareth Owen      151   \n",
       "1  855311068  855311067  Fw-us-hou-8.bmc.com  8973767   \n",
       "2  855311069  855311068        KoyaanisQatsi     8509   \n",
       "3  855311070  855311069        KoyaanisQatsi     8509   \n",
       "4  855311071  855311070      212.187.124.xxx        0   \n",
       "\n",
       "                  timestamp  size                                      sha1  \\\n",
       "0 2001-03-07 17:20:17+00:00   166  2da549fa405edb9dacee9b6020417e9a78574d8e   \n",
       "1 2001-03-07 17:39:16+00:00   248  65610fb66234715a226ac3aa03b79acf6e5ed400   \n",
       "2 2001-06-11 22:54:32+00:00   281  775de1c7346b5286ee7a26ba06b7b1e51c2ca247   \n",
       "3 2001-06-11 22:56:23+00:00   281  f8be9a2e83825d359abac1cd058c44a33c6ecbaa   \n",
       "4 2001-07-09 19:10:22+00:00   282  5f6004c99d157ec754ef644d4bbbec406cc50f1e   \n",
       "\n",
       "  comment  anon sha1hidden commenthidden suppressed             page  \\\n",
       "0       *   NaN        NaN           NaN        NaN  Hillary Clinton   \n",
       "1       *   NaN        NaN           NaN        NaN  Hillary Clinton   \n",
       "2       *   NaN        NaN           NaN        NaN  Hillary Clinton   \n",
       "3       *   NaN        NaN           NaN        NaN  Hillary Clinton   \n",
       "4       *  True        NaN           NaN        NaN  Hillary Clinton   \n",
       "\n",
       "         date  diff        lag         age  \n",
       "0  2001-03-07   NaN        NaN    0.000000  \n",
       "1  2001-03-07  82.0     1139.0    0.013183  \n",
       "2  2001-06-11  33.0  8313316.0   96.232118  \n",
       "3  2001-06-11   0.0      111.0   96.233403  \n",
       "4  2001-07-09   1.0  2405639.0  124.076447  "
      ]
     },
     "execution_count": 125,
     "metadata": {},
     "output_type": "execute_result"
    }
   ],
   "source": [
    "hillary_df = wf.get_all_page_revisions('Hillary Clinton')\n",
    "hillary_df.head()"
   ]
  },
  {
   "cell_type": "markdown",
   "id": "6ea131de",
   "metadata": {},
   "source": [
    "Each row in the DataFrame is a single revision made by an editor. There have been more than 17,000 revisions to Clinton's Wikipedia article since the first record in 2001."
   ]
  },
  {
   "cell_type": "code",
   "execution_count": 126,
   "id": "4c876f1a",
   "metadata": {},
   "outputs": [
    {
     "data": {
      "text/plain": [
       "17006"
      ]
     },
     "execution_count": 126,
     "metadata": {},
     "output_type": "execute_result"
    }
   ],
   "source": [
    "len(hillary_df)"
   ]
  },
  {
   "cell_type": "markdown",
   "id": "4792abe8",
   "metadata": {},
   "source": [
    "We can visit old version and retrieve the content of these versions based on their unique revision ID."
   ]
  },
  {
   "cell_type": "code",
   "execution_count": 128,
   "id": "9dba5c68",
   "metadata": {},
   "outputs": [
    {
     "name": "stdout",
     "output_type": "stream",
     "text": [
      "https://en.wikipedia.org/w/index.php?oldid=56429\n"
     ]
    }
   ],
   "source": [
    "# Find the minimum revision ID\n",
    "min_revid = hillary_df['revid'].min()\n",
    "\n",
    "# Print out a URL with the revision ID so we can go visit it\n",
    "print(\"https://en.wikipedia.org/w/index.php?oldid={0}\".format(min_revid))"
   ]
  },
  {
   "cell_type": "markdown",
   "id": "7d1d3cfb",
   "metadata": {},
   "source": [
    "The \"parentid\" is the previous \"revid\" of the article that the revision modified."
   ]
  },
  {
   "cell_type": "code",
   "execution_count": 129,
   "id": "eed6a5e5",
   "metadata": {},
   "outputs": [
    {
     "name": "stdout",
     "output_type": "stream",
     "text": [
      "https://en.wikipedia.org/w/index.php?diff=871260255&oldid=871366833\n"
     ]
    }
   ],
   "source": [
    "# Get the parentid and revid for a row of data and cast to a dict\n",
    "current_parent_revid_dict = hillary_df.loc[16000,['parentid','revid']].to_dict()\n",
    "\n",
    "# Print out a formatted URL so we can see what the change was\n",
    "print(\"https://en.wikipedia.org/w/index.php?diff={parentid}&oldid={revid}\".format(**current_parent_revid_dict))"
   ]
  },
  {
   "cell_type": "code",
   "execution_count": 130,
   "id": "4a1385b9",
   "metadata": {},
   "outputs": [
    {
     "data": {
      "text/plain": [
       "0         True\n",
       "1         True\n",
       "2         True\n",
       "3         True\n",
       "4         True\n",
       "         ...  \n",
       "17001     True\n",
       "17002     True\n",
       "17003     True\n",
       "17004     True\n",
       "17005    False\n",
       "Length: 17006, dtype: bool"
      ]
     },
     "execution_count": 130,
     "metadata": {},
     "output_type": "execute_result"
    }
   ],
   "source": [
    "# Shift the parentid up by one and they should be identical, except for last\n",
    "hillary_df['revid'] == hillary_df['parentid'].shift(-1)"
   ]
  },
  {
   "cell_type": "code",
   "execution_count": 132,
   "id": "61acbfff",
   "metadata": {},
   "outputs": [
    {
     "data": {
      "text/plain": [
       "0        False\n",
       "1         True\n",
       "2         True\n",
       "3         True\n",
       "4         True\n",
       "         ...  \n",
       "17001     True\n",
       "17002     True\n",
       "17003     True\n",
       "17004     True\n",
       "17005     True\n",
       "Length: 17006, dtype: bool"
      ]
     },
     "execution_count": 132,
     "metadata": {},
     "output_type": "execute_result"
    }
   ],
   "source": [
    "# Shift the revid down by one and they should be identical, except for first\n",
    "hillary_df['revid'].shift(1) == hillary_df['parentid']"
   ]
  },
  {
   "cell_type": "markdown",
   "id": "3206d46b",
   "metadata": {},
   "source": [
    "The \"size\" of an article is the length of all its markup (text, formatting, images, citations, *etc*.) in bytes."
   ]
  },
  {
   "cell_type": "code",
   "execution_count": 133,
   "id": "7debe8e3",
   "metadata": {},
   "outputs": [
    {
     "data": {
      "image/png": "[encoded data removed]",
      "text/plain": [
       "<Figure size 576x432 with 1 Axes>"
      ]
     },
     "metadata": {
      "needs_background": "light"
     },
     "output_type": "display_data"
    }
   ],
   "source": [
    "f,ax = plt.subplots(figsize=(8,6))\n",
    "\n",
    "# Make the histogram\n",
    "hillary_df['size'].hist(ax=ax,bins=np.geomspace(1e3,1e6,30))\n",
    "\n",
    "ax.set_xscale('log')\n",
    "ax.set_xlabel('Article size (bytes)')\n",
    "ax.set_ylabel('Number of revisions')\n",
    "ax.set_ylim((0,3000))\n",
    "ax.grid(None)"
   ]
  },
  {
   "cell_type": "markdown",
   "id": "8c5ea2fa",
   "metadata": {},
   "source": [
    "We could also use pandas's `Grouper` functionality to group the content by the \"timestamp\" keyword with a monthly frequency and aggregate to the median \"size\" to make a plot of the article length over time. I use a `.fillna(method='ffill')` to fill the missing article sizes from the previously-observed size."
   ]
  },
  {
   "cell_type": "code",
   "execution_count": 134,
   "id": "220cbacf",
   "metadata": {},
   "outputs": [
    {
     "data": {
      "text/html": [
       "<div>\n",
       "<style scoped>\n",
       "    .dataframe tbody tr th:only-of-type {\n",
       "        vertical-align: middle;\n",
       "    }\n",
       "\n",
       "    .dataframe tbody tr th {\n",
       "        vertical-align: top;\n",
       "    }\n",
       "\n",
       "    .dataframe thead th {\n",
       "        text-align: right;\n",
       "    }\n",
       "</style>\n",
       "<table border=\"1\" class=\"dataframe\">\n",
       "  <thead>\n",
       "    <tr style=\"text-align: right;\">\n",
       "      <th></th>\n",
       "      <th>size</th>\n",
       "    </tr>\n",
       "    <tr>\n",
       "      <th>timestamp</th>\n",
       "      <th></th>\n",
       "    </tr>\n",
       "  </thead>\n",
       "  <tbody>\n",
       "    <tr>\n",
       "      <th>2001-03-11 00:00:00+00:00</th>\n",
       "      <td>207.0</td>\n",
       "    </tr>\n",
       "    <tr>\n",
       "      <th>2001-03-18 00:00:00+00:00</th>\n",
       "      <td>207.0</td>\n",
       "    </tr>\n",
       "    <tr>\n",
       "      <th>2001-03-25 00:00:00+00:00</th>\n",
       "      <td>207.0</td>\n",
       "    </tr>\n",
       "    <tr>\n",
       "      <th>2001-04-01 00:00:00+00:00</th>\n",
       "      <td>207.0</td>\n",
       "    </tr>\n",
       "    <tr>\n",
       "      <th>2001-04-08 00:00:00+00:00</th>\n",
       "      <td>207.0</td>\n",
       "    </tr>\n",
       "  </tbody>\n",
       "</table>\n",
       "</div>"
      ],
      "text/plain": [
       "                            size\n",
       "timestamp                       \n",
       "2001-03-11 00:00:00+00:00  207.0\n",
       "2001-03-18 00:00:00+00:00  207.0\n",
       "2001-03-25 00:00:00+00:00  207.0\n",
       "2001-04-01 00:00:00+00:00  207.0\n",
       "2001-04-08 00:00:00+00:00  207.0"
      ]
     },
     "execution_count": 134,
     "metadata": {},
     "output_type": "execute_result"
    }
   ],
   "source": [
    "# Identical to below, just one line\n",
    "# hillary_size_gb = hillary_df.groupby(pd.Grouper(key = 'timestamp',freq = 'w',dropna = False) )\n",
    "\n",
    "# Groupby\n",
    "hillary_size_gb = hillary_df.groupby(\n",
    "    pd.Grouper(\n",
    "        key = 'timestamp',\n",
    "        freq = 'w',\n",
    "        dropna = False\n",
    "    )\n",
    ")\n",
    "\n",
    "# Aggregate\n",
    "hillary_size_agg = hillary_size_gb.agg({'size':'median'})\n",
    "\n",
    "# Fill missing values from previously observed size\n",
    "hillary_size_agg = hillary_size_agg.fillna(method='ffill')\n",
    "\n",
    "# Inspect\n",
    "hillary_size_agg.head()"
   ]
  },
  {
   "cell_type": "code",
   "execution_count": 137,
   "id": "6e4779f1",
   "metadata": {},
   "outputs": [
    {
     "data": {
      "image/png": "[encoded data removed]",
      "text/plain": [
       "<Figure size 864x432 with 1 Axes>"
      ]
     },
     "metadata": {
      "needs_background": "light"
     },
     "output_type": "display_data"
    }
   ],
   "source": [
    "# Setup\n",
    "f,ax = plt.subplots(figsize=(12,6))\n",
    "\n",
    "# Make the line plot\n",
    "hillary_size_agg['size'].plot(ax=ax)\n",
    "\n",
    "ax.set_ylim((0,400000))\n",
    "\n",
    "# Add span for first presidential campaign\n",
    "ax.axvspan(\n",
    "    xmin = pd.Timestamp('2007-06-01'),\n",
    "    xmax = pd.Timestamp('2008-08-01'),\n",
    "    ymin = 0,\n",
    "    ymax = 1,\n",
    "    facecolor = 'k',\n",
    "    alpha = .1\n",
    ")\n",
    "\n",
    "ax.annotate(\n",
    "    text = \"First presidential\\ncampaign\",\n",
    "    xy = (pd.Timestamp('2008-02-01'),175000),\n",
    "    ha = 'right'\n",
    ")\n",
    "\n",
    "# Add span for second presidential campaign\n",
    "ax.axvspan(pd.Timestamp('2015-06-01'),pd.Timestamp('2016-11-01'),0,1,facecolor='k',alpha=.1)\n",
    "ax.annotate(\"Second presidential\\ncampaign\",(pd.Timestamp('2016-02-01'),325000),ha='left')\n",
    "\n",
    "ax.spines['right'].set_visible(False)\n",
    "ax.spines['top'].set_visible(False)"
   ]
  },
  {
   "cell_type": "markdown",
   "id": "dbb491da",
   "metadata": {},
   "source": [
    "The \"sha1\" is a [cryptographic hash](https://en.wikipedia.org/wiki/Cryptographic_hash_function) of the page's content. Hashing like this is how your passwords and other secure information are (should be!) stored in databases. It's easy to turn a string of characters into a hash but (hopefully!) extremely difficult to turn the hash back into the original string of characters.\n",
    "\n",
    "What that means for Wikipedia is this value captures whether the content of a revision is identical to any other revision. This can happen when there is an \"[edit war](https://en.wikipedia.org/wiki/Wikipedia:Edit_warring)\" and editors are fighting over what content to include or exclude. If there's even a single byte difference in the content, a different sha1 will be generated. This is helpful to count the number of unique versions when aggregating."
   ]
  },
  {
   "cell_type": "code",
   "execution_count": 138,
   "id": "f152bf06",
   "metadata": {},
   "outputs": [
    {
     "data": {
      "text/plain": [
       "da39a3ee5e6b4b0d3255bfef95601890afd80709    29\n",
       "bbb7b7edb7a5d387e93514e2dd07eac6f7b06426    23\n",
       "d3e1a47502b1f74f7591f91b51c78991300ff464    19\n",
       "35cacf3fb8fbd482927da227238ccbfd6ae824bd    18\n",
       "82b6ec557ba7ba85bbcb20e3907cf3c3dd5e8ebb    17\n",
       "Name: sha1, dtype: int64"
      ]
     },
     "execution_count": 138,
     "metadata": {},
     "output_type": "execute_result"
    }
   ],
   "source": [
    "# Count the most frequently occurring versions\n",
    "hillary_df['sha1'].value_counts().head()"
   ]
  },
  {
   "cell_type": "markdown",
   "id": "f7fca40c",
   "metadata": {},
   "source": [
    "Make a plot of the number of unique revisions per week by using a `Grouper` on the \"timestamp\" column to aggregate the number of unique \"sha1\" commits."
   ]
  },
  {
   "cell_type": "code",
   "execution_count": 143,
   "id": "97faf292",
   "metadata": {},
   "outputs": [
    {
     "data": {
      "text/plain": [
       "Text(2016-02-01 00:00:00, 250, 'Second presidential\\ncampaign')"
      ]
     },
     "execution_count": 143,
     "metadata": {},
     "output_type": "execute_result"
    },
    {
     "data": {
      "image/png": "[encoded data removed]",
      "text/plain": [
       "<Figure size 864x432 with 1 Axes>"
      ]
     },
     "metadata": {
      "needs_background": "light"
     },
     "output_type": "display_data"
    }
   ],
   "source": [
    "weekly_revs_s = hillary_df.groupby(pd.Grouper(key='timestamp',freq='Y',dropna=False)).agg({'sha1':'nunique'})['sha1']\n",
    "\n",
    "f,ax = plt.subplots(figsize=(12,6))\n",
    "\n",
    "weekly_revs_s.plot(ax=ax)\n",
    "\n",
    "ax.set_ylabel(\"Revisions\")\n",
    "ax.set_ylim((0,2000))\n",
    "\n",
    "# Add span for first presidential campaign\n",
    "ax.axvspan(pd.Timestamp('2007-06-01'),pd.Timestamp('2008-11-01'),0,1,facecolor='k',alpha=.1)\n",
    "ax.annotate(\"First presidential\\ncampaign\",(pd.Timestamp('2008-02-01'),400),ha='center')\n",
    "\n",
    "# Add span for second presidential campaign\n",
    "ax.axvspan(pd.Timestamp('2015-06-01'),pd.Timestamp('2016-11-01'),0,1,facecolor='k',alpha=.1)\n",
    "ax.annotate(\"Second presidential\\ncampaign\",(pd.Timestamp('2016-02-01'),250),ha='center')\n"
   ]
  },
  {
   "cell_type": "markdown",
   "id": "8d706d6e",
   "metadata": {},
   "source": [
    "I've derived some secondard statistics like the size of the changes a revision instroduced (in bytes). These can be positive (adding content), negative (removing content), or zero (reformatting content)."
   ]
  },
  {
   "cell_type": "code",
   "execution_count": 144,
   "id": "665fe04c",
   "metadata": {},
   "outputs": [
    {
     "data": {
      "image/png": "[encoded data removed]",
      "text/plain": [
       "<Figure size 576x432 with 1 Axes>"
      ]
     },
     "metadata": {
      "needs_background": "light"
     },
     "output_type": "display_data"
    }
   ],
   "source": [
    "# Concatenate negative and positive geometrically spaced bins together \n",
    "_bins = np.concatenate((np.geomspace(-1e6,-1e0,20),[0],np.geomspace(1e0,1e6,20)))\n",
    "\n",
    "# Make the histogram\n",
    "f,ax = plt.subplots(figsize=(8,6))\n",
    "\n",
    "# Filter for negative differences\n",
    "neg_diffs = hillary_df.loc[hillary_df['diff'] <= 0,'diff']\n",
    "\n",
    "# Make the negative side of the histogram, in red\n",
    "neg_diffs.hist(bins=_bins,ax=ax,color='tab:red')\n",
    "\n",
    "# Filter for positive diffs\n",
    "pos_diffs = hillary_df.loc[hillary_df['diff'] > 0,'diff']\n",
    "\n",
    "# Make the positive side of the histogram, in green\n",
    "pos_diffs.hist(bins=_bins,ax=ax,color='tab:green')\n",
    "\n",
    "# Annotate\n",
    "neg_median = neg_diffs.median()\n",
    "pos_median = pos_diffs.median()\n",
    "\n",
    "ax.axvline(neg_median,c='k')\n",
    "ax.axvline(pos_median,c='k')\n",
    "\n",
    "ax.text(x=neg_median*1.25,y=1250,s=\"{0:.1f} bytes\\nremoved\".format(-neg_median),color='tab:red',ha='right')\n",
    "ax.text(x=pos_median*1.25,y=1250,s=\"{0:.1f} bytes\\nadded\".format(pos_median),color='tab:green')\n",
    "\n",
    "# Scale the x-axis on a \"symlog\" to capture negative numbers\n",
    "ax.set_xscale('symlog',linthresh=1e1)\n",
    "\n",
    "# Label\n",
    "ax.set_xlabel('Bytes added or removed')\n",
    "ax.set_ylabel('Number of revisions')\n",
    "ax.set_ylim((0,1400))\n",
    "ax.grid(None)"
   ]
  },
  {
   "cell_type": "markdown",
   "id": "49020ab2",
   "metadata": {},
   "source": [
    "The \"lag\" is the time (in seconds) since the last edit."
   ]
  },
  {
   "cell_type": "code",
   "execution_count": 145,
   "id": "d0291dbb",
   "metadata": {},
   "outputs": [
    {
     "data": {
      "image/png": "[encoded data removed]",
      "text/plain": [
       "<Figure size 576x432 with 1 Axes>"
      ]
     },
     "metadata": {
      "needs_background": "light"
     },
     "output_type": "display_data"
    }
   ],
   "source": [
    "# Make the histogram\n",
    "f,ax = plt.subplots(figsize=(8,6))\n",
    "\n",
    "# Filter for negative differences\n",
    "hillary_df['lag'].hist(ax=ax,bins=np.geomspace(1e0,1e7,50))\n",
    "\n",
    "# Prettify\n",
    "ax.set_xscale('log')\n",
    "ax.set_xlabel('Lag (seconds)')\n",
    "ax.set_ylabel('Number of revisions')\n",
    "ax.set_title('Distribution of time between revisions')\n",
    "ax.set_ylim((0,1000))\n",
    "ax.grid(None)"
   ]
  },
  {
   "cell_type": "markdown",
   "id": "aa1dc843",
   "metadata": {},
   "source": [
    "The \"age\" is the time (in days) since the first revision when the revision was made."
   ]
  },
  {
   "cell_type": "code",
   "execution_count": 146,
   "id": "3b5e1bd2",
   "metadata": {},
   "outputs": [
    {
     "data": {
      "text/plain": [
       "<AxesSubplot:>"
      ]
     },
     "execution_count": 146,
     "metadata": {},
     "output_type": "execute_result"
    },
    {
     "data": {
      "image/png": "[encoded data removed]",
      "text/plain": [
       "<Figure size 576x432 with 1 Axes>"
      ]
     },
     "metadata": {
      "needs_background": "light"
     },
     "output_type": "display_data"
    }
   ],
   "source": [
    "# Make the histogram\n",
    "f,ax = plt.subplots(figsize=(8,6))\n",
    "\n",
    "# Filter for negative differences\n",
    "hillary_df['age'].hist(ax=ax,bins=50)"
   ]
  },
  {
   "cell_type": "markdown",
   "id": "625a6f85",
   "metadata": {},
   "source": [
    "## Appendix\n",
    "\n",
    "Download the data about the S&P 500 index since January 2017"
   ]
  },
  {
   "cell_type": "code",
   "execution_count": null,
   "id": "d2b47674",
   "metadata": {},
   "outputs": [],
   "source": [
    "# !pip install yfinance\n",
    "import yfinance as yf\n",
    "\n",
    "sp500_df = yf.download(tickers='^GSPC',\n",
    "                         start='2010-01-01',\n",
    "                         end='2022-03-01',\n",
    "                         progress=False)\n",
    "\n",
    "sp500_df.to_csv('sp500_close_volume.csv',encoding='utf8')"
   ]
  },
  {
   "cell_type": "code",
   "execution_count": null,
   "id": "7e0ae4da",
   "metadata": {},
   "outputs": [],
   "source": [
    "sp500_df['Adj Close'].plot()"
   ]
  },
  {
   "cell_type": "markdown",
   "id": "0806432a",
   "metadata": {},
   "source": [
    "### Customizing ticks\n",
    "Remember that we can customize anything in this plot. Let's start by rotating the x-tick labels to be vertical.  The way I would do this for other kinds of plots with x_ticklabels would be to get and set them."
   ]
  },
  {
   "cell_type": "code",
   "execution_count": null,
   "id": "dc8153a3",
   "metadata": {},
   "outputs": [],
   "source": [
    "# Set up plot\n",
    "f,ax = plt.subplots(figsize=(12,6))\n",
    "\n",
    "# Make the plot\n",
    "sp500_df.loc['2022':,'Adj Close'].plot(ax=ax)\n",
    "\n",
    "# Label the plot\n",
    "ax.set_title('S&P500 Adjusted Closing Values, 2022-present')\n",
    "ax.set_ylabel('Adjusted Close')\n",
    "ax.set_xlabel('Date')\n",
    "\n",
    "# Get and set the labels with a new rotation\n",
    "ax.set_xticklabels(ax.get_xticklabels(),rotation=90)"
   ]
  },
  {
   "cell_type": "markdown",
   "id": "5cf7892d",
   "metadata": {},
   "source": [
    "Where are my labels? What are these numbers? What happened to my `datetime` or `Timestamp` objects? This can be really frustrating! I personally don't know a lot about it before writing this, so I'm just a few days ahead of you in learning about this.\n",
    "\n",
    "The first thing to note is that the x-ticks are not `datetime` or `Timestamp` objects, they have been converted to floats. The number of dates and ticks are the same, so there must be some kind of mapping of the float 18993 to \"2022-01-01\", 19000 to \"2022-01-08\", *etc*."
   ]
  },
  {
   "cell_type": "code",
   "execution_count": null,
   "id": "0b8c357c",
   "metadata": {},
   "outputs": [],
   "source": [
    "ax.get_xticks()"
   ]
  },
  {
   "cell_type": "markdown",
   "id": "79b5cfd3",
   "metadata": {},
   "source": [
    "We will need some powerful matplotlib helper classes: ticker ([docs](https://matplotlib.org/stable/api/ticker_api.html)) and dates ([docs](https://matplotlib.org/stable/api/dates_api.html)). I am also working from these gallery examples and user guides, but they leave a lot to be desired:\n",
    "\n",
    "* [Date Index Formatter](https://matplotlib.org/stable/gallery/ticks/date_index_formatter2.html)\n",
    "* [Date tick labels](https://matplotlib.org/stable/gallery/text_labels_and_annotations/date.html)\n",
    "* [Date Demo Convert](https://matplotlib.org/stable/gallery/ticks/date_demo_convert.html)\n",
    "* [Formatting date ticks using ConciseDateFormatter](https://matplotlib.org/stable/gallery/ticks/date_concise_formatter.html)\n",
    "* [Placing date ticks using recurrence rules](https://matplotlib.org/stable/gallery/ticks/date_demo_rrule.html)"
   ]
  },
  {
   "cell_type": "code",
   "execution_count": null,
   "id": "890f5783",
   "metadata": {},
   "outputs": [],
   "source": [
    "import matplotlib.ticker as mtick\n",
    "import matplotlib.dates as mdates"
   ]
  },
  {
   "cell_type": "markdown",
   "id": "b102756d",
   "metadata": {},
   "source": [
    "Functions in `mdates` like `num2date`, `date2num`, and `datestr2num` seem like promising leads! These take a float representing the number of days since 1 January 1970 (the \"[UNIX epoch](https://en.wikipedia.org/wiki/Unix_time)\"): January 1, 2022 is 18,993 days since 1 January 1970."
   ]
  },
  {
   "cell_type": "code",
   "execution_count": null,
   "id": "c99966b9",
   "metadata": {},
   "outputs": [],
   "source": [
    "# Take one of the date floats and turn it into a datetime object\n",
    "mdates.num2date(18993)"
   ]
  },
  {
   "cell_type": "code",
   "execution_count": null,
   "id": "27f67da5",
   "metadata": {},
   "outputs": [],
   "source": [
    "# Take a datetime object and turn it into a date float\n",
    "mdates.date2num(datetime.datetime(2022,3,8))"
   ]
  },
  {
   "cell_type": "code",
   "execution_count": null,
   "id": "0a1ed621",
   "metadata": {},
   "outputs": [],
   "source": [
    "# Take a datetime string and turn it into a date float\n",
    "mdates.datestr2num('1970-01-02')"
   ]
  },
  {
   "cell_type": "markdown",
   "id": "10ca610b",
   "metadata": {},
   "source": [
    "### Locators\n",
    "\n",
    "The `set_major_locator` and `set_minor_locator` methods accept a \"Locator\" object and change the frequency of when the major and minor ticks appear. In the example below, our major locator make ticks every 6 months and minor ticks every month. "
   ]
  },
  {
   "cell_type": "code",
   "execution_count": null,
   "id": "048befe9",
   "metadata": {},
   "outputs": [],
   "source": [
    "# Set up plot\n",
    "f,ax = plt.subplots(figsize=(12,6))\n",
    "\n",
    "# Make the plot\n",
    "sp500_df.loc['2021':,'Adj Close'].plot(ax=ax)\n",
    "\n",
    "# Major ticks for January and July\n",
    "ax.xaxis.set_major_locator(mdates.MonthLocator(bymonth=(1, 7)))\n",
    "\n",
    "# Minor ticks for every month\n",
    "ax.xaxis.set_minor_locator(mdates.MonthLocator())"
   ]
  },
  {
   "cell_type": "markdown",
   "id": "21d9ae90",
   "metadata": {},
   "source": [
    "We can change to have the major ticks be years and the days be a day of the week like Monday (0)."
   ]
  },
  {
   "cell_type": "code",
   "execution_count": null,
   "id": "89b24451",
   "metadata": {},
   "outputs": [],
   "source": [
    "# Set up plot\n",
    "f,ax = plt.subplots(figsize=(12,6))\n",
    "\n",
    "# Make the plot\n",
    "sp500_df.loc['2021':,'Adj Close'].plot(ax=ax)\n",
    "\n",
    "# Major ticks for January and July\n",
    "ax.xaxis.set_major_locator(mdates.YearLocator())\n",
    "\n",
    "# Minor ticks for every seventh day\n",
    "ax.xaxis.set_minor_locator(mdates.WeekdayLocator(0))"
   ]
  },
  {
   "cell_type": "markdown",
   "id": "a90b716d",
   "metadata": {},
   "source": [
    "We could change the major locator to be every quarter and the minor locator to be every seven days, but this doesn't line up cleanly with the start/end of months."
   ]
  },
  {
   "cell_type": "code",
   "execution_count": null,
   "id": "e0f57924",
   "metadata": {},
   "outputs": [],
   "source": [
    "# Set up plot\n",
    "f,ax = plt.subplots(figsize=(12,6))\n",
    "\n",
    "# Make the plot\n",
    "sp500_df.loc['2021':,'Adj Close'].plot(ax=ax)\n",
    "\n",
    "# Major ticks for January and July\n",
    "ax.xaxis.set_major_locator(mdates.MonthLocator(bymonth=(1,4,7,10)))\n",
    "\n",
    "# Minor ticks for every seventh day\n",
    "ax.xaxis.set_minor_locator(mdates.DayLocator(interval=7))"
   ]
  },
  {
   "cell_type": "markdown",
   "id": "64a547ce",
   "metadata": {},
   "source": [
    "### Formatters"
   ]
  },
  {
   "cell_type": "code",
   "execution_count": null,
   "id": "61c9efeb",
   "metadata": {},
   "outputs": [],
   "source": [
    "# Set up plot\n",
    "f,ax = plt.subplots(figsize=(12,6))\n",
    "\n",
    "# Make the plot\n",
    "sp500_df.loc['2021':,'Adj Close'].plot(ax=ax)\n",
    "\n",
    "# Major ticks for January and July\n",
    "ax.xaxis.set_major_locator(mdates.MonthLocator(bymonth=(1,4,7,10)))\n",
    "\n",
    "# Minor ticks for every seventh day\n",
    "ax.xaxis.set_minor_locator(mdates.DayLocator(interval=7))\n",
    "\n",
    "ax.xaxis.set_major_formatter(\n",
    "    mdates.ConciseDateFormatter(ax.xaxis.get_major_locator())\n",
    ")"
   ]
  },
  {
   "cell_type": "code",
   "execution_count": null,
   "id": "405b1f38",
   "metadata": {
    "scrolled": false
   },
   "outputs": [],
   "source": [
    "# Set up plot\n",
    "f,ax = plt.subplots(figsize=(12,6))\n",
    "\n",
    "# Make the plot\n",
    "sp500_df.loc['2021':,'Adj Close'].plot(ax=ax)\n",
    "\n",
    "# Major ticks for January and July\n",
    "ax.xaxis.set_major_locator(mdates.MonthLocator(bymonth=(1,4,7,10)))\n",
    "\n",
    "# Minor ticks for every seventh day\n",
    "ax.xaxis.set_minor_locator(mdates.DayLocator(interval=7))\n",
    "\n",
    "# Format dates to be YYYY-MonthAbbrev\n",
    "ax.xaxis.set_major_formatter(mdates.DateFormatter('%B %Y'))\n",
    "\n",
    "# Change the rotation\n",
    "for label in ax.xaxis.get_ticklabels():\n",
    "    label.set_rotation(0)\n",
    "    label.set_horizontalalignment(\"center\")"
   ]
  },
  {
   "cell_type": "code",
   "execution_count": null,
   "id": "42df358d",
   "metadata": {},
   "outputs": [],
   "source": []
  }
 ],
 "metadata": {
  "kernelspec": {
   "display_name": "Python 3 (ipykernel)",
   "language": "python",
   "name": "python3"
  },
  "language_info": {
   "codemirror_mode": {
    "name": "ipython",
    "version": 3
   },
   "file_extension": ".py",
   "mimetype": "text/x-python",
   "name": "python",
   "nbconvert_exporter": "python",
   "pygments_lexer": "ipython3",
   "version": "3.9.10"
  }
 },
 "nbformat": 4,
 "nbformat_minor": 5
}
