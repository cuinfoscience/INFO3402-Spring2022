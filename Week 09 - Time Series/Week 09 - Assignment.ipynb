{
 "cells": [
  {
   "cell_type": "markdown",
   "id": "aeaad0b1",
   "metadata": {},
   "source": [
    "# INFO 3402 – Week 09: Assignment - Solutions\n",
    "\n",
    "[Brian C. Keegan, Ph.D.](http://brianckeegan.com/)  \n",
    "[Assistant Professor, Department of Information Science](https://www.colorado.edu/cmci/people/information-science/brian-c-keegan)  \n",
    "University of Colorado Boulder  \n",
    "\n",
    "Copyright and distributed under an [MIT License](https://opensource.org/licenses/MIT)"
   ]
  },
  {
   "cell_type": "markdown",
   "id": "7a8422e8",
   "metadata": {},
   "source": [
    "## Background\n",
    "\n",
    "My research explores how Wikipedia editors self-organize to cover breaking news events. If you go to an article about a current event (*e.g.*, [2022 Russian invasion of Ukraine](https://en.wikipedia.org/wiki/2022_Russian_invasion_of_Ukraine)) you will see there is a tremendous amount of content (text, citations, images, *etc*.) that has been added in the space of days.\n",
    "\n",
    "In this assignment we will use code I have developed to retrieve and analyze data about Wikipedia."
   ]
  },
  {
   "cell_type": "code",
   "execution_count": 1,
   "id": "ba6e4ca3",
   "metadata": {},
   "outputs": [],
   "source": [
    "import pandas as pd\n",
    "idx = pd.IndexSlice\n",
    "import numpy as np\n",
    "\n",
    "%matplotlib inline\n",
    "import matplotlib.pyplot as plt\n",
    "\n",
    "import wikifunctions as wf"
   ]
  },
  {
   "cell_type": "markdown",
   "id": "eec6242d",
   "metadata": {},
   "source": [
    "## Question 01: Retrieve and explore an article revision history (10 pts)\n",
    "\n",
    "Use the wikifunction `get_all_page_revisions` to retrieve the complete article revision history of the article \"2022 Russian invasion of Ukraine\" and store as `revs_en_df`. (1 pt)"
   ]
  },
  {
   "cell_type": "code",
   "execution_count": null,
   "id": "06a0b434",
   "metadata": {},
   "outputs": [],
   "source": []
  },
  {
   "cell_type": "markdown",
   "id": "136e69ec",
   "metadata": {},
   "source": [
    "Count the number of unique commits (\"sha1\") and distinct users (\"user\") in `revs_df`. (2 pts)"
   ]
  },
  {
   "cell_type": "code",
   "execution_count": null,
   "id": "301e0470",
   "metadata": {},
   "outputs": [],
   "source": []
  },
  {
   "cell_type": "markdown",
   "id": "cb5276fd",
   "metadata": {},
   "source": [
    "Make two side-by-side histograms. On the left, visualize the \"lag\" column with geometrically-sized bins and log-scaled x-axis. On the right, visualize the *absolute value* (hint: `np.abs`, [docs](https://numpy.org/doc/stable/reference/generated/numpy.absolute.html)) of the \"diff\" column with geometrically-sized bins and log-scaled x-axis. (5 pts)"
   ]
  },
  {
   "cell_type": "code",
   "execution_count": null,
   "id": "5bd68a81",
   "metadata": {},
   "outputs": [],
   "source": []
  },
  {
   "cell_type": "markdown",
   "id": "b382a6a7",
   "metadata": {},
   "source": [
    "Write a few sentences about what surprises you about the size and speed of the collaboration on this article. (2 pts)"
   ]
  },
  {
   "cell_type": "code",
   "execution_count": null,
   "id": "fdbda80f",
   "metadata": {},
   "outputs": [],
   "source": []
  },
  {
   "cell_type": "markdown",
   "id": "e7edb095",
   "metadata": {},
   "source": [
    "**Extra credit (2 pts)**. Annotate each histogram with a vertical red line of the median values and the numeric value. "
   ]
  },
  {
   "cell_type": "code",
   "execution_count": null,
   "id": "e04b990f",
   "metadata": {},
   "outputs": [],
   "source": []
  },
  {
   "cell_type": "markdown",
   "id": "24c44e13",
   "metadata": {},
   "source": [
    "## Question 02: Comparing across language editions (10 pts)\n",
    "\n",
    "Use the `get_all_page_revisions` function to get the revision history for the Russian and Ukrainian language versions about the conflict and store as `revs_ru_df` and `revs_uk_df` respectively. Make sure to change the default \"endpoint\" in the retrieval function. Inspect each DataFrame. (4 pts)"
   ]
  },
  {
   "cell_type": "code",
   "execution_count": 46,
   "id": "94093ab0",
   "metadata": {},
   "outputs": [],
   "source": [
    "ru_title = 'Вторжение России на Украину (2022)'\n",
    "uk_title = 'Російське вторгнення в Україну (2022)'"
   ]
  },
  {
   "cell_type": "code",
   "execution_count": null,
   "id": "9e6910c6",
   "metadata": {},
   "outputs": [],
   "source": [
    "wf.get_pageviews()"
   ]
  },
  {
   "cell_type": "markdown",
   "id": "78452c55",
   "metadata": {},
   "source": [
    "Print the number of unique revisions and unique users for each language. (2 pts)"
   ]
  },
  {
   "cell_type": "code",
   "execution_count": null,
   "id": "d23ac376",
   "metadata": {},
   "outputs": [],
   "source": []
  },
  {
   "cell_type": "markdown",
   "id": "ff05539b",
   "metadata": {},
   "source": [
    "How many users overlap between the English and Russian versions? English and Ukrainian? Russian and Ukrainian? (3 pts)"
   ]
  },
  {
   "cell_type": "code",
   "execution_count": null,
   "id": "036ed9ad",
   "metadata": {},
   "outputs": [],
   "source": []
  },
  {
   "cell_type": "markdown",
   "id": "c30994ae",
   "metadata": {},
   "source": [
    "Write a sentence or two about some of the patterns you've seen so far. (1 pt)"
   ]
  },
  {
   "cell_type": "code",
   "execution_count": null,
   "id": "ccc9618e",
   "metadata": {},
   "outputs": [],
   "source": []
  },
  {
   "cell_type": "markdown",
   "id": "40ad7b80",
   "metadata": {},
   "source": [
    "## Question 03: Retrieve the pageviews (10 pts)\n",
    "\n",
    "Use the `get_pageviews` function to retrieve the pageviews for the article \"[Ukraine](https://en.wikipedia.org/wiki/Ukraine)\", \"[Украина](https://ru.wikipedia.org/wiki/%D0%A3%D0%BA%D1%80%D0%B0%D0%B8%D0%BD%D0%B0)\" (ru), \"[Україна](https://uk.wikipedia.org/wiki/%D0%A3%D0%BA%D1%80%D0%B0%D1%97%D0%BD%D0%B0)\" (uk) in each language edition with a \"start\" of \"20190101\" and store the resulting pandas Series as `pvs_en_s`, `pvs_ru_s`, and `pvs_uk_s` respectively. (3 pts)"
   ]
  },
  {
   "cell_type": "code",
   "execution_count": null,
   "id": "d4ddc1ef",
   "metadata": {},
   "outputs": [],
   "source": []
  },
  {
   "cell_type": "markdown",
   "id": "834d51c8",
   "metadata": {},
   "source": [
    "Make a DataFrame called `ukraine_pvs` with the three Series as columns named \"English\", \"Russian\", and \"Ukrainian\". Inspect the first few rows of `ukraine_pvs`. (2 pts)"
   ]
  },
  {
   "cell_type": "code",
   "execution_count": null,
   "id": "29434b9c",
   "metadata": {},
   "outputs": [],
   "source": []
  },
  {
   "cell_type": "markdown",
   "id": "268709de",
   "metadata": {},
   "source": [
    "Make one, larger-than-default plot containing the pageview data of all three languages with a legend. (3 pts)"
   ]
  },
  {
   "cell_type": "code",
   "execution_count": null,
   "id": "730d5353",
   "metadata": {},
   "outputs": [],
   "source": []
  },
  {
   "cell_type": "markdown",
   "id": "95795587",
   "metadata": {},
   "source": [
    "Slice the `ukraine_pvs` data from July 1, 2019 to June 30, 2020 and re-visualize. (2 pts)"
   ]
  },
  {
   "cell_type": "code",
   "execution_count": null,
   "id": "101a5e56",
   "metadata": {},
   "outputs": [],
   "source": []
  },
  {
   "cell_type": "markdown",
   "id": "a0760c89",
   "metadata": {},
   "source": [
    "**Extra credit (1 pt)**. Identify a specific event that drove one of the five significant spikes in English pageviews in this timeframe."
   ]
  },
  {
   "cell_type": "code",
   "execution_count": null,
   "id": "8c044826",
   "metadata": {},
   "outputs": [],
   "source": []
  },
  {
   "cell_type": "markdown",
   "id": "01f3ac7a",
   "metadata": {},
   "source": [
    "## Question 04: Aggregate and visualize revisions (10 pts)\n",
    "\n",
    "Using a `Grouper` on the \"timestamp\" column in each language's revision DataFrame, aggregate the number of unique revisions (\"sha1\") and number of unique users (\"user\") at an hourly frequency and store as `revs_en_h`, `revs_ru_h`, and `revs_uk_h` respectively. (3 pts)"
   ]
  },
  {
   "cell_type": "code",
   "execution_count": null,
   "id": "af595f7c",
   "metadata": {},
   "outputs": [],
   "source": []
  },
  {
   "cell_type": "markdown",
   "id": "663114bf",
   "metadata": {},
   "source": [
    "Use pandas's `concat` function to combine the hourly revision activity for all three languages into `war_editing_h`. Rename the columns with the language. Inspect the *last* five rows. (3 pts)"
   ]
  },
  {
   "cell_type": "code",
   "execution_count": null,
   "id": "f5b5b037",
   "metadata": {},
   "outputs": [],
   "source": []
  },
  {
   "cell_type": "markdown",
   "id": "380ec601",
   "metadata": {},
   "source": [
    "Visualize `war_revs_h` with a figure containing two subplots in one column and two rows. (3 pts)"
   ]
  },
  {
   "cell_type": "code",
   "execution_count": null,
   "id": "4c2b66c7",
   "metadata": {},
   "outputs": [],
   "source": []
  },
  {
   "cell_type": "markdown",
   "id": "1441bbaf",
   "metadata": {},
   "source": [
    "Write a sentence or two about some of the similarities, differences, or other patterns you see in the editing behavior across languages. (1 pt)"
   ]
  },
  {
   "cell_type": "code",
   "execution_count": null,
   "id": "081d72b7",
   "metadata": {},
   "outputs": [],
   "source": []
  }
 ],
 "metadata": {
  "kernelspec": {
   "display_name": "Python 3 (ipykernel)",
   "language": "python",
   "name": "python3"
  },
  "language_info": {
   "codemirror_mode": {
    "name": "ipython",
    "version": 3
   },
   "file_extension": ".py",
   "mimetype": "text/x-python",
   "name": "python",
   "nbconvert_exporter": "python",
   "pygments_lexer": "ipython3",
   "version": "3.9.10"
  }
 },
 "nbformat": 4,
 "nbformat_minor": 5
}
